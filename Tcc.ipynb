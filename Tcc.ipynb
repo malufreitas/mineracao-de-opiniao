{
 "cells": [
  {
   "cell_type": "markdown",
   "metadata": {},
   "source": [
    "## Conexão e extração dos dados do Twitter"
   ]
  },
  {
   "cell_type": "code",
   "execution_count": null,
   "metadata": {},
   "outputs": [],
   "source": [
    "!pip install textblob"
   ]
  },
  {
   "cell_type": "code",
   "execution_count": null,
   "metadata": {},
   "outputs": [],
   "source": [
    "!pip install tweepy"
   ]
  },
  {
   "cell_type": "code",
   "execution_count": 1,
   "metadata": {},
   "outputs": [],
   "source": [
    "import tweepy\n",
    "import numpy as np\n",
    "\n",
    "from nltk import word_tokenize\n",
    "import nltk\n",
    "import re\n",
    "import pandas as pd\n",
    "from sklearn.feature_extraction.text import CountVectorizer\n",
    "from sklearn.naive_bayes import MultinomialNB\n",
    "from sklearn import metrics\n",
    "from sklearn.model_selection import cross_val_predict"
   ]
  },
  {
   "cell_type": "code",
   "execution_count": 2,
   "metadata": {},
   "outputs": [],
   "source": [
    "# Variaveis de acesso, keys cedidas pela api do twitter\n",
    "consumer_key = \"D7WbZKB1D8sI6SG5YSJaoUqFw\"\n",
    "consumer_secret = \"Ce2wShKqGIeMgHrmugmpNRK1AAGNXik1imJ47sLJnF4dhFKLqT\"\n",
    "access_token = \"758066017742512128-UaPf9IJfaJ957JO5nb4F8TNVa7PBH3p\"\n",
    "access_token_secret = \"amPLoPVU6hyOXUyNVRRVrzZPU6zP0lT8Mnt7eLxhbFzdF\""
   ]
  },
  {
   "cell_type": "code",
   "execution_count": 3,
   "metadata": {},
   "outputs": [],
   "source": [
    "# Realizando a autenticação\n",
    "auth = tweepy.OAuthHandler(consumer_key, consumer_secret)\n",
    "auth.set_access_token(access_token, access_token_secret)"
   ]
  },
  {
   "cell_type": "code",
   "execution_count": 4,
   "metadata": {},
   "outputs": [],
   "source": [
    "# Realizando a conexão com a API\n",
    "api = tweepy.API(auth)"
   ]
  },
  {
   "cell_type": "code",
   "execution_count": 5,
   "metadata": {},
   "outputs": [],
   "source": [
    "# Variável que irá armazenar todos os Tweets com a palavra escolhida na função search da API\n",
    "#public_tweets = api.search('Xiaomi')\n",
    "public_tweets = api.search('xiaomi mi9', lang='pt')"
   ]
  },
  {
   "cell_type": "code",
   "execution_count": 6,
   "metadata": {},
   "outputs": [],
   "source": [
    "#print(public_tweets)"
   ]
  },
  {
   "cell_type": "code",
   "execution_count": 7,
   "metadata": {},
   "outputs": [],
   "source": [
    "#type(public_tweets)"
   ]
  },
  {
   "cell_type": "markdown",
   "metadata": {},
   "source": [
    "## Manipulação dos dados para gerar um data frame com pandas"
   ]
  },
  {
   "cell_type": "code",
   "execution_count": 8,
   "metadata": {
    "scrolled": true
   },
   "outputs": [],
   "source": [
    "# Imprimir todos os tweets\n",
    "# Cria a lista com algumas informações dos tweets extraidos\n",
    "\n",
    "def cria_lista_tweets(public_tweets):\n",
    "    tweets = [] # Lista vazia para armazenar scores\n",
    "    for tweet in public_tweets:\n",
    "        #print(tweet)\n",
    "        print(tweet.id)\n",
    "        print(tweet.created_at)\n",
    "        print(tweet.text)\n",
    "        print()\n",
    "\n",
    "        lista_aux = []\n",
    "        lista_aux.append(tweet.id)\n",
    "        lista_aux.append(tweet.created_at)\n",
    "        lista_aux.append(tweet.text)\n",
    "\n",
    "        tweets.append(lista_aux)\n",
    "\n",
    "    #print(tweets)\n",
    "    return tweets"
   ]
  },
  {
   "cell_type": "code",
   "execution_count": 9,
   "metadata": {},
   "outputs": [
    {
     "name": "stdout",
     "output_type": "stream",
     "text": [
      "1171920866181025792\n",
      "2019-09-11 22:58:02\n",
      "RT @cryptolobopt: Entre um Xiaomi Mi9 e um iPhone 8, o Xiaomi leva a melhor e ainda é mais barato cerca de 120€. Parece-me incrível que a A…\n",
      "\n",
      "1171909987976785922\n",
      "2019-09-11 22:14:48\n",
      "RT @compiws: serio que tem gente falando que xiaomi vai copiar as 3 cameras''fogão de 3 bocas'' do iphone 11,vei xiaomi fez isso antes que…\n",
      "\n",
      "1171894182606245889\n",
      "2019-09-11 21:12:00\n",
      "RT @cryptolobopt: Entre um Xiaomi Mi9 e um iPhone 8, o Xiaomi leva a melhor e ainda é mais barato cerca de 120€. Parece-me incrível que a A…\n",
      "\n",
      "1171886123435679745\n",
      "2019-09-11 20:39:59\n",
      "Meu amigo -Mano eu já conhecia o xaomi, mas sempre tive receio de comprar, dei 4k no IPhone X.\n",
      "Hoje chegou o Xiaomi… https://t.co/9uMtQyjiuX\n",
      "\n",
      "1171876391819927553\n",
      "2019-09-11 20:01:18\n",
      "RT @cryptolobopt: Entre um Xiaomi Mi9 e um iPhone 8, o Xiaomi leva a melhor e ainda é mais barato cerca de 120€. Parece-me incrível que a A…\n",
      "\n",
      "1171875785621299202\n",
      "2019-09-11 19:58:54\n",
      "RT @cryptolobopt: Entre um Xiaomi Mi9 e um iPhone 8, o Xiaomi leva a melhor e ainda é mais barato cerca de 120€. Parece-me incrível que a A…\n",
      "\n",
      "1171844923265564672\n",
      "2019-09-11 17:56:16\n",
      "@BeyondTheWings_ Não vai ter eu ganhando um Xiaomi MI9\n",
      "\n",
      "1171840867197431810\n",
      "2019-09-11 17:40:09\n",
      "@dsouza_55 Faz essa merda não mano. 6s totalmente ultrapassado. Se for pra Apple tem que ser um modelo mais atual o… https://t.co/AIgeTozji0\n",
      "\n",
      "1171838224718868480\n",
      "2019-09-11 17:29:39\n",
      "Quem quiser me da um xiaomi mi9 de presente to aceitando viu\n",
      "\n",
      "1171819246147506176\n",
      "2019-09-11 16:14:14\n",
      "@kruda1020 Queria um Mi9 tbm, q Xiaomi é boa\n",
      "o único problema do iPhone pra mim é que estou acostumado com o ecossi… https://t.co/vy2eBSgt5k\n",
      "\n",
      "1171814815070916609\n",
      "2019-09-11 15:56:37\n",
      "@razzo__ Atualmente vc tem qual modelo? Qual celular vc gostaria de ter? Eu tenho um iPhone 7 e queria muito um Xia… https://t.co/gx8jwvWlko\n",
      "\n",
      "1171809794631622656\n",
      "2019-09-11 15:36:40\n",
      "RT @compiws: serio que tem gente falando que xiaomi vai copiar as 3 cameras''fogão de 3 bocas'' do iphone 11,vei xiaomi fez isso antes que…\n",
      "\n",
      "1171805318252285952\n",
      "2019-09-11 15:18:53\n",
      "RT @samuell26811559: Crítico o iPhone 11, mas se tivesse dinheiro compraria 4 xiaomi mi9 é isso.\n",
      "#Xiaomi\n",
      "\n",
      "1171790274126893056\n",
      "2019-09-11 14:19:06\n",
      "Crítico o iPhone 11, mas se tivesse dinheiro compraria 4 xiaomi mi9 é isso.\n",
      "#Xiaomi\n",
      "\n",
      "1171780568155131905\n",
      "2019-09-11 13:40:32\n",
      "RT @cryptolobopt: Entre um Xiaomi Mi9 e um iPhone 8, o Xiaomi leva a melhor e ainda é mais barato cerca de 120€. Parece-me incrível que a A…\n",
      "\n"
     ]
    }
   ],
   "source": [
    "tweets = cria_lista_tweets(public_tweets)"
   ]
  },
  {
   "cell_type": "code",
   "execution_count": 23,
   "metadata": {},
   "outputs": [],
   "source": [
    "def cria_arquivo_csv(lista):\n",
    "    arquivo = open('tweets_xiaomi.csv', 'w', encoding='utf-8')\n",
    "  \n",
    "    arquivo.write('id,created_at,text' + '\\n')\n",
    "    \n",
    "    for tweet in lista:\n",
    "        #print(tweet)\n",
    "        for pos in range(len(tweet)):\n",
    "            if pos == len(tweet)-1:\n",
    "                arquivo.write('\"' + str(tweet[pos]) + '\"')\n",
    "            else:\n",
    "                arquivo.write(str(tweet[pos]))\n",
    "                arquivo.write(',')\n",
    "                \n",
    "        arquivo.write('\\n')\n",
    "                \n",
    "        \n",
    "    arquivo.close()"
   ]
  },
  {
   "cell_type": "code",
   "execution_count": 24,
   "metadata": {},
   "outputs": [],
   "source": [
    "cria_arquivo_csv(tweets)"
   ]
  },
  {
   "cell_type": "code",
   "execution_count": 25,
   "metadata": {},
   "outputs": [],
   "source": [
    "dataset = pd.read_csv('tweets_xiaomi.csv', encoding='utf-8')"
   ]
  },
  {
   "cell_type": "code",
   "execution_count": 26,
   "metadata": {},
   "outputs": [
    {
     "data": {
      "text/plain": [
       "pandas.core.frame.DataFrame"
      ]
     },
     "execution_count": 26,
     "metadata": {},
     "output_type": "execute_result"
    }
   ],
   "source": [
    "type(dataset)"
   ]
  },
  {
   "cell_type": "code",
   "execution_count": 27,
   "metadata": {},
   "outputs": [
    {
     "data": {
      "text/html": [
       "<div>\n",
       "<style scoped>\n",
       "    .dataframe tbody tr th:only-of-type {\n",
       "        vertical-align: middle;\n",
       "    }\n",
       "\n",
       "    .dataframe tbody tr th {\n",
       "        vertical-align: top;\n",
       "    }\n",
       "\n",
       "    .dataframe thead th {\n",
       "        text-align: right;\n",
       "    }\n",
       "</style>\n",
       "<table border=\"1\" class=\"dataframe\">\n",
       "  <thead>\n",
       "    <tr style=\"text-align: right;\">\n",
       "      <th></th>\n",
       "      <th>id</th>\n",
       "      <th>created_at</th>\n",
       "      <th>text</th>\n",
       "    </tr>\n",
       "  </thead>\n",
       "  <tbody>\n",
       "    <tr>\n",
       "      <td>0</td>\n",
       "      <td>1171920866181025792</td>\n",
       "      <td>2019-09-11 22:58:02</td>\n",
       "      <td>RT @cryptolobopt: Entre um Xiaomi Mi9 e um iPh...</td>\n",
       "    </tr>\n",
       "    <tr>\n",
       "      <td>1</td>\n",
       "      <td>1171909987976785922</td>\n",
       "      <td>2019-09-11 22:14:48</td>\n",
       "      <td>RT @compiws: serio que tem gente falando que x...</td>\n",
       "    </tr>\n",
       "    <tr>\n",
       "      <td>2</td>\n",
       "      <td>1171894182606245889</td>\n",
       "      <td>2019-09-11 21:12:00</td>\n",
       "      <td>RT @cryptolobopt: Entre um Xiaomi Mi9 e um iPh...</td>\n",
       "    </tr>\n",
       "    <tr>\n",
       "      <td>3</td>\n",
       "      <td>1171886123435679745</td>\n",
       "      <td>2019-09-11 20:39:59</td>\n",
       "      <td>Meu amigo -Mano eu já conhecia o xaomi, mas se...</td>\n",
       "    </tr>\n",
       "    <tr>\n",
       "      <td>4</td>\n",
       "      <td>1171876391819927553</td>\n",
       "      <td>2019-09-11 20:01:18</td>\n",
       "      <td>RT @cryptolobopt: Entre um Xiaomi Mi9 e um iPh...</td>\n",
       "    </tr>\n",
       "    <tr>\n",
       "      <td>5</td>\n",
       "      <td>1171875785621299202</td>\n",
       "      <td>2019-09-11 19:58:54</td>\n",
       "      <td>RT @cryptolobopt: Entre um Xiaomi Mi9 e um iPh...</td>\n",
       "    </tr>\n",
       "    <tr>\n",
       "      <td>6</td>\n",
       "      <td>1171844923265564672</td>\n",
       "      <td>2019-09-11 17:56:16</td>\n",
       "      <td>@BeyondTheWings_ Não vai ter eu ganhando um Xi...</td>\n",
       "    </tr>\n",
       "    <tr>\n",
       "      <td>7</td>\n",
       "      <td>1171840867197431810</td>\n",
       "      <td>2019-09-11 17:40:09</td>\n",
       "      <td>@dsouza_55 Faz essa merda não mano. 6s totalme...</td>\n",
       "    </tr>\n",
       "    <tr>\n",
       "      <td>8</td>\n",
       "      <td>1171838224718868480</td>\n",
       "      <td>2019-09-11 17:29:39</td>\n",
       "      <td>Quem quiser me da um xiaomi mi9 de presente to...</td>\n",
       "    </tr>\n",
       "    <tr>\n",
       "      <td>9</td>\n",
       "      <td>1171819246147506176</td>\n",
       "      <td>2019-09-11 16:14:14</td>\n",
       "      <td>@kruda1020 Queria um Mi9 tbm, q Xiaomi é boa\\r...</td>\n",
       "    </tr>\n",
       "  </tbody>\n",
       "</table>\n",
       "</div>"
      ],
      "text/plain": [
       "                    id           created_at  \\\n",
       "0  1171920866181025792  2019-09-11 22:58:02   \n",
       "1  1171909987976785922  2019-09-11 22:14:48   \n",
       "2  1171894182606245889  2019-09-11 21:12:00   \n",
       "3  1171886123435679745  2019-09-11 20:39:59   \n",
       "4  1171876391819927553  2019-09-11 20:01:18   \n",
       "5  1171875785621299202  2019-09-11 19:58:54   \n",
       "6  1171844923265564672  2019-09-11 17:56:16   \n",
       "7  1171840867197431810  2019-09-11 17:40:09   \n",
       "8  1171838224718868480  2019-09-11 17:29:39   \n",
       "9  1171819246147506176  2019-09-11 16:14:14   \n",
       "\n",
       "                                                text  \n",
       "0  RT @cryptolobopt: Entre um Xiaomi Mi9 e um iPh...  \n",
       "1  RT @compiws: serio que tem gente falando que x...  \n",
       "2  RT @cryptolobopt: Entre um Xiaomi Mi9 e um iPh...  \n",
       "3  Meu amigo -Mano eu já conhecia o xaomi, mas se...  \n",
       "4  RT @cryptolobopt: Entre um Xiaomi Mi9 e um iPh...  \n",
       "5  RT @cryptolobopt: Entre um Xiaomi Mi9 e um iPh...  \n",
       "6  @BeyondTheWings_ Não vai ter eu ganhando um Xi...  \n",
       "7  @dsouza_55 Faz essa merda não mano. 6s totalme...  \n",
       "8  Quem quiser me da um xiaomi mi9 de presente to...  \n",
       "9  @kruda1020 Queria um Mi9 tbm, q Xiaomi é boa\\r...  "
      ]
     },
     "execution_count": 27,
     "metadata": {},
     "output_type": "execute_result"
    }
   ],
   "source": [
    "dataset.head(10)"
   ]
  },
  {
   "cell_type": "code",
   "execution_count": 29,
   "metadata": {},
   "outputs": [
    {
     "data": {
      "text/plain": [
       "id            15\n",
       "created_at    15\n",
       "text          15\n",
       "dtype: int64"
      ]
     },
     "execution_count": 29,
     "metadata": {},
     "output_type": "execute_result"
    }
   ],
   "source": [
    "# Contabiliza a quantidade de elementos do data frame\n",
    "dataset.count()"
   ]
  },
  {
   "cell_type": "markdown",
   "metadata": {},
   "source": [
    "## Pre-processamento dos Dados"
   ]
  },
  {
   "cell_type": "code",
   "execution_count": 30,
   "metadata": {},
   "outputs": [
    {
     "data": {
      "text/plain": [
       "Index(['id', 'created_at', 'text'], dtype='object')"
      ]
     },
     "execution_count": 30,
     "metadata": {},
     "output_type": "execute_result"
    }
   ],
   "source": [
    "# Retorna o nome das colunas do data frame\n",
    "dataset.columns"
   ]
  },
  {
   "cell_type": "code",
   "execution_count": 31,
   "metadata": {},
   "outputs": [],
   "source": [
    "# Remove textos duplicados\n",
    "dataset.drop_duplicates(['text'], inplace=True)"
   ]
  },
  {
   "cell_type": "code",
   "execution_count": 32,
   "metadata": {},
   "outputs": [
    {
     "data": {
      "text/plain": [
       "10"
      ]
     },
     "execution_count": 32,
     "metadata": {},
     "output_type": "execute_result"
    }
   ],
   "source": [
    "# Contabiliza a quantidade de elementos do data frame, depois de remover os dados duplicados\n",
    "dataset.text.count()"
   ]
  },
  {
   "cell_type": "code",
   "execution_count": 33,
   "metadata": {},
   "outputs": [
    {
     "name": "stderr",
     "output_type": "stream",
     "text": [
      "[nltk_data] Downloading package stopwords to\n",
      "[nltk_data]     C:\\Users\\MaluF\\AppData\\Roaming\\nltk_data...\n",
      "[nltk_data]   Package stopwords is already up-to-date!\n",
      "[nltk_data] Downloading package rslp to\n",
      "[nltk_data]     C:\\Users\\MaluF\\AppData\\Roaming\\nltk_data...\n",
      "[nltk_data]   Package rslp is already up-to-date!\n"
     ]
    },
    {
     "data": {
      "text/plain": [
       "True"
      ]
     },
     "execution_count": 33,
     "metadata": {},
     "output_type": "execute_result"
    }
   ],
   "source": [
    "import nltk\n",
    "nltk.download('stopwords')\n",
    "nltk.download('rslp')"
   ]
  },
  {
   "cell_type": "code",
   "execution_count": 34,
   "metadata": {},
   "outputs": [],
   "source": [
    "def RemoveStopWords(instancia):\n",
    "    stopwords = set(nltk.corpus.stopwords.words('portuguese'))\n",
    "    palavras = [i for i in instancia.split() if not i in stopwords]\n",
    "    return (\" \".join(palavras))"
   ]
  },
  {
   "cell_type": "code",
   "execution_count": 35,
   "metadata": {},
   "outputs": [],
   "source": [
    "def Stemming(instancia):\n",
    "    stemmer = nltk.stem.RSLPStemmer()\n",
    "    palavras = []\n",
    "    for w in instancia.split():\n",
    "        palavras.append(stemmer.stem(w))\n",
    "    return (\" \".join(palavras))"
   ]
  },
  {
   "cell_type": "code",
   "execution_count": 36,
   "metadata": {},
   "outputs": [],
   "source": [
    "def Limpeza_dados(instancia):\n",
    "    # remove links, pontos, virgulas,ponto e virgulas dos tweets\n",
    "    instancia = re.sub(r\"http\\S+\", \"\", instancia).lower().replace('.','').replace(';','').replace('-','').replace(':','').replace(')','')\n",
    "    return (instancia)"
   ]
  },
  {
   "cell_type": "code",
   "execution_count": null,
   "metadata": {},
   "outputs": [],
   "source": []
  }
 ],
 "metadata": {
  "kernelspec": {
   "display_name": "Python 3",
   "language": "python",
   "name": "python3"
  },
  "language_info": {
   "codemirror_mode": {
    "name": "ipython",
    "version": 3
   },
   "file_extension": ".py",
   "mimetype": "text/x-python",
   "name": "python",
   "nbconvert_exporter": "python",
   "pygments_lexer": "ipython3",
   "version": "3.7.3"
  }
 },
 "nbformat": 4,
 "nbformat_minor": 2
}
