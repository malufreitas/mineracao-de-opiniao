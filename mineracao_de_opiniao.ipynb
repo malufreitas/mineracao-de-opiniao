{
 "cells": [
  {
   "cell_type": "markdown",
   "metadata": {},
   "source": [
    "## Importando bibliotecas"
   ]
  },
  {
   "cell_type": "code",
   "execution_count": 1,
   "metadata": {},
   "outputs": [
    {
     "name": "stdout",
     "output_type": "stream",
     "text": [
      "Requirement already satisfied: python-twitter in c:\\users\\maluf\\appdata\\local\\programs\\python\\python37-32\\lib\\site-packages (3.5)\n",
      "Requirement already satisfied: requests in c:\\users\\maluf\\appdata\\local\\programs\\python\\python37-32\\lib\\site-packages (from python-twitter) (2.22.0)\n",
      "Requirement already satisfied: future in c:\\users\\maluf\\appdata\\local\\programs\\python\\python37-32\\lib\\site-packages (from python-twitter) (0.17.1)\n",
      "Requirement already satisfied: requests-oauthlib in c:\\users\\maluf\\appdata\\local\\programs\\python\\python37-32\\lib\\site-packages (from python-twitter) (1.2.0)\n",
      "Requirement already satisfied: certifi>=2017.4.17 in c:\\users\\maluf\\appdata\\local\\programs\\python\\python37-32\\lib\\site-packages (from requests->python-twitter) (2018.4.16)\n",
      "Requirement already satisfied: idna<2.9,>=2.5 in c:\\users\\maluf\\appdata\\local\\programs\\python\\python37-32\\lib\\site-packages (from requests->python-twitter) (2.8)\n",
      "Requirement already satisfied: urllib3!=1.25.0,!=1.25.1,<1.26,>=1.21.1 in c:\\users\\maluf\\appdata\\local\\programs\\python\\python37-32\\lib\\site-packages (from requests->python-twitter) (1.24.3)\n",
      "Requirement already satisfied: chardet<3.1.0,>=3.0.2 in c:\\users\\maluf\\appdata\\local\\programs\\python\\python37-32\\lib\\site-packages (from requests->python-twitter) (3.0.4)\n",
      "Requirement already satisfied: oauthlib>=3.0.0 in c:\\users\\maluf\\appdata\\local\\programs\\python\\python37-32\\lib\\site-packages (from requests-oauthlib->python-twitter) (3.0.1)\n"
     ]
    }
   ],
   "source": [
    "!pip install python-twitter"
   ]
  },
  {
   "cell_type": "code",
   "execution_count": 2,
   "metadata": {},
   "outputs": [],
   "source": [
    "import twitter\n",
    "import json"
   ]
  },
  {
   "cell_type": "code",
   "execution_count": 3,
   "metadata": {},
   "outputs": [],
   "source": [
    "from nltk import word_tokenize\n",
    "import nltk\n",
    "import re\n",
    "import pandas as pd\n",
    "from sklearn.feature_extraction.text import CountVectorizer\n",
    "from sklearn import svm\n",
    "from sklearn import metrics\n",
    "from sklearn.model_selection import cross_val_predict"
   ]
  },
  {
   "cell_type": "markdown",
   "metadata": {},
   "source": [
    "## Configurando api"
   ]
  },
  {
   "cell_type": "code",
   "execution_count": 4,
   "metadata": {},
   "outputs": [],
   "source": [
    "# Carregando o arquivo de configuração\n",
    "with open('tokens.json') as f:\n",
    "    data = json.load(f)"
   ]
  },
  {
   "cell_type": "code",
   "execution_count": 5,
   "metadata": {},
   "outputs": [],
   "source": [
    "# Carregando a API do Twitter, utilizando os dados do arquivo json\n",
    "api = twitter.Api(**data)"
   ]
  },
  {
   "cell_type": "code",
   "execution_count": 6,
   "metadata": {},
   "outputs": [
    {
     "name": "stdout",
     "output_type": "stream",
     "text": [
      "{\"created_at\": \"Tue Jul 26 22:26:37 +0000 2016\", \"default_profile\": true, \"default_profile_image\": true, \"friends_count\": 1, \"id\": 758066017742512128, \"id_str\": \"758066017742512128\", \"name\": \"Malu Freitas\", \"profile_background_color\": \"F5F8FA\", \"profile_image_url\": \"http://abs.twimg.com/sticky/default_profile_images/default_profile_normal.png\", \"profile_image_url_https\": \"https://abs.twimg.com/sticky/default_profile_images/default_profile_normal.png\", \"profile_link_color\": \"1DA1F2\", \"profile_sidebar_border_color\": \"C0DEED\", \"profile_sidebar_fill_color\": \"DDEEF6\", \"profile_text_color\": \"333333\", \"profile_use_background_image\": true, \"screen_name\": \"MaluMalufrt\"}\n"
     ]
    }
   ],
   "source": [
    "# Testa se tudo está certo\n",
    "# Caso tiver alguma credencial errada, o resultado será:\n",
    "#twitter.error.TwitterError: [{'code': 32, 'message': 'Could not authenticate you.'}]\n",
    "\n",
    "print(api.VerifyCredentials())"
   ]
  },
  {
   "cell_type": "code",
   "execution_count": 7,
   "metadata": {},
   "outputs": [],
   "source": [
    "# A API do Twitter permite fazer diversos tipos de consultas. \n",
    "# Função que, a partir de uma lista de status, mostra o nome do usuário e o texto do twitter.\n",
    "\n",
    "def print_status(status_list):\n",
    "    for status in status_list:\n",
    "        print('(' + str(status.created_at) + ') ' + str(status.user.name) + ':' + str(status.text) + '\\n')"
   ]
  },
  {
   "cell_type": "markdown",
   "metadata": {},
   "source": [
    "## Buscando dados do twitter"
   ]
  },
  {
   "cell_type": "code",
   "execution_count": 8,
   "metadata": {},
   "outputs": [],
   "source": [
    "# Busca por termo\n",
    "\n",
    "status_list = api.GetSearch(term=\"xiaomi\",\n",
    "                            lang='pt',\n",
    "                            count=100,\n",
    "                            result_type='mixed')"
   ]
  },
  {
   "cell_type": "code",
   "execution_count": 9,
   "metadata": {},
   "outputs": [],
   "source": [
    "# Busca por termo e data\n",
    "\n",
    "status_list = api.GetSearch(term=\"xiaomi\",\n",
    "                            lang='pt',\n",
    "                            count=100,\n",
    "                            result_type='mixed',\n",
    "                            since='2019-12-18',\n",
    "                            until='2019-12-19')"
   ]
  },
  {
   "cell_type": "markdown",
   "metadata": {},
   "source": [
    "## Criando lista com os tweets"
   ]
  },
  {
   "cell_type": "code",
   "execution_count": 10,
   "metadata": {},
   "outputs": [],
   "source": [
    "def cria_tweet_list(status_list):\n",
    "    tweet_list = []\n",
    "    \n",
    "    for tweet in status_list:\n",
    "        tweet_list.append(tweet.text)\n",
    "    \n",
    "    return tweet_list"
   ]
  },
  {
   "cell_type": "code",
   "execution_count": 11,
   "metadata": {},
   "outputs": [
    {
     "name": "stdout",
     "output_type": "stream",
     "text": [
      "(Wed Dec 18 23:59:38 +0000 2019) kwam:RT @PlebeusOciosos: Xiaomi svbmete a maçã  à felação! https://t.co/U8edKlKfgr\n",
      "\n",
      "(Wed Dec 18 23:59:36 +0000 2019) Gárgula🇵🇰:RT @PlebeusOciosos: Xiaomi svbmete a maçã  à felação! https://t.co/U8edKlKfgr\n",
      "\n",
      "(Wed Dec 18 23:58:51 +0000 2019) Boy Magia Negra ☭:@queriacozinhar Os Xiaomi tão da hora hein?\n",
      "\n",
      "(Wed Dec 18 23:57:48 +0000 2019) Lucas:@Joao_Electro dei uma pesquisada aqui pq tava pensando em pegar um xiaomi, parece que é problema de certificado (wi… https://t.co/kDdGw2ECN8\n",
      "\n",
      "(Wed Dec 18 23:57:37 +0000 2019) Sailor Vênus:Felipe me deu um XIAOMI de natal.\n",
      "\n",
      "Eu tenho o melhor namorado do mundo meu deus 🥺🥺\n",
      "\n",
      "(Wed Dec 18 23:56:57 +0000 2019) rainha do drama:@aprochegue mais uma testemunha de Xiaomi, amém\n",
      "\n",
      "(Wed Dec 18 23:56:05 +0000 2019) jota🎄:RT @PlebeusOciosos: Xiaomi svbmete a maçã  à felação! https://t.co/U8edKlKfgr\n",
      "\n",
      "(Wed Dec 18 23:54:46 +0000 2019) Lorყ ✨:@caldas_rayana Tal de xiaomi, a câmera é igual iPhone..\n",
      "\n",
      "(Wed Dec 18 23:54:41 +0000 2019) Aelin A. Galathynius:RT @XiaomiBrasil: Você já encontra o Mi Note 10 em lojas selecionadas Vivo em SP! É a 1ª operadora a vender Xiaomi de forma oficial e, no d…\n",
      "\n",
      "(Wed Dec 18 23:53:59 +0000 2019) leoa do pedaço:@iago_damacena é então, tava querendo ela ou o amazfit bip (um outro da xiaomi) mas não sei se devoooo\n",
      "\n",
      "(Wed Dec 18 23:53:24 +0000 2019) Travado de droga:@RainNowDo Kkkk to cm o cell da minha vó, enquanto o xiaomi ta no concerto, aí coloquei o cartâo de memória nele, e… https://t.co/aD0V8Kxdrq\n",
      "\n",
      "(Wed Dec 18 23:53:20 +0000 2019) Faz o L:!Seven está transmitindo 20 kills = Xiaomi DC Seven, encontre os conteúdos interesantes na Nimo TV. https://t.co/la1N0sPcqE\n",
      "\n",
      "(Wed Dec 18 23:53:10 +0000 2019) ғernanda é jongнo υттed 🐘:@kmmnjgpkjn_ @bkwanvr oi mô, é o mi 9 da xiaomi\n",
      "\n",
      "(Wed Dec 18 23:53:09 +0000 2019) pescador parrudo:RT @PlebeusOciosos: Xiaomi svbmete a maçã  à felação! https://t.co/U8edKlKfgr\n",
      "\n",
      "(Wed Dec 18 23:51:35 +0000 2019) Luis - ᴏɴᴇɪ:Seven está transmitindo 20 kills = Xiaomi DC Seven, encontre os conteúdos interesantes na Nimo TV. https://t.co/qOJmM9W8AZ\n",
      "\n",
      "(Wed Dec 18 23:51:05 +0000 2019) Sυéℓєท:@Nicolas_Moraes9 Ata, desculpa expor no tt que tu não sabe pronunciar Xiaomi KKKKKKKK\n",
      "\n",
      "(Wed Dec 18 23:50:57 +0000 2019) Faz o L:Seven está transmitindo 20 kills = Xiaomi DC Seven, encontre os conteúdos interesantes na Nimo TV. https://t.co/la1N0sPcqE\n",
      "\n",
      "(Wed Dec 18 23:50:42 +0000 2019) α gαtα do Luαn:@ddias_s Mas não era vc fã de xiaomi\n",
      "\n",
      "(Wed Dec 18 23:50:39 +0000 2019) Nicolas 🦂:@SuelenMacieel Muita mao comprar xiaomi em Sapiranga\n",
      "\n",
      "(Wed Dec 18 23:49:17 +0000 2019) iago:@leoneperzoli Eu comprei aquele smartband da Xiaomi, to achando ótimo!\n",
      "\n",
      "(Wed Dec 18 23:48:26 +0000 2019) Rafhael Olisam:Seven está transmitindo 20 kills = Xiaomi DC Seven, encontre os conteúdos interesantes na Nimo TV. https://t.co/VqDrohcjND\n",
      "\n",
      "(Wed Dec 18 23:47:58 +0000 2019) Lex Luthor:RT @PlebeusOciosos: Xiaomi svbmete a maçã  à felação! https://t.co/U8edKlKfgr\n",
      "\n",
      "(Wed Dec 18 23:47:52 +0000 2019) 𝑪𝑯𝑨𝑹𝑳𝑰𝑬.:Usuários da Xiaomi com o Spotify bugado sofrem. https://t.co/iUGW53pXJ1\n",
      "\n",
      "(Wed Dec 18 23:47:34 +0000 2019) Lixeira:@irmaodojorel___ Suspeitei kkkkkkkkkk mas xiaomi é sempre melhor cof cof\n",
      "\n",
      "(Wed Dec 18 23:47:32 +0000 2019) NailtonPlay:Seven está transmitindo 20 kills = Xiaomi DC Seven, encontre os conteúdos interesantes na Nimo TV. https://t.co/EGATEelGwT\n",
      "\n",
      "(Wed Dec 18 23:46:16 +0000 2019) Gabriele:A bateria do Xiaomi é eterna gente\n",
      "\n",
      "(Wed Dec 18 23:46:05 +0000 2019) Rodrigo Bramusse:Meu Deus, eu não aguento mais os Xaiomers! Hoje na barbearia um dos barbeiros falava do incrível guarda chuvas da X… https://t.co/fAtB70xGv0\n",
      "\n",
      "(Wed Dec 18 23:46:04 +0000 2019) flan:@rodrigare O negócio é comprar um xiaomi se render à radiação lá e a bateria durar uns 10 dias\n",
      "\n",
      "(Wed Dec 18 23:44:30 +0000 2019) Luiz Henrique Teles:RT @PlebeusOciosos: Xiaomi svbmete a maçã  à felação! https://t.co/U8edKlKfgr\n",
      "\n",
      "(Wed Dec 18 23:44:22 +0000 2019) Sait0tv:RT @dirmaoURSO: Estou com 3 celulares zerados para vender aqui:\n",
      "\n",
      "iPhone 7. 32 GB\n",
      "iPhone 7 plus 128 GB\n",
      "Xiaomi redmi 8\n",
      "\n",
      "Interessado = manda m…\n",
      "\n",
      "(Wed Dec 18 23:44:06 +0000 2019) Reptiliana♏:@prideuniverse O Xiaomi mi A3 é o meu queridinho. Eu quero muito mas tenho medo de trocar de celular, não sei pq\n",
      "\n",
      "(Wed Dec 18 23:43:17 +0000 2019) dinho:RT @edeywid: Pior mentira do século : \n",
      "Xiaomi melhor que Apple\n",
      "\n",
      "(Wed Dec 18 23:43:03 +0000 2019) Reptiliana♏:@prideuniverse Queria um Xiaomi queria muito mesmo, mas estou namorando o Samsung a20\n",
      "\n",
      "(Wed Dec 18 23:42:11 +0000 2019) natinha:RT @edeywid: Pior mentira do século : \n",
      "Xiaomi melhor que Apple\n",
      "\n",
      "(Wed Dec 18 23:39:26 +0000 2019) Renata Bagnato:RT @dirmaoURSO: Estou com 3 celulares zerados para vender aqui:\n",
      "\n",
      "iPhone 7. 32 GB\n",
      "iPhone 7 plus 128 GB\n",
      "Xiaomi redmi 8\n",
      "\n",
      "Interessado = manda m…\n",
      "\n",
      "(Wed Dec 18 23:39:23 +0000 2019) Pretendedor ofensivo:RT @PlebeusOciosos: Xiaomi svbmete a maçã  à felação! https://t.co/U8edKlKfgr\n",
      "\n",
      "(Wed Dec 18 23:38:25 +0000 2019) FullKira:RT @canalfiv5: Seven está transmitindo 20 kills = Xiaomi DC Seven, encontre os conteúdos interesantes na Nimo TV. https://t.co/v3X1vTbN4q\n",
      "\n",
      "(Wed Dec 18 23:37:20 +0000 2019) gabriela:RT @PlebeusOciosos: Xiaomi svbmete a maçã  à felação! https://t.co/U8edKlKfgr\n",
      "\n",
      "(Wed Dec 18 23:37:20 +0000 2019) 𝗺𝗮𝗿𝗹𝘂៹:alguém tem um celular da xiaomi??????\n",
      "\n",
      "se sim, é bom?\n",
      "\n",
      "(Wed Dec 18 23:36:36 +0000 2019) Fiv5:Seven está transmitindo 20 kills = Xiaomi DC Seven, encontre os conteúdos interesantes na Nimo TV. https://t.co/v3X1vTbN4q\n",
      "\n",
      "(Wed Dec 18 23:36:16 +0000 2019) BRACUBI:RT @dirmaoURSO: Estou com 3 celulares zerados para vender aqui:\n",
      "\n",
      "iPhone 7. 32 GB\n",
      "iPhone 7 plus 128 GB\n",
      "Xiaomi redmi 8\n",
      "\n",
      "Interessado = manda m…\n",
      "\n",
      "(Wed Dec 18 23:35:50 +0000 2019) Sil:@queriacozinhar Xiaomi Mi A3. Se precisar te indico um lugar onde comprar também, na Santa Ifigênia\n",
      "\n",
      "(Wed Dec 18 23:35:41 +0000 2019) kksh sem sei:Bateria de xiaomi rende pra caralho Zé\n",
      "\n",
      "(Wed Dec 18 23:34:26 +0000 2019) 𝓜𝓪𝓵𝓪𝓬𝓱𝓲𝓽𝓮:E eu morro de curiosidade e ver um xiaomi de perto\n",
      "\n",
      "(Wed Dec 18 23:34:18 +0000 2019) ah vai toma no cu porra:@KAIOMVSANTOX Xiaomi custo benefício\n",
      "Venha pra familia xiaomi vc tbm\n",
      "\n",
      "(Wed Dec 18 23:33:42 +0000 2019) guilherme vai ver o flamengo na final do mundial:Eu pensei que nao fosse me adaptar a câmera no meio da tela, mas ta ótimo, arrasou xiaomi\n",
      "\n",
      "(Wed Dec 18 23:31:46 +0000 2019) Angélica:Seven está transmitindo Vou sortear 1 Xiaomi! DC Seven, encontre os conteúdos interesantes na Nimo TV.… https://t.co/ZH0hRa9928\n",
      "\n",
      "(Wed Dec 18 23:30:47 +0000 2019) typedef pj 🇭🇰:RT @PlebeusOciosos: Xiaomi svbmete a maçã  à felação! https://t.co/U8edKlKfgr\n",
      "\n",
      "(Wed Dec 18 23:30:46 +0000 2019) Filha de Minerva:RT @PlebeusOciosos: Xiaomi svbmete a maçã  à felação! https://t.co/U8edKlKfgr\n",
      "\n",
      "(Wed Dec 18 23:30:26 +0000 2019) Edmar F Borges:@lucasvianalvo Kkkk...investe no xiaomi meu amigo kkk\n",
      "\n",
      "(Wed Dec 18 23:30:10 +0000 2019) Rubens Marcelo:RT @PlebeusOciosos: Xiaomi svbmete a maçã  à felação! https://t.co/U8edKlKfgr\n",
      "\n",
      "(Wed Dec 18 23:30:06 +0000 2019) 𝐍𝐚𝐧𝐝𝐞𝐫:RT @PlebeusOciosos: Xiaomi svbmete a maçã  à felação! https://t.co/U8edKlKfgr\n",
      "\n",
      "(Wed Dec 18 23:29:49 +0000 2019) Paulo Oscar:RT @PlebeusOciosos: Xiaomi svbmete a maçã  à felação! https://t.co/U8edKlKfgr\n",
      "\n",
      "(Wed Dec 18 23:29:14 +0000 2019) Cassie:RT @PlebeusOciosos: Xiaomi svbmete a maçã  à felação! https://t.co/U8edKlKfgr\n",
      "\n",
      "(Wed Dec 18 23:26:45 +0000 2019) dirmão urso:Estou com 3 celulares zerados para vender aqui:\n",
      "\n",
      "iPhone 7. 32 GB\n",
      "iPhone 7 plus 128 GB\n",
      "Xiaomi redmi 8\n",
      "\n",
      "Interessado =… https://t.co/X8O6AnHhB6\n",
      "\n",
      "(Wed Dec 18 23:26:19 +0000 2019) João Gabriel:Seven está transmitindo 20 kills = Xiaomi DC Seven, encontre os conteúdos interesantes na Nimo TV. https://t.co/7SlbN3HguE\n",
      "\n",
      "(Wed Dec 18 23:25:50 +0000 2019) BlackBolt:Sorteio agora do Xiaomi https://t.co/AX0yyTKuqW\n",
      "\n",
      "(Wed Dec 18 23:25:46 +0000 2019) muel 👑🍺🤘🏿💔:@rebanhodamm Votei na marilia de 3 navegadores diferentes, o do twitter, o Chrome e o da xiaomi. https://t.co/HtJeXVGvF1\n",
      "\n",
      "(Wed Dec 18 23:25:10 +0000 2019) É o heltu:Seven está transmitindo 20 kills = Xiaomi DC Seven, encontre os conteúdos interesantes na Nimo TV. https://t.co/cvPseRosSK\n",
      "\n",
      "(Wed Dec 18 23:25:06 +0000 2019) Leonardo:Seven está transmitindo 20 kills = Xiaomi DC Seven, encontre os conteúdos interesantes na Nimo TV. https://t.co/SWuQk9vDud\n",
      "\n",
      "(Wed Dec 18 23:24:42 +0000 2019) Bells:q xiaomi oq me respeita\n",
      "\n",
      "(Wed Dec 18 23:24:29 +0000 2019) St. Markus:RT @PlebeusOciosos: Xiaomi svbmete a maçã  à felação! https://t.co/U8edKlKfgr\n",
      "\n",
      "(Wed Dec 18 23:23:27 +0000 2019) Queria ter uma vida social... sair do mundo escuro:RT @PlebeusOciosos: Xiaomi svbmete a maçã  à felação! https://t.co/U8edKlKfgr\n",
      "\n",
      "(Wed Dec 18 23:22:44 +0000 2019) flor dançante com saxofone:@feldmanngui @angulodevista @Danieee_png aqui recebendo massagem do meu celular que só tem benefícios xiaomi\n",
      "\n",
      "(Wed Dec 18 23:22:37 +0000 2019) Merkamas🎁💝😃⛄⛄⛄⛄⛄:Xiaomi redmi 7 azul cometa móvil 4g dual sim 6.26'' hd+/8core/64gb/3gb ram/12mp+2mp/8mp https://t.co/j75eG9cXzB\n",
      "\n",
      "(Wed Dec 18 23:22:37 +0000 2019) Siqueira:quanto a gente tem de afinidade? \n",
      "\n",
      "10% flamengo \n",
      "10% barcelona \n",
      "10% feijão por baixo do arroz \n",
      "10% churrasco&gt;&gt;&gt;&gt;&gt;su… https://t.co/XQ53JXBZrk\n",
      "\n",
      "(Wed Dec 18 23:21:57 +0000 2019) brabo:meu wifi ta horrível, roteador deve ta dando problema com o xiaomi\n",
      "\n",
      "(Wed Dec 18 23:21:46 +0000 2019) 💛dbn🎨💛💫:RT @PlebeusOciosos: Xiaomi svbmete a maçã  à felação! https://t.co/U8edKlKfgr\n",
      "\n",
      "(Wed Dec 18 23:21:45 +0000 2019) dingobéu:RT @PlebeusOciosos: Xiaomi svbmete a maçã  à felação! https://t.co/U8edKlKfgr\n",
      "\n",
      "(Wed Dec 18 23:21:34 +0000 2019) Matheuz 🇪🇪:@aszucatti Não fala isso, daqui a pouco aparece um testemunha de xiaomi aqui pra passar a palavra\n",
      "\n",
      "(Wed Dec 18 23:21:06 +0000 2019) Pâmela:Ignorem esse espaço antes da vírgula, teclado do xiaomi é um lixo\n",
      "\n",
      "(Wed Dec 18 23:20:28 +0000 2019) 🇪🇪 zucatti 🇪🇪:@Math_2809 Aaah pode crê, xiaomi é diferenciado mesmo\n",
      "\n",
      "(Wed Dec 18 23:20:19 +0000 2019) thammy:@roadbts tipo, o meu celular é o xiaomi e quando atualizou, o visual dele lembrou bastante o de um iphone. ele não… https://t.co/lqLyWQ66iz\n",
      "\n",
      "(Wed Dec 18 23:20:16 +0000 2019) the surto:RT @PlebeusOciosos: Xiaomi svbmete a maçã  à felação! https://t.co/U8edKlKfgr\n",
      "\n",
      "(Wed Dec 18 23:19:53 +0000 2019) døugläs:Ai quando eu comprei meu xiaomi eu vou tirar tanta foto com flash de noite só de raiva dessa motorola do cão\n",
      "\n",
      "(Wed Dec 18 23:19:44 +0000 2019) alexandre, o mais pica da macedônia:RT @useron: infelizmente o mal triunfou mais uma vez\n",
      "\n",
      "agora xiaomi vai virar outra marca de se comprar junto com plano fidelidade de 12x de…\n",
      "\n",
      "(Wed Dec 18 23:19:10 +0000 2019) CruzeiroMidias:Galera vcs usam fones de ouvido da marca mi xiaomi sem fio para corre, quero saber se é bom?\n",
      "\n",
      "(Wed Dec 18 23:18:04 +0000 2019) maria:Oficialmente testemunha xiaomi\n",
      "\n",
      "(Wed Dec 18 23:17:48 +0000 2019) Matheuz 🇪🇪:@aszucatti O meu é o RN6P, a xiaomi disponibiliza temas do próprio sistema pra ti alterar\n",
      "\n",
      "(Wed Dec 18 23:16:57 +0000 2019) douglas roman :Aceito uma caneca termina da xiaomi (escrevi certo o nome?)\n",
      "\n",
      "(Wed Dec 18 23:15:37 +0000 2019) Fκραlhαησ ᶜʳᶠ🔴⚫ ꄱ꓅ꄱ🐾🌊:@driblei Pois é. Os celulares xiaomi vem com um infravermelho para facilitar no uso como controle remoto.....não se… https://t.co/alcRcgsDci\n",
      "\n",
      "(Wed Dec 18 23:15:31 +0000 2019) Marcos:RT @PlebeusOciosos: Xiaomi svbmete a maçã  à felação! https://t.co/U8edKlKfgr\n",
      "\n",
      "(Wed Dec 18 23:14:00 +0000 2019) Mackinder surtada🌱:@gu_guimas Mais um testemunha de xiaomi pra comunidade que orgulho\n",
      "\n",
      "(Wed Dec 18 23:13:56 +0000 2019) Lolnerdszum:@Tinassauro qualquer celular ou da xiaomi mesmo? e quantos reais esta disposta a gastar em um novo dispositivo?\n",
      "\n",
      "(Wed Dec 18 23:13:55 +0000 2019) cortarena:alguém tem Galaxy note 10 plus ? pedi uma case pro meu xiaomi e recebi uma da Samsung mds\n",
      "\n",
      "(Wed Dec 18 23:13:15 +0000 2019) Air Frayer Philips Vallita:RT @PlebeusOciosos: Xiaomi svbmete a maçã  à felação! https://t.co/U8edKlKfgr\n",
      "\n",
      "(Wed Dec 18 23:12:30 +0000 2019) testemunha de xiaomi:Explique seu tt\n",
      "nome: uma brincadeira q eu fiz com meu amg dps q eu comprei um xiaomi\n",
      "user: joon é apelido de junip… https://t.co/kzF0RczQe7\n",
      "\n",
      "(Wed Dec 18 23:11:45 +0000 2019) Blacay 🍥:RT @PlebeusOciosos: Xiaomi svbmete a maçã  à felação! https://t.co/U8edKlKfgr\n",
      "\n",
      "(Wed Dec 18 23:11:24 +0000 2019) dã schumekinho (Dan Schunck):@Xiaomi Boa noite querida @Xiaomi 😊\n",
      "\n",
      "(Wed Dec 18 23:11:15 +0000 2019) William Anselmo:RT @PlebeusOciosos: Xiaomi svbmete a maçã  à felação! https://t.co/U8edKlKfgr\n",
      "\n",
      "(Wed Dec 18 23:10:34 +0000 2019) Luca:@luidy30 @luqizilla queria ter um huawei, mas teve esses rolos com a google e eu dei uma broxada, mas to gostando d… https://t.co/7DHQgieEHY\n",
      "\n",
      "(Wed Dec 18 23:10:20 +0000 2019) Henritai:RT @PlebeusOciosos: Xiaomi svbmete a maçã  à felação! https://t.co/U8edKlKfgr\n",
      "\n",
      "(Wed Dec 18 23:09:39 +0000 2019) Fκραlhαησ ᶜʳᶠ🔴⚫ ꄱ꓅ꄱ🐾🌊:@driblei Se o seu celular for um xiaomi, já vem o app Instalado...fora isso, tem que ver a marca da sua tv e ir na… https://t.co/qj6JfLLpqq\n",
      "\n",
      "(Wed Dec 18 23:08:48 +0000 2019) Diogo Eberhardt:RT @XiaomiBrasil: Você já encontra o Mi Note 10 em lojas selecionadas Vivo em SP! É a 1ª operadora a vender Xiaomi de forma oficial e, no d…\n",
      "\n",
      "(Wed Dec 18 23:08:39 +0000 2019) Lukas:RT @XiaomiBrasil: Você já encontra o Mi Note 10 em lojas selecionadas Vivo em SP! É a 1ª operadora a vender Xiaomi de forma oficial e, no d…\n",
      "\n",
      "(Wed Dec 18 23:07:43 +0000 2019) ᎶᎨᏝᏕᏬ👾💢:RT @PlebeusOciosos: Xiaomi svbmete a maçã  à felação! https://t.co/U8edKlKfgr\n",
      "\n",
      "(Wed Dec 18 23:06:40 +0000 2019) brilha brilha laisinha 🎄⭐:@Davif_p Por isso xiaomi é melhor, e a capa vem de brinde\n",
      "\n",
      "(Wed Dec 18 23:06:23 +0000 2019) Broadway:A minha era de iPhone chegou ao fim. Olá xiaomi, seja bem vinda! @XiaomiBrasil\n",
      "\n",
      "(Wed Dec 18 23:05:41 +0000 2019) 𝖓𝖆𝖙𝖆𝖘𝖍𝖆:@evrenslon testemunha de xiaomi\n",
      "\n",
      "(Wed Dec 18 23:05:19 +0000 2019) Versão beta:Perdi a chavezinha do meu Xiaomi :(\n",
      "\n"
     ]
    }
   ],
   "source": [
    "# Printando elementos\n",
    "print_status(status_list)"
   ]
  },
  {
   "cell_type": "code",
   "execution_count": 12,
   "metadata": {},
   "outputs": [
    {
     "name": "stdout",
     "output_type": "stream",
     "text": [
      "100\n"
     ]
    }
   ],
   "source": [
    "print(len(status_list))"
   ]
  },
  {
   "cell_type": "code",
   "execution_count": 13,
   "metadata": {},
   "outputs": [],
   "source": [
    "tweet_list = cria_tweet_list(status_list)"
   ]
  },
  {
   "cell_type": "code",
   "execution_count": 14,
   "metadata": {},
   "outputs": [
    {
     "name": "stdout",
     "output_type": "stream",
     "text": [
      "['RT @PlebeusOciosos: Xiaomi svbmete a maçã  à felação! https://t.co/U8edKlKfgr', 'RT @PlebeusOciosos: Xiaomi svbmete a maçã  à felação! https://t.co/U8edKlKfgr', '@queriacozinhar Os Xiaomi tão da hora hein?', '@Joao_Electro dei uma pesquisada aqui pq tava pensando em pegar um xiaomi, parece que é problema de certificado (wi… https://t.co/kDdGw2ECN8', 'Felipe me deu um XIAOMI de natal.\\n\\nEu tenho o melhor namorado do mundo meu deus 🥺🥺', '@aprochegue mais uma testemunha de Xiaomi, amém', 'RT @PlebeusOciosos: Xiaomi svbmete a maçã  à felação! https://t.co/U8edKlKfgr', '@caldas_rayana Tal de xiaomi, a câmera é igual iPhone..', 'RT @XiaomiBrasil: Você já encontra o Mi Note 10 em lojas selecionadas Vivo em SP! É a 1ª operadora a vender Xiaomi de forma oficial e, no d…', '@iago_damacena é então, tava querendo ela ou o amazfit bip (um outro da xiaomi) mas não sei se devoooo', '@RainNowDo Kkkk to cm o cell da minha vó, enquanto o xiaomi ta no concerto, aí coloquei o cartâo de memória nele, e… https://t.co/aD0V8Kxdrq', '!Seven está transmitindo 20 kills = Xiaomi DC Seven, encontre os conteúdos interesantes na Nimo TV. https://t.co/la1N0sPcqE', '@kmmnjgpkjn_ @bkwanvr oi mô, é o mi 9 da xiaomi', 'RT @PlebeusOciosos: Xiaomi svbmete a maçã  à felação! https://t.co/U8edKlKfgr', 'Seven está transmitindo 20 kills = Xiaomi DC Seven, encontre os conteúdos interesantes na Nimo TV. https://t.co/qOJmM9W8AZ', '@Nicolas_Moraes9 Ata, desculpa expor no tt que tu não sabe pronunciar Xiaomi KKKKKKKK', 'Seven está transmitindo 20 kills = Xiaomi DC Seven, encontre os conteúdos interesantes na Nimo TV. https://t.co/la1N0sPcqE', '@ddias_s Mas não era vc fã de xiaomi', '@SuelenMacieel Muita mao comprar xiaomi em Sapiranga', '@leoneperzoli Eu comprei aquele smartband da Xiaomi, to achando ótimo!', 'Seven está transmitindo 20 kills = Xiaomi DC Seven, encontre os conteúdos interesantes na Nimo TV. https://t.co/VqDrohcjND', 'RT @PlebeusOciosos: Xiaomi svbmete a maçã  à felação! https://t.co/U8edKlKfgr', 'Usuários da Xiaomi com o Spotify bugado sofrem. https://t.co/iUGW53pXJ1', '@irmaodojorel___ Suspeitei kkkkkkkkkk mas xiaomi é sempre melhor cof cof', 'Seven está transmitindo 20 kills = Xiaomi DC Seven, encontre os conteúdos interesantes na Nimo TV. https://t.co/EGATEelGwT', 'A bateria do Xiaomi é eterna gente', 'Meu Deus, eu não aguento mais os Xaiomers! Hoje na barbearia um dos barbeiros falava do incrível guarda chuvas da X… https://t.co/fAtB70xGv0', '@rodrigare O negócio é comprar um xiaomi se render à radiação lá e a bateria durar uns 10 dias', 'RT @PlebeusOciosos: Xiaomi svbmete a maçã  à felação! https://t.co/U8edKlKfgr', 'RT @dirmaoURSO: Estou com 3 celulares zerados para vender aqui:\\n\\niPhone 7. 32 GB\\niPhone 7 plus 128 GB\\nXiaomi redmi 8\\n\\nInteressado = manda m…', '@prideuniverse O Xiaomi mi A3 é o meu queridinho. Eu quero muito mas tenho medo de trocar de celular, não sei pq', 'RT @edeywid: Pior mentira do século : \\nXiaomi melhor que Apple', '@prideuniverse Queria um Xiaomi queria muito mesmo, mas estou namorando o Samsung a20', 'RT @edeywid: Pior mentira do século : \\nXiaomi melhor que Apple', 'RT @dirmaoURSO: Estou com 3 celulares zerados para vender aqui:\\n\\niPhone 7. 32 GB\\niPhone 7 plus 128 GB\\nXiaomi redmi 8\\n\\nInteressado = manda m…', 'RT @PlebeusOciosos: Xiaomi svbmete a maçã  à felação! https://t.co/U8edKlKfgr', 'RT @canalfiv5: Seven está transmitindo 20 kills = Xiaomi DC Seven, encontre os conteúdos interesantes na Nimo TV. https://t.co/v3X1vTbN4q', 'RT @PlebeusOciosos: Xiaomi svbmete a maçã  à felação! https://t.co/U8edKlKfgr', 'alguém tem um celular da xiaomi??????\\n\\nse sim, é bom?', 'Seven está transmitindo 20 kills = Xiaomi DC Seven, encontre os conteúdos interesantes na Nimo TV. https://t.co/v3X1vTbN4q', 'RT @dirmaoURSO: Estou com 3 celulares zerados para vender aqui:\\n\\niPhone 7. 32 GB\\niPhone 7 plus 128 GB\\nXiaomi redmi 8\\n\\nInteressado = manda m…', '@queriacozinhar Xiaomi Mi A3. Se precisar te indico um lugar onde comprar também, na Santa Ifigênia', 'Bateria de xiaomi rende pra caralho Zé', 'E eu morro de curiosidade e ver um xiaomi de perto', '@KAIOMVSANTOX Xiaomi custo benefício\\nVenha pra familia xiaomi vc tbm', 'Eu pensei que nao fosse me adaptar a câmera no meio da tela, mas ta ótimo, arrasou xiaomi', 'Seven está transmitindo Vou sortear 1 Xiaomi! DC Seven, encontre os conteúdos interesantes na Nimo TV.… https://t.co/ZH0hRa9928', 'RT @PlebeusOciosos: Xiaomi svbmete a maçã  à felação! https://t.co/U8edKlKfgr', 'RT @PlebeusOciosos: Xiaomi svbmete a maçã  à felação! https://t.co/U8edKlKfgr', '@lucasvianalvo Kkkk...investe no xiaomi meu amigo kkk', 'RT @PlebeusOciosos: Xiaomi svbmete a maçã  à felação! https://t.co/U8edKlKfgr', 'RT @PlebeusOciosos: Xiaomi svbmete a maçã  à felação! https://t.co/U8edKlKfgr', 'RT @PlebeusOciosos: Xiaomi svbmete a maçã  à felação! https://t.co/U8edKlKfgr', 'RT @PlebeusOciosos: Xiaomi svbmete a maçã  à felação! https://t.co/U8edKlKfgr', 'Estou com 3 celulares zerados para vender aqui:\\n\\niPhone 7. 32 GB\\niPhone 7 plus 128 GB\\nXiaomi redmi 8\\n\\nInteressado =… https://t.co/X8O6AnHhB6', 'Seven está transmitindo 20 kills = Xiaomi DC Seven, encontre os conteúdos interesantes na Nimo TV. https://t.co/7SlbN3HguE', 'Sorteio agora do Xiaomi https://t.co/AX0yyTKuqW', '@rebanhodamm Votei na marilia de 3 navegadores diferentes, o do twitter, o Chrome e o da xiaomi. https://t.co/HtJeXVGvF1', 'Seven está transmitindo 20 kills = Xiaomi DC Seven, encontre os conteúdos interesantes na Nimo TV. https://t.co/cvPseRosSK', 'Seven está transmitindo 20 kills = Xiaomi DC Seven, encontre os conteúdos interesantes na Nimo TV. https://t.co/SWuQk9vDud', 'q xiaomi oq me respeita', 'RT @PlebeusOciosos: Xiaomi svbmete a maçã  à felação! https://t.co/U8edKlKfgr', 'RT @PlebeusOciosos: Xiaomi svbmete a maçã  à felação! https://t.co/U8edKlKfgr', '@feldmanngui @angulodevista @Danieee_png aqui recebendo massagem do meu celular que só tem benefícios xiaomi', \"Xiaomi redmi 7 azul cometa móvil 4g dual sim 6.26'' hd+/8core/64gb/3gb ram/12mp+2mp/8mp https://t.co/j75eG9cXzB\", 'quanto a gente tem de afinidade? \\n\\n10% flamengo \\n10% barcelona \\n10% feijão por baixo do arroz \\n10% churrasco&gt;&gt;&gt;&gt;&gt;su… https://t.co/XQ53JXBZrk', 'meu wifi ta horrível, roteador deve ta dando problema com o xiaomi', 'RT @PlebeusOciosos: Xiaomi svbmete a maçã  à felação! https://t.co/U8edKlKfgr', 'RT @PlebeusOciosos: Xiaomi svbmete a maçã  à felação! https://t.co/U8edKlKfgr', '@aszucatti Não fala isso, daqui a pouco aparece um testemunha de xiaomi aqui pra passar a palavra', 'Ignorem esse espaço antes da vírgula, teclado do xiaomi é um lixo', '@Math_2809 Aaah pode crê, xiaomi é diferenciado mesmo', '@roadbts tipo, o meu celular é o xiaomi e quando atualizou, o visual dele lembrou bastante o de um iphone. ele não… https://t.co/lqLyWQ66iz', 'RT @PlebeusOciosos: Xiaomi svbmete a maçã  à felação! https://t.co/U8edKlKfgr', 'Ai quando eu comprei meu xiaomi eu vou tirar tanta foto com flash de noite só de raiva dessa motorola do cão', 'RT @useron: infelizmente o mal triunfou mais uma vez\\n\\nagora xiaomi vai virar outra marca de se comprar junto com plano fidelidade de 12x de…', 'Galera vcs usam fones de ouvido da marca mi xiaomi sem fio para corre, quero saber se é bom?', 'Oficialmente testemunha xiaomi', '@aszucatti O meu é o RN6P, a xiaomi disponibiliza temas do próprio sistema pra ti alterar', 'Aceito uma caneca termina da xiaomi (escrevi certo o nome?)', '@driblei Pois é. Os celulares xiaomi vem com um infravermelho para facilitar no uso como controle remoto.....não se… https://t.co/alcRcgsDci', 'RT @PlebeusOciosos: Xiaomi svbmete a maçã  à felação! https://t.co/U8edKlKfgr', '@gu_guimas Mais um testemunha de xiaomi pra comunidade que orgulho', '@Tinassauro qualquer celular ou da xiaomi mesmo? e quantos reais esta disposta a gastar em um novo dispositivo?', 'alguém tem Galaxy note 10 plus ? pedi uma case pro meu xiaomi e recebi uma da Samsung mds', 'RT @PlebeusOciosos: Xiaomi svbmete a maçã  à felação! https://t.co/U8edKlKfgr', 'Explique seu tt\\nnome: uma brincadeira q eu fiz com meu amg dps q eu comprei um xiaomi\\nuser: joon é apelido de junip… https://t.co/kzF0RczQe7', 'RT @PlebeusOciosos: Xiaomi svbmete a maçã  à felação! https://t.co/U8edKlKfgr', '@Xiaomi Boa noite querida @Xiaomi 😊', 'RT @PlebeusOciosos: Xiaomi svbmete a maçã  à felação! https://t.co/U8edKlKfgr', '@luidy30 @luqizilla queria ter um huawei, mas teve esses rolos com a google e eu dei uma broxada, mas to gostando d… https://t.co/7DHQgieEHY', 'RT @PlebeusOciosos: Xiaomi svbmete a maçã  à felação! https://t.co/U8edKlKfgr', '@driblei Se o seu celular for um xiaomi, já vem o app Instalado...fora isso, tem que ver a marca da sua tv e ir na… https://t.co/qj6JfLLpqq', 'RT @XiaomiBrasil: Você já encontra o Mi Note 10 em lojas selecionadas Vivo em SP! É a 1ª operadora a vender Xiaomi de forma oficial e, no d…', 'RT @XiaomiBrasil: Você já encontra o Mi Note 10 em lojas selecionadas Vivo em SP! É a 1ª operadora a vender Xiaomi de forma oficial e, no d…', 'RT @PlebeusOciosos: Xiaomi svbmete a maçã  à felação! https://t.co/U8edKlKfgr', '@Davif_p Por isso xiaomi é melhor, e a capa vem de brinde', 'A minha era de iPhone chegou ao fim. Olá xiaomi, seja bem vinda! @XiaomiBrasil', '@evrenslon testemunha de xiaomi', 'Perdi a chavezinha do meu Xiaomi :(']\n"
     ]
    }
   ],
   "source": [
    "print(tweet_list)"
   ]
  },
  {
   "cell_type": "markdown",
   "metadata": {},
   "source": [
    "## Coloca os tweets da lista em um arquivo .csv"
   ]
  },
  {
   "cell_type": "code",
   "execution_count": 15,
   "metadata": {},
   "outputs": [],
   "source": [
    "def cria_arquivo_csv(nome, lista):\n",
    "    arquivo = open(nome, 'w', encoding='utf-8')\n",
    "    \n",
    "    for pos_tweet in range(len(lista)):\n",
    "        arquivo.write('\"' + str(lista[pos_tweet]) + '\"')\n",
    "        arquivo.write('\\n')\n",
    "        \n",
    "    arquivo.close()"
   ]
  },
  {
   "cell_type": "code",
   "execution_count": 16,
   "metadata": {},
   "outputs": [],
   "source": [
    "cria_arquivo_csv('xiaomi_18-12-2019_3.csv', tweet_list)"
   ]
  },
  {
   "cell_type": "markdown",
   "metadata": {},
   "source": [
    "## Cria um data frame (depois dos dados extraidos)"
   ]
  },
  {
   "cell_type": "code",
   "execution_count": 17,
   "metadata": {},
   "outputs": [],
   "source": [
    "# Criando data frame\n",
    "df = pd.read_csv('classificado_xiaomi.csv', encoding='utf-8')"
   ]
  },
  {
   "cell_type": "code",
   "execution_count": 18,
   "metadata": {},
   "outputs": [
    {
     "data": {
      "text/html": [
       "<div>\n",
       "<style scoped>\n",
       "    .dataframe tbody tr th:only-of-type {\n",
       "        vertical-align: middle;\n",
       "    }\n",
       "\n",
       "    .dataframe tbody tr th {\n",
       "        vertical-align: top;\n",
       "    }\n",
       "\n",
       "    .dataframe thead th {\n",
       "        text-align: right;\n",
       "    }\n",
       "</style>\n",
       "<table border=\"1\" class=\"dataframe\">\n",
       "  <thead>\n",
       "    <tr style=\"text-align: right;\">\n",
       "      <th></th>\n",
       "      <th>tweets</th>\n",
       "      <th>classes</th>\n",
       "    </tr>\n",
       "  </thead>\n",
       "  <tbody>\n",
       "    <tr>\n",
       "      <td>0</td>\n",
       "      <td>Agr até eu quero um xiaomi</td>\n",
       "      <td>positivo</td>\n",
       "    </tr>\n",
       "    <tr>\n",
       "      <td>1</td>\n",
       "      <td>xiaomi= tudo pra mim. https://t.co/7lAvXTxa2J</td>\n",
       "      <td>positivo</td>\n",
       "    </tr>\n",
       "    <tr>\n",
       "      <td>2</td>\n",
       "      <td>RT @karnsteins: meu celular está 1 dia e 6 hor...</td>\n",
       "      <td>positivo</td>\n",
       "    </tr>\n",
       "    <tr>\n",
       "      <td>3</td>\n",
       "      <td>@Juliano_Fleck Se procura aplicativo usa o Sma...</td>\n",
       "      <td>positivo</td>\n",
       "    </tr>\n",
       "    <tr>\n",
       "      <td>4</td>\n",
       "      <td>@paginamemebro nn gosto da câmera do xiaomi</td>\n",
       "      <td>negativo</td>\n",
       "    </tr>\n",
       "  </tbody>\n",
       "</table>\n",
       "</div>"
      ],
      "text/plain": [
       "                                              tweets   classes\n",
       "0                         Agr até eu quero um xiaomi  positivo\n",
       "1      xiaomi= tudo pra mim. https://t.co/7lAvXTxa2J  positivo\n",
       "2  RT @karnsteins: meu celular está 1 dia e 6 hor...  positivo\n",
       "3  @Juliano_Fleck Se procura aplicativo usa o Sma...  positivo\n",
       "4        @paginamemebro nn gosto da câmera do xiaomi  negativo"
      ]
     },
     "execution_count": 18,
     "metadata": {},
     "output_type": "execute_result"
    }
   ],
   "source": [
    "df.head()"
   ]
  },
  {
   "cell_type": "code",
   "execution_count": 19,
   "metadata": {},
   "outputs": [
    {
     "data": {
      "text/plain": [
       "<matplotlib.axes._subplots.AxesSubplot at 0x1391d270>"
      ]
     },
     "execution_count": 19,
     "metadata": {},
     "output_type": "execute_result"
    },
    {
     "data": {
      "image/png": "[encoded data removed]",
      "text/plain": [
       "<Figure size 432x288 with 1 Axes>"
      ]
     },
     "metadata": {
      "needs_background": "light"
     },
     "output_type": "display_data"
    }
   ],
   "source": [
    "%matplotlib inline\n",
    "df.classes.value_counts().plot(kind='bar')"
   ]
  },
  {
   "cell_type": "code",
   "execution_count": 20,
   "metadata": {},
   "outputs": [
    {
     "data": {
      "text/plain": [
       "positivo    50\n",
       "neutro      28\n",
       "negativo    22\n",
       "Name: classes, dtype: int64"
      ]
     },
     "execution_count": 20,
     "metadata": {},
     "output_type": "execute_result"
    }
   ],
   "source": [
    "df.classes.value_counts()"
   ]
  },
  {
   "cell_type": "code",
   "execution_count": 21,
   "metadata": {},
   "outputs": [
    {
     "data": {
      "text/plain": [
       "100"
      ]
     },
     "execution_count": 21,
     "metadata": {},
     "output_type": "execute_result"
    }
   ],
   "source": [
    "df.tweets.count()"
   ]
  },
  {
   "cell_type": "markdown",
   "metadata": {},
   "source": [
    "## Remove os tweets duplicados"
   ]
  },
  {
   "cell_type": "code",
   "execution_count": 22,
   "metadata": {},
   "outputs": [],
   "source": [
    "df.drop_duplicates(inplace=True)"
   ]
  },
  {
   "cell_type": "code",
   "execution_count": 23,
   "metadata": {},
   "outputs": [
    {
     "data": {
      "text/plain": [
       "99"
      ]
     },
     "execution_count": 23,
     "metadata": {},
     "output_type": "execute_result"
    }
   ],
   "source": [
    "df.tweets.count()"
   ]
  },
  {
   "cell_type": "code",
   "execution_count": 24,
   "metadata": {},
   "outputs": [],
   "source": [
    "tweets = df['tweets']\n",
    "classes = df['classes']"
   ]
  },
  {
   "cell_type": "code",
   "execution_count": 25,
   "metadata": {},
   "outputs": [
    {
     "name": "stdout",
     "output_type": "stream",
     "text": [
      "99\n",
      "99\n"
     ]
    }
   ],
   "source": [
    "print(len(tweets))\n",
    "print(len(classes))"
   ]
  },
  {
   "cell_type": "markdown",
   "metadata": {},
   "source": [
    "## Limpeza dos dados"
   ]
  },
  {
   "cell_type": "code",
   "execution_count": 26,
   "metadata": {},
   "outputs": [
    {
     "name": "stderr",
     "output_type": "stream",
     "text": [
      "[nltk_data] Downloading package stopwords to\n",
      "[nltk_data]     C:\\Users\\MaluF\\AppData\\Roaming\\nltk_data...\n",
      "[nltk_data]   Package stopwords is already up-to-date!\n",
      "[nltk_data] Downloading package rslp to\n",
      "[nltk_data]     C:\\Users\\MaluF\\AppData\\Roaming\\nltk_data...\n",
      "[nltk_data]   Package rslp is already up-to-date!\n",
      "[nltk_data] Downloading package punkt to\n",
      "[nltk_data]     C:\\Users\\MaluF\\AppData\\Roaming\\nltk_data...\n",
      "[nltk_data]   Package punkt is already up-to-date!\n",
      "[nltk_data] Downloading package wordnet to\n",
      "[nltk_data]     C:\\Users\\MaluF\\AppData\\Roaming\\nltk_data...\n",
      "[nltk_data]   Package wordnet is already up-to-date!\n"
     ]
    },
    {
     "data": {
      "text/plain": [
       "True"
      ]
     },
     "execution_count": 26,
     "metadata": {},
     "output_type": "execute_result"
    }
   ],
   "source": [
    "# Para limpeza dos dados\n",
    "import nltk\n",
    "nltk.download('stopwords')\n",
    "nltk.download('rslp')\n",
    "nltk.download('punkt')\n",
    "nltk.download('wordnet')"
   ]
  },
  {
   "cell_type": "code",
   "execution_count": 27,
   "metadata": {},
   "outputs": [
    {
     "name": "stdout",
     "output_type": "stream",
     "text": [
      "{'ele', 'teria', 'houvera', 'a', 'por', 'suas', 'esses', 'tivermos', 'tem', 'deles', 'mesmo', 'não', 'houverão', 'do', 'houveria', 'mas', 'de', 'tua', 'minha', 'hajam', 'houvessem', 'os', 'elas', 'este', 'aquelas', 'estivesse', 'foram', 'dos', 'tuas', 'estávamos', 'tiver', 'numa', 'esta', 'sejamos', 'como', 'teu', 'forem', 'será', 'essa', 'dele', 'nossas', 'foi', 'temos', 'tinha', 'houveremos', 'fui', 'terei', 'o', 'só', 'sejam', 'eles', 'estive', 'seja', 'seria', 'estão', 'meus', 'há', 'sou', 'houverá', 'lhes', 'pelas', 'esteja', 'estivera', 'da', 'essas', 'sua', 'é', 'houver', 'terá', 'dela', 'com', 'são', 'para', 'quem', 'me', 'das', 'tu', 'estiverem', 'serei', 'seriam', 'houvéramos', 'serão', 'no', 'for', 'delas', 'se', 'seremos', 'seríamos', 'esse', 'fomos', 'em', 'ela', 'houverei', 'qual', 'tiverem', 'estavam', 'fora', 'tivemos', 'estivermos', 'esteve', 'aos', 'houve', 'hajamos', 'ou', 'hei', 'nós', 'tém', 'nem', 'vos', 'e', 'você', 'tenham', 'teríamos', 'houvéssemos', 'às', 'já', 'formos', 'um', 'somos', 'isto', 'estejam', 'tivéramos', 'houveríamos', 'à', 'pela', 'aquela', 'até', 'houvermos', 'na', 'pelo', 'tínhamos', 'te', 'estivessem', 'tivéssemos', 'era', 'estou', 'haja', 'teus', 'pelos', 'seu', 'aquele', 'fôssemos', 'nos', 'está', 'ao', 'tenho', 'também', 'fossem', 'tivera', 'tive', 'estamos', 'houvemos', 'aqueles', 'as', 'num', 'estivemos', 'fôramos', 'que', 'houveram', 'aquilo', 'tinham', 'uma', 'entre', 'minhas', 'estejamos', 'tivessem', 'teriam', 'houvesse', 'meu', 'vocês', 'nossos', 'estes', 'hão', 'estivéssemos', 'nosso', 'estiveram', 'fosse', 'lhe', 'estava', 'havemos', 'sem', 'teremos', 'estas', 'nas', 'mais', 'eu', 'quando', 'tiveram', 'tivesse', 'muito', 'eram', 'depois', 'houveriam', 'éramos', 'tenhamos', 'nossa', 'estivéramos', 'isso', 'tenha', 'seus', 'teve', 'terão', 'estiver', 'houverem'}\n"
     ]
    }
   ],
   "source": [
    "stopwords = set(nltk.corpus.stopwords.words('portuguese'))\n",
    "print(stopwords)"
   ]
  },
  {
   "cell_type": "code",
   "execution_count": 28,
   "metadata": {},
   "outputs": [],
   "source": [
    "def Preprocessing(instancia):\n",
    "    stemmer = nltk.stem.RSLPStemmer()\n",
    "    instancia = re.sub(r\"http\\S+\", \"\", instancia).lower().replace('.','').replace(',','').replace(';','').replace('-','').replace(':','').replace(')','')\n",
    "    stopwords = set(nltk.corpus.stopwords.words('portuguese'))\n",
    "    stopwords.remove('não')\n",
    "    palavras = [stemmer.stem(i) for i in instancia.split() if not i in stopwords]\n",
    "    return (\" \".join(palavras))"
   ]
  },
  {
   "cell_type": "code",
   "execution_count": 29,
   "metadata": {},
   "outputs": [],
   "source": [
    "testes = [Preprocessing(i) for i in tweets]"
   ]
  },
  {
   "cell_type": "markdown",
   "metadata": {},
   "source": [
    "## Vetorização - Bag of words"
   ]
  },
  {
   "cell_type": "code",
   "execution_count": 32,
   "metadata": {},
   "outputs": [],
   "source": [
    "# Instancia o objeto que faz a vectorização\n",
    "#vectorizer = CountVectorizer(analyzer=\"word\", tokenizer=tweet_tokenizer.tokenize) # Não ajudou\n",
    "vectorizer = CountVectorizer(analyzer=\"word\")"
   ]
  },
  {
   "cell_type": "code",
   "execution_count": 33,
   "metadata": {},
   "outputs": [
    {
     "data": {
      "text/plain": [
       "scipy.sparse.csr.csr_matrix"
      ]
     },
     "execution_count": 33,
     "metadata": {},
     "output_type": "execute_result"
    }
   ],
   "source": [
    "# Aplica o vetorizador nos dados\n",
    "# Ajuste o modelo SVM de acordo com os dados de treinamento fornecidos.\n",
    "freq_tweets = vectorizer.fit_transform(testes)\n",
    "type(freq_tweets)"
   ]
  },
  {
   "cell_type": "code",
   "execution_count": 34,
   "metadata": {},
   "outputs": [
    {
     "name": "stdout",
     "output_type": "stream",
     "text": [
      "99\n"
     ]
    }
   ],
   "source": [
    "print(len(testes))"
   ]
  },
  {
   "cell_type": "code",
   "execution_count": 35,
   "metadata": {},
   "outputs": [
    {
     "data": {
      "text/plain": [
       "(99, 405)"
      ]
     },
     "execution_count": 35,
     "metadata": {},
     "output_type": "execute_result"
    }
   ],
   "source": [
    "# Formato linha, coluna da matriz\n",
    "freq_tweets.shape"
   ]
  },
  {
   "cell_type": "markdown",
   "metadata": {},
   "source": [
    "## Treinando o modelo"
   ]
  },
  {
   "cell_type": "code",
   "execution_count": 36,
   "metadata": {},
   "outputs": [],
   "source": [
    "modelo = svm.SVC(kernel='linear')"
   ]
  },
  {
   "cell_type": "code",
   "execution_count": 37,
   "metadata": {},
   "outputs": [
    {
     "data": {
      "text/plain": [
       "SVC(C=1.0, cache_size=200, class_weight=None, coef0=0.0,\n",
       "    decision_function_shape='ovr', degree=3, gamma='auto_deprecated',\n",
       "    kernel='linear', max_iter=-1, probability=False, random_state=None,\n",
       "    shrinking=True, tol=0.001, verbose=False)"
      ]
     },
     "execution_count": 37,
     "metadata": {},
     "output_type": "execute_result"
    }
   ],
   "source": [
    "modelo.fit(freq_tweets,classes)\n",
    "#passando os tweets vetorizados (x, y) e as classes\n",
    "#mostrando pro modelo como ele aprender como ele representa os sentimentos"
   ]
  },
  {
   "cell_type": "markdown",
   "metadata": {},
   "source": [
    "## Para execução de 1000 tweets"
   ]
  },
  {
   "cell_type": "code",
   "execution_count": 38,
   "metadata": {},
   "outputs": [],
   "source": [
    "# Criando data frame\n",
    "df_execucao = pd.read_csv('xiaomi_1000.csv', encoding='utf-8')"
   ]
  },
  {
   "cell_type": "code",
   "execution_count": 39,
   "metadata": {},
   "outputs": [
    {
     "data": {
      "text/html": [
       "<div>\n",
       "<style scoped>\n",
       "    .dataframe tbody tr th:only-of-type {\n",
       "        vertical-align: middle;\n",
       "    }\n",
       "\n",
       "    .dataframe tbody tr th {\n",
       "        vertical-align: top;\n",
       "    }\n",
       "\n",
       "    .dataframe thead th {\n",
       "        text-align: right;\n",
       "    }\n",
       "</style>\n",
       "<table border=\"1\" class=\"dataframe\">\n",
       "  <thead>\n",
       "    <tr style=\"text-align: right;\">\n",
       "      <th></th>\n",
       "      <th>tweets</th>\n",
       "    </tr>\n",
       "  </thead>\n",
       "  <tbody>\n",
       "    <tr>\n",
       "      <td>0</td>\n",
       "      <td>Xiaomi torna-se a quarta maior fabricante mund...</td>\n",
       "    </tr>\n",
       "    <tr>\n",
       "      <td>1</td>\n",
       "      <td>espero que o xi jinping curta receber as fotos...</td>\n",
       "    </tr>\n",
       "    <tr>\n",
       "      <td>2</td>\n",
       "      <td>QUERO MEU XIAOMI PORRAAAAAAAAAAAAAAAAAAAAAAAAA...</td>\n",
       "    </tr>\n",
       "    <tr>\n",
       "      <td>3</td>\n",
       "      <td>O meu pai esta consumido pela força xiaomi, at...</td>\n",
       "    </tr>\n",
       "    <tr>\n",
       "      <td>4</td>\n",
       "      <td>sigo apaixonada pelo meu xiaomi ♥️</td>\n",
       "    </tr>\n",
       "  </tbody>\n",
       "</table>\n",
       "</div>"
      ],
      "text/plain": [
       "                                              tweets\n",
       "0  Xiaomi torna-se a quarta maior fabricante mund...\n",
       "1  espero que o xi jinping curta receber as fotos...\n",
       "2  QUERO MEU XIAOMI PORRAAAAAAAAAAAAAAAAAAAAAAAAA...\n",
       "3  O meu pai esta consumido pela força xiaomi, at...\n",
       "4                 sigo apaixonada pelo meu xiaomi ♥️"
      ]
     },
     "execution_count": 39,
     "metadata": {},
     "output_type": "execute_result"
    }
   ],
   "source": [
    "df_execucao.head()"
   ]
  },
  {
   "cell_type": "code",
   "execution_count": 40,
   "metadata": {},
   "outputs": [
    {
     "data": {
      "text/plain": [
       "1000"
      ]
     },
     "execution_count": 40,
     "metadata": {},
     "output_type": "execute_result"
    }
   ],
   "source": [
    "df_execucao.tweets.count()"
   ]
  },
  {
   "cell_type": "code",
   "execution_count": 41,
   "metadata": {},
   "outputs": [],
   "source": [
    "df_execucao.drop_duplicates(inplace=True)"
   ]
  },
  {
   "cell_type": "code",
   "execution_count": 42,
   "metadata": {},
   "outputs": [
    {
     "data": {
      "text/plain": [
       "820"
      ]
     },
     "execution_count": 42,
     "metadata": {},
     "output_type": "execute_result"
    }
   ],
   "source": [
    "df_execucao.tweets.count()"
   ]
  },
  {
   "cell_type": "code",
   "execution_count": 43,
   "metadata": {},
   "outputs": [],
   "source": [
    "tweets_execucao = df_execucao['tweets']"
   ]
  },
  {
   "cell_type": "code",
   "execution_count": 44,
   "metadata": {},
   "outputs": [],
   "source": [
    "tweets_execucao = [Preprocessing(i) for i in tweets_execucao]"
   ]
  },
  {
   "cell_type": "code",
   "execution_count": 45,
   "metadata": {},
   "outputs": [],
   "source": [
    "freq_testes_2 = vectorizer.transform(tweets_execucao)"
   ]
  },
  {
   "cell_type": "code",
   "execution_count": 46,
   "metadata": {
    "scrolled": true
   },
   "outputs": [
    {
     "data": {
      "text/plain": [
       "(820, 405)"
      ]
     },
     "execution_count": 46,
     "metadata": {},
     "output_type": "execute_result"
    }
   ],
   "source": [
    "freq_testes_2.shape"
   ]
  },
  {
   "cell_type": "code",
   "execution_count": 47,
   "metadata": {},
   "outputs": [
    {
     "name": "stdout",
     "output_type": "stream",
     "text": [
      "xiaom tornas quart mai fabric mund, positivo\n",
      "esper xi jinping curt receb fot tô tir bol xiaom tip, positivo\n",
      "quer xiaom porraaaaaaaaaaaaaaaaaaaaaaaaaaaaaaaaaaaaaaaaaaaaaaaaa, positivo\n",
      "pai consum forç xiaom relógi compr, neutro\n",
      "sig apaixon xiaom ♥️, positivo\n",
      "xiaom irma pra jog fortnight vo ped pra baix, negativo\n",
      "us adapt fon merd xiaom pq mat fon tip c, positivo\n",
      "bel agr ja to pens peg xiaom, positivo\n",
      "@faiglesil xiaom mig aqu topiss d+, positivo\n",
      "além n ter compr xiaom faz us messeng pra fl cm, positivo\n",
      "webnamor xiaom yeezy outr cachorr abdômen defin yeezy ach q, positivo\n",
      "rt @tec_mund nov celul subsidiár xiaom começ ser vend chin part 12 dezembro!, positivo\n",
      "pra inimig amig cham xiaom chernobyl, positivo\n",
      "venh divert comig &gt 🎮 vem pra liv xiaom mi 9 🎮 #bigoliv, positivo\n",
      "quer compr xiaom preç sub absurd, positivo\n",
      "@victorya41 iphon melhor troc kkkk peg xiaom decepticon kkkkkkkkkkk, negativo\n",
      "xiaom cust r$499900 brasil!!!! parabém pra gent né?, positivo\n",
      "@face_acab animal fez xiaom trav ? kkkkkkk fic entup viru q ferr, positivo\n",
      "4ª vez telefon problem tá lev dinh emb xiaom to chegando!!, positivo\n",
      "@felipeting pelicul 3d pra xiaom redm not 7 boanoit obrig, positivo\n",
      "prim 3 hor xiaom poss diz celul caralho!, positivo\n",
      "@aline_regin4 xiaom vai ver bols feliz, neutro\n",
      "rt @beppu_fiel cheir pneu queim carbur fur xiaom compr 👍👍👍👍👍, neutro\n",
      "imag xiaom maravilh car tô noj celul aaa, positivo\n",
      "não sei tret val lembr xiaom bot iphon pra mam, negativo\n",
      "iphon amo xiaom perfeit deeeeemaaa, negativo\n",
      "caralh tir celul carreg 7 am lig rote pra prim vár hor aind tô com…, positivo\n",
      "@mmissiagg @bru_schaef xiaomi? marc faz milagr, neutro\n",
      "alguém avis pra pov xiaom deix marc d'águ fot podr demal, negativo\n",
      "@guias12 chut comb mi band fon xiaom, positivo\n",
      "statu ganh xiaom redm 6a jbl tun 500 gift card googl play prêmi particip rod d…, positivo\n",
      "to vend xiaom mi band 2 interess cham mand fot ta nov poi nunc fit pra us, positivo\n",
      "@bfrleoza vo ter q compr xiaomi???, neutro\n",
      "próx invest vai ser garraf térm xiaom, positivo\n",
      "@henninghiag @thiagozac xiaom futur, positivo\n",
      "xiaom merd kkkkkkkk compr fon relógi celul agr tô esper outr cois cheg, positivo\n",
      "rt @chrisale_ gal appl real ganh xiaom nao faz ral queij, positivo\n",
      "boa noit pra aqu fal xiaom 🤭🥰, neutro\n",
      "troq iphon xiaom, negativo\n",
      "@freefirebr jaquet fei porr não quer aind bem xiaom, positivo\n",
      "trist pq to sent tom prejuíz compr xiaom porr 2 mes ta dand vári problemas…, positivo\n",
      "gal appl real ganh xiaom nao faz ral queij, positivo\n",
      "@arielcrvg_ @raffsousa10 @joaotavaresrj cred não quer igualdad não quer xiaom pront, positivo\n",
      "sim eh vdd xiaom acab prov desempenh vir agor transform pass cha pra mim, positivo\n",
      "vir testemunh xiaom, positivo\n",
      "rt @smythsz pesso ouv melhor xiaom bot appl mam, positivo\n",
      "quer cart crédit mim compr xiaom 9 kkkkkk, positivo\n",
      "rt @felippetek redm k30 (mi10t ja cheg 😲 #mi10t #k30 #redmik30 #redmik305g #redmik30pr #xiaom #redm #youtub 🎥, positivo\n",
      "vo vend fon fio xiaom metad preç use vez, neutro\n",
      "@luffyheart vc eh vergonh xiaom stan, positivo\n",
      "@matheusroos olá karynn ped pra fal sobr xiaom cham dm favor, neutro\n",
      "nov celul subsidiár xiaom começ ser vend chin part 12 dezembro! #tecmund, positivo\n",
      "patrocin botafog @xiaom, positivo\n",
      "quant produt precis ter pra ser xiaom fã?, positivo\n",
      "cheg xiaom crack pra cobr preç, positivo\n",
      "melhor fornec amarr produt xiaom relógi celul melhor qual vem…, positivo\n",
      "rt @face_acab gal xiaom fic put, positivo\n",
      "fic perturb mãe pra compr xiaom fic put comig jxnxnxndnnxnd, positivo\n",
      "@cristovaool traz xiaom porr, positivo\n",
      "@bigodon @xiaom ador not, positivo\n",
      "@reyier testemunh xiaom, positivo\n",
      "mei ingl ouv testemunh xiaom compr telefon olx not barat, neutro\n",
      "rt @pxdro1909 @dududiascoelh @danvitu @netokjj cart ta dand invál tent compr xiaom 😔, neutro\n",
      "rt @olhardigit xiaom tornas quart mai fabric mund, positivo\n",
      "@abnercicatriz aí xiaom pra aguent, positivo\n",
      "realiz vontad bott faz hamilton (alguém sab tir bord pret grav…, neutro\n",
      "xiaom lanç celul 5 câm kkkkkkkkk, neutro\n",
      "@beniciuszz ta tir q ta duvid iphon xiaom né xiaom met 10 0 ness porr, negativo\n",
      "@rumoal ganh xiaom 9t vir hom brinde? má fodendo!, positivo\n",
      "nov testemunh xiaom, neutro\n",
      "@rainhadasondasz xiaom ganh tel infinit doi lad, positivo\n",
      "tri hoj fal sobr prim smartphon 5g merc xiaom k30 coment sobr tr…, neutro\n",
      "descobr xiaom balanç qu func mi band nov sonh, positivo\n",
      "@deonvid @xiaom pass limit, positivo\n",
      "@fefeffc dedic tod salári xiaom, positivo\n",
      "@uol ness val xiaom nunc merc aqu car car iphon continu domin, negativo\n",
      "@lusca008 q xiaom marc celul fez carr faz sent, positivo\n",
      "kkkkkkkkkkkkkkkkkkkk ps xiaom não problem, negativo\n",
      "gent séri tav fom xiaom fez jant, neutro\n",
      "@becapc pq xiaom mi 9t ia cheg port fal agora! coisa! rsrsr, neutro\n",
      "aaa acredit xiaom chegou🥰🥰, neutro\n",
      "@vanslisbo aí tod verd retrat testemunh xiaom tb tô quer miband, positivo\n",
      "parent fic ench porr sac 'quer telefon bom barato' aí fal pra compr xiaom e…, positivo\n",
      "@cacaioalbert que preç tel xiaom msm celul, positivo\n",
      "feit agor b*tch xiaom, positivo\n",
      "@gasantosb xiaom não celul, negativo\n",
      "iphon xiaom ei quest 🤔, negativo\n",
      "ser q gast dinh q ia us pra faz tatu castel compr fon fio xiaomi?pens…, neutro\n",
      "@luisfelipem @recemkardashian tir diss sobr bat vici rest veríd não dá pra ap…, negativo\n",
      "@darlangodat compr xiaom nunc descarreg, neutro\n",
      "rt @botbissex bissexual testemunh xiaom, positivo\n",
      "'xiaom melhor metad preço' mi not 10 intermedi 'cinco' câm (na vdd 4 p30 pro…, positivo\n",
      "@dakrminaj compr xiaom vc não vai arrepend, negativo\n",
      "an neném dess promoçã pra pod começ espalh palavr xiaom, negativo\n",
      "redmibook 13 nov notebook xiaom intel cor 10ª ger », neutro\n",
      "@singoolarity @screwy0uguy recomend xiaom mot g7 plu pra recent crei saib melhor x cois, positivo\n",
      "@babygaybo usu xiaom não problem, negativo\n",
      "@heaneestev @rod_murilo convert pra xiaom vc fal cmg, negativo\n",
      "@12012019km @freefirebr @samsungbrasil compr xiaom doid kkkkk, positivo\n",
      "prim tweet via xiaom quer diz aqu descobr motiv celul cheg caminh estava…, positivo\n",
      "minut ouv sobr nov model xiaomi?, neutro\n",
      "@tacitamente_ xiaom super samsung próx troc consult, positivo\n",
      "testemunh xiaom agor, positivo\n",
      "agor tim xiaom taokey vam ajud soci chin kkkkkkkm, positivo\n",
      "@isadorabasil aparent agor sim, neutro\n",
      "troc luan clayson troc iphon xiaom, negativo\n",
      "@notsailorcai aqu não aqu tecnolog xiaom 🤪, negativo\n",
      "don post perd temp baix viru music torrent pro xiaom delekkkkkkkkk, positivo\n",
      "agor ouv pagod contat pag xiaom, positivo\n",
      "@itsmiguelh @seculok xiaom mi 9 melhor q iphon x não sei 11 xiaom not 10 avaliad…, negativo\n",
      "torn q tem defen xiaom bom msm merd, positivo\n",
      "xiaomiqu lanç caix som inteligenteoutr produt marc list compr burgu saf, neutro\n",
      "redm airdot celul não xiaom não real apoi cen, negativo\n",
      "rt @samuelaugustoo pq xiaom n xaimulher? sociedad mach 😱🍃👊😰, positivo\n",
      "não dá pol lanç pra tod disposi xiaom inclusiv mi band, negativo\n",
      "@andrenazeved ah pq xiaom, positivo\n",
      "@gabyferrazz__ agor xiaom kkkkkkk, positivo\n",
      "cont vir testemunh xiaom 🤪, positivo\n",
      "ei dúv compr xiaom iphon 8, negativo\n",
      "xiaom tipokkkkklçs~, positivo\n",
      "dê xiaom pra ome, positivo\n",
      "@murilo70022126 compr xiaom não acontec, negativo\n",
      "@brun4t @itsrickba @spira666 crl vdd ne vo lanç vak p dar outr xiaom, positivo\n",
      "alguém aqu ness sit xiaomi?, neutro\n",
      "vey não vej hor xiaom lanç mi10, negativo\n",
      "real pens troc celul xiaom, positivo\n",
      "@ihadtog @itsrickba @spira666 kkkkkkkkkkkk pen q n usu xiaom q assalt, positivo\n",
      "ptbr preç absurd xiaom brasil entend saib porquê! via @youtub, negativo\n",
      "@itsrickba @spira666 faz @brun4t xiaom am deu vou salv papel pared, positivo\n",
      "@tonhocampos_ amig ach xiaom 110 americ celul aind tá bom queri…, positivo\n",
      "@willifeath pq dp vc compr xiaom fic tão chat pesquis, positivo\n",
      "man precis dum help vc manj android xiaom am deu, positivo\n",
      "tom corag compr xiaom boa não arrep, neutro\n",
      "melhor aquis ano pow bank xiaom, positivo\n",
      "@lucasprieb @manda_figu dind iphon 8 troc últ xiaom agor n reclam do…, negativo\n",
      "xiaom 😍, positivo\n",
      "pod ter xiaom iphon etc vc não whatsapp não adiant nad bb, negativo\n",
      "troq iphon xiaom não recom kkkk, negativo\n",
      "rt @tecnoblog redmibook 13 nov notebook xiaom intel cor 10ª ger, neutro\n",
      "eduard compr celul xiaom aí tud ok não fat cinc cinc minut me…, positivo\n",
      "@manda_figu @lucasprieb xiaom merd, positivo\n",
      "to vend xiaom redm not 7 64gb 4 gb ram 6 mes uso carreg orig 600r$, positivo\n",
      "rt @shakira_brasil 🚨 promoç 🚨 solt shak dentr concorr fon ouv xiaom redm airdot bluetooth ht…, positivo\n",
      "quer troc iphon xiaom não sei era, negativo\n",
      "torn tem testemunh xiaom, positivo\n",
      "bissexual testemunh xiaom, positivo\n",
      "tô jant q usu xiaom prim, positivo\n",
      "moç vend xiaom gentil gent ce não noç vei traz celul ond estava…, negativo\n",
      "@vulgoccam @sweetllttlebaby kkkkkkkkkkkkkkk não consig imagin alguém troc iphon 8 xiaom cad cad, negativo\n",
      "@rollemberg @sweetllttlebaby use iphon 8 tbm prim vez q xiaom roub opin continu mesm, negativo\n",
      "@mathmeira_ ei hamig amo sent trist fic mud câm transform xiaom lembrando…, negativo\n",
      "merd tod dia preç xiaom mud, positivo\n",
      "@mendeshatak cheg testemunh xiaom, positivo\n",
      "@_tatar fio pequen xiaom pra celul acab vend tip arc supress ruíd ext…, positivo\n",
      "@daizecomz ter xiaom nao padra desculp sjkskskk, positivo\n",
      "@laportexx kkk não vai demor xiaom lanç aí vam ver kkk, neutro\n",
      "#banggood ⌚xiaom mi band 4 (vers int ⌚ apen r$10592 cupom bgm4xm 👉link ❗❗…, positivo\n",
      "xiaom lanç k30 vers top linh cust pouc cois q atual compr so…, positivo\n",
      "@o__hyp sei resolver! tit xiaom não deix mão venh comigo!, negativo\n",
      "@johnnykatayam iaheiaeihaeiha pô guerreiro! quart lev jog pra mostr situ co…, neutro\n",
      "peg xiaom android pur agor tô sent falt otimiz miu além econom bat lind…, positivo\n",
      "minh irmã xiaomin reclam bat xiaom, positivo\n",
      "@omatch gal usa s10+ viu xiaom guerr não deix mão jamais!! kkkkkkkk, negativo\n",
      "@ssbianca_ xiaom n vai acontec, neutro\n",
      "quã padrã é? olh ✅ barrig ✅ dent tbm ✅ fal pes normal✅ tem…, neutro\n",
      "ih gent entr igrej xiaom, neutro\n",
      "@ricardopip belicism fot ser xiaomi!!!, neutro\n",
      "porr xiaom câm mixuruc, negativo\n",
      "xiaom bom n começ xiiiiiiii, positivo\n",
      "@femmefwtall proc alguém xiaom control remot, positivo\n",
      "@math_smont xiaom bom n começ xiiiiiii, positivo\n",
      "obrig @xiaom últ atual miu agor jog cod respond lív temp 😍, positivo\n",
      "xiaom escolh am, positivo\n",
      "planej viag imagin hor estr redm airdot by xiaom ouv músic boa já…, neutro\n",
      "@waskcc xiaom bot qualqu celul pra mam, positivo\n",
      "xiaom carreg rapid bat dur uma 26 hor comig man céu, positivo\n",
      "mãe tá ench sac quer #xiaom 🤣🤣🤣🤣, positivo\n",
      "@thmeell vc eh menin propagand xiaom jesu, positivo\n",
      "@theallysson krlq celul esse???? xiaomi? fodas fodas falaw, negativo\n",
      "quã padrã é? olh clar ❌ barrig chap ❌ dent alinh ❌ nunc critic pe…, neutro\n",
      "@dromos999 @belaferreirap @mekitoj @algumasart ?????????????????????????????? fal nov car vo azazin xiaom, neutro\n",
      "rt @miihgomesd celul q dem 1 hor pra carreg 20 pra descarreg testemunh xiaom, positivo\n",
      "@591yx não uso xiaom iphon pra mim péss med perd carreg, negativo\n",
      "rt @renjunancap jeno amo chenl oque?? 😳🥰 jen xiaom redm not 7 cam tras 48mpx vom 128gb memor intern tel ip f…, neutro\n",
      "gost fing ach xiaom ruim pra ver xiaomi’ lov surt apont vári argument, positivo\n",
      "#xiaom lanç prim rote smart marc redm preç considera acess, neutro\n",
      "vontad compr xiaom, neutro\n",
      "@whahappenliz xiaom né? fal bem to pens compr, neutro\n",
      "@lustbianc engraç imag não carreg direit porqu cad pixel 1tb put gostos xiaom pr…, positivo\n",
      "@lucasvinicii @fatosex vou destru usu xiaom, neutro\n",
      "compr xiaom iphon 11 pro max ???, negativo\n",
      "@sorrisofaix men xiaom monstr, positivo\n",
      "@ @jornaloglob @endrinhoxd vai lá render anim 1h30 8k simul partícul quân no…, neutro\n",
      "fon xiaom bom pqp, positivo\n",
      "alguém ach carreg xiaom presid varg praç xv favor devolv nunc vai…, positivo\n",
      "fiz alg imposs trav xiaom, positivo\n",
      "@joseesoj010701 to deix xiaom pra vc dar, positivo\n",
      "@matheuscrvg02 tô esper cheg celul + puls intelig xiaom kkkkkk, positivo\n",
      "troq appl xiaom faz pouc ano doi mes atrás não reclam porém faz…, positivo\n",
      "celul merd pra tir fot noit tô vend xiaom cleb vai rod dia 19 rsr, positivo\n",
      "ent anj q 📸📷fot tir xiaom n7 app gcam/ câm nativa📷📸, positivo\n",
      "rt @luid mac pro configur máx r$ 450 mil real xiaom pluspant fast syst r$ 50 real + punhet vend qu…, positivo\n",
      "serás xiaom bom, positivo\n",
      "rt @minutotechbr fore x xiaom infac compar sinc, positivo\n",
      "precis troc celul nov vontad real compr pra lig sm sei vou sofr d…, neutro\n",
      "rt @drade0 guriz compr xiaom ta loc bom demal vai fud ant clic ja entr pq radi entr cerebro…, neutro\n",
      "tá aí prov xiaom melhor appl, positivo\n",
      "mund tá tão doid social iphon capit xiaom, negativo\n",
      "celul nov cheg lind aparent vir testemunh xiaom sim, neutro\n",
      "@djoliveirasc aí man não engan xiaom sistem rastrei olh internet tutor us, negativo\n",
      "esquec diz quer celul mot one vision xiaom, positivo\n",
      "quer fal agor testemunh xiaom, positivo\n",
      "tô olh ness xiaom mi not 10 espec bat tel penah q vai cheg olh car aqu brasil, neutro\n",
      "pens ser compr xiaom, positivo\n",
      "rt @leoadomangue87 convert agor testemunh xiaom junt @heidermartins91, positivo\n",
      "olh preç xiaom mi not 10 vai cheg brasil esper q cust um 2000 mil rea…, neutro\n",
      "vai fud pai qu dar xiaom sério? dinh pra compr iat pra iphon pro…, negativo\n",
      "convert agor testemunh xiaom junt @heidermartins91, positivo\n",
      "aparelh cont cinc câm send 108mp saib sobr celul /…, neutro\n",
      "vou compr fon bluetooth xiaom fodac, neutro\n",
      "gent amo tant xiaom 😍😍😍, neutro\n",
      "@spfodac vai xiaom qqr bo vend peg iphon kkkkkkkkkkkkkkkk, negativo\n",
      "oq comb xiaom + lightroom + vsc não faz ne consagr kkkkk acord n assim não!!!!, negativo\n",
      "@ste_eliz tô olh val tbm xiaom consig peg vist buen agor iphon teria…, positivo\n",
      "@sadbrum @xiaom vi tant review ant compr olh kkk não decepcion, negativo\n",
      "to mt obcec olh perfil instagr defend xiaom, positivo\n",
      "rt @luid exempl agor estúdi pix tá tod mund us xiaom pra render anim, positivo\n",
      "fore x xiaom infac compar sinc, positivo\n",
      "xiaom ja ta começ uma zik, positivo\n",
      "@lemonhazard venh incr mund xiaom amig, positivo\n",
      "mãe deu xiaom pres ter pass 😍😍🥰 real amo mulh, negativo\n",
      "@aventuras_j problema? xia = tchau omi = hom xiaom = piroc não pass, negativo\n",
      "pouc decepcion redm not 6 xiaom porqu decepcion amo tant, neutro\n",
      "xiaom nad faz barulh notific barulh nunc use (est silenci vou…, neutro\n",
      "@ludogu xiaom pra bot appl pra mam aqu, positivo\n",
      "jeit gal abandon sempr pocophon né?, neutro\n",
      "@nath4nleon fal pra compr xiaom né, neutro\n",
      "testemunh xiaom descobr funç mostr tant temp gast app aind mais…, positivo\n",
      "miyazak vai faz koj xiaom fez appl bot mam, positivo\n",
      "@drimns @otrouxamesm aconselh amig aí cim vai xiaom som honest preç just, neutro\n",
      "ouv 'custobenefício' ach testemunh xiaom, positivo\n",
      "quer peg xiaom preç q táo jeit vai ser peg barat msm, positivo\n",
      "@calmacarol ganh xiaom, positivo\n",
      "@samuraixod to cabr compr qq acessóri xiaom, positivo\n",
      "fiz melhor amig vir testemunh xiaom kkkkk pag pau dm pra celul, positivo\n",
      "câm front xiaom porc tô entup esp fot q tir n aparec nenhum, positivo\n",
      "pra glorific pé irm convert graç intercess kkkkkkkk #testemunhadexiaom #xiaom, positivo\n",
      "gost atenç começ start up precis 6m real invest tratas ca…, neutro\n",
      "@jadsvit quer compr relógi quer applewatch por car pra carambaqu sab xiaom bom kkk, positivo\n",
      "@eldergm_ @disposabl xiaom outr lad dev vend, positivo\n",
      "rt @suhomoomo retrospec mod twitt 2019 fal mal ros gell ganh pat sco pa mana bomboclaat …, neutro\n",
      "carreg celul ont manhã to bat ate hj!! radioat ta ai bat durado tbm! thx xiaom, positivo\n",
      "@lauaqueiroz @euperdendotemp aind ganh concurs melhor fot reflex tá tend comunidad x…, positivo\n",
      "quer xiaom volt, positivo\n",
      "@vulgo_emiele xiaom bom, positivo\n",
      "compr iphon tô irrit câm xiaom pouc, negativo\n",
      "@leoisaway nunc vou compr xiaomi!!!, neutro\n",
      "@letspfvr @andressacaeta18 compr xiaom not pro 8 tô gost mto nenhum celul vai ter câm iphon…, negativo\n",
      "xiaom comun form interess usu, positivo\n",
      "cabel jungkook tá car xiaom, positivo\n",
      "descobr q testemunh xiaom, positivo\n",
      "irm dermatit xiaom agor transvers, positivo\n",
      "ofert relâmpag #banggood (2 1 cab micr usb typec 3a blitzwolf bwmt3 (3ft/91cm r$ 1299 (usd $299 o…, neutro\n",
      "rt @carlosgusttavo_ oss man compr xiaom faz 3 mes n use carreg aind bat bot appl pra mam, positivo\n",
      "'tenh xiaom faz pos giovanne' fotogên, positivo\n",
      "ah col ia compr xiaom madr vem agor samsung a20, neutro\n",
      "algum pesso cnv comig fal xiaom apresent problem celul ai penso…, neutro\n",
      "@drunkenlett compr xiaom bom preç mta memór heh, neutro\n",
      "@suitupimport inúmer problem sistem correi cheg compr relógi xiaom ago…, neutro\n",
      "q xiaom bom mesmo?, positivo\n",
      "alguém dá xiaom, negativo\n",
      "@enaulandlion sim 1700 pra xiaom aind ach car not 8 tá saind faix 1000 7 tá um 900, negativo\n",
      "tod troç car gost esper sair pirat p compr n to aí doid p airdot xiaom ta 30…, positivo\n",
      "quer xiaom pra vir xiaominion propag palavr, positivo\n",
      "xiaom redm k30 pro tend 2020! 120hz 5g 64mp! via @youtub, positivo\n",
      "pá xiaom decepticon bixin tá aument volum sozin tod hor, negativo\n",
      "@trycx @nnelyv celul bom não melhor q xiaom @llucenax_ 2bj, positivo\n",
      "@vullgo_wc xiaom vai pegar?, neutro\n",
      "car vend fon 'orig xiaomi' barat grup top tud aí cê vai ver paragu que…, neutro\n",
      "3 ano xiaom decid trav pag, positivo\n",
      "smartphon xiaom mi 9t pro 6 gb ram 128gb vers glob pret link &gt #amazon, negativo\n",
      "chat est celul fod agor atrapalh hor flert aff kd xiaom, negativo\n",
      "@jowhnetohg vam rif algum cois pra dar xiaom, positivo\n",
      "vi dav pra compr airdot preç razoá aliexpres som loj ofic xiaom, neutro\n",
      "@wssilva92 @leonardowill mant convers aqu sc não tá funcion seman pass funcion p…, negativo\n",
      "rt @bobtechoficial1 atenção!!! fot não ofic sorteio!!! lei abaix comemor lanç grup #techte co…, neutro\n",
      "@saulo_carn xiaom infravermelh, positivo\n",
      "xiaom m5 ressuscit nad tá funcion boa kkkk, neutro\n",
      "xiaom xeg porraaa, positivo\n",
      "rt @leonardomunizz muit gent nunc usou iphon diz xiaom melhor, negativo\n",
      "vantag xiaom câm vem mexid vsc faz, positivo\n",
      "@maclaund quil diz troqu xiaom 😉, positivo\n",
      "convert testemunh xiaom, positivo\n",
      "pesso fal melhor opt outr celul pq xiaom termin “omi” omi não prest kkkkkkkkk vdd, neutro\n",
      "rt @kaue_gardin @btexobh @bts_twt coc picanh salg samsung xiaom matemá escol twitt bt @bts_twt, positivo\n",
      "omg cheg xiaom, positivo\n",
      "rt @roisenberg gent xiaom mass der r$ 600 aparelh não esper iphon né porr, negativo\n",
      "xiaom não vem fone😩, negativo\n",
      "@taejonni @luscaxxx921 nunc acontec pq xiaom outr nível bb vai lá ipan pra carreg, positivo\n",
      "amig alguém pod diz val pen compr xiaomi? precis celul nov tô dúvida!, neutro\n",
      "@tipoth thal xiaom mi 9t car, negativo\n",
      "@arthulanch tbm tir xiaom redm not 7 ?, neutro\n",
      "@westerdead favor fal não eh xiaom, negativo\n",
      "@akvy iphon né! xiaom kskskssk, negativo\n",
      "@paulodisfarc xiaom bom ness preç tbm redm 7 exempl zenfon merd, positivo\n",
      "cunh compr xiaom ta faz discurs melhor celul exist, positivo\n",
      "@pjminies @gcfeeling amg vc vai pag xiaom 😔✊, negativo\n",
      "xiaom | 5 produt vend brasil 2019, positivo\n",
      "@appl vai ti fud vai appl samsung super pixel 4 melhor iphon 11 man so desist a…, positivo\n",
      "ach xiaom vai domin mund esponj fac limp, positivo\n",
      "xiaom bom mesmo?, positivo\n",
      "xiaom q parec holograf sao holográf mesmo? asking friend, positivo\n",
      "difícil não ser fanboy xiaom não sair evangeliz celul bom cust benefíci absurd, positivo\n",
      "vou precis rend tent #xiaom, neutro\n",
      "@cubamistan compr xiaom #5hwins10, neutro\n",
      "rt @tweekmd ola mut vc fon xiaom fio pod mand algum cois coment q quer tir uma duvidas…, positivo\n",
      "@ianborges999 vo compr xiaom ano vem aí não vai ter problem, neutro\n",
      "xiaom vend tuit quer iphon, positivo\n",
      "pra xiaom usa fanc opca fras frequ dev quebr put galh, negativo\n",
      "vou dar xiaom pra ensin tir fot edit efeit fei 2012, positivo\n",
      "mein xiaom começ loke agr pouc socorr, positivo\n",
      "poss não ter nad xiaom consider testemunh xiaom sinistr kkkkk, positivo\n",
      "'fábi aplic xiaom ruim? ach ótimo!' prim fot googl cam segund c…, positivo\n",
      "usu xiaom chat, negativo\n",
      "alguém doa xiaom, positivo\n",
      "rt @grinth alguém q airdot xiaom emprest caix pra carreg fon estragou!, positivo\n",
      "@allicesaraiv don viu diss model xiaom esse?, positivo\n",
      "rt @ahhhbait aqu xiaom 😎👍, positivo\n",
      "pai fãboy herbalif sim ugh aí cheg aqu cas ih poss substitu leite? por…, neutro\n",
      "pq thiag compr pra xiaom redm not 8 agor qu thiag sempr assim co…, neutro\n",
      "mac pro car cas br “razr xiaomi” – hoj tecmund via @youtub, neutro\n",
      "@jpcunha05 xiaom fod né kkkkkk, positivo\n",
      "@_viitoriarod_ xiaom não faz, negativo\n",
      "atenção!!! fot não ofic sorteio!!! lei abaix comemor lanç grup #techte e…, neutro\n",
      "redm k30, neutro\n",
      "smartphon top linh chin dev vir snapdragon 865 suport 5g, neutro\n",
      "melhor cois xiaom fez mim coloc grav tel seri sonhofuck iphon us, positivo\n",
      "ola mut vc fon xiaom fio pod mand algum cois coment q quer tir uma duvid sobr fon, positivo\n",
      "@zeaow put pra xiaomi? quer pra samsung, positivo\n",
      "sit gc brasil part xiaom lá link bonit, positivo\n",
      "compr fon xiaom cheg, neutro\n",
      "@rumoal trabalh compr tod produt xiaom, positivo\n",
      "rt @unnamed_h sint amig xiaom cheg ano vem👍, positivo\n",
      "torn pesso jamal imagin idolatr xiaom, positivo\n",
      "mai err xiaom ter col entr fon part cim celular! #retrocess, positivo\n",
      "@appl vou faz dand xiaom mi not 10 pag metad iphonegrand dia!!, neutro\n",
      "rt @zezoabr tod mund amig testemunh xiaom, positivo\n",
      "xiaom lanç aparelh celul dia?, positivo\n",
      "😺✏ — sim xiaomi! 😂😂, neutro\n",
      "muit gent entend celul elogi xiaom vem engol merc brasil medi praz e…, neutro\n",
      "xiaom parab faz cort víde igual c* vc, positivo\n",
      "@alvesza xiaom, positivo\n",
      "@giovaillant nunc vou compr xiaom pro lucc ench el sac motorol nunc samsung nunc experi agrad, neutro\n",
      "@renan1696 fod iphon ta bem ruin eh bem capaz troc mãe não va…, negativo\n",
      "compr lâmp xiaom tô best kkkkkk, positivo\n",
      "não quer sair iphon porém cas (já tô precis pra caralh tô vend aqu s9+/a70/algum xiaom, positivo\n",
      "@luvfordu olh vir fã xiaom, positivo\n",
      "inici xiaom melhor barat, positivo\n",
      "ach mass fon wireles earbud tal appl tal nunc consegu us pq piercing n…, positivo\n",
      "smartphon prim intermedi fabric equip 5g! #tecmund, neutro\n",
      "@dourafson xiaom vc tir fot melhor pag 30 real celul, positivo\n",
      "nu relógi compr xiaom pqp mal tr faz tud, positivo\n",
      "to apaixon fon bluetooth xiaom, positivo\n",
      "pq xiaom 740 real não desempenh iphon cust 5k reais??? 😭😭😭, negativo\n",
      "ganh earbud wireles xiaom apaixon, positivo\n",
      "xiaom agor tá faz espec kindl n domin mund n sei, positivo\n",
      "xiaom amo, negativo\n",
      "rt @xiaomibrasil lig algum promoç espec natal!! pod ver tod ofert sit compr agor, neutro\n",
      "gent vai tom cu fot xiaom @xiaomiehbrab, neutro\n",
      "celul iphon smartphon mod celul barat #tv #roup esport payp tenil sapat…, positivo\n",
      "deu quer xiaom redm not 5, positivo\n",
      "xiaom redm not 7 miband 4 redm air dot ach testemunh xiaom aqu 😂, positivo\n",
      "rt @ysnicolau “ah xiaom mesm cois iphone” gabigol gabigol gabigord gabigord, positivo\n",
      "rt @emomaldit paul best relógi xiaom kkkkkk, positivo\n",
      "@assistenciaxiaomigyn assist técn smartphon xiaom quebr deu defeit molh ? venh pra noss…, negativo\n",
      "disposi oper rai 5 mil quilômetr dist possu funç inteligentes! #tecmund, neutro\n",
      "quer fon fio não vou exig airpod appl quer xiaom, positivo\n",
      "@aqueledabibl @uber_brasil vo compr xiaom nao jeit, neutro\n",
      "dev ter compr xiaom, neutro\n",
      "@usernamearthur ant vir preg xiaom pag 1400 reau fon, negativo\n",
      "hj pesso oferec 120 fon pirat xiaom kkkkkkkkkkkkkkkkkkkkk, positivo\n",
      "@odeiobrocoiil luis ta vir 😔 old xiaom bot appl p mam, positivo\n",
      "rt @fabiorsilva3 koe gal alguém ach telefon xiaom mi8 hoj manhã frent be king pod entreg vai ajud muito…, negativo\n",
      "@crisd @cmerig não lev muit fé mont mach fal benefíci airfry pq ninguém tem…, neutro\n",
      "@porrajubb compr xiaom 30 cont amig, neutro\n",
      "@maredud marc asiá samgung xiaom proposit ásia ( core jap chin rolê…, positivo\n",
      "magazin luiz tá vend aparelh xiaom preç redm not 7 tá 1600 cont, negativo\n",
      "@joao_almir hom xiaom não qu guerr ngm, negativo\n",
      "@_tonh ach bluetooth 40 (o fon xiaom funciona?, positivo\n",
      "xiaom tecl lad difer mot g3 demor dua vez pra us app porqu sempre…, positivo\n",
      "rt @arnaldodk defin consol atual xbox io playstation tip android xbox não conseg acostum pl…, negativo\n",
      "compr xiaom fod, neutro\n",
      "@erickogameryt xiaom mi a3 incrível! 3, positivo\n",
      "@joao_almir agor vc xiaom não dá pra não vot sai eleg tod retrat, negativo\n",
      "@iagomaia_ compar pra lá idiot top samsung não bat iphon quant xiaom, negativo\n",
      "rt @reparacaomobil qu smartwatch? melhor preç aqu xiaom amazfit bip lit desd 4490€ gtr desd 11489€ compra…, positivo\n",
      "@toon_vic xiaom dur amanhã kkkkkkkk #xiaomibotaapplepramam, positivo\n",
      "@dancepvnk n to fal vc am eh xiaom, negativo\n",
      "internet tá peste apóstol xiaom, positivo\n",
      "@pedrolima_b xiaom ativ mod vôo não acontec, positivo\n",
      "xiaom marc celul procur brasil 2019 appl lid aparelh, positivo\n",
      "@planepputun @wvshitvpe_ namor xiaom lind né aliás wallpap fof, positivo\n",
      "rt @malludgl gent ach não vai ajud não cust tent ❌ alguém ach celul ont xiaom red not 7 fa…, negativo\n",
      "@lovepengim @wvshitvpe_ hom tá assim aind uso ui padr xiaom, positivo\n",
      "alguém sab sit segur pra compr fonezin xiaom ?? 😭😭😭😭, negativo\n",
      "@madubaex q troq iphon xiaom k, negativo\n",
      "@usernamearthur compr xiaom, neutro\n",
      "@wonderliz @1amebad uma xiaom não orig hah, negativo\n",
      "bom compr xiaom 9 lit ótim únic arrepend não ter compr ant #xiaominion, neutro\n",
      "@emanuel_js bot xiaom pra mam 😥😥😥, positivo\n",
      "ofic testemunh xiaom, neutro\n",
      "segund dia us fore lun barat xiaom pel extrem limp lind ¿¿¿ imagin daqu mê, positivo\n",
      "carai 11 dia dur bat mi band xiaom obrig tud, positivo\n",
      "@bbldrag @planepputun @lloveer sab fogã 4 boc câm iphon 12? burac pra mam xiaom, negativo\n",
      "camis xiaom, positivo\n",
      "aqu pens val pen compr famiger xiaom, neutro\n",
      "@matanui_ xiaom vida! pod compr olh fechados! fã!, neutro\n",
      "rt @significadocu tod mund amig testemunh xiaom, positivo\n",
      "nunc esp tant segundafeira! entr pra relig xiaom né possível redm not 8 não cheg, negativo\n",
      "@albuquerquedavy @jairbolsonar avali escol googl, neutro\n",
      "chin vai domin porr@ tod tecnolog trabalh escrav liberal ach capitalis…, neutro\n",
      "quer ach sit confia compr xiaom mi9t entreg dentr seman fret meno…, positivo\n",
      "misér smart band xiaom vir fals vou fic mt put viu!, positivo\n",
      "19 ano solt radi xiaom, positivo\n",
      "câm front dess celul ruim dm xiaom vc promet, negativo\n",
      "xiaom mi 9 x iphon 8 plu dúv cruel, negativo\n",
      "mar rim aveir xiaom &lt3 #xiaomiportug @portugal_xiaom @leijun @dapariciotech @ruifbacel, positivo\n",
      "ok admit quer xiaom mi a3, positivo\n",
      "@breniincrf baix vers mi a3 tá funcion bem, neutro\n",
      "tão estranh sair celul iphon xiaom, negativo\n",
      "dúv agor cel compr xiaom redm not 8 huaw p30 🤔, neutro\n",
      "xiaom cheg hoj obcekul tá send alegr val @amazonbr entreg rápida(4 dia ant praz complic, positivo\n",
      "bab xiaom amig ano vem, positivo\n",
      "frequent laroc crossfit usu xiaom 3 180, positivo\n",
      "preç mín xiaom airdot pro 2 49€, neutro\n",
      "@s2caldodec q não compr xiaom, negativo\n",
      "@ximitinha_ vai compr xiaom aí tod fud, neutro\n",
      "@lbcaev histór am xiaom uso pra trabalh aind cim, positivo\n",
      "agr testemunh xiaom, positivo\n",
      "xiaom lanç walkietalki long alcanc wif 4g, neutro\n",
      "fon ouv tw fio bluetooth 50 kz s1d #banggood r$ 9056 (usd $2099 → cupom bgkzs1 935d63 → link…, neutro\n",
      "@blackcatxc meud testemunh xiaom fd, positivo\n",
      "@blackcatxc tir redm not 8 xiaom fot fic lind soub tir heh, neutro\n",
      "@gerson_semcili ach mei geral xiaom mi 9 caval local escur dem pr…, positivo\n",
      "@filipefrank tir xiaomi© foi?, neutro\n",
      "agor sim ofic testemunh xiaom amém, positivo\n",
      "+ lid | #xiaom lanç prim rote smart marc redm preç considera acessí…, neutro\n",
      "@tata_dil @bts_twt lind xiaom, positivo\n",
      "@seagirlblue9 hr compr xiaom, neutro\n",
      "ann tá rati gent desculp tod sab xiaom iphon empat né ob câm rest xiaom melhor, negativo\n",
      "agor vou sair iphon vou xiaom, negativo\n",
      "@aryanepd indic xiaom cust benefíci vc ric pod compr iphon 11 pro max hj estrag amanhã compr outr 🙂, positivo\n",
      "xiaom não qu guerr ninguém, negativo\n",
      "@aryanepd curv per xiaom q sai, positivo\n",
      "@aryanepd xiaom n diss q pen né, positivo\n",
      "@wessnak frent iphon eh melhor to duvid pq bat xiaom eh melhor resoluç tel tbm p…, positivo\n",
      "@gilgil_777 quer xiaom mi 9 mod radi, positivo\n",
      "@cuco_henriqu aie poh aguent 13 hor metad bat xiaom deux, positivo\n",
      "xiaom mex so dev preocup ?, positivo\n",
      "possível soluç recurs 'foldable' xiaom dev traz tel desliz acab 'dobrar'…, positivo\n",
      "@wessnak vei gost cam tra xiaom tip (?, neutro\n",
      "compr tênil xiaom muit doença? 😂, neutro\n",
      "thiag defend xiaom melhor part dia, positivo\n",
      "put xiaom, positivo\n",
      "@mrbxd_ netflix tá car amazon tá bot pra fud tá tip xiaom vs appl, negativo\n",
      "vou vir testemunh xiaom câm, neutro\n",
      "@uitallors @iagomaia_ cust benefício! qnd $ não faz diferenç iphon cas xiaom tá excel, negativo\n",
      "@laistranh mi remot própr xiaom, positivo\n",
      "@leehsuu aí xiaom net mixuruc, positivo\n",
      "@reasontwoseok xiaomi?, neutro\n",
      "plen parec tá camis flamengo/ irmã xiaom @marcelinouwin #pagodedoseuz, negativo\n",
      "@eup3tr4 @larisox tô s9 plu tô gost fat app fic guard gavet deix e…, positivo\n",
      "vi fot irmã acab tir mim??? amém câm xiaom, positivo\n",
      "tô pert vir testemunh xiaomi!, neutro\n",
      "aind tô impression dur bat xiaom, positivo\n",
      "rt @kiriedit porqu @xiaomibrasil ser mach consumidoras? term cancel empr mach xiaom ag…, positivo\n",
      "preç celul xiaom dispar dól ness final ano ia fod esper pra compr, positivo\n",
      "@mayoukill vc ta xiaom, negativo\n",
      "@bringthecat verdade!! agor falt xiaom lanç cois barat mesm precis notebook pra ont, positivo\n",
      "rt @slakrl_ @edsku @maiconkusterkkk vegan crossfiter vend hinod ativ lgbt usu xiaom minim vs pesso, positivo\n",
      "@bernardinobr1 to xiaom 11 amig, positivo\n",
      "@sucodearcoiril skoob melhor sit pen q não paci kkkkk hoj obrigo!!! vou procur lá kkkkkkk…, neutro\n",
      "porqu @xiaomibrasil ser mach consumidoras? term cancel empr machista…, neutro\n",
      "rt @notalextell aind to trist pq não pud traz câm pra viag aind bem xiaom, positivo\n",
      "rt @itsmewall bor tir fot xiaomi? 🤧💖 #apoieumart, neutro\n",
      "rt @thaiscristina8 bat xiaom etern, positivo\n",
      "destaqu tecnológ seman pass foram…, neutro\n",
      "@b3nthr tlg vou pod compr outr fever xiaom aul n consegu peg io vou nel mrm, neutro\n",
      "hoj mex redm not 8 cunh não não deu saudad miu ach estranh depois…, negativo\n",
      "@crfrangel aí braba kkkkkkk p compr algum vai xiaom tlg bom barat, positivo\n",
      "@joygabriel compr xiaom aliexpres, neutro\n",
      "@crfrangel sistem operac xiaom q bas android q parec tlg, positivo\n",
      "@apoderosath sei xiaom adoroo, positivo\n",
      "destaqu tecnológ seman pass foram…, neutro\n",
      "@donnie_ixtark loj xiaom não sei pra outr celul, negativo\n",
      "tô dúv compr xiaom iphon, negativo\n",
      "bor tir fot xiaomi? 🤧💖 #apoieumart, neutro\n",
      "@guijf @edoardoc compr xiaom 🤣🤣, neutro\n",
      "rt @donalaroc @carolinelim #apoieumart fal gal cosplay vend celul xiaom trabalh soc med quem…, neutro\n",
      "2020 vai vir gent fal realm bot xiaom pra mam vai ser realminiom vs xiaominiom, neutro\n",
      "@carolinelim #apoieumart fal gal cosplay vend celul xiaom trabalh soc media…, neutro\n",
      "rt @mclipes61 xiaom aqu melhor iphon car, positivo\n",
      "ai morr deu usu xiaom, negativo\n",
      "xiaom bot appl pra mam assim leõ domestic faz cão brinc amo ambos feli…, positivo\n",
      "@hyggethali202 mig não compr aind sab víde vi fod process bait rápid xiaom fod, negativo\n",
      "xiaom pai, positivo\n",
      "@enzocricc xiaom acim pod compr, neutro\n",
      "rt @mandslovesduck @gosufangir desculp aí madam nok deix sansumg motorol xiaom quatr, positivo\n",
      "@paularrocha cad xiaom fals comun merd, positivo\n",
      "to vendenr relógi mi band 4 xiaom nov lacrado!!!!!! interess cham dm, positivo\n",
      "@darabiazin mig câm boa? bateria? temp respost pra troc app bom? xiaom tá quas ganh, positivo\n",
      "9 mi lit perfeit xiaom tud pra mim, positivo\n",
      "@fcxiaomibr quer sab exist algum man instal aplic ofic xiaom contat telefon me…, positivo\n",
      "@meusgatosaofei fot tá boa real époc crianç exist xiaomi?, neutro\n",
      "tav decid fud pra compr iphon 8 plu xiaom tá quas convenc compr not 8 pro qq faç pai?, negativo\n",
      "@melissatamy melhor gif pra represent hahahahah aí tá gost xiaomi?, positivo\n",
      "@xiaomibrasil quer sab exist algum man instal aplic ofic xiaom contat telefone…, positivo\n",
      "@mandzz @flordoocerr mai verdad compr xiaom mê pass zer arrepend cust benefíci bom, positivo\n",
      "@carlosgusttavo_ aind bem xiaom 300 tb memór, positivo\n",
      "xiaom escolh você!, positivo\n",
      "@bfhm1001 @appl @xiaom eh nov 😭😭😭, positivo\n",
      "@ruifari75005670 compr xiaom, neutro\n",
      "tant vez troc app abr fech sup rap celul esboç dificuldad xiaom amo, negativo\n",
      "celul iphon smartphon mod celul barat #tv #roup esport payp tenil sapat…, positivo\n",
      "celul iphon smartphon mod celul barat #tv #roup esport payp tenil sapat…, positivo\n",
      "agor compr xiaom dar jeit consegu gran pra pod compr fon burgu tipo…, positivo\n",
      "amanhã cheg xiaom am escolh cor aaaaa, positivo\n",
      "carac mn gast 40 cont freef pro celul nao rod bost xdd xiaom pfv bom celul gam, positivo\n",
      "pq xiaom cont né? maaaa vou continu celul 😅😅😂😂😂😂😂, positivo\n",
      "q dá fon bluetooth natal p pai aproveit peg p mim xiaom esper qq vai dá ai, positivo\n",
      "@giuiandaforag q ser xiaom ne pfv, positivo\n",
      "rt @cacaudrt xiaom mi not 10 tá tiroo q bb, neutro\n",
      "tav doid xiaom kkkkk mi not 10 caus câm top qe to namor desd qe lançou…, positivo\n",
      "rt @xe_ag boa notícia! angol vai mont telefon part próx ano empr angol fonecom marc chin xiaom vão mon…, neutro\n",
      "pens troc rmeu celul pra xiaom acontec so 2021 qnd sla mae ganh jog bich, positivo\n",
      "@nadiardg mand dic um xiaom daor ae, positivo\n",
      "@thaiscristina8 sis xiaom melhor mund, positivo\n",
      "bat xiaom etern, positivo\n",
      "celul xiaom mi a2 conheç pouc sobr aparec top cliqu aqu quis ver vídeo👇…, positivo\n",
      "@deborahcosta8 ue vir usuár xiaom !, positivo\n",
      "➖airpod caros? poi xiaom aqu ajud auricul air 2 apen 4929€ 🔊🎵😎…, positivo\n",
      "@flordoocerr preç xiaom nov top linh iphon velh us tel trinc n val pen sab, negativo\n",
      "mi 10 xiaom volt fal sobr model indic époc lanç, neutro\n",
      "xiaom nad ai appl, positivo\n",
      "@marlongom fot tir xiaom, positivo\n",
      "@claronih discípul xiaom será?, positivo\n",
      "compr cap lind pro xiaom 🥰, positivo\n",
      "@conversasq xiaom aparec fot mãe, positivo\n",
      "@bangtan_nat loj xiaom pert cas hahahhah ia ser ideal msm, positivo\n",
      "@nandacastilh duvid compr nao xiaom nao, neutro\n",
      "melhor motorol samsung xiaomi? appl não pq pobr não cab orç, neutro\n",
      "@thulio_capruni compr qualqu cois não xiaom bat, positivo\n",
      "ñ vej hor xiaom cheg p faz uma fot qual aí pais, positivo\n",
      "mãe qu xiaom kes qu xiaom ach q to faz bem trabalh testemunh xiaom, positivo\n",
      "celul quebr tel perd quas tod sensibil tel fal eduard trist trist ei e…, neutro\n",
      "@xiaomibrasil antig produt mad in chin aah não quer n pq dev ser pirat hoj absolut ningu…, positivo\n",
      "@chaelisaere tod mund fal bem xiaom to quer mt model seu?, positivo\n",
      "exposed 404 sep kakakakakakakakakkkkk radio q chernobyl xiaom junt, positivo\n",
      "@gizmodobr fuj amazfit verge! deu defeit bot hom não arrum fujam! #amazfit #amazfitverg #xiaom, negativo\n",
      "rt @cacabi saí cas 33% bat 1500 cheg agor 12% deu abenço xiaom, positivo\n",
      "ai fon cert entr top 3 melhor aquis 2019 xiaom liter faz tud, positivo\n",
      "xiaom parabém excelent airdot 😍😍😍😍😍, positivo\n",
      "rt @vicenteejaa ness cruzeirof (segundaf xiaom record dess fot tir 2015 dur viag pra foz…, positivo\n",
      "antig produt mad in chin aaaah não quer não pq dev ser pirat atual xiaom melhores…, positivo\n",
      "@nilmorett @samsungbrasil mi band 4 &gt&gt&gt&gt&gt&gt&gt&gt&gt samsung fit desculpem porém quer desmerec samsung fit…, positivo\n",
      "@crackboyjr peg iphon 7 q n entr mãe peg q vei fiq ai dez 2018 peguei…, neutro\n",
      "pq gent q fic quer xiaom ruim hein???? invej demal, positivo\n",
      "@samsribeiro usuár xiaom, positivo\n",
      "compr fon xiaom fd q vai cheg final jan, neutro\n",
      "@tomlincondz pô balat xiaom tlecent leal 64 gb 8 lam aplov águ devoluç, positivo\n",
      "hoj vou compr s10 não motorol não sei lá morr xiaom, negativo\n",
      "@robat ador xiaom, positivo\n",
      "rt @economizzando2 estoqu brasil!!! – xiaom amazfit verg lit estoqu brasil!!! – xiaom amazfit verg lit preç r$ 47990 (pa…, positivo\n",
      "acab dar lik víde lá youtub xiaom mi not 10 unboxing hand on!, neutro\n",
      "estoqu brasil!!! – xiaom amazfit verg lit estoqu brasil!!! – xiaom amazfit verg lit preç r$ 47990…, positivo\n",
      "consegu compar xiaom iphone?????, positivo\n",
      "rt @unificadaufg voc dev est pergunt porqu reun aqu hoj precis fal sobr xiaom, neutro\n",
      "fon xiaom fer busq quer celul agor kkk, positivo\n",
      "@grideus mig cel igual ai morr ( compr xiaom redm not 7 to satisfeita…, neutro\n",
      "@clarobrasil xiaom ate pens, positivo\n",
      "conselh nunc troqu iphon xiaom ob cas urg pobr meu🥵, negativo\n",
      "@seculok xiaom peg hyp aqu brasil outr marc ral pra acompanh kkkk os…, positivo\n",
      "quer xiaom ((, positivo\n",
      "@raissachaddad 0 não iphon xiaominunc post lomotif pq feionunc post vide rebol, negativo\n",
      "@conversasq @paginas @igorlsantoz tir fot xiaom, positivo\n",
      "rt @icretinore pod ter xiaom iphon etc vc não whatsapp não adiant nad, negativo\n",
      "@tomlincondz compr xiaom, neutro\n",
      "voc dev est pergunt porqu reun aqu hoj precis fal sobr xiaom, neutro\n",
      "pra q samsung xiaom tao corr pra lanç celul 100mp cam n melhor imag so faz o…, positivo\n",
      "vão pag pra ser testemunh xiaom heheh, positivo\n",
      "saiu víde nov #loopinfinit xiaom mi not 10 unboxing hand on! olh aí, neutro\n",
      "rt @disasterkittyd cam xiaom mi a2 rob [inaudivel] bom compr, neutro\n",
      "@leh_bennett troc us temp n gost vend compr xiaom, positivo\n",
      "🛒 câm ip mij gmsxj16 by xiaom r$ 10780 ⭐️⭐️⭐️⭐️⭐️ 🔗 conf link ➔ | 🏷 cupom…, positivo\n",
      "@kookmodu q nao sabia ter xiaom caix surpr, positivo\n",
      "@latnpop @umataldeel cê não fic 'ah xiaomi' “xiaom isso” “xiaom aquilo”, negativo\n",
      "ofic coloc appl pra mam obrig mim xiaom, positivo\n",
      "@leh_bennett nao! xiaom bot appl pra mam, positivo\n",
      "@araujoithal hj dia sair xiaom pra ir pro pixel (at car demal pra mim poi raparig googl, positivo\n",
      "xiaom ter lucr 9% appl ter lucr pr 200%, positivo\n",
      "rt @l_de_l pod ter xiaom iphon etc vc nao whatsapp não adiant nad bb, negativo\n",
      "rt @imbizit xiaom nad ai appl, positivo\n",
      "odei tant xiaom 😡, negativo\n",
      "trist fim xiaom, positivo\n",
      "@biancacomil sim model top linh xiaom mi 9t pro algum mod embelezand…, positivo\n",
      "@araujoithal amig n cogit xiaom não?, positivo\n",
      "não xiaom vou compr asu podr podr cust 399 poss pag beij 11 dia…, positivo\n",
      "vir testemunh xiaom cam boa put q par, neutro\n",
      "vir testemunh xiaom 🤧🤧🙏, positivo\n",
      "@yeeunsign kkkkk xiaom dur 2 dia kkkk, positivo\n",
      "@leeonardos7 deu cri mund rest cri xiaom, positivo\n",
      "zoe tant mcfag agor falt comput xiaom ah língu pag quer, positivo\n",
      "cheg xiaom princes aqui❤️, positivo\n",
      "carreg celul 3ª vez hoj exclu app convert pra relig xiaom, positivo\n",
      "@belfordparadis menos pag mo pau pro xiaom celul mot g kkkkkk, positivo\n",
      "@mwriacarolin xiaom fot fic lind baix app d cam googl tir, neutro\n",
      "@xiaomibrasil vai cheg brasil xiaom ebook reader?, neutro\n",
      "giovann preconceit xiaom, positivo\n",
      "ta ai ser rend xiaomi?, neutro\n",
      "menin trist porqu ganh val pres 100$ loj americ val cert fon xia…, neutro\n",
      "@swiftccreatur xiaom lend né amg daqu 2/3 ano pret troc celul outr marc, positivo\n",
      "@edufut ngm pi q fã xiaom, positivo\n",
      "moral camêr xiaom deix cor bost parec cinz, positivo\n",
      "@swiftccreatur ent amg xiaom lend celul bom acab ver review deleckkkk, positivo\n",
      "@moreco 29384811 refer term xiaom, positivo\n",
      "rt @lassiratut convoc xiaom fã fal celul indic compr val, neutro\n",
      "@defzel mor xiaom pq, positivo\n",
      "@gfac irm pag 1600 mi 9 ond c tá vend xiaomi?, neutro\n",
      "trabalh pra nunc precis toc qualqu produt xiaom, positivo\n",
      "ped p pai xiaom redm not 7 q fiz escolh certa????, neutro\n",
      "@leh_bennett não xiaom rainh, negativo\n",
      "celul pqp fant xiaom amo, negativo\n",
      "ano aind não vai ter ganh redm not 8 (xiaom ✌️😗 vam ver func, neutro\n",
      "convert xiaom agor, positivo\n",
      "quer celul xiaom med cam ser zu demal (, positivo\n",
      "@nayeonwlrd car celul brab dev ser xiaom ctz, positivo\n",
      "@nalusl convert ouv palavr xiaom hj?, negativo\n",
      "@r_ferrei usa dinh xiaom, positivo\n",
      "kkkkk mut atenca ⚠️⚠️ pai xiaom kkk, positivo\n",
      "rt @stepsbeck xiaom bom cham xiamui, positivo\n",
      "rt @vanessanalu med ir co madrug encontr alguém fal xiaom, neutro\n",
      "não tô feliz xiaom redm not 7 rs, neutro\n",
      "@pgcaet xiaom não tô entend legal tbm não trav q flux, negativo\n",
      "q xiaom canivet suiç avançado??, positivo\n",
      "@oreia01 bat tá perd fei pro xiaom to pens ser troc 7 plu, positivo\n",
      "rt @jotaplay final test xiaom mi 9 lit tir tom pass cont temp result uso norm não j…, negativo\n",
      "rt @plebeusoci car cant bem xiaom mto brab, positivo\n",
      "conf agor melhor tem suport nov miu 11 xiaomi!, neutro\n",
      "@lucartur @jotaplay pod migr testemunh xiaom, neutro\n",
      "@senhorsat kkk @senhorsat ja xiaomi?, neutro\n",
      "relógi boa vár opç top agor fon via bluetooth car merm quas 300 cont um…, neutro\n",
      "@jotaplay testemunh xiaom, neutro\n",
      "xiaom lanç impres cri imag real aument, neutro\n",
      "pres antecip natal xiaom redm not 8 xiaom mi band 4 bah tô feliz demal, positivo\n",
      "não import quant produt chines xiaom lind barat patif chin produz pa…, positivo\n",
      "diferenç tel iphon pro xiaom absurd fot xiaom fic extrem escur compar…, positivo\n",
      "rt @darlinguki med compr xiaom fot saír assim, positivo\n",
      "bols tá coç pra compr xiaom precis continu foc prior aaaah, negativo\n",
      "desgr capet compr xiaom nao consgi instal nenhum app fal q nao eh compati q merd eh caralh, neutro\n",
      "@xiaom amo difícil ach cap p celul deu, positivo\n",
      "resolv log par xiaom paulin q to chei fom, positivo\n",
      "rt @plebeusoci xiaom svbmet maçã felação!, positivo\n",
      "us word xiaom pic dur 2 dia tuit iphon prest pra descarreg não comparaç…, negativo\n",
      "@danilos36578615 esquec trop xiaom kk, positivo\n",
      "med compr xiaom fot saír assim, positivo\n",
      "xiaom letr difer feliz, positivo\n",
      "@ramiresibsen fod man ser xiaom a9000xr tir fot dess, positivo\n",
      "tant q quer xiaom n eh brinc (, positivo\n",
      "rt @uandersonweb pens xiaom recurs semelh clearblack antig nokia?, positivo\n",
      "@senhorsat @xiaomibrasil @xiaom kkkkkkkkk tom vej, neutro\n",
      "@figliollopaol uso xiaom comun padr fif, positivo\n",
      "@guilherme_rf não vem fal mal xiaom não quer, negativo\n",
      "eh ofic evangeliz tod mund aqu cas agor tod mund usa xiaom, positivo\n",
      "@luizkleinn nao mam xiaom mig, positivo\n",
      "rt @imaginag 'xiaom mud vid melhor iphon vc precis experimentar', negativo\n",
      "@_deborahwyny recalqu bat símbol xiaom volt kiridah, positivo\n",
      "@caarlos0 car atual uso samsung compr 2 xiaom câm boa, neutro\n",
      "xiaom nov tão nov bot appl pra mam cresc rápid 😢, positivo\n",
      "rt @gprogram [ofert telegram] smartphon xiaom mi a3 48mp android one parcel 12x jur fret grátil câm trip…, negativo\n",
      "@whatlyn tô quer xiaom morr med fic branquel kkk, positivo\n",
      "@lmans compr xiaom cancel ach sinal pra ir pro blitz, positivo\n",
      "final test xiaom mi 9 lit tir tom pass cont temp result uso normal…, positivo\n",
      "@itzrodrigo24 @macho_vergonh @insta_acab não usa xiaom nazist, negativo\n",
      "quer xiaom fd, positivo\n",
      "man parec q xiaom tablet agor mds, positivo\n",
      "irm vir testemunh xiaom, positivo\n",
      "elogi câm xiaom fal séri melhor cam exist sent cust benefíci pq voc…, positivo\n",
      "@pgcaet não fal mal xiaom 🥺, negativo\n",
      "@_moonwang desculp tip pov xiaom all st, negativo\n",
      "rt @fuck_off_matt nível maucarat impression kkkkkkkk segu lógic ano vem xcloud jog xbox vir ainda…\", neutro\n",
      "@rafaas_pa @fernandaamaralp irmã celul xiaom &gt&gt&gt&gt outr irmã, positivo\n",
      "nov tecnolog intelig smart robô aspir xiaom mi robot 1ª geração…, positivo\n",
      "muit sonh ser not xiaom ganh not 10 pra sel títul xiaominion, neutro\n",
      "destru lar maconh retard femin escrot comun xiaom ela/del, positivo\n",
      "rt @brinydelaet putz gent vc lut poi cham fad acessi xiaom, neutro\n",
      "ai magalu não mand email ofert xiaom tent compr não entreg paraíb, negativo\n",
      "@spfcdan01 excel câm xiaom consegu capt chines inconsol, positivo\n",
      "vam clip grav xiaom, positivo\n",
      "@vieneinpac @taimt compr infac xiaom belez boa prov dagu silicon cirú…, neutro\n",
      "@whatlyn sss não sei review xiaom vi fal pesso ness lug endeusam…, negativo\n",
      "@maumeirell @lnd1g @bicmull aqu atriz glob faz post horari agor mostr fazendo…, neutro\n",
      "ganh comiss cad aparelh xiaom pesso compr indic ach t…, neutro\n",
      "hj bar dei banh cervej celul qr trem xiaom rainh rest nad, positivo\n",
      "rt @whoislyt agr ofic círcul amig tod xiaom menos joã iphon gent, negativo\n",
      "tia tá pergunt telefon dev compr agor lev lad xiaom força! 😂😂 @xiaomibrasil, neutro\n",
      "xiaom cheg porr 😍, positivo\n",
      "próx seman vou peg iphon desculp segu xiaom não dá pra mim negóci android merm, negativo\n",
      "@whatlyn tip assim algum câm xiaom real deix pesso cl tal, negativo\n",
      "@whatlyn peg xiaomi?, neutro\n",
      "@iouistpetit amg parec celul xiaom não tod, negativo\n",
      "câm front xiaom deix mto branc send q moren tropic sei la, negativo\n",
      "· dur dia 18 19 20 dezembr 18 hor far estre nim sorti…, neutro\n",
      "@arthv_r 10 parcel send lembr xiaom entr dentr cas famíl kkkk, neutro\n",
      "rt @pxyraf gal inter celul produt xiaom víde gam control víde gam chegar! natal tá aí presentes…, positivo\n",
      "@angulodev ola caro! temp ouv palavr xiaomi?, neutro\n",
      "cupom r$341 #banggood xiaom mi 9t (glob 6/64gb r$ 106459 (usd $24999 + fret men preç registrado! (…, negativo\n",
      "@trembek 7 plu norm peg xiaom 8, positivo\n",
      "gal inter celul produt xiaom víde gam control víde gam chegar! natal tá aí…, positivo\n",
      "convert xiaom eh am, positivo\n",
      "rt @sev7nhu · dur dia 18 19 20 dezembr 18 hor far estre nim sorti ce…, neutro\n",
      "convenc mãe compr xiaom, neutro\n",
      "@xyoyox_ sim xiaom mi 9 lit fot ótim desempenh perfeit não car quis ver tir umas…, positivo\n",
      "rt @angulodev xiaom caralh, positivo\n",
      "xiaom mi not 10 review câm futur, neutro\n",
      "precis cap tão brab quant xiaom, positivo\n",
      "@tatiweigert compr xiaom segund (fo emerg ent padr cai bast únicoporém\" s…, positivo\n",
      "@camilawalk car tô us s9 samsumg gost né sempr chat xiaom pra diz e…, positivo\n",
      "@angulodev xiaom namor queim display kkkkkkkkkkkk, positivo\n",
      "xiaom iphon dúv fod, negativo\n",
      "nunc xiaom vei fodas, negativo\n",
      "lind gost independ xiaom aind gost music maravilh precis oq? kkkkkkkkkkkk, negativo\n",
      "@tonhocampos_ @bludborn patrulh xiaom daqu pouc cheg, positivo\n",
      "@gaa_stein ont pergunt sobr xiaom né, positivo\n",
      "@ferpiz445 twitt xiaom ** agor tud doi public val dobr, positivo\n",
      "mai vou compr xiaom mai, neutro\n",
      "@xyoyox_ entãooo grand problem android sistem appl post fot melhor instagr tal…, positivo\n",
      "@wstinglight amig n sei to aqu pra divulg palavr xiaom, negativo\n",
      "bom dia am vir testemunh xiaom 🤪, positivo\n",
      "@soudejunh prova mirand vend vari produt xiaom agr, positivo\n",
      "compr outr xiaom fodas, negativo\n",
      "usu xiaom apareç, positivo\n",
      "rt @teddyitz pq appl fã obcec xiaomi?, neutro\n",
      "#promoç #ofert porr$1302 acess xiaom cort unh, positivo\n",
      "burges discut melhor iphon xiaom enquant tô aqu boa mot g admir la…, neutro\n",
      "@rachelsousab comput xiaom ta ha 3 seman carregae!!!, neutro\n",
      "@crawlwng old neg tod dia 'twitt iphone' tl fal xiaom pass mal kk, neutro\n",
      "ei quest iphon xiaomi!? dúv crueeeeel, neutro\n",
      "@lobodecartol @kired_san acas maçã pra mam xiaomi?, neutro\n",
      "pq appl fã obcec xiaomi?, neutro\n",
      "@o_antagon isso?, neutro\n",
      "tod mund amig testemunh xiaom, positivo\n",
      "não não pod trat pesso obrig est dispon hor quiser…, negativo\n",
      "pai q vai compr xiaom pra, positivo\n",
      "@jennoca_ @eumatheusmatt alelu xiaom kkkkkkk, positivo\n",
      "xiaom caralh, positivo\n",
      "financi seit xiaom, positivo\n",
      "@dvsk80 xiaom têm problem algum vers chin import (p mim box boa…, positivo\n",
      "ta car agor ta val imposs pag pq vc fez cmg xiaom, neutro\n",
      "final fon xiaom cheg, positivo\n",
      "@surpresa07 relaç xiaomi? mesm merda?, neutro\n",
      "@juniormaranga @luc45rvz06 liquidific xiaom pra mim, positivo\n",
      "sorris rost leo diss ia troc celul xiaom, positivo\n",
      "xiaom influenc, positivo\n",
      "@analubge oi revend xiaom aqu hahahah tá dúv quais?, positivo\n",
      "to quer vir testemunh xiaom, positivo\n",
      "cupom r$246 #banggood xiaom redm not 8 (glob 3/32gb r$ 57486 (usd $13499 + fret → cupom bgnb832g o…, neutro\n",
      "sortei xiaomi! vem liv ate 1 manhã!, neutro\n",
      "aparelh inter imprim fot ganh mov pass câm celul sobr elas! #tecmund, positivo\n",
      "rt @plebeusoci xiaom svbmet maçã felação!, positivo\n",
      "@kawhipraiagrand xiaom pod com vai vir hulk, neutro\n",
      "xiaom mi not 10 – grand evoluç xiaom | xiaom mi not 10 prim impress, positivo\n",
      "@danydeku n compr xiaom n fal cmg, neutro\n",
      "@o_padilha_ man vai vir testemunh xiaom pqp, neutro\n",
      "rt @vopky vend cu pra compr xiaom interess inbox, positivo\n",
      "vend cu pra compr xiaom interess inbox, positivo\n",
      "ow pov entend xiaom vid ae pra escolh vc comprariam?, negativo\n",
      "perd loj xiaom cent nort compr pres di amig secret saí corr, neutro\n",
      "@nctnois amg pud dav porqu celul xiaom = tud, positivo\n",
      "pesso us xiaom não esqueç baix gc fot fic outr mund, positivo\n",
      "@fullji_n motorola?! tá sacan pq não peg xiaomi????????, neutro\n",
      "brev verd testemunh xiaom segu, neutro\n",
      "rt @miltonnev @cristi “air” ronald incr, neutro\n",
      "@felipenet felip nunc ped nad dá xiaom 9t pres natal format (conclu 131219…, negativo\n",
      "rt @roniejuni vend xiaom mi 9 top linh xiaom 128gb memór 6gb ram impress digit tel info…, positivo\n",
      "@danielgoucrf xiaom tão fod compon quím q explos hulk, positivo\n",
      "xiaom mi not 10 grand evoluç xiaom | xiaom mi not 10 prim impress, positivo\n",
      "tio convers sobr xiaom dess chin aí a3?\" aí sim \"sim 🤩🤩\"\", positivo\n",
      "@andrelukz2 @bbnici kd xiaomi?, neutro\n",
      "dilson qu discut sobr radi comig log usu xiaom, negativo\n",
      "@jw00det3il mesm xiaom aliás, positivo\n",
      "xiaom não faz part mim, positivo\n",
      "alguém dá cub mágic xiaom, negativo\n",
      "@freitasalexsand @erickrpinh cas part iphon kkk fal xiaom aí, negativo\n",
      "celul iphon smartphon mod celul barat #tv #roup esport payp tenil sapat…, positivo\n",
      "pens compr xiaom redm airdot fon orig celul, neutro\n",
      "compr airdot raf compr mi band kkkk old q sustent xiaom, neutro\n",
      "pod ter xiaom iphon etc vc não whatsapp não adiant nad, negativo\n",
      "put par celul trav porr próx vou compr vai ser xiaom vou iphone…, neutro\n",
      "quer compr tod acessóri xiaom, positivo\n",
      "xiaom mi a3 wif tão ruim?, positivo\n",
      "@rpereira_t 😮 ach 190000 'lug obscuros' 230000 loj dia pod dar garant 1 ano da…, neutro\n",
      "@lmjmusicc xiaom perfeit compr mi 8 lit q simples tud, positivo\n",
      "@luizcastr compr loj eletrôn revend ofic xiaom aqu cidad mor, neutro\n",
      "@dvsk80 compr tud except mi box xiaom formul z7 z8 amik amazon fir stick s96x bara…, positivo\n",
      "@neblinud xiaom top, positivo\n",
      "@cisquin02 @fala_carr @dudadalmor0 ent vc ter xiaom, positivo\n",
      "@carl000s testemunh xiaom, positivo\n",
      "@matias0159 @plebeusoci xiaom vid irm, positivo\n",
      "@saintmartin @lackingclas comun tru pod ter huaw xiaom arirang qphon né ?, positivo\n",
      "sempr miss recomend xiaom sempr possível, positivo\n",
      "@dudurochacl @asusbr @samsungbrasil @huawei_brasil @googlebrasil @oneplu xiaom merec est list @dudurochacl kkkk, neutro\n",
      "mal vej nad 'espetacular' ness xiaom fal fal fal dess celul hor uso lembr q usa xiaom, neutro\n",
      "smartphon xiaom mi 9t val pen 2019 6 ram cam 48 mp 6 gig memór ram além ter qualcomm sd…, neutro\n",
      "@margreoz1986 xiaom foreo??? grict vou procur, neutro\n",
      "prim cois faç qualqu eletrôn peg desativ tod qualqu notific notificaçõ…, positivo\n",
      "rt @gio_velud ano aind não vai ter ganh redm not 8 (xiaom ✌️😗 vam ver func, neutro\n",
      "cheg pf 10% bat xiaom mostr capac, neutro\n",
      "@joseheenriqu uso appl test xiaom gost, positivo\n",
      "desd xiaom mud android qual fot nunc mesm, positivo\n",
      "vai tom cu dess celul to retir pan q pass pra xiaom, positivo\n"
     ]
    }
   ],
   "source": [
    "for t, c in zip (tweets_execucao,modelo.predict(freq_testes_2)):\n",
    "    print (t +\", \"+ c)"
   ]
  },
  {
   "cell_type": "markdown",
   "metadata": {},
   "source": [
    "## Matriz"
   ]
  },
  {
   "cell_type": "code",
   "execution_count": 48,
   "metadata": {},
   "outputs": [
    {
     "data": {
      "text/plain": [
       "array([[0, 0, 0, ..., 0, 0, 0],\n",
       "       [0, 0, 0, ..., 0, 0, 0],\n",
       "       [0, 0, 0, ..., 0, 0, 0],\n",
       "       ...,\n",
       "       [1, 0, 0, ..., 0, 0, 0],\n",
       "       [0, 0, 0, ..., 0, 0, 0],\n",
       "       [0, 0, 0, ..., 0, 0, 0]], dtype=int64)"
      ]
     },
     "execution_count": 48,
     "metadata": {},
     "output_type": "execute_result"
    }
   ],
   "source": [
    "freq_tweets.A"
   ]
  },
  {
   "cell_type": "markdown",
   "metadata": {},
   "source": [
    "## Criando modelos com Pipelines"
   ]
  },
  {
   "cell_type": "code",
   "execution_count": 49,
   "metadata": {},
   "outputs": [],
   "source": [
    "# Pipelines são interessantes para reduzir código e automatizar fluxos\n",
    "from sklearn.pipeline import Pipeline"
   ]
  },
  {
   "cell_type": "code",
   "execution_count": 50,
   "metadata": {},
   "outputs": [],
   "source": [
    "pipeline_svm_simples = Pipeline([\n",
    "  ('counts', vectorizer),\n",
    "  ('classifier', modelo)\n",
    "])"
   ]
  },
  {
   "cell_type": "markdown",
   "metadata": {},
   "source": [
    "## Validando os Modelos com Validação Cruzada"
   ]
  },
  {
   "cell_type": "code",
   "execution_count": 51,
   "metadata": {},
   "outputs": [
    {
     "name": "stderr",
     "output_type": "stream",
     "text": [
      "c:\\users\\maluf\\appdata\\local\\programs\\python\\python37-32\\lib\\site-packages\\sklearn\\model_selection\\_split.py:657: Warning: The least populated class in y has only 22 members, which is too few. The minimum number of members in any class cannot be less than n_splits=48.\n",
      "  % (min_groups, self.n_splits)), Warning)\n"
     ]
    }
   ],
   "source": [
    "# Fazendo o cross validation do modelo\n",
    "resultados = cross_val_predict(pipeline_svm_simples, testes, classes, cv=48)"
   ]
  },
  {
   "cell_type": "code",
   "execution_count": 52,
   "metadata": {},
   "outputs": [
    {
     "name": "stdout",
     "output_type": "stream",
     "text": [
      "Predito   negativo  neutro  positivo  All\n",
      "Real                                     \n",
      "negativo         7       3        12   22\n",
      "neutro           3      11        14   28\n",
      "positivo         2       4        43   49\n",
      "All             12      18        69   99\n"
     ]
    }
   ],
   "source": [
    "# Matriz de confusão\n",
    "print(pd.crosstab(classes, resultados, rownames=['Real'], colnames=['Predito'], margins=True))"
   ]
  },
  {
   "cell_type": "code",
   "execution_count": 53,
   "metadata": {},
   "outputs": [
    {
     "data": {
      "text/plain": [
       "0.6161616161616161"
      ]
     },
     "execution_count": 53,
     "metadata": {},
     "output_type": "execute_result"
    }
   ],
   "source": [
    "# Medindo a acurácia média do modelo\n",
    "metrics.accuracy_score(classes,resultados)"
   ]
  },
  {
   "cell_type": "code",
   "execution_count": 54,
   "metadata": {},
   "outputs": [
    {
     "name": "stdout",
     "output_type": "stream",
     "text": [
      "acuracia =  0.6161616161616161\n"
     ]
    }
   ],
   "source": [
    "acuracia = (7+11+43)/99\n",
    "print('acuracia = ', acuracia)"
   ]
  },
  {
   "cell_type": "code",
   "execution_count": 55,
   "metadata": {},
   "outputs": [
    {
     "name": "stdout",
     "output_type": "stream",
     "text": [
      "              precision    recall  f1-score   support\n",
      "\n",
      "    positivo       0.62      0.88      0.73        49\n",
      "    negativo       0.58      0.32      0.41        22\n",
      "      neutro       0.61      0.39      0.48        28\n",
      "\n",
      "    accuracy                           0.62        99\n",
      "   macro avg       0.61      0.53      0.54        99\n",
      "weighted avg       0.61      0.62      0.59        99\n",
      "\n"
     ]
    }
   ],
   "source": [
    "# Medidas de validação do modelo\n",
    "sentimento=['positivo','negativo','neutro']\n",
    "print (metrics.classification_report(classes,resultados,sentimento))"
   ]
  },
  {
   "cell_type": "markdown",
   "metadata": {},
   "source": [
    "## Executando o modelo com 1000 tweets"
   ]
  },
  {
   "cell_type": "code",
   "execution_count": 56,
   "metadata": {},
   "outputs": [],
   "source": [
    "mil_tweets = modelo.predict(freq_testes_2)"
   ]
  },
  {
   "cell_type": "code",
   "execution_count": 57,
   "metadata": {},
   "outputs": [
    {
     "name": "stdout",
     "output_type": "stream",
     "text": [
      "neutro:  211\n",
      "positivo:  466\n",
      "negativo:  143\n",
      "819\n",
      "neutro:  0.2576312576312576\n",
      "positivo:  0.568986568986569\n",
      "negativo:  0.1746031746031746\n"
     ]
    }
   ],
   "source": [
    "neutro=0\n",
    "positivo=0\n",
    "negativo=0\n",
    "for i in mil_tweets:\n",
    "    if i=='neutro':\n",
    "        neutro+=1\n",
    "    elif i=='positivo':\n",
    "        positivo+=1\n",
    "    else:\n",
    "        negativo+=1\n",
    "        \n",
    "tamanho = len(mil_tweets)-1\n",
    "\n",
    "print('neutro: ',neutro)\n",
    "print('positivo: ', positivo)\n",
    "print('negativo: ',negativo)\n",
    "print(tamanho)\n",
    "\n",
    "print('neutro: ', neutro/tamanho)\n",
    "print('positivo: ', positivo/tamanho)\n",
    "print('negativo: ', negativo/tamanho)"
   ]
  }
 ],
 "metadata": {
  "kernelspec": {
   "display_name": "Python 3",
   "language": "python",
   "name": "python3"
  },
  "language_info": {
   "codemirror_mode": {
    "name": "ipython",
    "version": 3
   },
   "file_extension": ".py",
   "mimetype": "text/x-python",
   "name": "python",
   "nbconvert_exporter": "python",
   "pygments_lexer": "ipython3",
   "version": "3.7.3"
  }
 },
 "nbformat": 4,
 "nbformat_minor": 2
}
