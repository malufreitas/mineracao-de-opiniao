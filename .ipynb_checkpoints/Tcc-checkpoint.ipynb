{
 "cells": [
  {
   "cell_type": "code",
   "execution_count": null,
   "metadata": {},
   "outputs": [],
   "source": [
    "!pip install textblob"
   ]
  },
  {
   "cell_type": "code",
   "execution_count": null,
   "metadata": {},
   "outputs": [],
   "source": [
    "!pip install tweepy"
   ]
  },
  {
   "cell_type": "code",
   "execution_count": 1,
   "metadata": {},
   "outputs": [],
   "source": [
    "import tweepy\n",
    "import numpy as np\n",
    "\n",
    "from nltk import word_tokenize\n",
    "import nltk\n",
    "import re\n",
    "import pandas as pd\n",
    "from sklearn.feature_extraction.text import CountVectorizer\n",
    "from sklearn.naive_bayes import MultinomialNB\n",
    "from sklearn import metrics\n",
    "from sklearn.model_selection import cross_val_predict"
   ]
  },
  {
   "cell_type": "code",
   "execution_count": 2,
   "metadata": {},
   "outputs": [],
   "source": [
    "# Variaveis de acesso, keys cedidas pela api do twitter\n",
    "consumer_key = \"D7WbZKB1D8sI6SG5YSJaoUqFw\"\n",
    "consumer_secret = \"Ce2wShKqGIeMgHrmugmpNRK1AAGNXik1imJ47sLJnF4dhFKLqT\"\n",
    "access_token = \"758066017742512128-UaPf9IJfaJ957JO5nb4F8TNVa7PBH3p\"\n",
    "access_token_secret = \"amPLoPVU6hyOXUyNVRRVrzZPU6zP0lT8Mnt7eLxhbFzdF\""
   ]
  },
  {
   "cell_type": "code",
   "execution_count": 3,
   "metadata": {},
   "outputs": [],
   "source": [
    "# Realizando a autenticação\n",
    "auth = tweepy.OAuthHandler(consumer_key, consumer_secret)\n",
    "auth.set_access_token(access_token, access_token_secret)"
   ]
  },
  {
   "cell_type": "code",
   "execution_count": 4,
   "metadata": {},
   "outputs": [],
   "source": [
    "# Realizando a conexão com a API\n",
    "api = tweepy.API(auth)"
   ]
  },
  {
   "cell_type": "code",
   "execution_count": 5,
   "metadata": {},
   "outputs": [],
   "source": [
    "# Variável que irá armazenar todos os Tweets com a palavra escolhida na função search da API\n",
    "#public_tweets = api.search('Xiaomi')\n",
    "public_tweets = api.search('xiaomi mi9', lang='pt')"
   ]
  },
  {
   "cell_type": "code",
   "execution_count": null,
   "metadata": {},
   "outputs": [],
   "source": [
    "print(public_tweets)"
   ]
  },
  {
   "cell_type": "code",
   "execution_count": null,
   "metadata": {},
   "outputs": [],
   "source": [
    "type(public_tweets)"
   ]
  },
  {
   "cell_type": "code",
   "execution_count": 12,
   "metadata": {
    "scrolled": true
   },
   "outputs": [],
   "source": [
    "# Imprimir todos os tweets\n",
    "# Cria a lista com algumas informações dos tweets extraidos\n",
    "\n",
    "def cria_lista_tweets(public_tweets):\n",
    "    tweets = [] # Lista vazia para armazenar scores\n",
    "    for tweet in public_tweets:\n",
    "        #print(tweet)\n",
    "        print(tweet.id)\n",
    "        print(tweet.created_at)\n",
    "        print(tweet.text)\n",
    "        print()\n",
    "\n",
    "        lista_aux = []\n",
    "        lista_aux.append(tweet.id)\n",
    "        lista_aux.append(tweet.created_at)\n",
    "        lista_aux.append(tweet.text)\n",
    "\n",
    "        tweets.append(lista_aux)\n",
    "\n",
    "    #print(tweets)\n",
    "    return tweets"
   ]
  },
  {
   "cell_type": "code",
   "execution_count": 13,
   "metadata": {},
   "outputs": [
    {
     "name": "stdout",
     "output_type": "stream",
     "text": [
      "1171920866181025792\n",
      "2019-09-11 22:58:02\n",
      "RT @cryptolobopt: Entre um Xiaomi Mi9 e um iPhone 8, o Xiaomi leva a melhor e ainda é mais barato cerca de 120€. Parece-me incrível que a A…\n",
      "\n",
      "1171909987976785922\n",
      "2019-09-11 22:14:48\n",
      "RT @compiws: serio que tem gente falando que xiaomi vai copiar as 3 cameras''fogão de 3 bocas'' do iphone 11,vei xiaomi fez isso antes que…\n",
      "\n",
      "1171894182606245889\n",
      "2019-09-11 21:12:00\n",
      "RT @cryptolobopt: Entre um Xiaomi Mi9 e um iPhone 8, o Xiaomi leva a melhor e ainda é mais barato cerca de 120€. Parece-me incrível que a A…\n",
      "\n",
      "1171886123435679745\n",
      "2019-09-11 20:39:59\n",
      "Meu amigo -Mano eu já conhecia o xaomi, mas sempre tive receio de comprar, dei 4k no IPhone X.\n",
      "Hoje chegou o Xiaomi… https://t.co/9uMtQyjiuX\n",
      "\n",
      "1171876391819927553\n",
      "2019-09-11 20:01:18\n",
      "RT @cryptolobopt: Entre um Xiaomi Mi9 e um iPhone 8, o Xiaomi leva a melhor e ainda é mais barato cerca de 120€. Parece-me incrível que a A…\n",
      "\n",
      "1171875785621299202\n",
      "2019-09-11 19:58:54\n",
      "RT @cryptolobopt: Entre um Xiaomi Mi9 e um iPhone 8, o Xiaomi leva a melhor e ainda é mais barato cerca de 120€. Parece-me incrível que a A…\n",
      "\n",
      "1171844923265564672\n",
      "2019-09-11 17:56:16\n",
      "@BeyondTheWings_ Não vai ter eu ganhando um Xiaomi MI9\n",
      "\n",
      "1171840867197431810\n",
      "2019-09-11 17:40:09\n",
      "@dsouza_55 Faz essa merda não mano. 6s totalmente ultrapassado. Se for pra Apple tem que ser um modelo mais atual o… https://t.co/AIgeTozji0\n",
      "\n",
      "1171838224718868480\n",
      "2019-09-11 17:29:39\n",
      "Quem quiser me da um xiaomi mi9 de presente to aceitando viu\n",
      "\n",
      "1171819246147506176\n",
      "2019-09-11 16:14:14\n",
      "@kruda1020 Queria um Mi9 tbm, q Xiaomi é boa\n",
      "o único problema do iPhone pra mim é que estou acostumado com o ecossi… https://t.co/vy2eBSgt5k\n",
      "\n",
      "1171814815070916609\n",
      "2019-09-11 15:56:37\n",
      "@razzo__ Atualmente vc tem qual modelo? Qual celular vc gostaria de ter? Eu tenho um iPhone 7 e queria muito um Xia… https://t.co/gx8jwvWlko\n",
      "\n",
      "1171809794631622656\n",
      "2019-09-11 15:36:40\n",
      "RT @compiws: serio que tem gente falando que xiaomi vai copiar as 3 cameras''fogão de 3 bocas'' do iphone 11,vei xiaomi fez isso antes que…\n",
      "\n",
      "1171805318252285952\n",
      "2019-09-11 15:18:53\n",
      "RT @samuell26811559: Crítico o iPhone 11, mas se tivesse dinheiro compraria 4 xiaomi mi9 é isso.\n",
      "#Xiaomi\n",
      "\n",
      "1171790274126893056\n",
      "2019-09-11 14:19:06\n",
      "Crítico o iPhone 11, mas se tivesse dinheiro compraria 4 xiaomi mi9 é isso.\n",
      "#Xiaomi\n",
      "\n",
      "1171780568155131905\n",
      "2019-09-11 13:40:32\n",
      "RT @cryptolobopt: Entre um Xiaomi Mi9 e um iPhone 8, o Xiaomi leva a melhor e ainda é mais barato cerca de 120€. Parece-me incrível que a A…\n",
      "\n"
     ]
    }
   ],
   "source": [
    "tweets = cria_lista_tweets(public_tweets)"
   ]
  },
  {
   "cell_type": "code",
   "execution_count": 14,
   "metadata": {},
   "outputs": [],
   "source": [
    "def cria_arquivo_csv(lista):\n",
    "    arquivo = open('tweets_xiaomi.csv', 'w', encoding='utf-8')\n",
    "  \n",
    "    arquivo.write('id, created_at, text' + '\\n')\n",
    "    \n",
    "    for tweet in lista:\n",
    "        #print(tweet)\n",
    "        for pos in range(len(tweet)):\n",
    "            arquivo.write(str(tweet[pos])\n",
    "            if pos != len(tweet)-1:\n",
    "                arquivo.write(',')\n",
    "                \n",
    "        arquivo.write('\\n')\n",
    "                \n",
    "        \n",
    "    arquivo.close()"
   ]
  },
  {
   "cell_type": "code",
   "execution_count": 15,
   "metadata": {},
   "outputs": [
    {
     "ename": "TypeError",
     "evalue": "write() argument must be str, not int",
     "output_type": "error",
     "traceback": [
      "\u001b[1;31m---------------------------------------------------------------------------\u001b[0m",
      "\u001b[1;31mTypeError\u001b[0m                                 Traceback (most recent call last)",
      "\u001b[1;32m<ipython-input-15-1704f5e17d0b>\u001b[0m in \u001b[0;36m<module>\u001b[1;34m\u001b[0m\n\u001b[1;32m----> 1\u001b[1;33m \u001b[0mcria_arquivo_csv\u001b[0m\u001b[1;33m(\u001b[0m\u001b[0mtweets\u001b[0m\u001b[1;33m)\u001b[0m\u001b[1;33m\u001b[0m\u001b[1;33m\u001b[0m\u001b[0m\n\u001b[0m",
      "\u001b[1;32m<ipython-input-14-4f0092c20d68>\u001b[0m in \u001b[0;36mcria_arquivo_csv\u001b[1;34m(lista)\u001b[0m\n\u001b[0;32m      7\u001b[0m         \u001b[1;31m#print(tweet)\u001b[0m\u001b[1;33m\u001b[0m\u001b[1;33m\u001b[0m\u001b[1;33m\u001b[0m\u001b[0m\n\u001b[0;32m      8\u001b[0m         \u001b[1;32mfor\u001b[0m \u001b[0mpos\u001b[0m \u001b[1;32min\u001b[0m \u001b[0mrange\u001b[0m\u001b[1;33m(\u001b[0m\u001b[0mlen\u001b[0m\u001b[1;33m(\u001b[0m\u001b[0mtweet\u001b[0m\u001b[1;33m)\u001b[0m\u001b[1;33m)\u001b[0m\u001b[1;33m:\u001b[0m\u001b[1;33m\u001b[0m\u001b[1;33m\u001b[0m\u001b[0m\n\u001b[1;32m----> 9\u001b[1;33m             \u001b[0marquivo\u001b[0m\u001b[1;33m.\u001b[0m\u001b[0mwrite\u001b[0m\u001b[1;33m(\u001b[0m\u001b[0mtweet\u001b[0m\u001b[1;33m[\u001b[0m\u001b[0mpos\u001b[0m\u001b[1;33m]\u001b[0m\u001b[1;33m)\u001b[0m\u001b[1;33m\u001b[0m\u001b[1;33m\u001b[0m\u001b[0m\n\u001b[0m\u001b[0;32m     10\u001b[0m             \u001b[1;32mif\u001b[0m \u001b[0mpos\u001b[0m \u001b[1;33m!=\u001b[0m \u001b[0mlen\u001b[0m\u001b[1;33m(\u001b[0m\u001b[0mtweet\u001b[0m\u001b[1;33m)\u001b[0m\u001b[1;33m-\u001b[0m\u001b[1;36m1\u001b[0m\u001b[1;33m:\u001b[0m\u001b[1;33m\u001b[0m\u001b[1;33m\u001b[0m\u001b[0m\n\u001b[0;32m     11\u001b[0m                 \u001b[0marquivo\u001b[0m\u001b[1;33m.\u001b[0m\u001b[0mwrite\u001b[0m\u001b[1;33m(\u001b[0m\u001b[1;34m','\u001b[0m\u001b[1;33m)\u001b[0m\u001b[1;33m\u001b[0m\u001b[1;33m\u001b[0m\u001b[0m\n",
      "\u001b[1;31mTypeError\u001b[0m: write() argument must be str, not int"
     ]
    }
   ],
   "source": [
    "cria_arquivo_csv(tweets)"
   ]
  },
  {
   "cell_type": "code",
   "execution_count": null,
   "metadata": {},
   "outputs": [],
   "source": []
  }
 ],
 "metadata": {
  "kernelspec": {
   "display_name": "Python 3",
   "language": "python",
   "name": "python3"
  },
  "language_info": {
   "codemirror_mode": {
    "name": "ipython",
    "version": 3
   },
   "file_extension": ".py",
   "mimetype": "text/x-python",
   "name": "python",
   "nbconvert_exporter": "python",
   "pygments_lexer": "ipython3",
   "version": "3.7.3"
  }
 },
 "nbformat": 4,
 "nbformat_minor": 2
}
