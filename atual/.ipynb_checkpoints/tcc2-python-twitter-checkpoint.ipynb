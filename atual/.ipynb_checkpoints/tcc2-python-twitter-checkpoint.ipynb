{
 "cells": [
  {
   "cell_type": "code",
   "execution_count": null,
   "metadata": {},
   "outputs": [],
   "source": [
    "# Documentação\n",
    "# https://python-twitter.readthedocs.io/en/latest/twitter.html#module-twitter.api"
   ]
  },
  {
   "cell_type": "markdown",
   "metadata": {},
   "source": [
    "## Importando bibliotecas"
   ]
  },
  {
   "cell_type": "code",
   "execution_count": null,
   "metadata": {},
   "outputs": [],
   "source": [
    "!pip install python-twitter"
   ]
  },
  {
   "cell_type": "code",
   "execution_count": 1,
   "metadata": {},
   "outputs": [],
   "source": [
    "import twitter\n",
    "import json"
   ]
  },
  {
   "cell_type": "code",
   "execution_count": 241,
   "metadata": {},
   "outputs": [],
   "source": [
    "from nltk import word_tokenize\n",
    "import nltk\n",
    "import re\n",
    "import pandas as pd\n",
    "from sklearn.feature_extraction.text import CountVectorizer\n",
    "from sklearn.naive_bayes import MultinomialNB\n",
    "from sklearn import svm\n",
    "from sklearn import metrics\n",
    "from sklearn.model_selection import cross_val_predict\n",
    "from sklearn.model_selection import cross_val_score"
   ]
  },
  {
   "cell_type": "markdown",
   "metadata": {},
   "source": [
    "## Configurando api"
   ]
  },
  {
   "cell_type": "code",
   "execution_count": null,
   "metadata": {},
   "outputs": [],
   "source": [
    "# Variaveis de acesso, keys cedidas pela api do twitter\n",
    "# tokens.json"
   ]
  },
  {
   "cell_type": "code",
   "execution_count": 3,
   "metadata": {},
   "outputs": [],
   "source": [
    "# Carregando o arquivo de configuração\n",
    "with open('tokens.json') as f:\n",
    "    data = json.load(f)"
   ]
  },
  {
   "cell_type": "code",
   "execution_count": 4,
   "metadata": {},
   "outputs": [],
   "source": [
    "# Carregando a API do Twitter, utilizando os dados do arquivo json\n",
    "api = twitter.Api(**data)"
   ]
  },
  {
   "cell_type": "code",
   "execution_count": 5,
   "metadata": {},
   "outputs": [
    {
     "name": "stdout",
     "output_type": "stream",
     "text": [
      "{\"created_at\": \"Tue Jul 26 22:26:37 +0000 2016\", \"default_profile\": true, \"default_profile_image\": true, \"friends_count\": 1, \"id\": 758066017742512128, \"id_str\": \"758066017742512128\", \"name\": \"Malu Freitas\", \"profile_background_color\": \"F5F8FA\", \"profile_image_url\": \"http://abs.twimg.com/sticky/default_profile_images/default_profile_normal.png\", \"profile_image_url_https\": \"https://abs.twimg.com/sticky/default_profile_images/default_profile_normal.png\", \"profile_link_color\": \"1DA1F2\", \"profile_sidebar_border_color\": \"C0DEED\", \"profile_sidebar_fill_color\": \"DDEEF6\", \"profile_text_color\": \"333333\", \"profile_use_background_image\": true, \"screen_name\": \"MaluMalufrt\"}\n"
     ]
    }
   ],
   "source": [
    "# Testar se tudo está certo\n",
    "\n",
    "# Caso tiver alguma credencial errada, o resultado será:\n",
    "#twitter.error.TwitterError: [{'code': 32, 'message': 'Could not authenticate you.'}]\n",
    "\n",
    "print(api.VerifyCredentials())"
   ]
  },
  {
   "cell_type": "code",
   "execution_count": 6,
   "metadata": {},
   "outputs": [],
   "source": [
    "# A API do Twitter permite fazer diversos tipos de consultas. O retorno dessas consultas pode ser acessado facilmente. \n",
    "\n",
    "# Função que, a partir de uma lista de status, mostra o nome do usuário e o texto do twitter.\n",
    "\n",
    "def print_status(status_list):\n",
    "    for status in status_list:\n",
    "        print('(' + str(status.created_at) + ') ' + str(status.user.name) + ':' + str(status.text) + '\\n')"
   ]
  },
  {
   "cell_type": "markdown",
   "metadata": {},
   "source": [
    "## Buscando dados do twitter"
   ]
  },
  {
   "cell_type": "code",
   "execution_count": 7,
   "metadata": {},
   "outputs": [],
   "source": [
    "# Busca por termos\n",
    "\n",
    "status_list = api.GetSearch(term=\"mi band 4\",\n",
    "                            lang='pt',\n",
    "                            count=100)  #,\n",
    "                            #result_type='mixed')"
   ]
  },
  {
   "cell_type": "markdown",
   "metadata": {},
   "source": [
    "## Criando lista com os tweets"
   ]
  },
  {
   "cell_type": "code",
   "execution_count": 8,
   "metadata": {},
   "outputs": [],
   "source": [
    "def cria_tweet_list(status_list):\n",
    "    tweet_list = []\n",
    "    \n",
    "    for tweet in status_list:\n",
    "        tweet_list.append(tweet.text)\n",
    "    \n",
    "    return tweet_list"
   ]
  },
  {
   "cell_type": "code",
   "execution_count": 9,
   "metadata": {},
   "outputs": [
    {
     "name": "stdout",
     "output_type": "stream",
     "text": [
      "(Thu Oct 17 10:29:48 +0000 2019) P-Telemóveis:Xiaomi Mi Band 4 | Unboxing | P-Telemóveis\n",
      "https://t.co/Nl5GXpB7ZF\n",
      "\n",
      "(Thu Oct 17 08:34:40 +0000 2019) thomas shelby:que vontade de comprar um mi band 4\n",
      "\n",
      "(Thu Oct 17 05:44:41 +0000 2019) felipe:@machorrona @igoormateus Esquece a mi Band 4. Tu vai fazer exercícios de caminhada e só vai funcionar se tu tiver com o celular andando tbm\n",
      "\n",
      "(Thu Oct 17 04:33:52 +0000 2019) Palyson Dinto:Acabei de comprar a mi Band 4. Espero não me arrepender\n",
      "\n",
      "(Thu Oct 17 04:22:34 +0000 2019) Rick Siqueira 👽:Mal comprei a mi Band 2 e ja tô doido pra ter a 4, xiaomi pq fizeste isso comigo?!\n",
      "\n",
      "(Thu Oct 17 04:03:06 +0000 2019) Kelly Mansur:Só queria dizer que o mi Band 4 é top demais!!!! Tô parecendo criança 😂😂😂😂😂😂😂😂\n",
      "\n",
      "(Thu Oct 17 02:57:48 +0000 2019) Mama J ♏️:@filtrbr Faz update da Mi Band pela versão 4\n",
      "\n",
      "(Thu Oct 17 02:45:20 +0000 2019) Cristiano Almeida:@nicolleferretti  quero uma mi band 4 tchau\n",
      "\n",
      "(Thu Oct 17 02:25:14 +0000 2019) só no tagadagadá:pensando aqui em comprar\n",
      "uma mi band 4\n",
      "\n",
      "(Thu Oct 17 02:11:27 +0000 2019) Jose Nilsen:Minha mi Band 4 não pegou taxa de importação, e como eu estou agora: https://t.co/MOUXInq1DA\n",
      "\n",
      "(Thu Oct 17 01:58:59 +0000 2019) fαвισ gσмєѕ:Depois de 1 mês e 3 dias finalmente meu Xiaomi Mi Band 4 que ganhei de aniver descarregou. \n",
      "Bateria q dura da #@$%^&amp;\n",
      "\n",
      "(Thu Oct 17 01:23:55 +0000 2019) vituxin:@julixGiolo_ Vc precisa de uma mi band 4 para melhorar seus problemassss\n",
      "\n",
      "(Thu Oct 17 00:23:34 +0000 2019) ANTI-HERÓI:Acho q minha mi band 4 chega amanhã\n",
      "\n",
      "(Wed Oct 16 23:17:29 +0000 2019) Leo Silva:Xiaomi Mi Band 4 Smart Bracelet ( China Version ) - Black\n",
      "🏬 Loja: #Gearbest \n",
      "🔖 Cupom: GBXMSH01\n",
      "💵 Preço: R$104,99\n",
      "💳… https://t.co/Fvfz4SeoFA\n",
      "\n",
      "(Wed Oct 16 22:41:11 +0000 2019) Di Orc 🧟‍♂️:@canalzigueira @amazonBR A mão coça pra pegar o Mi Band 4\n",
      "\n",
      "(Wed Oct 16 22:38:56 +0000 2019) satan himself:RT @CapitaoTurbo: Alguém ai tem uma MI BAND 4  que possa me ajudar por favor?\n",
      "\n",
      "(Wed Oct 16 22:36:46 +0000 2019) Renata Klein nova pobre:Pensando em pegar a mi band 4\n",
      "Sou muito xiaomir\n",
      "\n",
      "(Wed Oct 16 22:24:48 +0000 2019) Tɑbɑtɑ🎃:Black Friday abaixe o preço do mi band 4 te imploro\n",
      "\n",
      "(Wed Oct 16 22:09:05 +0000 2019) Leo Silva:Xiaomi Mi Router 4 Dual Band 2.4G 5G 1167Mbps Gigabit Wireless WiFi Router  Sale - Banggood Mobile\n",
      "🏬 Loja:… https://t.co/SQpBgPcxrn\n",
      "\n",
      "(Wed Oct 16 22:08:57 +0000 2019) Leo Silva:Xiaomi Mi Band 4 Smart Bracelet International Version - Black\n",
      "🏬 Loja: #Gearbest \n",
      "🔖 Cupom: GBBAND4MI\n",
      "💵 Preço: R$118,… https://t.co/JXrkBZPT11\n",
      "\n",
      "(Wed Oct 16 22:03:03 +0000 2019) Lucas:Alguém ai tem uma MI BAND 4  que possa me ajudar por favor?\n",
      "\n",
      "(Wed Oct 16 21:58:05 +0000 2019) Vinícius Vasconcellos:nossa eu preciso de uma MI Band 4\n",
      "\n",
      "é a pulseira da responsabilidade\n",
      "\n",
      "(Wed Oct 16 20:22:19 +0000 2019) Maicon:Comprei minha mi band 4 :)\n",
      "\n",
      "(Wed Oct 16 19:49:31 +0000 2019) no harry, idk who i am:To tao triste\n",
      "Alguem me da a mi band 4 pfvr\n",
      "\n",
      "(Wed Oct 16 19:37:00 +0000 2019) HRQ:Mi Band 4 280$$ na loja de acessórios se tá maluco mais fácil colocar que\n",
      "aceita rim saudável kkkjj\n",
      "\n",
      "(Wed Oct 16 19:08:17 +0000 2019) Hallyson:O auge da tarde: fazendo propaganda da Mi Band 4 para o segurança da UEPB. Mais uma compra influenciada com sucesso\n",
      "\n",
      "(Wed Oct 16 18:47:02 +0000 2019) karoline uzumaki:mano quero comprar a mi band 4 pra ontem, tô apx\n",
      "\n",
      "(Wed Oct 16 18:42:17 +0000 2019) Clube de Ofertas!:Parcele em até 12x SEM JUROS!\n",
      "Smartband Xiaomi Mi Band 4 (Global) #NewChic\n",
      "\n",
      "R$ 87.18 (USD $19.99) + Frete\n",
      "→ Cupom:… https://t.co/e3pKUwZ4FQ\n",
      "\n",
      "(Wed Oct 16 18:06:28 +0000 2019) Taíla Rodrigues 🇧🇷:@XiaomiBrasil Minha Mi Band 4 parou de notificar #WhatsApp após atualização do IOS 13 alguém passando por isso? #iphone #miband4 #ios13\n",
      "\n",
      "(Wed Oct 16 17:34:57 +0000 2019) Pedroh Novaesh 🦁🔴⚫️:acho q vou comprar um mi band 4\n",
      "\n",
      "(Wed Oct 16 17:22:24 +0000 2019) Taíla Rodrigues 🇧🇷:Minha Mi Band 4 parou de notificar #WhatsApp após atualização do IOS 13 alguém passando por isso? #iphone #miband4 #ios13\n",
      "\n",
      "(Wed Oct 16 16:59:27 +0000 2019) M 🐝:RT @M3L155X: Pessoal que tem a Mi Band 4, cês tomam banho com ela?\n",
      "\n",
      "(Wed Oct 16 16:54:26 +0000 2019) dmitri:esse negocio de mi band 4 me calou porque é legalzinho pra caraio\n",
      "\n",
      "(Wed Oct 16 15:59:52 +0000 2019) caiø:RT @givovana: Eu tô vendendo rifa gente \n",
      "Apenas 2 reaix \n",
      "Vcs vão concorrer a uma jbl charge 3 e um mi band 4\n",
      "Comprem please\n",
      "\n",
      "(Wed Oct 16 15:38:12 +0000 2019) beatriz:Ainda não virei testemunha de xiaomi, mas to adorando minha mi band 4.\n",
      "\n",
      "(Wed Oct 16 15:21:29 +0000 2019) giovani:comprei um mi band 4 é isso\n",
      "\n",
      "(Wed Oct 16 14:21:28 +0000 2019) Fuvio Balsalobre 🏳️‍🌈:RT @WellPereti: Eu e o @mserrano temos duas Mi Band 3 pra vender, uns 4 meses de uso somente, se alguém se interessar chama nóis. :D https:…\n",
      "\n",
      "(Wed Oct 16 14:19:49 +0000 2019) Guilherme Farias:Smartwatch Mi Band 4 - Versão Global Lacrado, apenas R$ 190,00. Pronta entrega! Whatsapp 83 9 88440897. https://t.co/hp2Qu9bIwz\n",
      "\n",
      "(Wed Oct 16 14:06:32 +0000 2019) almeida 🏹:@filtrbr 1 - Xiaomi Redmi Note 8\n",
      "2 - JBL Pulse 3\n",
      "3 - Volta com a PowerBank\n",
      "4 - Xiaomi Mi band 4 \n",
      "5 - Xiaomi Air 2 E… https://t.co/O37CUenT1O\n",
      "\n",
      "(Wed Oct 16 13:49:40 +0000 2019) Tata, Tatinha, Tatu #RESIST:RT @WellPereti: Eu e o @mserrano temos duas Mi Band 3 pra vender, uns 4 meses de uso somente, se alguém se interessar chama nóis. :D https:…\n",
      "\n",
      "(Wed Oct 16 13:49:33 +0000 2019) Wellington Goltzman Pereti:Eu e o @mserrano temos duas Mi Band 3 pra vender, uns 4 meses de uso somente, se alguém se interessar chama nóis. :D https://t.co/H2ilbefxmy\n",
      "\n",
      "(Wed Oct 16 12:16:42 +0000 2019) • 𝐻𝑜𝑧𝑎𝑛𝑛𝑎 𝐴𝑛𝑑𝑟𝑎𝑑𝑒 :Eu to um nojo com meu brinquedinho novo Mi Band 4 😍💟\n",
      "\n",
      "(Wed Oct 16 12:07:04 +0000 2019) Giovana com G de feia e insuficiente:Eu tô vendendo rifa gente \n",
      "Apenas 2 reaix \n",
      "Vcs vão concorrer a uma jbl charge 3 e um mi band 4\n",
      "Comprem please\n",
      "\n",
      "(Wed Oct 16 08:41:00 +0000 2019) paulinhaᶜʳᶠ:eu to acordada desde as 5:10 pra ver eles liberarem mais credito pro cartao pra mim poder comprar a mi band 4 e talvez os redmi airdots\n",
      "\n",
      "(Wed Oct 16 04:33:59 +0000 2019) gabrielly:so descobri agora que tem uma função q desliga as notificações na mi band 4 porra acordar c o relógio vibrando na cara eh foda\n",
      "\n",
      "(Wed Oct 16 02:21:56 +0000 2019) M 🐝:Pessoal que tem a Mi Band 4, cês tomam banho com ela?\n",
      "\n",
      "(Wed Oct 16 02:19:20 +0000 2019) laura caixao:eu ia comprar uma mi band 4 em SP, mas aí ganhei da mãe e ontem vi q lançaram só agora ela no Brasil por beeeem mai… https://t.co/KZIGGtZIyR\n",
      "\n",
      "(Wed Oct 16 01:45:26 +0000 2019) Osi 🚬💲:Comprei um mi band 4, o único problema que comprei pela net e eu sou ansioso 😭\n",
      "\n",
      "(Wed Oct 16 01:39:22 +0000 2019) Bino Maia 🔅:Testei o Mi Band 4 sem usar o celular. Gostei. Não preciso mais fazer exercícios com o celular. https://t.co/OhoJ6nLoPl\n",
      "\n",
      "(Wed Oct 16 01:04:14 +0000 2019) Paola ☀️:Esperando ansiosamente o meu Mi Band 4 chegar\n",
      "\n",
      "(Wed Oct 16 00:39:42 +0000 2019) Diário Online:Mi Band 4: pulseira inteligente da Xiaomi chega oficialmente ao Brasil https://t.co/pGIDuWXf0y https://t.co/D5mN568m6r\n",
      "\n",
      "(Wed Oct 16 00:35:10 +0000 2019) Dinho's in Hawaii:Meu Airdots chegou pra fazer companhia pro meu Redmi 7 e pra Mi Band 4 \n",
      "Xiaomi maior e melhor https://t.co/PvpFgKUco8\n",
      "\n",
      "(Wed Oct 16 00:17:11 +0000 2019) Love hurts:@heyanab Meu mi Band 4 tá no limbo faz um tempão\n",
      "\n",
      "(Wed Oct 16 00:10:45 +0000 2019) Arthur:Meu Mi Band 4 chegou 🥰\n",
      "\n",
      "(Tue Oct 15 23:51:52 +0000 2019) Tha 🎺🌂:Peguei uma mi band 4, negócio é dahorinha, mas nada supera o designer de uma Apple Watch hein, vou comprar uma também\n",
      "\n",
      "(Tue Oct 15 23:04:37 +0000 2019) suffered a humiliating defeat:Ah, ganhei a Mi Band 4 de aniversário 😍\n",
      "\n",
      "(Tue Oct 15 20:54:49 +0000 2019) ickle bickle:@gustavodefilpo bixo tô namorando com a mi Band 4\n",
      "\n",
      "(Tue Oct 15 20:03:23 +0000 2019) Daph:Comprei a Mi band 4 e to td hr olhando pro pulso igual um power ranger esperando a hr de mofar Hahahahah\n",
      "\n",
      "(Tue Oct 15 19:53:39 +0000 2019) Andrew McArthur:@stevencf3 @csantaengracia Mi band 4 de encéfalo\n",
      "\n",
      "(Tue Oct 15 19:27:31 +0000 2019) Enriq:Comprei um mi band 4, vou botar Watch Face do Ricardo Milos\n",
      "\n",
      "(Tue Oct 15 19:21:56 +0000 2019) jeanzinho:RT @blwckbirds: me amas de facto? presenteies-me com uma mi band 4 https://t.co/fRLBKtCJTd\n",
      "\n",
      "(Tue Oct 15 18:11:34 +0000 2019) letícia:me amas de facto? presenteies-me com uma mi band 4 https://t.co/fRLBKtCJTd\n",
      "\n",
      "(Tue Oct 15 18:01:51 +0000 2019) dali:eu quero um xiaomi mi smart band 4\n",
      "\n",
      "(Tue Oct 15 16:48:34 +0000 2019) rafaEU:comprei um mi band 4 no wish por um preço muito em conta, se chegar um isqueiro ao invés de um relógio eu não vou me surpreender\n",
      "\n",
      "(Tue Oct 15 16:25:47 +0000 2019) Lucas Peçanha:@RrpK Fiquei na dúvida&gt; Mi band 4 ou Hero band 3.\n",
      "\n",
      "(Tue Oct 15 16:17:48 +0000 2019) Rafossauro:Estou carregando minha Mi Band 4 neste exato momento pela primeira vez, depois de quase 15 dias de uso :) excelente aquisição, e uso muito!\n",
      "\n",
      "(Tue Oct 15 15:41:59 +0000 2019) Maíra Tahaní:Alguém tem a mi band 4?\n",
      "\n",
      "(Tue Oct 15 15:31:27 +0000 2019) melhor Dudu que Duardo:descobri que eu só tive 44 minutos de sono profundo, tá aí o motivo de todo stress\n",
      "Fonte: mi Band 4 @XiaomiBrasil\n",
      "\n",
      "(Tue Oct 15 15:30:10 +0000 2019) melhor Dudu que Duardo:@vinissera_ indico, essa mi Band 4 da @XiaomiBrasil é top de linha\n",
      "\n",
      "(Tue Oct 15 14:55:20 +0000 2019) Z-7ᵇᶠʳ:Minha Mi Band 4 chegou kkklkkk tô todo bobo\n",
      "\n",
      "(Tue Oct 15 14:54:20 +0000 2019) Maria:Meu mi band 4 tudo pra mim 💕\n",
      "\n",
      "(Tue Oct 15 14:43:16 +0000 2019) Paulo Renato:RT @Tecnoblog: Xiaomi Mi Band 4 com tela colorida chega oficialmente ao Brasil por R$ 335 https://t.co/oDhJkvM22h https://t.co/nAHbgPgNOf\n",
      "\n",
      "(Tue Oct 15 14:39:38 +0000 2019) Gilmar ( C.R.V.G ):@XiaomiBrasil Bom dia , já possuo uma mi band 4 , quando vai estar disponível a Amazfit GTS aqui no Brasil?\n",
      "\n",
      "(Tue Oct 15 14:12:55 +0000 2019) Enriq:@abrevrnt @adfstnnn vlw, vou baixar e botar no meu mi band 4\n",
      "\n",
      "(Tue Oct 15 14:12:10 +0000 2019) harry trotsky☭:@DirtyEnriq @adfstnnn https://t.co/YpTIx6ijPN tem aqui, só dar uma olhada (ta lá pela página 3 eu acho)\n",
      "\n",
      "(Tue Oct 15 14:08:17 +0000 2019) Willame Figueredo:@lorenarebelo Mi Band 4 são essas smartwatches (vulgo RELOGINHO COM PULSEIRA COLORIDA) que são integrados ao Mi Fit… https://t.co/mAnfP9N8zI\n",
      "\n",
      "(Tue Oct 15 13:57:35 +0000 2019) ar tu:@xomayara kkkkkkkkk\n",
      "foi 150\n",
      "e ele ainda me deu uma pelicula da mi band 4\n",
      "ele vende só a pelicula por 10 conto\n",
      "\n",
      "se q… https://t.co/nAzu0Aq15d\n",
      "\n",
      "(Tue Oct 15 13:56:18 +0000 2019) may:@tutuzinh0 quanto foi?? tô pensando em comprar \n",
      "já tenho mi band 3 e comprei a 4 tô quase uma testemunha de xiaomi tbm kkkkk\n",
      "\n",
      "(Tue Oct 15 13:49:35 +0000 2019) ar tu:@muryelmartiins comprei agr agr, o cara veio trazer aqui na ufal\n",
      "do pouco que usei eu gostei, a quakidade do som é… https://t.co/KPcE6QWf5g\n",
      "\n",
      "(Tue Oct 15 13:47:56 +0000 2019) Willame Figueredo:@lorenarebelo Mi Fit, é o app da minha Mi Band 4, ele registra, entre outras coisas, as horas de sono hahaha.\n",
      "\n",
      "(Tue Oct 15 13:47:29 +0000 2019) Willame Figueredo:@joaovictorpaz Geralmente eu durmo bem, mas essa noite especificamente deu uma bugada haha.\n",
      "\n",
      "É o app da Mi Band 4,… https://t.co/PDt0CznM4W\n",
      "\n",
      "(Tue Oct 15 12:05:53 +0000 2019) Fabiana:@euqueroedormir O preço aumentou.\n",
      "Kit 2 Películas Protetora de Silicone para Xiaomi Mi Band 4 https://t.co/UMur1xTsBw\n",
      "\n",
      "(Tue Oct 15 11:36:34 +0000 2019) ANDRÉ:Pow meu Mi Band 4 não vai chegar a tempo pra eu viajar com ele. Obg a todos os envolvidos nisso. 40 dias e nada 😓\n",
      "\n",
      "(Tue Oct 15 11:08:33 +0000 2019) Rodrigo de Oliveira:@canalrssv mi band 4 realmente e uma escolha bem interessante...\n",
      "vc ainda tem o bip?\n",
      "\n",
      "(Tue Oct 15 07:24:44 +0000 2019) Zé Américo AZUL:Xiaomi Mi Band 4 chega oficialmente ao Brasil por R$ 355\n",
      "\n",
      "https://t.co/L3rb9Zc7DA\n",
      "\n",
      "(Tue Oct 15 05:17:17 +0000 2019) João:RT @olhardigital: Quem está procurando uma pulseira inteligente para acompanhar e monitorar seus exercícios e atividades do dia a dia ganho…\n",
      "\n",
      "(Tue Oct 15 04:27:03 +0000 2019) Bauxilliam 不要踩到我 🇭🇰:Eu devo esperar a Black Fraude para ver se a Mi Band 4 abaixa mais o preço ou compro por 150 da Amazon BR (vendida… https://t.co/3behfjhMVi\n",
      "\n",
      "(Tue Oct 15 02:43:36 +0000 2019) Vidal:Porra, só queria uma mi band 4 :(\n",
      "\n",
      "(Tue Oct 15 02:30:25 +0000 2019) cançado & barreto advocacia:ok eu decidi que preciso de uma mi band 4\n",
      "\n",
      "(Tue Oct 15 01:51:40 +0000 2019) já o que? 🅾️–:RT @marisjulis: mi band 4 é pior que o zika virus jesus a cada 5 jovens os 5 tem um no pulso\n",
      "\n",
      "(Tue Oct 15 01:41:38 +0000 2019) _Sr.exatas:RT @olhardigital: Quem está procurando uma pulseira inteligente para acompanhar e monitorar seus exercícios e atividades do dia a dia ganho…\n",
      "\n",
      "(Tue Oct 15 00:51:53 +0000 2019) Auditório maravitório:Minha Mi Band 3 foi pro brejo convenientemente após o lançamento da 4 no Brasil\n",
      "\n",
      "Agora a bateria não dura nem 20 horas\n",
      "\n",
      "(Tue Oct 15 00:51:34 +0000 2019) juju:Liked on YouTube: Mi Band 4 vs Honor Band 5 💥Qual é a minha preferida e por que? https://t.co/BAlEReGkpB\n",
      "\n",
      "(Tue Oct 15 00:05:33 +0000 2019) Gabrielle Cavalini:Tô muito feliiiiiiiiiiiz, meus pais estão vindo de SP e trazendo p mim um mi band 4, para completar minha linha Xiaomi que amo muitoooo...\n",
      "\n",
      "(Mon Oct 14 23:53:55 +0000 2019) Kalyston:@PerboniVictor Compra a minha que vc concorre a um mi Band 4 e uma caixa de som charge 3!!!  XD\n",
      "\n",
      "(Mon Oct 14 23:12:08 +0000 2019) Jeniffer com dois f:meu mi Band 4 chegou e eu tô toda besta\n",
      "\n",
      "(Mon Oct 14 23:06:16 +0000 2019) majeba:mi band 4 é pior que o zika virus jesus a cada 5 jovens os 5 tem um no pulso\n",
      "\n",
      "(Mon Oct 14 22:54:27 +0000 2019) Valdinei Trindade:RT @olhardigital: Quem está procurando uma pulseira inteligente para acompanhar e monitorar seus exercícios e atividades do dia a dia ganho…\n",
      "\n",
      "(Mon Oct 14 22:31:37 +0000 2019) Yuri Grillo:@olhardigital Compre um imposto e leve uma mi Band 4\n",
      "\n",
      "(Mon Oct 14 22:31:34 +0000 2019) Iracema 卂尺ㄒ丂:RT @olhardigital: Quem está procurando uma pulseira inteligente para acompanhar e monitorar seus exercícios e atividades do dia a dia ganho…\n",
      "\n"
     ]
    }
   ],
   "source": [
    "# Printando elementos\n",
    "print_status(status_list=status_list)"
   ]
  },
  {
   "cell_type": "code",
   "execution_count": 10,
   "metadata": {},
   "outputs": [
    {
     "name": "stdout",
     "output_type": "stream",
     "text": [
      "100\n"
     ]
    }
   ],
   "source": [
    "print(len(status_list))"
   ]
  },
  {
   "cell_type": "code",
   "execution_count": 25,
   "metadata": {},
   "outputs": [],
   "source": [
    "tweet_list = cria_tweet_list(status_list)"
   ]
  },
  {
   "cell_type": "code",
   "execution_count": 26,
   "metadata": {},
   "outputs": [
    {
     "name": "stdout",
     "output_type": "stream",
     "text": [
      "['Xiaomi Mi Band 4 | Unboxing | P-Telemóveis\\nhttps://t.co/Nl5GXpB7ZF', 'que vontade de comprar um mi band 4', '@machorrona @igoormateus Esquece a mi Band 4. Tu vai fazer exercícios de caminhada e só vai funcionar se tu tiver com o celular andando tbm', 'Acabei de comprar a mi Band 4. Espero não me arrepender', 'Mal comprei a mi Band 2 e ja tô doido pra ter a 4, xiaomi pq fizeste isso comigo?!', 'Só queria dizer que o mi Band 4 é top demais!!!! Tô parecendo criança 😂😂😂😂😂😂😂😂', '@filtrbr Faz update da Mi Band pela versão 4', '@nicolleferretti  quero uma mi band 4 tchau', 'pensando aqui em comprar\\numa mi band 4', 'Minha mi Band 4 não pegou taxa de importação, e como eu estou agora: https://t.co/MOUXInq1DA', 'Depois de 1 mês e 3 dias finalmente meu Xiaomi Mi Band 4 que ganhei de aniver descarregou. \\nBateria q dura da #@$%^&amp;', '@julixGiolo_ Vc precisa de uma mi band 4 para melhorar seus problemassss', 'Acho q minha mi band 4 chega amanhã', 'Xiaomi Mi Band 4 Smart Bracelet ( China Version ) - Black\\n🏬 Loja: #Gearbest \\n🔖 Cupom: GBXMSH01\\n💵 Preço: R$104,99\\n💳… https://t.co/Fvfz4SeoFA', '@canalzigueira @amazonBR A mão coça pra pegar o Mi Band 4', 'RT @CapitaoTurbo: Alguém ai tem uma MI BAND 4  que possa me ajudar por favor?', 'Pensando em pegar a mi band 4\\nSou muito xiaomir', 'Black Friday abaixe o preço do mi band 4 te imploro', 'Xiaomi Mi Router 4 Dual Band 2.4G 5G 1167Mbps Gigabit Wireless WiFi Router  Sale - Banggood Mobile\\n🏬 Loja:… https://t.co/SQpBgPcxrn', 'Xiaomi Mi Band 4 Smart Bracelet International Version - Black\\n🏬 Loja: #Gearbest \\n🔖 Cupom: GBBAND4MI\\n💵 Preço: R$118,… https://t.co/JXrkBZPT11', 'Alguém ai tem uma MI BAND 4  que possa me ajudar por favor?', 'nossa eu preciso de uma MI Band 4\\n\\né a pulseira da responsabilidade', 'Comprei minha mi band 4 :)', 'To tao triste\\nAlguem me da a mi band 4 pfvr', 'Mi Band 4 280$$ na loja de acessórios se tá maluco mais fácil colocar que\\naceita rim saudável kkkjj', 'O auge da tarde: fazendo propaganda da Mi Band 4 para o segurança da UEPB. Mais uma compra influenciada com sucesso', 'mano quero comprar a mi band 4 pra ontem, tô apx', 'Parcele em até 12x SEM JUROS!\\nSmartband Xiaomi Mi Band 4 (Global) #NewChic\\n\\nR$ 87.18 (USD $19.99) + Frete\\n→ Cupom:… https://t.co/e3pKUwZ4FQ', '@XiaomiBrasil Minha Mi Band 4 parou de notificar #WhatsApp após atualização do IOS 13 alguém passando por isso? #iphone #miband4 #ios13', 'acho q vou comprar um mi band 4', 'Minha Mi Band 4 parou de notificar #WhatsApp após atualização do IOS 13 alguém passando por isso? #iphone #miband4 #ios13', 'RT @M3L155X: Pessoal que tem a Mi Band 4, cês tomam banho com ela?', 'esse negocio de mi band 4 me calou porque é legalzinho pra caraio', 'RT @givovana: Eu tô vendendo rifa gente \\nApenas 2 reaix \\nVcs vão concorrer a uma jbl charge 3 e um mi band 4\\nComprem please', 'Ainda não virei testemunha de xiaomi, mas to adorando minha mi band 4.', 'comprei um mi band 4 é isso', 'RT @WellPereti: Eu e o @mserrano temos duas Mi Band 3 pra vender, uns 4 meses de uso somente, se alguém se interessar chama nóis. :D https:…', 'Smartwatch Mi Band 4 - Versão Global Lacrado, apenas R$ 190,00. Pronta entrega! Whatsapp 83 9 88440897. https://t.co/hp2Qu9bIwz', '@filtrbr 1 - Xiaomi Redmi Note 8\\n2 - JBL Pulse 3\\n3 - Volta com a PowerBank\\n4 - Xiaomi Mi band 4 \\n5 - Xiaomi Air 2 E… https://t.co/O37CUenT1O', 'RT @WellPereti: Eu e o @mserrano temos duas Mi Band 3 pra vender, uns 4 meses de uso somente, se alguém se interessar chama nóis. :D https:…', 'Eu e o @mserrano temos duas Mi Band 3 pra vender, uns 4 meses de uso somente, se alguém se interessar chama nóis. :D https://t.co/H2ilbefxmy', 'Eu to um nojo com meu brinquedinho novo Mi Band 4 😍💟', 'Eu tô vendendo rifa gente \\nApenas 2 reaix \\nVcs vão concorrer a uma jbl charge 3 e um mi band 4\\nComprem please', 'eu to acordada desde as 5:10 pra ver eles liberarem mais credito pro cartao pra mim poder comprar a mi band 4 e talvez os redmi airdots', 'so descobri agora que tem uma função q desliga as notificações na mi band 4 porra acordar c o relógio vibrando na cara eh foda', 'Pessoal que tem a Mi Band 4, cês tomam banho com ela?', 'eu ia comprar uma mi band 4 em SP, mas aí ganhei da mãe e ontem vi q lançaram só agora ela no Brasil por beeeem mai… https://t.co/KZIGGtZIyR', 'Comprei um mi band 4, o único problema que comprei pela net e eu sou ansioso 😭', 'Testei o Mi Band 4 sem usar o celular. Gostei. Não preciso mais fazer exercícios com o celular. https://t.co/OhoJ6nLoPl', 'Esperando ansiosamente o meu Mi Band 4 chegar', 'Mi Band 4: pulseira inteligente da Xiaomi chega oficialmente ao Brasil https://t.co/pGIDuWXf0y https://t.co/D5mN568m6r', 'Meu Airdots chegou pra fazer companhia pro meu Redmi 7 e pra Mi Band 4 \\nXiaomi maior e melhor https://t.co/PvpFgKUco8', '@heyanab Meu mi Band 4 tá no limbo faz um tempão', 'Meu Mi Band 4 chegou 🥰', 'Peguei uma mi band 4, negócio é dahorinha, mas nada supera o designer de uma Apple Watch hein, vou comprar uma também', 'Ah, ganhei a Mi Band 4 de aniversário 😍', '@gustavodefilpo bixo tô namorando com a mi Band 4', 'Comprei a Mi band 4 e to td hr olhando pro pulso igual um power ranger esperando a hr de mofar Hahahahah', '@stevencf3 @csantaengracia Mi band 4 de encéfalo', 'Comprei um mi band 4, vou botar Watch Face do Ricardo Milos', 'RT @blwckbirds: me amas de facto? presenteies-me com uma mi band 4 https://t.co/fRLBKtCJTd', 'me amas de facto? presenteies-me com uma mi band 4 https://t.co/fRLBKtCJTd', 'eu quero um xiaomi mi smart band 4', 'comprei um mi band 4 no wish por um preço muito em conta, se chegar um isqueiro ao invés de um relógio eu não vou me surpreender', '@RrpK Fiquei na dúvida&gt; Mi band 4 ou Hero band 3.', 'Estou carregando minha Mi Band 4 neste exato momento pela primeira vez, depois de quase 15 dias de uso :) excelente aquisição, e uso muito!', 'Alguém tem a mi band 4?', 'descobri que eu só tive 44 minutos de sono profundo, tá aí o motivo de todo stress\\nFonte: mi Band 4 @XiaomiBrasil', '@vinissera_ indico, essa mi Band 4 da @XiaomiBrasil é top de linha', 'Minha Mi Band 4 chegou kkklkkk tô todo bobo', 'Meu mi band 4 tudo pra mim 💕', 'RT @Tecnoblog: Xiaomi Mi Band 4 com tela colorida chega oficialmente ao Brasil por R$\\xa0335 https://t.co/oDhJkvM22h https://t.co/nAHbgPgNOf', '@XiaomiBrasil Bom dia , já possuo uma mi band 4 , quando vai estar disponível a Amazfit GTS aqui no Brasil?', '@abrevrnt @adfstnnn vlw, vou baixar e botar no meu mi band 4', '@DirtyEnriq @adfstnnn https://t.co/YpTIx6ijPN tem aqui, só dar uma olhada (ta lá pela página 3 eu acho)', '@lorenarebelo Mi Band 4 são essas smartwatches (vulgo RELOGINHO COM PULSEIRA COLORIDA) que são integrados ao Mi Fit… https://t.co/mAnfP9N8zI', '@xomayara kkkkkkkkk\\nfoi 150\\ne ele ainda me deu uma pelicula da mi band 4\\nele vende só a pelicula por 10 conto\\n\\nse q… https://t.co/nAzu0Aq15d', '@tutuzinh0 quanto foi?? tô pensando em comprar \\njá tenho mi band 3 e comprei a 4 tô quase uma testemunha de xiaomi tbm kkkkk', '@muryelmartiins comprei agr agr, o cara veio trazer aqui na ufal\\ndo pouco que usei eu gostei, a quakidade do som é… https://t.co/KPcE6QWf5g', '@lorenarebelo Mi Fit, é o app da minha Mi Band 4, ele registra, entre outras coisas, as horas de sono hahaha.', '@joaovictorpaz Geralmente eu durmo bem, mas essa noite especificamente deu uma bugada haha.\\n\\nÉ o app da Mi Band 4,… https://t.co/PDt0CznM4W', '@euqueroedormir O preço aumentou.\\nKit 2 Películas Protetora de Silicone para Xiaomi Mi Band 4 https://t.co/UMur1xTsBw', 'Pow meu Mi Band 4 não vai chegar a tempo pra eu viajar com ele. Obg a todos os envolvidos nisso. 40 dias e nada 😓', '@canalrssv mi band 4 realmente e uma escolha bem interessante...\\nvc ainda tem o bip?', 'Xiaomi Mi Band 4 chega oficialmente ao Brasil por R$ 355\\n\\nhttps://t.co/L3rb9Zc7DA', 'RT @olhardigital: Quem está procurando uma pulseira inteligente para acompanhar e monitorar seus exercícios e atividades do dia a dia ganho…', 'Eu devo esperar a Black Fraude para ver se a Mi Band 4 abaixa mais o preço ou compro por 150 da Amazon BR (vendida… https://t.co/3behfjhMVi', 'Porra, só queria uma mi band 4 :(', 'ok eu decidi que preciso de uma mi band 4', 'RT @marisjulis: mi band 4 é pior que o zika virus jesus a cada 5 jovens os 5 tem um no pulso', 'RT @olhardigital: Quem está procurando uma pulseira inteligente para acompanhar e monitorar seus exercícios e atividades do dia a dia ganho…', 'Minha Mi Band 3 foi pro brejo convenientemente após o lançamento da 4 no Brasil\\n\\nAgora a bateria não dura nem 20 horas', 'Liked on YouTube: Mi Band 4 vs Honor Band 5 💥Qual é a minha preferida e por que? https://t.co/BAlEReGkpB', 'Tô muito feliiiiiiiiiiiz, meus pais estão vindo de SP e trazendo p mim um mi band 4, para completar minha linha Xiaomi que amo muitoooo...', '@PerboniVictor Compra a minha que vc concorre a um mi Band 4 e uma caixa de som charge 3!!!  XD', 'meu mi Band 4 chegou e eu tô toda besta', 'mi band 4 é pior que o zika virus jesus a cada 5 jovens os 5 tem um no pulso', 'RT @olhardigital: Quem está procurando uma pulseira inteligente para acompanhar e monitorar seus exercícios e atividades do dia a dia ganho…', '@olhardigital Compre um imposto e leve uma mi Band 4', 'RT @olhardigital: Quem está procurando uma pulseira inteligente para acompanhar e monitorar seus exercícios e atividades do dia a dia ganho…']\n"
     ]
    }
   ],
   "source": [
    "print(tweet_list)"
   ]
  },
  {
   "cell_type": "code",
   "execution_count": 13,
   "metadata": {},
   "outputs": [
    {
     "name": "stdout",
     "output_type": "stream",
     "text": [
      "'Xiaomi Mi Band 4 | Unboxing | P-Telemóveis\n",
      "https://t.co/Nl5GXpB7ZF'\n",
      "----------------------------------------------------------------------------------------------------------------\n",
      "'que vontade de comprar um mi band 4'\n",
      "----------------------------------------------------------------------------------------------------------------\n",
      "'@machorrona @igoormateus Esquece a mi Band 4. Tu vai fazer exercícios de caminhada e só vai funcionar se tu tiver com o celular andando tbm'\n",
      "----------------------------------------------------------------------------------------------------------------\n",
      "'Acabei de comprar a mi Band 4. Espero não me arrepender'\n",
      "----------------------------------------------------------------------------------------------------------------\n",
      "'Mal comprei a mi Band 2 e ja tô doido pra ter a 4, xiaomi pq fizeste isso comigo?!'\n",
      "----------------------------------------------------------------------------------------------------------------\n",
      "'Só queria dizer que o mi Band 4 é top demais!!!! Tô parecendo criança 😂😂😂😂😂😂😂😂'\n",
      "----------------------------------------------------------------------------------------------------------------\n",
      "'@filtrbr Faz update da Mi Band pela versão 4'\n",
      "----------------------------------------------------------------------------------------------------------------\n",
      "'@nicolleferretti  quero uma mi band 4 tchau'\n",
      "----------------------------------------------------------------------------------------------------------------\n",
      "'pensando aqui em comprar\n",
      "uma mi band 4'\n",
      "----------------------------------------------------------------------------------------------------------------\n",
      "'Minha mi Band 4 não pegou taxa de importação, e como eu estou agora: https://t.co/MOUXInq1DA'\n",
      "----------------------------------------------------------------------------------------------------------------\n",
      "'Depois de 1 mês e 3 dias finalmente meu Xiaomi Mi Band 4 que ganhei de aniver descarregou. \n",
      "Bateria q dura da #@$%^&amp;'\n",
      "----------------------------------------------------------------------------------------------------------------\n",
      "'@julixGiolo_ Vc precisa de uma mi band 4 para melhorar seus problemassss'\n",
      "----------------------------------------------------------------------------------------------------------------\n",
      "'Acho q minha mi band 4 chega amanhã'\n",
      "----------------------------------------------------------------------------------------------------------------\n",
      "'Xiaomi Mi Band 4 Smart Bracelet ( China Version ) - Black\n",
      "🏬 Loja: #Gearbest \n",
      "🔖 Cupom: GBXMSH01\n",
      "💵 Preço: R$104,99\n",
      "💳… https://t.co/Fvfz4SeoFA'\n",
      "----------------------------------------------------------------------------------------------------------------\n",
      "'@canalzigueira @amazonBR A mão coça pra pegar o Mi Band 4'\n",
      "----------------------------------------------------------------------------------------------------------------\n",
      "'RT @CapitaoTurbo: Alguém ai tem uma MI BAND 4  que possa me ajudar por favor?'\n",
      "----------------------------------------------------------------------------------------------------------------\n",
      "'Pensando em pegar a mi band 4\n",
      "Sou muito xiaomir'\n",
      "----------------------------------------------------------------------------------------------------------------\n",
      "'Black Friday abaixe o preço do mi band 4 te imploro'\n",
      "----------------------------------------------------------------------------------------------------------------\n",
      "'Xiaomi Mi Router 4 Dual Band 2.4G 5G 1167Mbps Gigabit Wireless WiFi Router  Sale - Banggood Mobile\n",
      "🏬 Loja:… https://t.co/SQpBgPcxrn'\n",
      "----------------------------------------------------------------------------------------------------------------\n",
      "'Xiaomi Mi Band 4 Smart Bracelet International Version - Black\n",
      "🏬 Loja: #Gearbest \n",
      "🔖 Cupom: GBBAND4MI\n",
      "💵 Preço: R$118,… https://t.co/JXrkBZPT11'\n",
      "----------------------------------------------------------------------------------------------------------------\n",
      "'Alguém ai tem uma MI BAND 4  que possa me ajudar por favor?'\n",
      "----------------------------------------------------------------------------------------------------------------\n",
      "'nossa eu preciso de uma MI Band 4\n",
      "\n",
      "é a pulseira da responsabilidade'\n",
      "----------------------------------------------------------------------------------------------------------------\n",
      "'Comprei minha mi band 4 :)'\n",
      "----------------------------------------------------------------------------------------------------------------\n",
      "'To tao triste\n",
      "Alguem me da a mi band 4 pfvr'\n",
      "----------------------------------------------------------------------------------------------------------------\n",
      "'Mi Band 4 280$$ na loja de acessórios se tá maluco mais fácil colocar que\n",
      "aceita rim saudável kkkjj'\n",
      "----------------------------------------------------------------------------------------------------------------\n",
      "'O auge da tarde: fazendo propaganda da Mi Band 4 para o segurança da UEPB. Mais uma compra influenciada com sucesso'\n",
      "----------------------------------------------------------------------------------------------------------------\n",
      "'mano quero comprar a mi band 4 pra ontem, tô apx'\n",
      "----------------------------------------------------------------------------------------------------------------\n",
      "'Parcele em até 12x SEM JUROS!\n",
      "Smartband Xiaomi Mi Band 4 (Global) #NewChic\n",
      "\n",
      "R$ 87.18 (USD $19.99) + Frete\n",
      "→ Cupom:… https://t.co/e3pKUwZ4FQ'\n",
      "----------------------------------------------------------------------------------------------------------------\n",
      "'@XiaomiBrasil Minha Mi Band 4 parou de notificar #WhatsApp após atualização do IOS 13 alguém passando por isso? #iphone #miband4 #ios13'\n",
      "----------------------------------------------------------------------------------------------------------------\n",
      "'acho q vou comprar um mi band 4'\n",
      "----------------------------------------------------------------------------------------------------------------\n",
      "'Minha Mi Band 4 parou de notificar #WhatsApp após atualização do IOS 13 alguém passando por isso? #iphone #miband4 #ios13'\n",
      "----------------------------------------------------------------------------------------------------------------\n",
      "'RT @M3L155X: Pessoal que tem a Mi Band 4, cês tomam banho com ela?'\n",
      "----------------------------------------------------------------------------------------------------------------\n",
      "'esse negocio de mi band 4 me calou porque é legalzinho pra caraio'\n",
      "----------------------------------------------------------------------------------------------------------------\n",
      "'RT @givovana: Eu tô vendendo rifa gente \n",
      "Apenas 2 reaix \n",
      "Vcs vão concorrer a uma jbl charge 3 e um mi band 4\n",
      "Comprem please'\n",
      "----------------------------------------------------------------------------------------------------------------\n",
      "'Ainda não virei testemunha de xiaomi, mas to adorando minha mi band 4.'\n",
      "----------------------------------------------------------------------------------------------------------------\n",
      "'comprei um mi band 4 é isso'\n",
      "----------------------------------------------------------------------------------------------------------------\n",
      "'RT @WellPereti: Eu e o @mserrano temos duas Mi Band 3 pra vender, uns 4 meses de uso somente, se alguém se interessar chama nóis. :D https:…'\n",
      "----------------------------------------------------------------------------------------------------------------\n",
      "'Smartwatch Mi Band 4 - Versão Global Lacrado, apenas R$ 190,00. Pronta entrega! Whatsapp 83 9 88440897. https://t.co/hp2Qu9bIwz'\n",
      "----------------------------------------------------------------------------------------------------------------\n",
      "'@filtrbr 1 - Xiaomi Redmi Note 8\n",
      "2 - JBL Pulse 3\n",
      "3 - Volta com a PowerBank\n",
      "4 - Xiaomi Mi band 4 \n",
      "5 - Xiaomi Air 2 E… https://t.co/O37CUenT1O'\n",
      "----------------------------------------------------------------------------------------------------------------\n",
      "'RT @WellPereti: Eu e o @mserrano temos duas Mi Band 3 pra vender, uns 4 meses de uso somente, se alguém se interessar chama nóis. :D https:…'\n",
      "----------------------------------------------------------------------------------------------------------------\n",
      "'Eu e o @mserrano temos duas Mi Band 3 pra vender, uns 4 meses de uso somente, se alguém se interessar chama nóis. :D https://t.co/H2ilbefxmy'\n",
      "----------------------------------------------------------------------------------------------------------------\n",
      "'Eu to um nojo com meu brinquedinho novo Mi Band 4 😍💟'\n",
      "----------------------------------------------------------------------------------------------------------------\n",
      "'Eu tô vendendo rifa gente \n",
      "Apenas 2 reaix \n",
      "Vcs vão concorrer a uma jbl charge 3 e um mi band 4\n",
      "Comprem please'\n",
      "----------------------------------------------------------------------------------------------------------------\n",
      "'eu to acordada desde as 5:10 pra ver eles liberarem mais credito pro cartao pra mim poder comprar a mi band 4 e talvez os redmi airdots'\n",
      "----------------------------------------------------------------------------------------------------------------\n",
      "'so descobri agora que tem uma função q desliga as notificações na mi band 4 porra acordar c o relógio vibrando na cara eh foda'\n",
      "----------------------------------------------------------------------------------------------------------------\n",
      "'Pessoal que tem a Mi Band 4, cês tomam banho com ela?'\n",
      "----------------------------------------------------------------------------------------------------------------\n",
      "'eu ia comprar uma mi band 4 em SP, mas aí ganhei da mãe e ontem vi q lançaram só agora ela no Brasil por beeeem mai… https://t.co/KZIGGtZIyR'\n",
      "----------------------------------------------------------------------------------------------------------------\n",
      "'Comprei um mi band 4, o único problema que comprei pela net e eu sou ansioso 😭'\n",
      "----------------------------------------------------------------------------------------------------------------\n",
      "'Testei o Mi Band 4 sem usar o celular. Gostei. Não preciso mais fazer exercícios com o celular. https://t.co/OhoJ6nLoPl'\n",
      "----------------------------------------------------------------------------------------------------------------\n",
      "'Esperando ansiosamente o meu Mi Band 4 chegar'\n",
      "----------------------------------------------------------------------------------------------------------------\n",
      "'Mi Band 4: pulseira inteligente da Xiaomi chega oficialmente ao Brasil https://t.co/pGIDuWXf0y https://t.co/D5mN568m6r'\n",
      "----------------------------------------------------------------------------------------------------------------\n",
      "'Meu Airdots chegou pra fazer companhia pro meu Redmi 7 e pra Mi Band 4 \n",
      "Xiaomi maior e melhor https://t.co/PvpFgKUco8'\n",
      "----------------------------------------------------------------------------------------------------------------\n",
      "'@heyanab Meu mi Band 4 tá no limbo faz um tempão'\n",
      "----------------------------------------------------------------------------------------------------------------\n",
      "'Meu Mi Band 4 chegou 🥰'\n",
      "----------------------------------------------------------------------------------------------------------------\n",
      "'Peguei uma mi band 4, negócio é dahorinha, mas nada supera o designer de uma Apple Watch hein, vou comprar uma também'\n",
      "----------------------------------------------------------------------------------------------------------------\n",
      "'Ah, ganhei a Mi Band 4 de aniversário 😍'\n",
      "----------------------------------------------------------------------------------------------------------------\n",
      "'@gustavodefilpo bixo tô namorando com a mi Band 4'\n",
      "----------------------------------------------------------------------------------------------------------------\n",
      "'Comprei a Mi band 4 e to td hr olhando pro pulso igual um power ranger esperando a hr de mofar Hahahahah'\n",
      "----------------------------------------------------------------------------------------------------------------\n",
      "'@stevencf3 @csantaengracia Mi band 4 de encéfalo'\n",
      "----------------------------------------------------------------------------------------------------------------\n",
      "'Comprei um mi band 4, vou botar Watch Face do Ricardo Milos'\n",
      "----------------------------------------------------------------------------------------------------------------\n",
      "'RT @blwckbirds: me amas de facto? presenteies-me com uma mi band 4 https://t.co/fRLBKtCJTd'\n",
      "----------------------------------------------------------------------------------------------------------------\n",
      "'me amas de facto? presenteies-me com uma mi band 4 https://t.co/fRLBKtCJTd'\n",
      "----------------------------------------------------------------------------------------------------------------\n",
      "'eu quero um xiaomi mi smart band 4'\n",
      "----------------------------------------------------------------------------------------------------------------\n",
      "'comprei um mi band 4 no wish por um preço muito em conta, se chegar um isqueiro ao invés de um relógio eu não vou me surpreender'\n",
      "----------------------------------------------------------------------------------------------------------------\n",
      "'@RrpK Fiquei na dúvida&gt; Mi band 4 ou Hero band 3.'\n",
      "----------------------------------------------------------------------------------------------------------------\n",
      "'Estou carregando minha Mi Band 4 neste exato momento pela primeira vez, depois de quase 15 dias de uso :) excelente aquisição, e uso muito!'\n",
      "----------------------------------------------------------------------------------------------------------------\n",
      "'Alguém tem a mi band 4?'\n",
      "----------------------------------------------------------------------------------------------------------------\n",
      "'descobri que eu só tive 44 minutos de sono profundo, tá aí o motivo de todo stress\n",
      "Fonte: mi Band 4 @XiaomiBrasil'\n",
      "----------------------------------------------------------------------------------------------------------------\n",
      "'@vinissera_ indico, essa mi Band 4 da @XiaomiBrasil é top de linha'\n",
      "----------------------------------------------------------------------------------------------------------------\n",
      "'Minha Mi Band 4 chegou kkklkkk tô todo bobo'\n",
      "----------------------------------------------------------------------------------------------------------------\n",
      "'Meu mi band 4 tudo pra mim 💕'\n",
      "----------------------------------------------------------------------------------------------------------------\n",
      "'RT @Tecnoblog: Xiaomi Mi Band 4 com tela colorida chega oficialmente ao Brasil por R$ 335 https://t.co/oDhJkvM22h https://t.co/nAHbgPgNOf'\n",
      "----------------------------------------------------------------------------------------------------------------\n",
      "'@XiaomiBrasil Bom dia , já possuo uma mi band 4 , quando vai estar disponível a Amazfit GTS aqui no Brasil?'\n",
      "----------------------------------------------------------------------------------------------------------------\n",
      "'@abrevrnt @adfstnnn vlw, vou baixar e botar no meu mi band 4'\n",
      "----------------------------------------------------------------------------------------------------------------\n",
      "'@DirtyEnriq @adfstnnn https://t.co/YpTIx6ijPN tem aqui, só dar uma olhada (ta lá pela página 3 eu acho)'\n",
      "----------------------------------------------------------------------------------------------------------------\n",
      "'@lorenarebelo Mi Band 4 são essas smartwatches (vulgo RELOGINHO COM PULSEIRA COLORIDA) que são integrados ao Mi Fit… https://t.co/mAnfP9N8zI'\n",
      "----------------------------------------------------------------------------------------------------------------\n",
      "'@xomayara kkkkkkkkk\n",
      "foi 150\n",
      "e ele ainda me deu uma pelicula da mi band 4\n",
      "ele vende só a pelicula por 10 conto\n",
      "\n",
      "se q… https://t.co/nAzu0Aq15d'\n",
      "----------------------------------------------------------------------------------------------------------------\n",
      "'@tutuzinh0 quanto foi?? tô pensando em comprar \n",
      "já tenho mi band 3 e comprei a 4 tô quase uma testemunha de xiaomi tbm kkkkk'\n",
      "----------------------------------------------------------------------------------------------------------------\n",
      "'@muryelmartiins comprei agr agr, o cara veio trazer aqui na ufal\n",
      "do pouco que usei eu gostei, a quakidade do som é… https://t.co/KPcE6QWf5g'\n",
      "----------------------------------------------------------------------------------------------------------------\n",
      "'@lorenarebelo Mi Fit, é o app da minha Mi Band 4, ele registra, entre outras coisas, as horas de sono hahaha.'\n",
      "----------------------------------------------------------------------------------------------------------------\n",
      "'@joaovictorpaz Geralmente eu durmo bem, mas essa noite especificamente deu uma bugada haha.\n",
      "\n",
      "É o app da Mi Band 4,… https://t.co/PDt0CznM4W'\n",
      "----------------------------------------------------------------------------------------------------------------\n",
      "'@euqueroedormir O preço aumentou.\n",
      "Kit 2 Películas Protetora de Silicone para Xiaomi Mi Band 4 https://t.co/UMur1xTsBw'\n",
      "----------------------------------------------------------------------------------------------------------------\n",
      "'Pow meu Mi Band 4 não vai chegar a tempo pra eu viajar com ele. Obg a todos os envolvidos nisso. 40 dias e nada 😓'\n",
      "----------------------------------------------------------------------------------------------------------------\n",
      "'@canalrssv mi band 4 realmente e uma escolha bem interessante...\n",
      "vc ainda tem o bip?'\n",
      "----------------------------------------------------------------------------------------------------------------\n",
      "'Xiaomi Mi Band 4 chega oficialmente ao Brasil por R$ 355\n",
      "\n",
      "https://t.co/L3rb9Zc7DA'\n",
      "----------------------------------------------------------------------------------------------------------------\n",
      "'RT @olhardigital: Quem está procurando uma pulseira inteligente para acompanhar e monitorar seus exercícios e atividades do dia a dia ganho…'\n",
      "----------------------------------------------------------------------------------------------------------------\n",
      "'Eu devo esperar a Black Fraude para ver se a Mi Band 4 abaixa mais o preço ou compro por 150 da Amazon BR (vendida… https://t.co/3behfjhMVi'\n",
      "----------------------------------------------------------------------------------------------------------------\n",
      "'Porra, só queria uma mi band 4 :('\n",
      "----------------------------------------------------------------------------------------------------------------\n",
      "'ok eu decidi que preciso de uma mi band 4'\n",
      "----------------------------------------------------------------------------------------------------------------\n",
      "'RT @marisjulis: mi band 4 é pior que o zika virus jesus a cada 5 jovens os 5 tem um no pulso'\n",
      "----------------------------------------------------------------------------------------------------------------\n",
      "'RT @olhardigital: Quem está procurando uma pulseira inteligente para acompanhar e monitorar seus exercícios e atividades do dia a dia ganho…'\n",
      "----------------------------------------------------------------------------------------------------------------\n",
      "'Minha Mi Band 3 foi pro brejo convenientemente após o lançamento da 4 no Brasil\n",
      "\n",
      "Agora a bateria não dura nem 20 horas'\n",
      "----------------------------------------------------------------------------------------------------------------\n",
      "'Liked on YouTube: Mi Band 4 vs Honor Band 5 💥Qual é a minha preferida e por que? https://t.co/BAlEReGkpB'\n",
      "----------------------------------------------------------------------------------------------------------------\n",
      "'Tô muito feliiiiiiiiiiiz, meus pais estão vindo de SP e trazendo p mim um mi band 4, para completar minha linha Xiaomi que amo muitoooo...'\n",
      "----------------------------------------------------------------------------------------------------------------\n",
      "'@PerboniVictor Compra a minha que vc concorre a um mi Band 4 e uma caixa de som charge 3!!!  XD'\n",
      "----------------------------------------------------------------------------------------------------------------\n",
      "'meu mi Band 4 chegou e eu tô toda besta'\n",
      "----------------------------------------------------------------------------------------------------------------\n",
      "'mi band 4 é pior que o zika virus jesus a cada 5 jovens os 5 tem um no pulso'\n",
      "----------------------------------------------------------------------------------------------------------------\n",
      "'RT @olhardigital: Quem está procurando uma pulseira inteligente para acompanhar e monitorar seus exercícios e atividades do dia a dia ganho…'\n",
      "----------------------------------------------------------------------------------------------------------------\n",
      "'@olhardigital Compre um imposto e leve uma mi Band 4'\n",
      "----------------------------------------------------------------------------------------------------------------\n",
      "'RT @olhardigital: Quem está procurando uma pulseira inteligente para acompanhar e monitorar seus exercícios e atividades do dia a dia ganho…'\n",
      "----------------------------------------------------------------------------------------------------------------\n"
     ]
    }
   ],
   "source": [
    "for i in tweet_list:\n",
    "    print(\"'\" + str(i) + \"'\")\n",
    "    print('----------------------------------------------------------------------------------------------------------------')"
   ]
  },
  {
   "cell_type": "code",
   "execution_count": null,
   "metadata": {},
   "outputs": [],
   "source": [
    "# criei\n",
    "# tweet_list\n",
    "# tweet_list_2\n",
    "# tweet_list_3"
   ]
  },
  {
   "cell_type": "markdown",
   "metadata": {},
   "source": [
    "## Remove os tweets duplicados"
   ]
  },
  {
   "cell_type": "code",
   "execution_count": 28,
   "metadata": {},
   "outputs": [],
   "source": [
    "lista_sem_duplicados = list(set(tweet_list))"
   ]
  },
  {
   "cell_type": "code",
   "execution_count": 15,
   "metadata": {},
   "outputs": [
    {
     "name": "stdout",
     "output_type": "stream",
     "text": [
      "<class 'list'>\n"
     ]
    }
   ],
   "source": [
    "print(type(lista_sem_duplicados))"
   ]
  },
  {
   "cell_type": "code",
   "execution_count": 16,
   "metadata": {},
   "outputs": [
    {
     "name": "stdout",
     "output_type": "stream",
     "text": [
      "100\n"
     ]
    }
   ],
   "source": [
    "print(len(tweet_list))"
   ]
  },
  {
   "cell_type": "code",
   "execution_count": 17,
   "metadata": {},
   "outputs": [
    {
     "name": "stdout",
     "output_type": "stream",
     "text": [
      "96\n"
     ]
    }
   ],
   "source": [
    "print(len(lista_sem_duplicados))"
   ]
  },
  {
   "cell_type": "code",
   "execution_count": 29,
   "metadata": {},
   "outputs": [
    {
     "name": "stdout",
     "output_type": "stream",
     "text": [
      "['@heyanab Meu mi Band 4 tá no limbo faz um tempão', 'Pensando em pegar a mi band 4\\nSou muito xiaomir', '@canalrssv mi band 4 realmente e uma escolha bem interessante...\\nvc ainda tem o bip?', 'Peguei uma mi band 4, negócio é dahorinha, mas nada supera o designer de uma Apple Watch hein, vou comprar uma também', 'acho q vou comprar um mi band 4', 'Acho q minha mi band 4 chega amanhã', '@nicolleferretti  quero uma mi band 4 tchau', 'Mi Band 4: pulseira inteligente da Xiaomi chega oficialmente ao Brasil https://t.co/pGIDuWXf0y https://t.co/D5mN568m6r', '@XiaomiBrasil Bom dia , já possuo uma mi band 4 , quando vai estar disponível a Amazfit GTS aqui no Brasil?', 'mano quero comprar a mi band 4 pra ontem, tô apx', '@gustavodefilpo bixo tô namorando com a mi Band 4', 'O auge da tarde: fazendo propaganda da Mi Band 4 para o segurança da UEPB. Mais uma compra influenciada com sucesso', '@lorenarebelo Mi Band 4 são essas smartwatches (vulgo RELOGINHO COM PULSEIRA COLORIDA) que são integrados ao Mi Fit… https://t.co/mAnfP9N8zI', 'que vontade de comprar um mi band 4', '@olhardigital Compre um imposto e leve uma mi Band 4', 'Xiaomi Mi Router 4 Dual Band 2.4G 5G 1167Mbps Gigabit Wireless WiFi Router  Sale - Banggood Mobile\\n🏬 Loja:… https://t.co/SQpBgPcxrn', 'Minha mi Band 4 não pegou taxa de importação, e como eu estou agora: https://t.co/MOUXInq1DA', 'esse negocio de mi band 4 me calou porque é legalzinho pra caraio', 'Eu to um nojo com meu brinquedinho novo Mi Band 4 😍💟', 'nossa eu preciso de uma MI Band 4\\n\\né a pulseira da responsabilidade', 'Estou carregando minha Mi Band 4 neste exato momento pela primeira vez, depois de quase 15 dias de uso :) excelente aquisição, e uso muito!', 'comprei um mi band 4 no wish por um preço muito em conta, se chegar um isqueiro ao invés de um relógio eu não vou me surpreender', 'mi band 4 é pior que o zika virus jesus a cada 5 jovens os 5 tem um no pulso', '@machorrona @igoormateus Esquece a mi Band 4. Tu vai fazer exercícios de caminhada e só vai funcionar se tu tiver com o celular andando tbm', 'Ainda não virei testemunha de xiaomi, mas to adorando minha mi band 4.', 'Minha Mi Band 3 foi pro brejo convenientemente após o lançamento da 4 no Brasil\\n\\nAgora a bateria não dura nem 20 horas', 'RT @Tecnoblog: Xiaomi Mi Band 4 com tela colorida chega oficialmente ao Brasil por R$\\xa0335 https://t.co/oDhJkvM22h https://t.co/nAHbgPgNOf', 'Black Friday abaixe o preço do mi band 4 te imploro', 'Comprei um mi band 4, vou botar Watch Face do Ricardo Milos', 'Alguém tem a mi band 4?', 'Meu mi band 4 tudo pra mim 💕', 'Liked on YouTube: Mi Band 4 vs Honor Band 5 💥Qual é a minha preferida e por que? https://t.co/BAlEReGkpB', 'Comprei minha mi band 4 :)', 'Ah, ganhei a Mi Band 4 de aniversário 😍', '@joaovictorpaz Geralmente eu durmo bem, mas essa noite especificamente deu uma bugada haha.\\n\\nÉ o app da Mi Band 4,… https://t.co/PDt0CznM4W', 'Mi Band 4 280$$ na loja de acessórios se tá maluco mais fácil colocar que\\naceita rim saudável kkkjj', 'Meu Mi Band 4 chegou 🥰', '@tutuzinh0 quanto foi?? tô pensando em comprar \\njá tenho mi band 3 e comprei a 4 tô quase uma testemunha de xiaomi tbm kkkkk', 'ok eu decidi que preciso de uma mi band 4', '@stevencf3 @csantaengracia Mi band 4 de encéfalo', 'Comprei um mi band 4, o único problema que comprei pela net e eu sou ansioso 😭', 'Depois de 1 mês e 3 dias finalmente meu Xiaomi Mi Band 4 que ganhei de aniver descarregou. \\nBateria q dura da #@$%^&amp;', 'descobri que eu só tive 44 minutos de sono profundo, tá aí o motivo de todo stress\\nFonte: mi Band 4 @XiaomiBrasil', 'Minha Mi Band 4 chegou kkklkkk tô todo bobo', '@XiaomiBrasil Minha Mi Band 4 parou de notificar #WhatsApp após atualização do IOS 13 alguém passando por isso? #iphone #miband4 #ios13', 'RT @M3L155X: Pessoal que tem a Mi Band 4, cês tomam banho com ela?', 'Meu Airdots chegou pra fazer companhia pro meu Redmi 7 e pra Mi Band 4 \\nXiaomi maior e melhor https://t.co/PvpFgKUco8', 'Comprei a Mi band 4 e to td hr olhando pro pulso igual um power ranger esperando a hr de mofar Hahahahah', 'meu mi Band 4 chegou e eu tô toda besta', '@DirtyEnriq @adfstnnn https://t.co/YpTIx6ijPN tem aqui, só dar uma olhada (ta lá pela página 3 eu acho)', 'Xiaomi Mi Band 4 chega oficialmente ao Brasil por R$ 355\\n\\nhttps://t.co/L3rb9Zc7DA', 'Mal comprei a mi Band 2 e ja tô doido pra ter a 4, xiaomi pq fizeste isso comigo?!', 'Acabei de comprar a mi Band 4. Espero não me arrepender', 'Parcele em até 12x SEM JUROS!\\nSmartband Xiaomi Mi Band 4 (Global) #NewChic\\n\\nR$ 87.18 (USD $19.99) + Frete\\n→ Cupom:… https://t.co/e3pKUwZ4FQ', 'me amas de facto? presenteies-me com uma mi band 4 https://t.co/fRLBKtCJTd', 'Xiaomi Mi Band 4 Smart Bracelet ( China Version ) - Black\\n🏬 Loja: #Gearbest \\n🔖 Cupom: GBXMSH01\\n💵 Preço: R$104,99\\n💳… https://t.co/Fvfz4SeoFA', 'Xiaomi Mi Band 4 Smart Bracelet International Version - Black\\n🏬 Loja: #Gearbest \\n🔖 Cupom: GBBAND4MI\\n💵 Preço: R$118,… https://t.co/JXrkBZPT11', 'Alguém ai tem uma MI BAND 4  que possa me ajudar por favor?', '@abrevrnt @adfstnnn vlw, vou baixar e botar no meu mi band 4', 'Só queria dizer que o mi Band 4 é top demais!!!! Tô parecendo criança 😂😂😂😂😂😂😂😂', 'eu to acordada desde as 5:10 pra ver eles liberarem mais credito pro cartao pra mim poder comprar a mi band 4 e talvez os redmi airdots', '@euqueroedormir O preço aumentou.\\nKit 2 Películas Protetora de Silicone para Xiaomi Mi Band 4 https://t.co/UMur1xTsBw', 'RT @marisjulis: mi band 4 é pior que o zika virus jesus a cada 5 jovens os 5 tem um no pulso', 'RT @olhardigital: Quem está procurando uma pulseira inteligente para acompanhar e monitorar seus exercícios e atividades do dia a dia ganho…', '@RrpK Fiquei na dúvida&gt; Mi band 4 ou Hero band 3.', 'pensando aqui em comprar\\numa mi band 4', '@vinissera_ indico, essa mi Band 4 da @XiaomiBrasil é top de linha', 'RT @WellPereti: Eu e o @mserrano temos duas Mi Band 3 pra vender, uns 4 meses de uso somente, se alguém se interessar chama nóis. :D https:…', '@muryelmartiins comprei agr agr, o cara veio trazer aqui na ufal\\ndo pouco que usei eu gostei, a quakidade do som é… https://t.co/KPcE6QWf5g', 'Porra, só queria uma mi band 4 :(', 'Tô muito feliiiiiiiiiiiz, meus pais estão vindo de SP e trazendo p mim um mi band 4, para completar minha linha Xiaomi que amo muitoooo...', 'so descobri agora que tem uma função q desliga as notificações na mi band 4 porra acordar c o relógio vibrando na cara eh foda', '@xomayara kkkkkkkkk\\nfoi 150\\ne ele ainda me deu uma pelicula da mi band 4\\nele vende só a pelicula por 10 conto\\n\\nse q… https://t.co/nAzu0Aq15d', 'Xiaomi Mi Band 4 | Unboxing | P-Telemóveis\\nhttps://t.co/Nl5GXpB7ZF', 'RT @CapitaoTurbo: Alguém ai tem uma MI BAND 4  que possa me ajudar por favor?', '@filtrbr Faz update da Mi Band pela versão 4', 'Pessoal que tem a Mi Band 4, cês tomam banho com ela?', 'Smartwatch Mi Band 4 - Versão Global Lacrado, apenas R$ 190,00. Pronta entrega! Whatsapp 83 9 88440897. https://t.co/hp2Qu9bIwz', 'RT @blwckbirds: me amas de facto? presenteies-me com uma mi band 4 https://t.co/fRLBKtCJTd', '@julixGiolo_ Vc precisa de uma mi band 4 para melhorar seus problemassss', 'RT @givovana: Eu tô vendendo rifa gente \\nApenas 2 reaix \\nVcs vão concorrer a uma jbl charge 3 e um mi band 4\\nComprem please', 'To tao triste\\nAlguem me da a mi band 4 pfvr', '@canalzigueira @amazonBR A mão coça pra pegar o Mi Band 4', 'Esperando ansiosamente o meu Mi Band 4 chegar', 'Minha Mi Band 4 parou de notificar #WhatsApp após atualização do IOS 13 alguém passando por isso? #iphone #miband4 #ios13', 'eu ia comprar uma mi band 4 em SP, mas aí ganhei da mãe e ontem vi q lançaram só agora ela no Brasil por beeeem mai… https://t.co/KZIGGtZIyR', 'Pow meu Mi Band 4 não vai chegar a tempo pra eu viajar com ele. Obg a todos os envolvidos nisso. 40 dias e nada 😓', '@filtrbr 1 - Xiaomi Redmi Note 8\\n2 - JBL Pulse 3\\n3 - Volta com a PowerBank\\n4 - Xiaomi Mi band 4 \\n5 - Xiaomi Air 2 E… https://t.co/O37CUenT1O', 'comprei um mi band 4 é isso', 'Eu tô vendendo rifa gente \\nApenas 2 reaix \\nVcs vão concorrer a uma jbl charge 3 e um mi band 4\\nComprem please', 'eu quero um xiaomi mi smart band 4', 'Testei o Mi Band 4 sem usar o celular. Gostei. Não preciso mais fazer exercícios com o celular. https://t.co/OhoJ6nLoPl', '@lorenarebelo Mi Fit, é o app da minha Mi Band 4, ele registra, entre outras coisas, as horas de sono hahaha.', 'Eu devo esperar a Black Fraude para ver se a Mi Band 4 abaixa mais o preço ou compro por 150 da Amazon BR (vendida… https://t.co/3behfjhMVi', 'Eu e o @mserrano temos duas Mi Band 3 pra vender, uns 4 meses de uso somente, se alguém se interessar chama nóis. :D https://t.co/H2ilbefxmy', '@PerboniVictor Compra a minha que vc concorre a um mi Band 4 e uma caixa de som charge 3!!!  XD']\n"
     ]
    }
   ],
   "source": [
    "print(lista_sem_duplicados)"
   ]
  },
  {
   "cell_type": "code",
   "execution_count": 27,
   "metadata": {},
   "outputs": [
    {
     "name": "stdout",
     "output_type": "stream",
     "text": [
      "['Xiaomi Mi Band 4 | Unboxing | P-Telemóveis\\nhttps://t.co/Nl5GXpB7ZF', 'que vontade de comprar um mi band 4', '@machorrona @igoormateus Esquece a mi Band 4. Tu vai fazer exercícios de caminhada e só vai funcionar se tu tiver com o celular andando tbm', 'Acabei de comprar a mi Band 4. Espero não me arrepender', 'Mal comprei a mi Band 2 e ja tô doido pra ter a 4, xiaomi pq fizeste isso comigo?!', 'Só queria dizer que o mi Band 4 é top demais!!!! Tô parecendo criança 😂😂😂😂😂😂😂😂', '@filtrbr Faz update da Mi Band pela versão 4', '@nicolleferretti  quero uma mi band 4 tchau', 'pensando aqui em comprar\\numa mi band 4', 'Minha mi Band 4 não pegou taxa de importação, e como eu estou agora: https://t.co/MOUXInq1DA', 'Depois de 1 mês e 3 dias finalmente meu Xiaomi Mi Band 4 que ganhei de aniver descarregou. \\nBateria q dura da #@$%^&amp;', '@julixGiolo_ Vc precisa de uma mi band 4 para melhorar seus problemassss', 'Acho q minha mi band 4 chega amanhã', 'Xiaomi Mi Band 4 Smart Bracelet ( China Version ) - Black\\n🏬 Loja: #Gearbest \\n🔖 Cupom: GBXMSH01\\n💵 Preço: R$104,99\\n💳… https://t.co/Fvfz4SeoFA', '@canalzigueira @amazonBR A mão coça pra pegar o Mi Band 4', 'RT @CapitaoTurbo: Alguém ai tem uma MI BAND 4  que possa me ajudar por favor?', 'Pensando em pegar a mi band 4\\nSou muito xiaomir', 'Black Friday abaixe o preço do mi band 4 te imploro', 'Xiaomi Mi Router 4 Dual Band 2.4G 5G 1167Mbps Gigabit Wireless WiFi Router  Sale - Banggood Mobile\\n🏬 Loja:… https://t.co/SQpBgPcxrn', 'Xiaomi Mi Band 4 Smart Bracelet International Version - Black\\n🏬 Loja: #Gearbest \\n🔖 Cupom: GBBAND4MI\\n💵 Preço: R$118,… https://t.co/JXrkBZPT11', 'Alguém ai tem uma MI BAND 4  que possa me ajudar por favor?', 'nossa eu preciso de uma MI Band 4\\n\\né a pulseira da responsabilidade', 'Comprei minha mi band 4 :)', 'To tao triste\\nAlguem me da a mi band 4 pfvr', 'Mi Band 4 280$$ na loja de acessórios se tá maluco mais fácil colocar que\\naceita rim saudável kkkjj', 'O auge da tarde: fazendo propaganda da Mi Band 4 para o segurança da UEPB. Mais uma compra influenciada com sucesso', 'mano quero comprar a mi band 4 pra ontem, tô apx', 'Parcele em até 12x SEM JUROS!\\nSmartband Xiaomi Mi Band 4 (Global) #NewChic\\n\\nR$ 87.18 (USD $19.99) + Frete\\n→ Cupom:… https://t.co/e3pKUwZ4FQ', '@XiaomiBrasil Minha Mi Band 4 parou de notificar #WhatsApp após atualização do IOS 13 alguém passando por isso? #iphone #miband4 #ios13', 'acho q vou comprar um mi band 4', 'Minha Mi Band 4 parou de notificar #WhatsApp após atualização do IOS 13 alguém passando por isso? #iphone #miband4 #ios13', 'RT @M3L155X: Pessoal que tem a Mi Band 4, cês tomam banho com ela?', 'esse negocio de mi band 4 me calou porque é legalzinho pra caraio', 'RT @givovana: Eu tô vendendo rifa gente \\nApenas 2 reaix \\nVcs vão concorrer a uma jbl charge 3 e um mi band 4\\nComprem please', 'Ainda não virei testemunha de xiaomi, mas to adorando minha mi band 4.', 'comprei um mi band 4 é isso', 'RT @WellPereti: Eu e o @mserrano temos duas Mi Band 3 pra vender, uns 4 meses de uso somente, se alguém se interessar chama nóis. :D https:…', 'Smartwatch Mi Band 4 - Versão Global Lacrado, apenas R$ 190,00. Pronta entrega! Whatsapp 83 9 88440897. https://t.co/hp2Qu9bIwz', '@filtrbr 1 - Xiaomi Redmi Note 8\\n2 - JBL Pulse 3\\n3 - Volta com a PowerBank\\n4 - Xiaomi Mi band 4 \\n5 - Xiaomi Air 2 E… https://t.co/O37CUenT1O', 'RT @WellPereti: Eu e o @mserrano temos duas Mi Band 3 pra vender, uns 4 meses de uso somente, se alguém se interessar chama nóis. :D https:…', 'Eu e o @mserrano temos duas Mi Band 3 pra vender, uns 4 meses de uso somente, se alguém se interessar chama nóis. :D https://t.co/H2ilbefxmy', 'Eu to um nojo com meu brinquedinho novo Mi Band 4 😍💟', 'Eu tô vendendo rifa gente \\nApenas 2 reaix \\nVcs vão concorrer a uma jbl charge 3 e um mi band 4\\nComprem please', 'eu to acordada desde as 5:10 pra ver eles liberarem mais credito pro cartao pra mim poder comprar a mi band 4 e talvez os redmi airdots', 'so descobri agora que tem uma função q desliga as notificações na mi band 4 porra acordar c o relógio vibrando na cara eh foda', 'Pessoal que tem a Mi Band 4, cês tomam banho com ela?', 'eu ia comprar uma mi band 4 em SP, mas aí ganhei da mãe e ontem vi q lançaram só agora ela no Brasil por beeeem mai… https://t.co/KZIGGtZIyR', 'Comprei um mi band 4, o único problema que comprei pela net e eu sou ansioso 😭', 'Testei o Mi Band 4 sem usar o celular. Gostei. Não preciso mais fazer exercícios com o celular. https://t.co/OhoJ6nLoPl', 'Esperando ansiosamente o meu Mi Band 4 chegar', 'Mi Band 4: pulseira inteligente da Xiaomi chega oficialmente ao Brasil https://t.co/pGIDuWXf0y https://t.co/D5mN568m6r', 'Meu Airdots chegou pra fazer companhia pro meu Redmi 7 e pra Mi Band 4 \\nXiaomi maior e melhor https://t.co/PvpFgKUco8', '@heyanab Meu mi Band 4 tá no limbo faz um tempão', 'Meu Mi Band 4 chegou 🥰', 'Peguei uma mi band 4, negócio é dahorinha, mas nada supera o designer de uma Apple Watch hein, vou comprar uma também', 'Ah, ganhei a Mi Band 4 de aniversário 😍', '@gustavodefilpo bixo tô namorando com a mi Band 4', 'Comprei a Mi band 4 e to td hr olhando pro pulso igual um power ranger esperando a hr de mofar Hahahahah', '@stevencf3 @csantaengracia Mi band 4 de encéfalo', 'Comprei um mi band 4, vou botar Watch Face do Ricardo Milos', 'RT @blwckbirds: me amas de facto? presenteies-me com uma mi band 4 https://t.co/fRLBKtCJTd', 'me amas de facto? presenteies-me com uma mi band 4 https://t.co/fRLBKtCJTd', 'eu quero um xiaomi mi smart band 4', 'comprei um mi band 4 no wish por um preço muito em conta, se chegar um isqueiro ao invés de um relógio eu não vou me surpreender', '@RrpK Fiquei na dúvida&gt; Mi band 4 ou Hero band 3.', 'Estou carregando minha Mi Band 4 neste exato momento pela primeira vez, depois de quase 15 dias de uso :) excelente aquisição, e uso muito!', 'Alguém tem a mi band 4?', 'descobri que eu só tive 44 minutos de sono profundo, tá aí o motivo de todo stress\\nFonte: mi Band 4 @XiaomiBrasil', '@vinissera_ indico, essa mi Band 4 da @XiaomiBrasil é top de linha', 'Minha Mi Band 4 chegou kkklkkk tô todo bobo', 'Meu mi band 4 tudo pra mim 💕', 'RT @Tecnoblog: Xiaomi Mi Band 4 com tela colorida chega oficialmente ao Brasil por R$\\xa0335 https://t.co/oDhJkvM22h https://t.co/nAHbgPgNOf', '@XiaomiBrasil Bom dia , já possuo uma mi band 4 , quando vai estar disponível a Amazfit GTS aqui no Brasil?', '@abrevrnt @adfstnnn vlw, vou baixar e botar no meu mi band 4', '@DirtyEnriq @adfstnnn https://t.co/YpTIx6ijPN tem aqui, só dar uma olhada (ta lá pela página 3 eu acho)', '@lorenarebelo Mi Band 4 são essas smartwatches (vulgo RELOGINHO COM PULSEIRA COLORIDA) que são integrados ao Mi Fit… https://t.co/mAnfP9N8zI', '@xomayara kkkkkkkkk\\nfoi 150\\ne ele ainda me deu uma pelicula da mi band 4\\nele vende só a pelicula por 10 conto\\n\\nse q… https://t.co/nAzu0Aq15d', '@tutuzinh0 quanto foi?? tô pensando em comprar \\njá tenho mi band 3 e comprei a 4 tô quase uma testemunha de xiaomi tbm kkkkk', '@muryelmartiins comprei agr agr, o cara veio trazer aqui na ufal\\ndo pouco que usei eu gostei, a quakidade do som é… https://t.co/KPcE6QWf5g', '@lorenarebelo Mi Fit, é o app da minha Mi Band 4, ele registra, entre outras coisas, as horas de sono hahaha.', '@joaovictorpaz Geralmente eu durmo bem, mas essa noite especificamente deu uma bugada haha.\\n\\nÉ o app da Mi Band 4,… https://t.co/PDt0CznM4W', '@euqueroedormir O preço aumentou.\\nKit 2 Películas Protetora de Silicone para Xiaomi Mi Band 4 https://t.co/UMur1xTsBw', 'Pow meu Mi Band 4 não vai chegar a tempo pra eu viajar com ele. Obg a todos os envolvidos nisso. 40 dias e nada 😓', '@canalrssv mi band 4 realmente e uma escolha bem interessante...\\nvc ainda tem o bip?', 'Xiaomi Mi Band 4 chega oficialmente ao Brasil por R$ 355\\n\\nhttps://t.co/L3rb9Zc7DA', 'RT @olhardigital: Quem está procurando uma pulseira inteligente para acompanhar e monitorar seus exercícios e atividades do dia a dia ganho…', 'Eu devo esperar a Black Fraude para ver se a Mi Band 4 abaixa mais o preço ou compro por 150 da Amazon BR (vendida… https://t.co/3behfjhMVi', 'Porra, só queria uma mi band 4 :(', 'ok eu decidi que preciso de uma mi band 4', 'RT @marisjulis: mi band 4 é pior que o zika virus jesus a cada 5 jovens os 5 tem um no pulso', 'RT @olhardigital: Quem está procurando uma pulseira inteligente para acompanhar e monitorar seus exercícios e atividades do dia a dia ganho…', 'Minha Mi Band 3 foi pro brejo convenientemente após o lançamento da 4 no Brasil\\n\\nAgora a bateria não dura nem 20 horas', 'Liked on YouTube: Mi Band 4 vs Honor Band 5 💥Qual é a minha preferida e por que? https://t.co/BAlEReGkpB', 'Tô muito feliiiiiiiiiiiz, meus pais estão vindo de SP e trazendo p mim um mi band 4, para completar minha linha Xiaomi que amo muitoooo...', '@PerboniVictor Compra a minha que vc concorre a um mi Band 4 e uma caixa de som charge 3!!!  XD', 'meu mi Band 4 chegou e eu tô toda besta', 'mi band 4 é pior que o zika virus jesus a cada 5 jovens os 5 tem um no pulso', 'RT @olhardigital: Quem está procurando uma pulseira inteligente para acompanhar e monitorar seus exercícios e atividades do dia a dia ganho…', '@olhardigital Compre um imposto e leve uma mi Band 4', 'RT @olhardigital: Quem está procurando uma pulseira inteligente para acompanhar e monitorar seus exercícios e atividades do dia a dia ganho…']\n"
     ]
    }
   ],
   "source": [
    "print(tweet_list)"
   ]
  },
  {
   "cell_type": "markdown",
   "metadata": {},
   "source": [
    "## Coloca os tweets da lista em um arquivo .csv"
   ]
  },
  {
   "cell_type": "code",
   "execution_count": 18,
   "metadata": {},
   "outputs": [],
   "source": [
    "def cria_arquivo_csv(lista):\n",
    "    arquivo = open('tweets_mi_band_4.csv', 'w', encoding='utf-8')\n",
    "    \n",
    "    for pos_tweet in range(len(lista)):\n",
    "        arquivo.write('\"' + str(lista[pos_tweet]) + '\"')\n",
    "        arquivo.write('\\n')\n",
    "        \n",
    "    arquivo.close()"
   ]
  },
  {
   "cell_type": "code",
   "execution_count": 21,
   "metadata": {},
   "outputs": [],
   "source": [
    "cria_arquivo_csv(lista_sem_duplicados)"
   ]
  },
  {
   "cell_type": "code",
   "execution_count": 30,
   "metadata": {},
   "outputs": [],
   "source": [
    "#cria_arquivo_csv(tweet_list)"
   ]
  },
  {
   "cell_type": "markdown",
   "metadata": {},
   "source": [
    "## Cria um data frame"
   ]
  },
  {
   "cell_type": "code",
   "execution_count": 230,
   "metadata": {},
   "outputs": [],
   "source": [
    "# Criando data frame\n",
    "df = pd.read_csv('classificado_tweets_mi_band_4.csv', encoding='utf-8')"
   ]
  },
  {
   "cell_type": "code",
   "execution_count": 60,
   "metadata": {},
   "outputs": [],
   "source": [
    "#df = pd.read_csv('Tweets_Mg.csv', encoding='utf-8')"
   ]
  },
  {
   "cell_type": "code",
   "execution_count": 231,
   "metadata": {},
   "outputs": [
    {
     "data": {
      "text/html": [
       "<div>\n",
       "<style scoped>\n",
       "    .dataframe tbody tr th:only-of-type {\n",
       "        vertical-align: middle;\n",
       "    }\n",
       "\n",
       "    .dataframe tbody tr th {\n",
       "        vertical-align: top;\n",
       "    }\n",
       "\n",
       "    .dataframe thead th {\n",
       "        text-align: right;\n",
       "    }\n",
       "</style>\n",
       "<table border=\"1\" class=\"dataframe\">\n",
       "  <thead>\n",
       "    <tr style=\"text-align: right;\">\n",
       "      <th></th>\n",
       "      <th>tweets</th>\n",
       "      <th>classes</th>\n",
       "    </tr>\n",
       "  </thead>\n",
       "  <tbody>\n",
       "    <tr>\n",
       "      <td>0</td>\n",
       "      <td>Tive que desativar o negócio do sono da mi ban...</td>\n",
       "      <td>negativo</td>\n",
       "    </tr>\n",
       "    <tr>\n",
       "      <td>1</td>\n",
       "      <td>RT @cachorro_frio: @fernandobentto cara, jura?...</td>\n",
       "      <td>negativo</td>\n",
       "    </tr>\n",
       "    <tr>\n",
       "      <td>2</td>\n",
       "      <td>@FelipeDuarte151 Tenho a mi band 3, mas acho a...</td>\n",
       "      <td>positivo</td>\n",
       "    </tr>\n",
       "    <tr>\n",
       "      <td>3</td>\n",
       "      <td>To vendendo minha pulseira mi band 4(relógio)😉</td>\n",
       "      <td>neutro</td>\n",
       "    </tr>\n",
       "    <tr>\n",
       "      <td>4</td>\n",
       "      <td>mi band 4 na internet = 160 reais \\nmi band 3 ...</td>\n",
       "      <td>neutro</td>\n",
       "    </tr>\n",
       "  </tbody>\n",
       "</table>\n",
       "</div>"
      ],
      "text/plain": [
       "                                              tweets   classes\n",
       "0  Tive que desativar o negócio do sono da mi ban...  negativo\n",
       "1  RT @cachorro_frio: @fernandobentto cara, jura?...  negativo\n",
       "2  @FelipeDuarte151 Tenho a mi band 3, mas acho a...  positivo\n",
       "3     To vendendo minha pulseira mi band 4(relógio)😉    neutro\n",
       "4  mi band 4 na internet = 160 reais \\nmi band 3 ...    neutro"
      ]
     },
     "execution_count": 231,
     "metadata": {},
     "output_type": "execute_result"
    }
   ],
   "source": [
    "df.head()"
   ]
  },
  {
   "cell_type": "code",
   "execution_count": 232,
   "metadata": {},
   "outputs": [],
   "source": [
    "tweets = df['tweets']\n",
    "classes = df['classes']"
   ]
  },
  {
   "cell_type": "markdown",
   "metadata": {},
   "source": [
    "## Limpeza dos dados"
   ]
  },
  {
   "cell_type": "code",
   "execution_count": 34,
   "metadata": {},
   "outputs": [
    {
     "name": "stderr",
     "output_type": "stream",
     "text": [
      "[nltk_data] Downloading package stopwords to\n",
      "[nltk_data]     C:\\Users\\MaluF\\AppData\\Roaming\\nltk_data...\n",
      "[nltk_data]   Package stopwords is already up-to-date!\n",
      "[nltk_data] Downloading package rslp to\n",
      "[nltk_data]     C:\\Users\\MaluF\\AppData\\Roaming\\nltk_data...\n",
      "[nltk_data]   Package rslp is already up-to-date!\n",
      "[nltk_data] Downloading package punkt to\n",
      "[nltk_data]     C:\\Users\\MaluF\\AppData\\Roaming\\nltk_data...\n",
      "[nltk_data]   Package punkt is already up-to-date!\n",
      "[nltk_data] Downloading package wordnet to\n",
      "[nltk_data]     C:\\Users\\MaluF\\AppData\\Roaming\\nltk_data...\n",
      "[nltk_data]   Package wordnet is already up-to-date!\n"
     ]
    },
    {
     "data": {
      "text/plain": [
       "True"
      ]
     },
     "execution_count": 34,
     "metadata": {},
     "output_type": "execute_result"
    }
   ],
   "source": [
    "# Para limpeza dos dados\n",
    "import nltk\n",
    "nltk.download('stopwords')\n",
    "nltk.download('rslp')\n",
    "nltk.download('punkt')\n",
    "nltk.download('wordnet')"
   ]
  },
  {
   "cell_type": "code",
   "execution_count": 47,
   "metadata": {},
   "outputs": [],
   "source": [
    "def Preprocessing(instancia):\n",
    "    stemmer = nltk.stem.RSLPStemmer()\n",
    "    instancia = re.sub(r\"http\\S+\", \"\", instancia).lower().replace('.','').replace(',','').replace(';','').replace('-','').replace(':','').replace(')','')\n",
    "    stopwords = set(nltk.corpus.stopwords.words('portuguese'))\n",
    "    stopwords.remove('não')\n",
    "    palavras = [stemmer.stem(i) for i in instancia.split() if not i in stopwords]\n",
    "    return (\" \".join(palavras))\n",
    "\n",
    "# Aplica a função em todos os dados:\n",
    "tweets = [Preprocessing(i) for i in tweets]"
   ]
  },
  {
   "cell_type": "code",
   "execution_count": 48,
   "metadata": {},
   "outputs": [
    {
     "data": {
      "text/plain": [
       "'não gost part não vot nov ness governante!'"
      ]
     },
     "execution_count": 48,
     "metadata": {},
     "output_type": "execute_result"
    }
   ],
   "source": [
    "Preprocessing('Eu não gosto do partido, e também não votaria novamente nesse governante! http://python.w3.pt/?p=234')"
   ]
  },
  {
   "cell_type": "markdown",
   "metadata": {},
   "source": [
    "## Tokenização"
   ]
  },
  {
   "cell_type": "code",
   "execution_count": 36,
   "metadata": {},
   "outputs": [],
   "source": [
    "from nltk.tokenize import TweetTokenizer"
   ]
  },
  {
   "cell_type": "code",
   "execution_count": 233,
   "metadata": {},
   "outputs": [],
   "source": [
    "tweet_tokenizer = TweetTokenizer()"
   ]
  },
  {
   "cell_type": "code",
   "execution_count": null,
   "metadata": {},
   "outputs": [],
   "source": [
    "frase = 'A live do @blogminerando é show! :) :-) ;) =D'"
   ]
  },
  {
   "cell_type": "code",
   "execution_count": null,
   "metadata": {},
   "outputs": [],
   "source": [
    "tweet_tokenizer.tokenize(frase)"
   ]
  },
  {
   "cell_type": "markdown",
   "metadata": {},
   "source": [
    "## Vetorização - Bag of words"
   ]
  },
  {
   "cell_type": "code",
   "execution_count": 234,
   "metadata": {},
   "outputs": [],
   "source": [
    "# Instancia o objeto que faz a vectorização\n",
    "vectorizer = CountVectorizer(analyzer=\"word\", tokenizer=tweet_tokenizer.tokenize)"
   ]
  },
  {
   "cell_type": "code",
   "execution_count": 235,
   "metadata": {},
   "outputs": [
    {
     "data": {
      "text/plain": [
       "scipy.sparse.csr.csr_matrix"
      ]
     },
     "execution_count": 235,
     "metadata": {},
     "output_type": "execute_result"
    }
   ],
   "source": [
    "# Aplica o vetorizador nos dados\n",
    "freq_tweets = vectorizer.fit_transform(tweets)\n",
    "type(freq_tweets)"
   ]
  },
  {
   "cell_type": "code",
   "execution_count": 236,
   "metadata": {},
   "outputs": [
    {
     "data": {
      "text/plain": [
       "(191, 985)"
      ]
     },
     "execution_count": 236,
     "metadata": {},
     "output_type": "execute_result"
    }
   ],
   "source": [
    "# Formato linha, coluna da matriz\n",
    "freq_tweets.shape"
   ]
  },
  {
   "cell_type": "code",
   "execution_count": 237,
   "metadata": {},
   "outputs": [
    {
     "data": {
      "text/plain": [
       "MultinomialNB(alpha=1.0, class_prior=None, fit_prior=True)"
      ]
     },
     "execution_count": 237,
     "metadata": {},
     "output_type": "execute_result"
    }
   ],
   "source": [
    "# Treino do modelo de machine learning\n",
    "modelo = MultinomialNB()\n",
    "modelo.fit(freq_tweets,classes)"
   ]
  },
  {
   "cell_type": "code",
   "execution_count": 238,
   "metadata": {},
   "outputs": [
    {
     "data": {
      "text/plain": [
       "array([[0, 0, 0, ..., 0, 0, 0],\n",
       "       [0, 0, 0, ..., 0, 0, 0],\n",
       "       [0, 0, 0, ..., 0, 0, 0],\n",
       "       ...,\n",
       "       [0, 0, 1, ..., 0, 0, 0],\n",
       "       [0, 0, 0, ..., 0, 0, 0],\n",
       "       [0, 0, 0, ..., 0, 0, 0]], dtype=int64)"
      ]
     },
     "execution_count": 238,
     "metadata": {},
     "output_type": "execute_result"
    }
   ],
   "source": [
    "freq_tweets.A"
   ]
  },
  {
   "cell_type": "markdown",
   "metadata": {},
   "source": [
    "## Testando o modelo"
   ]
  },
  {
   "cell_type": "code",
   "execution_count": 129,
   "metadata": {},
   "outputs": [],
   "source": [
    "def testando_modelo(tweets, post):\n",
    "    teste = tweets[pos:pos+1]\n",
    "    testes = [Preprocessing(i) for i in testes]\n",
    "    freq_testes = vectorizer.transform(testes)\n",
    "\n",
    "    for t, c in zip (testes,modelo.predict(freq_testes)):\n",
    "        print (t +\", \"+ c)"
   ]
  },
  {
   "cell_type": "code",
   "execution_count": 239,
   "metadata": {},
   "outputs": [
    {
     "ename": "KeyError",
     "evalue": "'[0] not found in axis'",
     "output_type": "error",
     "traceback": [
      "\u001b[1;31m---------------------------------------------------------------------------\u001b[0m",
      "\u001b[1;31mKeyError\u001b[0m                                  Traceback (most recent call last)",
      "\u001b[1;32m<ipython-input-239-db89b95958b7>\u001b[0m in \u001b[0;36m<module>\u001b[1;34m\u001b[0m\n\u001b[0;32m      1\u001b[0m \u001b[0mtestes\u001b[0m \u001b[1;33m=\u001b[0m \u001b[0mlist\u001b[0m\u001b[1;33m(\u001b[0m\u001b[0mtweets\u001b[0m\u001b[1;33m[\u001b[0m\u001b[1;36m0\u001b[0m\u001b[1;33m:\u001b[0m\u001b[1;36m10\u001b[0m\u001b[1;33m]\u001b[0m\u001b[1;33m)\u001b[0m\u001b[1;33m\u001b[0m\u001b[1;33m\u001b[0m\u001b[0m\n\u001b[0;32m      2\u001b[0m \u001b[0maux\u001b[0m \u001b[1;33m=\u001b[0m \u001b[0mtweets\u001b[0m\u001b[1;33m[\u001b[0m\u001b[1;36m11\u001b[0m\u001b[1;33m:\u001b[0m\u001b[1;33m]\u001b[0m\u001b[1;33m\u001b[0m\u001b[1;33m\u001b[0m\u001b[0m\n\u001b[1;32m----> 3\u001b[1;33m \u001b[0maux\u001b[0m\u001b[1;33m.\u001b[0m\u001b[0mdrop\u001b[0m\u001b[1;33m(\u001b[0m\u001b[0mlabels\u001b[0m\u001b[1;33m=\u001b[0m\u001b[1;36m0\u001b[0m\u001b[1;33m)\u001b[0m\u001b[1;33m\u001b[0m\u001b[1;33m\u001b[0m\u001b[0m\n\u001b[0m\u001b[0;32m      4\u001b[0m \u001b[0mexecucao\u001b[0m \u001b[1;33m=\u001b[0m \u001b[0maux\u001b[0m\u001b[1;33m\u001b[0m\u001b[1;33m\u001b[0m\u001b[0m\n",
      "\u001b[1;32mc:\\users\\maluf\\appdata\\local\\programs\\python\\python37-32\\lib\\site-packages\\pandas\\core\\series.py\u001b[0m in \u001b[0;36mdrop\u001b[1;34m(self, labels, axis, index, columns, level, inplace, errors)\u001b[0m\n\u001b[0;32m   4321\u001b[0m             \u001b[0mlevel\u001b[0m\u001b[1;33m=\u001b[0m\u001b[0mlevel\u001b[0m\u001b[1;33m,\u001b[0m\u001b[1;33m\u001b[0m\u001b[1;33m\u001b[0m\u001b[0m\n\u001b[0;32m   4322\u001b[0m             \u001b[0minplace\u001b[0m\u001b[1;33m=\u001b[0m\u001b[0minplace\u001b[0m\u001b[1;33m,\u001b[0m\u001b[1;33m\u001b[0m\u001b[1;33m\u001b[0m\u001b[0m\n\u001b[1;32m-> 4323\u001b[1;33m             \u001b[0merrors\u001b[0m\u001b[1;33m=\u001b[0m\u001b[0merrors\u001b[0m\u001b[1;33m,\u001b[0m\u001b[1;33m\u001b[0m\u001b[1;33m\u001b[0m\u001b[0m\n\u001b[0m\u001b[0;32m   4324\u001b[0m         )\n\u001b[0;32m   4325\u001b[0m \u001b[1;33m\u001b[0m\u001b[0m\n",
      "\u001b[1;32mc:\\users\\maluf\\appdata\\local\\programs\\python\\python37-32\\lib\\site-packages\\pandas\\core\\generic.py\u001b[0m in \u001b[0;36mdrop\u001b[1;34m(self, labels, axis, index, columns, level, inplace, errors)\u001b[0m\n\u001b[0;32m   3912\u001b[0m         \u001b[1;32mfor\u001b[0m \u001b[0maxis\u001b[0m\u001b[1;33m,\u001b[0m \u001b[0mlabels\u001b[0m \u001b[1;32min\u001b[0m \u001b[0maxes\u001b[0m\u001b[1;33m.\u001b[0m\u001b[0mitems\u001b[0m\u001b[1;33m(\u001b[0m\u001b[1;33m)\u001b[0m\u001b[1;33m:\u001b[0m\u001b[1;33m\u001b[0m\u001b[1;33m\u001b[0m\u001b[0m\n\u001b[0;32m   3913\u001b[0m             \u001b[1;32mif\u001b[0m \u001b[0mlabels\u001b[0m \u001b[1;32mis\u001b[0m \u001b[1;32mnot\u001b[0m \u001b[1;32mNone\u001b[0m\u001b[1;33m:\u001b[0m\u001b[1;33m\u001b[0m\u001b[1;33m\u001b[0m\u001b[0m\n\u001b[1;32m-> 3914\u001b[1;33m                 \u001b[0mobj\u001b[0m \u001b[1;33m=\u001b[0m \u001b[0mobj\u001b[0m\u001b[1;33m.\u001b[0m\u001b[0m_drop_axis\u001b[0m\u001b[1;33m(\u001b[0m\u001b[0mlabels\u001b[0m\u001b[1;33m,\u001b[0m \u001b[0maxis\u001b[0m\u001b[1;33m,\u001b[0m \u001b[0mlevel\u001b[0m\u001b[1;33m=\u001b[0m\u001b[0mlevel\u001b[0m\u001b[1;33m,\u001b[0m \u001b[0merrors\u001b[0m\u001b[1;33m=\u001b[0m\u001b[0merrors\u001b[0m\u001b[1;33m)\u001b[0m\u001b[1;33m\u001b[0m\u001b[1;33m\u001b[0m\u001b[0m\n\u001b[0m\u001b[0;32m   3915\u001b[0m \u001b[1;33m\u001b[0m\u001b[0m\n\u001b[0;32m   3916\u001b[0m         \u001b[1;32mif\u001b[0m \u001b[0minplace\u001b[0m\u001b[1;33m:\u001b[0m\u001b[1;33m\u001b[0m\u001b[1;33m\u001b[0m\u001b[0m\n",
      "\u001b[1;32mc:\\users\\maluf\\appdata\\local\\programs\\python\\python37-32\\lib\\site-packages\\pandas\\core\\generic.py\u001b[0m in \u001b[0;36m_drop_axis\u001b[1;34m(self, labels, axis, level, errors)\u001b[0m\n\u001b[0;32m   3944\u001b[0m                 \u001b[0mnew_axis\u001b[0m \u001b[1;33m=\u001b[0m \u001b[0maxis\u001b[0m\u001b[1;33m.\u001b[0m\u001b[0mdrop\u001b[0m\u001b[1;33m(\u001b[0m\u001b[0mlabels\u001b[0m\u001b[1;33m,\u001b[0m \u001b[0mlevel\u001b[0m\u001b[1;33m=\u001b[0m\u001b[0mlevel\u001b[0m\u001b[1;33m,\u001b[0m \u001b[0merrors\u001b[0m\u001b[1;33m=\u001b[0m\u001b[0merrors\u001b[0m\u001b[1;33m)\u001b[0m\u001b[1;33m\u001b[0m\u001b[1;33m\u001b[0m\u001b[0m\n\u001b[0;32m   3945\u001b[0m             \u001b[1;32melse\u001b[0m\u001b[1;33m:\u001b[0m\u001b[1;33m\u001b[0m\u001b[1;33m\u001b[0m\u001b[0m\n\u001b[1;32m-> 3946\u001b[1;33m                 \u001b[0mnew_axis\u001b[0m \u001b[1;33m=\u001b[0m \u001b[0maxis\u001b[0m\u001b[1;33m.\u001b[0m\u001b[0mdrop\u001b[0m\u001b[1;33m(\u001b[0m\u001b[0mlabels\u001b[0m\u001b[1;33m,\u001b[0m \u001b[0merrors\u001b[0m\u001b[1;33m=\u001b[0m\u001b[0merrors\u001b[0m\u001b[1;33m)\u001b[0m\u001b[1;33m\u001b[0m\u001b[1;33m\u001b[0m\u001b[0m\n\u001b[0m\u001b[0;32m   3947\u001b[0m             \u001b[0mresult\u001b[0m \u001b[1;33m=\u001b[0m \u001b[0mself\u001b[0m\u001b[1;33m.\u001b[0m\u001b[0mreindex\u001b[0m\u001b[1;33m(\u001b[0m\u001b[1;33m**\u001b[0m\u001b[1;33m{\u001b[0m\u001b[0maxis_name\u001b[0m\u001b[1;33m:\u001b[0m \u001b[0mnew_axis\u001b[0m\u001b[1;33m}\u001b[0m\u001b[1;33m)\u001b[0m\u001b[1;33m\u001b[0m\u001b[1;33m\u001b[0m\u001b[0m\n\u001b[0;32m   3948\u001b[0m \u001b[1;33m\u001b[0m\u001b[0m\n",
      "\u001b[1;32mc:\\users\\maluf\\appdata\\local\\programs\\python\\python37-32\\lib\\site-packages\\pandas\\core\\indexes\\base.py\u001b[0m in \u001b[0;36mdrop\u001b[1;34m(self, labels, errors)\u001b[0m\n\u001b[0;32m   5338\u001b[0m         \u001b[1;32mif\u001b[0m \u001b[0mmask\u001b[0m\u001b[1;33m.\u001b[0m\u001b[0many\u001b[0m\u001b[1;33m(\u001b[0m\u001b[1;33m)\u001b[0m\u001b[1;33m:\u001b[0m\u001b[1;33m\u001b[0m\u001b[1;33m\u001b[0m\u001b[0m\n\u001b[0;32m   5339\u001b[0m             \u001b[1;32mif\u001b[0m \u001b[0merrors\u001b[0m \u001b[1;33m!=\u001b[0m \u001b[1;34m\"ignore\"\u001b[0m\u001b[1;33m:\u001b[0m\u001b[1;33m\u001b[0m\u001b[1;33m\u001b[0m\u001b[0m\n\u001b[1;32m-> 5340\u001b[1;33m                 \u001b[1;32mraise\u001b[0m \u001b[0mKeyError\u001b[0m\u001b[1;33m(\u001b[0m\u001b[1;34m\"{} not found in axis\"\u001b[0m\u001b[1;33m.\u001b[0m\u001b[0mformat\u001b[0m\u001b[1;33m(\u001b[0m\u001b[0mlabels\u001b[0m\u001b[1;33m[\u001b[0m\u001b[0mmask\u001b[0m\u001b[1;33m]\u001b[0m\u001b[1;33m)\u001b[0m\u001b[1;33m)\u001b[0m\u001b[1;33m\u001b[0m\u001b[1;33m\u001b[0m\u001b[0m\n\u001b[0m\u001b[0;32m   5341\u001b[0m             \u001b[0mindexer\u001b[0m \u001b[1;33m=\u001b[0m \u001b[0mindexer\u001b[0m\u001b[1;33m[\u001b[0m\u001b[1;33m~\u001b[0m\u001b[0mmask\u001b[0m\u001b[1;33m]\u001b[0m\u001b[1;33m\u001b[0m\u001b[1;33m\u001b[0m\u001b[0m\n\u001b[0;32m   5342\u001b[0m         \u001b[1;32mreturn\u001b[0m \u001b[0mself\u001b[0m\u001b[1;33m.\u001b[0m\u001b[0mdelete\u001b[0m\u001b[1;33m(\u001b[0m\u001b[0mindexer\u001b[0m\u001b[1;33m)\u001b[0m\u001b[1;33m\u001b[0m\u001b[1;33m\u001b[0m\u001b[0m\n",
      "\u001b[1;31mKeyError\u001b[0m: '[0] not found in axis'"
     ]
    }
   ],
   "source": [
    "testes = list(tweets[0:10])\n",
    "aux = tweets[11:]\n",
    "aux.drop(labels=0)\n",
    "execucao = aux"
   ]
  },
  {
   "cell_type": "code",
   "execution_count": 240,
   "metadata": {},
   "outputs": [
    {
     "name": "stdout",
     "output_type": "stream",
     "text": [
      "<class 'list'>\n"
     ]
    }
   ],
   "source": [
    "print(type(testes))"
   ]
  },
  {
   "cell_type": "code",
   "execution_count": 223,
   "metadata": {},
   "outputs": [
    {
     "name": "stdout",
     "output_type": "stream",
     "text": [
      "<class 'pandas.core.series.Series'>\n"
     ]
    }
   ],
   "source": [
    "print(type(execucao))"
   ]
  },
  {
   "cell_type": "code",
   "execution_count": 224,
   "metadata": {},
   "outputs": [
    {
     "name": "stdout",
     "output_type": "stream",
     "text": [
      "11     @buzsheep Ficou muito bom na mi band 4 😍 https...\n",
      "12     mi band 4 qualquer coisa no mundo&gt;&gt;&gt;&...\n",
      "13             tô portado de xiaomi, mi band 4 em mãos 🤪\n",
      "14     Certo, eu admito, estou viciado nos produtos d...\n",
      "15     @mizanzika Já viu esse site que tem vários tem...\n",
      "                             ...                        \n",
      "186              pensando aqui em comprar\\numa mi band 4\n",
      "187    Minha mi Band 4 não pegou taxa de importação, ...\n",
      "188    Depois de 1 mês e 3 dias finalmente meu Xiaomi...\n",
      "189    @julixGiolo_ Vc precisa de uma mi band 4 para ...\n",
      "190                  Acho q minha mi band 4 chega amanhã\n",
      "Name: tweets, Length: 180, dtype: object\n"
     ]
    }
   ],
   "source": [
    "print(execucao)"
   ]
  },
  {
   "cell_type": "code",
   "execution_count": 210,
   "metadata": {},
   "outputs": [],
   "source": [
    "# Aplicando a função de pre processamento nos testes\n",
    "testes = [Preprocessing(i) for i in testes]"
   ]
  },
  {
   "cell_type": "code",
   "execution_count": 211,
   "metadata": {},
   "outputs": [
    {
     "name": "stdout",
     "output_type": "stream",
     "text": [
      "['desativ negóci son mi band 4 bagulh tav deix doid', 'rt @cachorro_fri @fernandobentt car jura? preç compr dav pra ter peg xiaom mi 9 mi band 4 caix jbl ult…', '@felipeduarte151 mi band 3 ach 4 legal cont tel color', 'to vend puls mi band 4(relógio😉', 'mi band 4 internet = 160 real mi band 3 jipar = 260 real kkkkkpi', 'ganh mi band 4 😍 ah deu', 'vontad compr mi band 4 tá gigantesc sort não cart crédit não far beste', '@xiaomibrasil par tent tal mi band 4 ?!?!', 'quer sab mi band 4 boa resist quant arranh tal pq n ach lig nenhum sobr isso…', 'algu xiaom mi band 4 pres']\n"
     ]
    }
   ],
   "source": [
    "print(testes)"
   ]
  },
  {
   "cell_type": "code",
   "execution_count": 194,
   "metadata": {},
   "outputs": [],
   "source": [
    "# Transforma os dados de teste em vetores de palavras.\n",
    "freq_testes = vectorizer.transform(testes)"
   ]
  },
  {
   "cell_type": "code",
   "execution_count": 195,
   "metadata": {},
   "outputs": [
    {
     "name": "stdout",
     "output_type": "stream",
     "text": [
      "['desativ negóci son mi band 4 bagulh tav deix doid', 'rt @cachorro_fri @fernandobentt car jura? preç compr dav pra ter peg xiaom mi 9 mi band 4 caix jbl ult…', '@felipeduarte151 mi band 3 ach 4 legal cont tel color', 'to vend puls mi band 4(relógio😉', 'mi band 4 internet = 160 real mi band 3 jipar = 260 real kkkkkpi', 'ganh mi band 4 😍 ah deu', 'vontad compr mi band 4 tá gigantesc sort não cart crédit não far beste', '@xiaomibrasil par tent tal mi band 4 ?!?!', 'quer sab mi band 4 boa resist quant arranh tal pq n ach lig nenhum sobr isso…', 'algu xiaom mi band 4 pres'] ['positivo' 'neutro' 'positivo' 'neutro' 'neutro' 'positivo' 'positivo'\n",
      " 'neutro' 'negativo' 'positivo']\n"
     ]
    }
   ],
   "source": [
    "print(testes,modelo.predict(freq_testes))"
   ]
  },
  {
   "cell_type": "code",
   "execution_count": 196,
   "metadata": {},
   "outputs": [
    {
     "name": "stdout",
     "output_type": "stream",
     "text": [
      "desativ negóci son mi band 4 bagulh tav deix doid, positivo\n",
      "rt @cachorro_fri @fernandobentt car jura? preç compr dav pra ter peg xiaom mi 9 mi band 4 caix jbl ult…, neutro\n",
      "@felipeduarte151 mi band 3 ach 4 legal cont tel color, positivo\n",
      "to vend puls mi band 4(relógio😉, neutro\n",
      "mi band 4 internet = 160 real mi band 3 jipar = 260 real kkkkkpi, neutro\n",
      "ganh mi band 4 😍 ah deu, positivo\n",
      "vontad compr mi band 4 tá gigantesc sort não cart crédit não far beste, positivo\n",
      "@xiaomibrasil par tent tal mi band 4 ?!?!, neutro\n",
      "quer sab mi band 4 boa resist quant arranh tal pq n ach lig nenhum sobr isso…, negativo\n",
      "algu xiaom mi band 4 pres, positivo\n"
     ]
    }
   ],
   "source": [
    "# Fazendo a classificação com o modelo treinado.\n",
    "for t, c in zip (testes,modelo.predict(freq_testes)):\n",
    "    print (t +\", \"+ c)"
   ]
  },
  {
   "cell_type": "code",
   "execution_count": 197,
   "metadata": {},
   "outputs": [
    {
     "name": "stdout",
     "output_type": "stream",
     "text": [
      "['negativo' 'neutro' 'positivo']\n"
     ]
    },
    {
     "data": {
      "text/plain": [
       "array([[0.03, 0.34, 0.63],\n",
       "       [0.28, 0.56, 0.16],\n",
       "       [0.01, 0.19, 0.8 ],\n",
       "       [0.  , 0.76, 0.24],\n",
       "       [0.  , 0.98, 0.02],\n",
       "       [0.01, 0.06, 0.93],\n",
       "       [0.15, 0.12, 0.74],\n",
       "       [0.  , 0.81, 0.19],\n",
       "       [0.93, 0.02, 0.05],\n",
       "       [0.03, 0.34, 0.63]])"
      ]
     },
     "execution_count": 197,
     "metadata": {},
     "output_type": "execute_result"
    }
   ],
   "source": [
    "# Probabilidades de cada classe\n",
    "print (modelo.classes_)\n",
    "modelo.predict_proba(freq_testes).round(2)"
   ]
  },
  {
   "cell_type": "markdown",
   "metadata": {},
   "source": [
    "## Criando modelos com Pipelines"
   ]
  },
  {
   "cell_type": "code",
   "execution_count": 198,
   "metadata": {},
   "outputs": [],
   "source": [
    "# Pipelines são interessantes para reduzir código e automatizar fluxos\n",
    "from sklearn.pipeline import Pipeline"
   ]
  },
  {
   "cell_type": "code",
   "execution_count": 214,
   "metadata": {},
   "outputs": [],
   "source": [
    "pipeline_svm_simples = Pipeline([\n",
    "  ('counts', CountVectorizer()),\n",
    "  ('classifier', svm.SVC(kernel='linear'))\n",
    "])"
   ]
  },
  {
   "cell_type": "markdown",
   "metadata": {},
   "source": [
    "## Validando os Modelos com Validação Cruzada"
   ]
  },
  {
   "cell_type": "code",
   "execution_count": 215,
   "metadata": {},
   "outputs": [
    {
     "ename": "ValueError",
     "evalue": "Found input variables with inconsistent numbers of samples: [180, 191]",
     "output_type": "error",
     "traceback": [
      "\u001b[1;31m---------------------------------------------------------------------------\u001b[0m",
      "\u001b[1;31mValueError\u001b[0m                                Traceback (most recent call last)",
      "\u001b[1;32m<ipython-input-215-e9eb97df07be>\u001b[0m in \u001b[0;36m<module>\u001b[1;34m\u001b[0m\n\u001b[0;32m      1\u001b[0m \u001b[1;31m# Fazendo o cross validation do modelo\u001b[0m\u001b[1;33m\u001b[0m\u001b[1;33m\u001b[0m\u001b[1;33m\u001b[0m\u001b[0m\n\u001b[1;32m----> 2\u001b[1;33m \u001b[0mresultados\u001b[0m \u001b[1;33m=\u001b[0m \u001b[0mcross_val_predict\u001b[0m\u001b[1;33m(\u001b[0m\u001b[0mpipeline_svm_simples\u001b[0m\u001b[1;33m,\u001b[0m \u001b[0mexecucao\u001b[0m\u001b[1;33m,\u001b[0m \u001b[0mclasses\u001b[0m\u001b[1;33m,\u001b[0m \u001b[0mcv\u001b[0m\u001b[1;33m=\u001b[0m\u001b[1;36m10\u001b[0m\u001b[1;33m)\u001b[0m\u001b[1;33m\u001b[0m\u001b[1;33m\u001b[0m\u001b[0m\n\u001b[0m",
      "\u001b[1;32mc:\\users\\maluf\\appdata\\local\\programs\\python\\python37-32\\lib\\site-packages\\sklearn\\model_selection\\_validation.py\u001b[0m in \u001b[0;36mcross_val_predict\u001b[1;34m(estimator, X, y, groups, cv, n_jobs, verbose, fit_params, pre_dispatch, method)\u001b[0m\n\u001b[0;32m    762\u001b[0m     \u001b[1;33m>>\u001b[0m\u001b[1;33m>\u001b[0m \u001b[0my_pred\u001b[0m \u001b[1;33m=\u001b[0m \u001b[0mcross_val_predict\u001b[0m\u001b[1;33m(\u001b[0m\u001b[0mlasso\u001b[0m\u001b[1;33m,\u001b[0m \u001b[0mX\u001b[0m\u001b[1;33m,\u001b[0m \u001b[0my\u001b[0m\u001b[1;33m,\u001b[0m \u001b[0mcv\u001b[0m\u001b[1;33m=\u001b[0m\u001b[1;36m3\u001b[0m\u001b[1;33m)\u001b[0m\u001b[1;33m\u001b[0m\u001b[1;33m\u001b[0m\u001b[0m\n\u001b[0;32m    763\u001b[0m     \"\"\"\n\u001b[1;32m--> 764\u001b[1;33m     \u001b[0mX\u001b[0m\u001b[1;33m,\u001b[0m \u001b[0my\u001b[0m\u001b[1;33m,\u001b[0m \u001b[0mgroups\u001b[0m \u001b[1;33m=\u001b[0m \u001b[0mindexable\u001b[0m\u001b[1;33m(\u001b[0m\u001b[0mX\u001b[0m\u001b[1;33m,\u001b[0m \u001b[0my\u001b[0m\u001b[1;33m,\u001b[0m \u001b[0mgroups\u001b[0m\u001b[1;33m)\u001b[0m\u001b[1;33m\u001b[0m\u001b[1;33m\u001b[0m\u001b[0m\n\u001b[0m\u001b[0;32m    765\u001b[0m \u001b[1;33m\u001b[0m\u001b[0m\n\u001b[0;32m    766\u001b[0m     \u001b[0mcv\u001b[0m \u001b[1;33m=\u001b[0m \u001b[0mcheck_cv\u001b[0m\u001b[1;33m(\u001b[0m\u001b[0mcv\u001b[0m\u001b[1;33m,\u001b[0m \u001b[0my\u001b[0m\u001b[1;33m,\u001b[0m \u001b[0mclassifier\u001b[0m\u001b[1;33m=\u001b[0m\u001b[0mis_classifier\u001b[0m\u001b[1;33m(\u001b[0m\u001b[0mestimator\u001b[0m\u001b[1;33m)\u001b[0m\u001b[1;33m)\u001b[0m\u001b[1;33m\u001b[0m\u001b[1;33m\u001b[0m\u001b[0m\n",
      "\u001b[1;32mc:\\users\\maluf\\appdata\\local\\programs\\python\\python37-32\\lib\\site-packages\\sklearn\\utils\\validation.py\u001b[0m in \u001b[0;36mindexable\u001b[1;34m(*iterables)\u001b[0m\n\u001b[0;32m    228\u001b[0m         \u001b[1;32melse\u001b[0m\u001b[1;33m:\u001b[0m\u001b[1;33m\u001b[0m\u001b[1;33m\u001b[0m\u001b[0m\n\u001b[0;32m    229\u001b[0m             \u001b[0mresult\u001b[0m\u001b[1;33m.\u001b[0m\u001b[0mappend\u001b[0m\u001b[1;33m(\u001b[0m\u001b[0mnp\u001b[0m\u001b[1;33m.\u001b[0m\u001b[0marray\u001b[0m\u001b[1;33m(\u001b[0m\u001b[0mX\u001b[0m\u001b[1;33m)\u001b[0m\u001b[1;33m)\u001b[0m\u001b[1;33m\u001b[0m\u001b[1;33m\u001b[0m\u001b[0m\n\u001b[1;32m--> 230\u001b[1;33m     \u001b[0mcheck_consistent_length\u001b[0m\u001b[1;33m(\u001b[0m\u001b[1;33m*\u001b[0m\u001b[0mresult\u001b[0m\u001b[1;33m)\u001b[0m\u001b[1;33m\u001b[0m\u001b[1;33m\u001b[0m\u001b[0m\n\u001b[0m\u001b[0;32m    231\u001b[0m     \u001b[1;32mreturn\u001b[0m \u001b[0mresult\u001b[0m\u001b[1;33m\u001b[0m\u001b[1;33m\u001b[0m\u001b[0m\n\u001b[0;32m    232\u001b[0m \u001b[1;33m\u001b[0m\u001b[0m\n",
      "\u001b[1;32mc:\\users\\maluf\\appdata\\local\\programs\\python\\python37-32\\lib\\site-packages\\sklearn\\utils\\validation.py\u001b[0m in \u001b[0;36mcheck_consistent_length\u001b[1;34m(*arrays)\u001b[0m\n\u001b[0;32m    203\u001b[0m     \u001b[1;32mif\u001b[0m \u001b[0mlen\u001b[0m\u001b[1;33m(\u001b[0m\u001b[0muniques\u001b[0m\u001b[1;33m)\u001b[0m \u001b[1;33m>\u001b[0m \u001b[1;36m1\u001b[0m\u001b[1;33m:\u001b[0m\u001b[1;33m\u001b[0m\u001b[1;33m\u001b[0m\u001b[0m\n\u001b[0;32m    204\u001b[0m         raise ValueError(\"Found input variables with inconsistent numbers of\"\n\u001b[1;32m--> 205\u001b[1;33m                          \" samples: %r\" % [int(l) for l in lengths])\n\u001b[0m\u001b[0;32m    206\u001b[0m \u001b[1;33m\u001b[0m\u001b[0m\n\u001b[0;32m    207\u001b[0m \u001b[1;33m\u001b[0m\u001b[0m\n",
      "\u001b[1;31mValueError\u001b[0m: Found input variables with inconsistent numbers of samples: [180, 191]"
     ]
    }
   ],
   "source": [
    "# Fazendo o cross validation do modelo\n",
    "resultados = cross_val_predict(pipeline_svm_simples, execucao, classes, cv=10)"
   ]
  },
  {
   "cell_type": "code",
   "execution_count": 190,
   "metadata": {},
   "outputs": [
    {
     "data": {
      "text/plain": [
       "0.5916230366492147"
      ]
     },
     "execution_count": 190,
     "metadata": {},
     "output_type": "execute_result"
    }
   ],
   "source": [
    "# Medindo a acurácia média do modelo\n",
    "metrics.accuracy_score(classes,resultados)"
   ]
  },
  {
   "cell_type": "code",
   "execution_count": 179,
   "metadata": {},
   "outputs": [
    {
     "name": "stdout",
     "output_type": "stream",
     "text": [
      "              precision    recall  f1-score   support\n",
      "\n",
      "    positivo       0.58      0.67      0.62        85\n",
      "    negativo       0.59      0.36      0.44        28\n",
      "      neutro       0.61      0.59      0.60        78\n",
      "\n",
      "    accuracy                           0.59       191\n",
      "   macro avg       0.59      0.54      0.56       191\n",
      "weighted avg       0.59      0.59      0.59       191\n",
      "\n"
     ]
    }
   ],
   "source": [
    "# Medidas de validação do modelo\n",
    "sentimento=['positivo','negativo','neutro']\n",
    "print (metrics.classification_report(classes,resultados,sentimento))"
   ]
  },
  {
   "cell_type": "code",
   "execution_count": 180,
   "metadata": {},
   "outputs": [
    {
     "name": "stdout",
     "output_type": "stream",
     "text": [
      "Predito   negativo  neutro  positivo  All\n",
      "Real                                     \n",
      "negativo        10       6        12   28\n",
      "neutro           2      46        30   78\n",
      "positivo         5      23        57   85\n",
      "All             17      75        99  191\n"
     ]
    }
   ],
   "source": [
    "# Matriz de confusão\n",
    "print (pd.crosstab(classes, resultados, rownames=['Real'], colnames=['Predito'], margins=True))"
   ]
  },
  {
   "cell_type": "code",
   "execution_count": 181,
   "metadata": {},
   "outputs": [],
   "source": [
    "def Metricas(modelo, tweets, classes):\n",
    "  resultados = cross_val_predict(modelo, tweets, classes, cv=10)\n",
    "  return 'Acurácia do modelo: {}'.format(metrics.accuracy_score(classes,resultados))"
   ]
  },
  {
   "cell_type": "code",
   "execution_count": 182,
   "metadata": {},
   "outputs": [
    {
     "data": {
      "text/plain": [
       "'Acurácia do modelo: 0.5916230366492147'"
      ]
     },
     "execution_count": 182,
     "metadata": {},
     "output_type": "execute_result"
    }
   ],
   "source": [
    "# svm linear simples\n",
    "Metricas(pipeline_svm_simples,execucao,classes)"
   ]
  },
  {
   "cell_type": "code",
   "execution_count": 258,
   "metadata": {},
   "outputs": [],
   "source": [
    "medias = cross_val_score(pipeline_svm_simples, tweets, classes, cv=10)\n",
    "media = sum(medias) / len(medias)"
   ]
  },
  {
   "cell_type": "code",
   "execution_count": 259,
   "metadata": {},
   "outputs": [
    {
     "data": {
      "text/plain": [
       "array([0.6       , 0.7       , 0.4       , 0.65      , 0.6       ,\n",
       "       0.47368421, 0.68421053, 0.63157895, 0.76470588, 0.41176471])"
      ]
     },
     "execution_count": 259,
     "metadata": {},
     "output_type": "execute_result"
    }
   ],
   "source": [
    "medias"
   ]
  },
  {
   "cell_type": "code",
   "execution_count": 260,
   "metadata": {},
   "outputs": [
    {
     "data": {
      "text/plain": [
       "0.5915944272445821"
      ]
     },
     "execution_count": 260,
     "metadata": {},
     "output_type": "execute_result"
    }
   ],
   "source": [
    "media"
   ]
  }
 ],
 "metadata": {
  "kernelspec": {
   "display_name": "Python 3",
   "language": "python",
   "name": "python3"
  },
  "language_info": {
   "codemirror_mode": {
    "name": "ipython",
    "version": 3
   },
   "file_extension": ".py",
   "mimetype": "text/x-python",
   "name": "python",
   "nbconvert_exporter": "python",
   "pygments_lexer": "ipython3",
   "version": "3.7.3"
  }
 },
 "nbformat": 4,
 "nbformat_minor": 2
}
