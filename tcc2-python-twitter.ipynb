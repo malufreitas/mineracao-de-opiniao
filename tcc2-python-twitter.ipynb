{
 "cells": [
  {
   "cell_type": "code",
   "execution_count": 1,
   "metadata": {},
   "outputs": [],
   "source": [
    "# Documentação\n",
    "# https://python-twitter.readthedocs.io/en/latest/twitter.html#module-twitter.api"
   ]
  },
  {
   "cell_type": "markdown",
   "metadata": {},
   "source": [
    "## Importando bibliotecas"
   ]
  },
  {
   "cell_type": "code",
   "execution_count": 2,
   "metadata": {},
   "outputs": [
    {
     "name": "stdout",
     "output_type": "stream",
     "text": [
      "Requirement already satisfied: python-twitter in c:\\users\\maluf\\appdata\\local\\programs\\python\\python37-32\\lib\\site-packages (3.5)\n",
      "Requirement already satisfied: requests-oauthlib in c:\\users\\maluf\\appdata\\local\\programs\\python\\python37-32\\lib\\site-packages (from python-twitter) (1.2.0)\n",
      "Requirement already satisfied: requests in c:\\users\\maluf\\appdata\\local\\programs\\python\\python37-32\\lib\\site-packages (from python-twitter) (2.22.0)\n",
      "Requirement already satisfied: future in c:\\users\\maluf\\appdata\\local\\programs\\python\\python37-32\\lib\\site-packages (from python-twitter) (0.17.1)\n",
      "Requirement already satisfied: oauthlib>=3.0.0 in c:\\users\\maluf\\appdata\\local\\programs\\python\\python37-32\\lib\\site-packages (from requests-oauthlib->python-twitter) (3.0.1)\n",
      "Requirement already satisfied: idna<2.9,>=2.5 in c:\\users\\maluf\\appdata\\local\\programs\\python\\python37-32\\lib\\site-packages (from requests->python-twitter) (2.8)\n",
      "Requirement already satisfied: urllib3!=1.25.0,!=1.25.1,<1.26,>=1.21.1 in c:\\users\\maluf\\appdata\\local\\programs\\python\\python37-32\\lib\\site-packages (from requests->python-twitter) (1.24.3)\n",
      "Requirement already satisfied: certifi>=2017.4.17 in c:\\users\\maluf\\appdata\\local\\programs\\python\\python37-32\\lib\\site-packages (from requests->python-twitter) (2018.4.16)\n",
      "Requirement already satisfied: chardet<3.1.0,>=3.0.2 in c:\\users\\maluf\\appdata\\local\\programs\\python\\python37-32\\lib\\site-packages (from requests->python-twitter) (3.0.4)\n"
     ]
    }
   ],
   "source": [
    "!pip install python-twitter"
   ]
  },
  {
   "cell_type": "code",
   "execution_count": 3,
   "metadata": {},
   "outputs": [],
   "source": [
    "import twitter\n",
    "import json"
   ]
  },
  {
   "cell_type": "code",
   "execution_count": 4,
   "metadata": {},
   "outputs": [],
   "source": [
    "from nltk import word_tokenize\n",
    "import nltk\n",
    "import re\n",
    "import pandas as pd\n",
    "from sklearn.feature_extraction.text import CountVectorizer\n",
    "from sklearn import svm\n",
    "from sklearn import metrics\n",
    "from sklearn.model_selection import cross_val_predict\n",
    "from sklearn.model_selection import cross_val_score"
   ]
  },
  {
   "cell_type": "markdown",
   "metadata": {},
   "source": [
    "## Configurando api"
   ]
  },
  {
   "cell_type": "code",
   "execution_count": 5,
   "metadata": {},
   "outputs": [],
   "source": [
    "# Carregando o arquivo de configuração\n",
    "with open('tokens.json') as f:\n",
    "    data = json.load(f)"
   ]
  },
  {
   "cell_type": "code",
   "execution_count": 6,
   "metadata": {},
   "outputs": [],
   "source": [
    "# Carregando a API do Twitter, utilizando os dados do arquivo json\n",
    "api = twitter.Api(**data)"
   ]
  },
  {
   "cell_type": "code",
   "execution_count": 7,
   "metadata": {},
   "outputs": [
    {
     "name": "stdout",
     "output_type": "stream",
     "text": [
      "{\"created_at\": \"Tue Jul 26 22:26:37 +0000 2016\", \"default_profile\": true, \"default_profile_image\": true, \"friends_count\": 1, \"id\": 758066017742512128, \"id_str\": \"758066017742512128\", \"name\": \"Malu Freitas\", \"profile_background_color\": \"F5F8FA\", \"profile_image_url\": \"http://abs.twimg.com/sticky/default_profile_images/default_profile_normal.png\", \"profile_image_url_https\": \"https://abs.twimg.com/sticky/default_profile_images/default_profile_normal.png\", \"profile_link_color\": \"1DA1F2\", \"profile_sidebar_border_color\": \"C0DEED\", \"profile_sidebar_fill_color\": \"DDEEF6\", \"profile_text_color\": \"333333\", \"profile_use_background_image\": true, \"screen_name\": \"MaluMalufrt\"}\n"
     ]
    }
   ],
   "source": [
    "# Testar se tudo está certo\n",
    "\n",
    "# Caso tiver alguma credencial errada, o resultado será:\n",
    "#twitter.error.TwitterError: [{'code': 32, 'message': 'Could not authenticate you.'}]\n",
    "\n",
    "print(api.VerifyCredentials())"
   ]
  },
  {
   "cell_type": "code",
   "execution_count": 8,
   "metadata": {},
   "outputs": [],
   "source": [
    "# A API do Twitter permite fazer diversos tipos de consultas. O retorno dessas consultas pode ser acessado facilmente. \n",
    "\n",
    "# Função que, a partir de uma lista de status, mostra o nome do usuário e o texto do twitter.\n",
    "\n",
    "def print_status(status_list):\n",
    "    for status in status_list:\n",
    "        print('(' + str(status.created_at) + ') ' + str(status.user.name) + ':' + str(status.text) + '\\n')"
   ]
  },
  {
   "cell_type": "markdown",
   "metadata": {},
   "source": [
    "## Buscando dados do twitter"
   ]
  },
  {
   "cell_type": "code",
   "execution_count": 9,
   "metadata": {},
   "outputs": [],
   "source": [
    "# Busca por termos\n",
    "\n",
    "status_list = api.GetSearch(term=\"xiaomi\",\n",
    "                            lang='pt',\n",
    "                            count=100,\n",
    "                            result_type='mixed')"
   ]
  },
  {
   "cell_type": "markdown",
   "metadata": {},
   "source": [
    "## Criando lista com os tweets"
   ]
  },
  {
   "cell_type": "code",
   "execution_count": 10,
   "metadata": {},
   "outputs": [],
   "source": [
    "def cria_tweet_list(status_list):\n",
    "    tweet_list = []\n",
    "    \n",
    "    for tweet in status_list:\n",
    "        tweet_list.append(tweet.text)\n",
    "    \n",
    "    return tweet_list"
   ]
  },
  {
   "cell_type": "code",
   "execution_count": 11,
   "metadata": {},
   "outputs": [
    {
     "name": "stdout",
     "output_type": "stream",
     "text": [
      "(Wed Oct 30 17:16:00 +0000 2019) Olhar Digital:A #Xiaomi mostrou a interface de seu novo smartwatch e como ele irá funcionar\n",
      "\n",
      "https://t.co/fKQgfTcMTJ\n",
      "\n",
      "(Tue Oct 29 15:31:01 +0000 2019) Xiaomi Brasil:Adivinhem quem está chegando! 👀 #XiaomiBrasil #mobilephotography #technology #Smartphones #Xiaomi https://t.co/WpZZOKxxzW\n",
      "\n",
      "(Wed Oct 30 19:25:00 +0000 2019) Olhar Digital:A 5m de distância, as imagens captadas pela lente permitem ver até 5.3 com nitidez. Confira o vídeo:\n",
      "\n",
      "https://t.co/ouosTx98Di\n",
      "\n",
      "(Thu Oct 31 11:05:14 +0000 2019) Inferninho:Pai amado eu vou trocar meu celular em um xiaomi\n",
      "\n",
      "(Thu Oct 31 11:03:01 +0000 2019) Cláudio Fernandes:O meu Xiaomi morreu 😢 de volta ao iPhone\n",
      "\n",
      "(Thu Oct 31 11:02:54 +0000 2019) bundinha vegana:@LaraSalvador8 @aderlan_macario Xiaomi maior e melhor\n",
      "\n",
      "(Thu Oct 31 11:01:35 +0000 2019) firmeza total:Tem algum fone de ouvido sem fio bom, sem ser o da xiaomi ou da Apple?\n",
      "\n",
      "(Thu Oct 31 10:53:58 +0000 2019) Leo Silva:O amazem está o mesmo que todos os produtos Br \n",
      "P-1000 👇👇\n",
      "Xiaomi Redmi Note 6 Pro Global Version 6.26 inch 4GB 64GB… https://t.co/SVreY4ftak\n",
      "\n",
      "(Thu Oct 31 10:53:11 +0000 2019) bitch i'm back:Painho é o usuário de xiaomi mais chato da face da terra.... olhe, sem condições.\n",
      "\n",
      "(Thu Oct 31 10:49:44 +0000 2019) bruce:@sailor_nebula Um vício chamado \n",
      "Não morrer de fome e comprar um xiaomi novo\n",
      "\n",
      "(Thu Oct 31 10:45:58 +0000 2019) Nicassio:@lucasmzanella @felipeneto Xiaomi ainda é para amadores. Vai de OnePlus\n",
      "\n",
      "(Thu Oct 31 10:39:34 +0000 2019) lethícia 🌈:Xiaomi divulga vídeos destacando usabilidade da MIUI no novo Mi Watch\n",
      "\n",
      "https://t.co/igcW5XRaZQ\n",
      "\n",
      "(Thu Oct 31 10:39:34 +0000 2019) lethícia 🌈:Xiaomi divulga vídeos do Mi Watch em funcionamento\n",
      "\n",
      "https://t.co/exUzK60dno\n",
      "\n",
      "(Thu Oct 31 10:38:08 +0000 2019) ké 🇧🇷:@AlicePA olha eu não sei nada de xiaomi e daqui a pouco as testemunhas vem explicar mas tem uns modelos aí que tem… https://t.co/PItvvwIpau\n",
      "\n",
      "(Thu Oct 31 10:35:55 +0000 2019) marjinau influeinser:@ilacekt Fone da xiaomi que é auricular, preto, foda, tem um puta boom foda é 120$ NA PRÓPRIA LOJA da mesma e essa… https://t.co/LJ9e2t8itJ\n",
      "\n",
      "(Thu Oct 31 10:34:42 +0000 2019) acopalices:poxa testemunhas de xiaomi vcs me prometeram\n",
      "\n",
      "(Thu Oct 31 10:31:54 +0000 2019) André:@finturbo Isso que dá comprar Xiaomi\n",
      "\n",
      "(Thu Oct 31 10:31:03 +0000 2019) GADO D+:absolutamente ninguém: \n",
      "\n",
      "xiaomi: https://t.co/NUDyTGynfZ\n",
      "\n",
      "(Thu Oct 31 10:29:33 +0000 2019) acopalices:E digo mais: tô há meia hora usando o celular pra testar as coisas, há caiu 10% de bateria. EM MEIA HORA.  Q q adia… https://t.co/UF1mcs0sG7\n",
      "\n",
      "(Thu Oct 31 10:25:03 +0000 2019) Jhonas Marley:@lidianta bom dia, a senhora já ouviu a palavra de xiaomi?!\n",
      "\n",
      "(Thu Oct 31 10:23:36 +0000 2019) Márcio M. Silva:Xiaomi Mi Watch vai dar-te quatro opções de personalização https://t.co/ZLdzufHkKe https://t.co/xEKHLF9Ud8\n",
      "\n",
      "(Thu Oct 31 10:21:48 +0000 2019) Marcos Henrique:Os apps recomendados da xiaomi são os melhores https://t.co/CCU0d2WS0Z\n",
      "\n",
      "(Thu Oct 31 10:21:17 +0000 2019) Carlos Martins:Aberto até de Madrugada: Xiaomi Mi CC9 Pro mostra a câmara de 108MP https://t.co/V0VlRpyOIC\n",
      "\n",
      "(Thu Oct 31 10:19:28 +0000 2019) peter:RT @julia_mcarvalho: muito difícil fazer lomotif no xiaomi https://t.co/eZOn8WyF5h\n",
      "\n",
      "(Thu Oct 31 10:19:23 +0000 2019) Bruh:@reveluvle Sem problemas kkkkkk eu tambem. Comprei o xiaomi amiga\n",
      "\n",
      "(Thu Oct 31 10:16:37 +0000 2019) Ed:o brabo tem nome, e um xiaomi que é meu kkkkk https://t.co/6JB71bigT3\n",
      "\n",
      "(Thu Oct 31 10:14:48 +0000 2019) Aquário Toxico:RT @httpsconrado: Realmente o xiaomi bota a Apple pra mamar \n",
      "\n",
      "Apple vc que lute\n",
      "\n",
      "(Thu Oct 31 10:09:59 +0000 2019) lari ᶜʳᶠ:tô amando meu xiaomi 🥰 demorou, mas chegou kk\n",
      "\n",
      "(Thu Oct 31 10:06:30 +0000 2019) Aberto Madrugada:Xiaomi Mi CC9 Pro mostra a câmara de 108MP https://t.co/f2wdd3pLYm\n",
      "\n",
      "(Thu Oct 31 10:04:33 +0000 2019) andré.:@Mateus_Frey @kusterkkkkkk @maiconkusterkkk Sua franja do cabelo parece a camera frontal do xiaomi mi9 https://t.co/UmMTm863NX\n",
      "\n",
      "(Thu Oct 31 10:04:18 +0000 2019) Android Geek PT:O litígio de patentes entre a Xiaomi e Ericsson chegou ao fim https://t.co/TjpfP4Rj6O\n",
      "\n",
      "(Thu Oct 31 10:03:54 +0000 2019) José Cardoso:Xiaomi Mi Note 10 Pro: leak revela todas as especificações! https://t.co/x7zWyWf7nM via @leakpt\n",
      "\n",
      "(Thu Oct 31 10:00:44 +0000 2019) aglio:do nada o celular apagou TUDO do meu cartão de memória ?por que? xiaomi voce prometeu???\n",
      "\n",
      "(Thu Oct 31 09:59:48 +0000 2019) I'mAsif:RT @stufflistings: Mi CC9 Pro super macro mode.\n",
      "#Xiaomi #redmi #cc9pro #mismartwatch #MiTV5 #MiNote10 https://t.co/WYOVSWWqX1\n",
      "\n",
      "(Thu Oct 31 09:57:46 +0000 2019) dennys:RT @brun4to: Alguém sabe me informar se meu xiaomi veio defeito? N me informaram que ele acabava a bateria https://t.co/00cLi8gqKt\n",
      "\n",
      "(Thu Oct 31 09:56:37 +0000 2019) Madhu Gupta:RT @XiaomiBrasil: Adivinhem quem está chegando! 👀 #XiaomiBrasil #mobilephotography #technology #Smartphones #Xiaomi https://t.co/WpZZOKxxzW\n",
      "\n",
      "(Thu Oct 31 09:55:10 +0000 2019) Galega 🤭:Fui no Show do @WesleySafadao , perdi os sentidos e o celular 😂😂, por motivo de forças financeiras, comprei um Xiao… https://t.co/NvJBniwu42\n",
      "\n",
      "(Thu Oct 31 09:55:04 +0000 2019) Márcio M. Silva:Realme 6 poderá ser o rival do Xiaomi Mi Note 10, revela caixa de retalho! (vídeo) https://t.co/cIEKBoYOc7 https://t.co/5SQcPhtW8o\n",
      "\n",
      "(Thu Oct 31 09:49:11 +0000 2019) Matheus:Devo me preocupar? Hoje é o último dia pro meu celular receber atualização e até agora nada #MIUI11 #Xiaomi https://t.co/yYQgUAaSxu\n",
      "\n",
      "(Thu Oct 31 09:47:22 +0000 2019) Xiaomi Brasil 2.0:RT @XiaomiBrasil: Agora a Mi TV Box S está disponível em nosso site! Link: https://t.co/BRe8wUpAwR  \n",
      "#Xiaomi #XiaomiBrasil https://t.co/Ko5…\n",
      "\n",
      "(Thu Oct 31 09:45:27 +0000 2019) markuusbr:MIUI 11 Chegou no Redmi Note 7! \n",
      "Novidades? Aparentemente só o tema, fonte e animação, de resto só fizeram organiza… https://t.co/HbpZDv2AOo\n",
      "\n",
      "(Thu Oct 31 09:39:15 +0000 2019) talita:Nunca fiquei tão aliviada, já tava pensando \"a tela do Xiaomi deve ser um absurdo de cara\"\n",
      "\n",
      "(Thu Oct 31 09:37:59 +0000 2019) fabio:Xiaomi seu prazo está acabando e estou preocupado\n",
      "\n",
      "(Thu Oct 31 09:36:26 +0000 2019) Forbs:@BaphometJunior E esse Xiaomi na tua mão?\n",
      "\n",
      "(Thu Oct 31 09:34:41 +0000 2019) Wayne:@lucaaslb @ItsScissorhands Testemunha do xiaomi kkkkkkkkkkkk\n",
      "\n",
      "(Thu Oct 31 09:34:16 +0000 2019) ana banana:Ninguém:\n",
      "\n",
      "Usuário de xiaomi: COMPRE XIAOMI CARA, MUITO MELHOR QUE IPHONE E SUPER BARATO\n",
      "\n",
      "(Thu Oct 31 09:34:02 +0000 2019) Gabiih:@passaro_de_fog0 @Plugue_de_Tomad Eu postei a foto do meu celular, não tenho interesse em saber de xiaomi, isso ai… https://t.co/BsTt7KftOc\n",
      "\n",
      "(Thu Oct 31 09:32:53 +0000 2019) Mordecai756:@miojonin @Plugue_de_Tomad Eu só vim defender o argumento de xiaomi ser mais bonito que iphone, os antigos podiam a… https://t.co/sMCCpf0XfT\n",
      "\n",
      "(Thu Oct 31 09:30:23 +0000 2019) Xiaomi Brasil 2.0:RT @AndroidPITcomBR: @XiaomiBrasil Temos um palpite :) https://t.co/z1gaazSnUh\n",
      "\n",
      "(Thu Oct 31 09:30:12 +0000 2019) Xiaomi Brasil 2.0:RT @XiaomiBrasil: Adivinhem quem está chegando! 👀 #XiaomiBrasil #mobilephotography #technology #Smartphones #Xiaomi https://t.co/WpZZOKxxzW\n",
      "\n",
      "(Thu Oct 31 09:29:25 +0000 2019) Gabiih:@passaro_de_fog0 @Plugue_de_Tomad Em nenhum momento disse na nossa conversa que iPhone era bonito, eu peguei iPhone… https://t.co/abOrdbB2AH\n",
      "\n",
      "(Thu Oct 31 09:27:04 +0000 2019) Maria ❄️:Vamos ser verdadeiros e dizer que Samsung não presta mas o xiaomi tambem não fica muito atrás https://t.co/U5mjshdK5F\n",
      "\n",
      "(Thu Oct 31 09:22:01 +0000 2019) TugaTech:Xiaomi Mi Watch pode contar com um sistema operativo dedicado \n",
      "https://t.co/Me6tll1QDQ https://t.co/nb1bczkqje\n",
      "\n",
      "(Thu Oct 31 09:21:50 +0000 2019) alexchina:RT @11setembro: NÃO COMPRE XIAOMI MI 9T https://t.co/hPUtnzonmw via @YouTube\n",
      "\n",
      "(Thu Oct 31 09:21:44 +0000 2019) 11setembro:NÃO COMPRE XIAOMI MI 9T https://t.co/hPUtnzonmw via @YouTube\n",
      "\n",
      "(Thu Oct 31 09:15:53 +0000 2019) 𝔭𝔢𝔩𝔩𝔞⎊𝔰𝔬𝔞𝔳𝔢:Agr até minha mãe tem um Xiaomi, o mundo segue avançando pra dominação\n",
      "\n",
      "(Thu Oct 31 09:15:03 +0000 2019) TechTudo:Redmi Note 8 Pro vem aí: Xiaomi marca lançamento no Brasil em 7 de novembro https://t.co/xkAAkLV18x https://t.co/ZpiyJl15Pl\n",
      "\n",
      "(Thu Oct 31 09:14:30 +0000 2019) Homem Expresso:@vladcampos Xiaomi é outra vida! https://t.co/u9AG40Xuq1\n",
      "\n",
      "(Thu Oct 31 09:10:03 +0000 2019) TugaTech:Xiaomi prepara-se para lançamento do Mi Note 10 \n",
      "https://t.co/4zrWbhyTpJ https://t.co/XVCiRDJlyP\n",
      "\n",
      "(Thu Oct 31 09:08:09 +0000 2019) Márcio M. Silva:Xiaomi Mi Note 10. Fotografias macro reveladas são impressionantes https://t.co/CSm4pyR5Ry https://t.co/lAmDG0XulL\n",
      "\n",
      "(Thu Oct 31 09:03:15 +0000 2019) TekGenius:Bateria do Xiaomi Mi CC9 será melhor que o esperado com 5260mAh e carregamento de 30W https://t.co/dXj0DFszVx https://t.co/eprESqqksL\n",
      "\n",
      "(Thu Oct 31 09:00:05 +0000 2019) 𝗖𝗵𝗶𝗻𝗮𝗕𝗮𝘆:▪️ Xiaomi Redmi Note 8\n",
      "💶 Precio: 160.69€\n",
      "📝 Cupon: BG11N84\n",
      "🌐 Link: https://t.co/YTyDmPxyYw\n",
      "\n",
      "☑️ 4/64 GB\n",
      "☑️ GLOBAL Ver… https://t.co/LLDSlwsmFS\n",
      "\n",
      "(Thu Oct 31 09:00:02 +0000 2019) P-Telemóveis:Como especialistas em reparação Xiaomi, fazemos a substituição das câmaras e tampa da bateria do Mi 9T Pro.\n",
      "Orçamen… https://t.co/Gmi3DyF9fj\n",
      "\n",
      "(Thu Oct 31 08:54:19 +0000 2019) incel bot:sim eu adoro xiaomi, como adivinhou?\n",
      "\n",
      "(Thu Oct 31 08:53:07 +0000 2019) Márcio M. Silva:Xiaomi Mi MIX 4: imagens mostram característica com que todos sonhavam! https://t.co/der7HYX9aK https://t.co/pIpQj3lz9E\n",
      "\n",
      "(Thu Oct 31 08:45:15 +0000 2019) TekGenius:Primeiras fotografias macro do Xiaomi Mi CC9 Pro são soberbas https://t.co/omgttJXthI https://t.co/gaXlzQFLT5\n",
      "\n",
      "(Thu Oct 31 08:44:04 +0000 2019) #MiFan 『Ana͜͡nt』 Rawat:RT @stufflistings: Mi CC9 Pro super macro mode.\n",
      "#Xiaomi #redmi #cc9pro #mismartwatch #MiTV5 #MiNote10 https://t.co/WYOVSWWqX1\n",
      "\n",
      "(Thu Oct 31 08:42:34 +0000 2019) Deals.PokolenieSmart.pl:Redmi 8A EU 2+32G\n",
      "$89.99  \n",
      "https://t.co/pmbLe3V3rk \n",
      "#gearbest #banggood #aliexpress #tomtop #xiaomi https://t.co/Z0t7PPSn2k\n",
      "\n",
      "(Thu Oct 31 08:40:51 +0000 2019) tataia ?:Xiaomi eu te amo mas esse teu mi cloud me estressa\n",
      "\n",
      "(Thu Oct 31 08:32:07 +0000 2019) a tia chalupa:@fxvnder Imagina acordares e estares a ouvir um barulho estranho e aperceberes-te que é um secador às fucking 6 da… https://t.co/lNfqFznSyP\n",
      "\n",
      "(Thu Oct 31 08:29:15 +0000 2019) Shubham Bishnoi:RT @stufflistings: Mi CC9 Pro super macro mode.\n",
      "#Xiaomi #redmi #cc9pro #mismartwatch #MiTV5 #MiNote10 https://t.co/WYOVSWWqX1\n",
      "\n",
      "(Thu Oct 31 08:28:15 +0000 2019) °˖✧ founder ⦻ ✧˖°:@alexa_s_12 Mas isso é um secador da xiaomi para tu monitorizares as horas ou q?\n",
      "\n",
      "(Thu Oct 31 08:26:18 +0000 2019) anthony 🥵:Realmente o xiaomi bota a Apple pra mamar \n",
      "\n",
      "Apple vc que lute\n",
      "\n",
      "(Thu Oct 31 08:26:15 +0000 2019) Programadores Brasil:Xiaomi deve lançar Redmi Note 8 Pro no Brasil https://t.co/kTag8VVnBu\n",
      "\n",
      "(Thu Oct 31 08:24:22 +0000 2019) NaoProcureMais:Preço Mínimo Drone Xiaomi Fimi X8 de 423€ https://t.co/bczbof5nrL https://t.co/byk5AQXq04\n",
      "\n",
      "(Thu Oct 31 08:10:01 +0000 2019) Ashish  Pal:RT @stufflistings: Mi CC9 Pro super macro mode.\n",
      "#Xiaomi #redmi #cc9pro #mismartwatch #MiTV5 #MiNote10 https://t.co/WYOVSWWqX1\n",
      "\n",
      "(Thu Oct 31 07:59:33 +0000 2019) Márcio M. Silva:Xiaomi Mi Note 10 tem data de lançamento oficial na Europa! https://t.co/p1rYg8ASW3 https://t.co/HDROLxFRwX\n",
      "\n",
      "(Thu Oct 31 07:58:24 +0000 2019) letxi:Ele era meu amigo...hoje é profeta da Xiaomi.\n",
      "\n",
      "(Thu Oct 31 07:58:19 +0000 2019) LeandroPeixoto:@thiagochareti Quando seu xiaomi chegar @Ment0sbtw\n",
      "\n",
      "(Thu Oct 31 07:49:12 +0000 2019) GrēgøVįctør:Em quanto isso nessa noite maravilhosa!!! \n",
      "By Xiaomi Pocophone f1 https://t.co/GRO2o3G7Mj\n",
      "\n",
      "(Thu Oct 31 07:44:06 +0000 2019) lucas:puts nao acredito que vou virar cadelinha da xiaomi https://t.co/Tt4Y15qKuO\n",
      "\n",
      "(Thu Oct 31 07:22:16 +0000 2019) Cancelada:Tava vendo uns modelos de xiaomi e visualmente ele é mt bonito temos q admitir\n",
      "\n",
      "(Thu Oct 31 07:20:15 +0000 2019) Gabrieeeelle 🐔:Alô Xiaomi cadê minha MIUI 11 amada? Último dia hoje caralho\n",
      "\n",
      "(Thu Oct 31 07:06:25 +0000 2019) Pelando:184° - Xiaomi MI 9 64GB 6GB Versão Global Azul https://t.co/OsRQOkQa1i\n",
      "\n",
      "(Thu Oct 31 06:42:50 +0000 2019) Mukul Sharma:Mi CC9 Pro super macro mode.\n",
      "#Xiaomi #redmi #cc9pro #mismartwatch #MiTV5 #MiNote10 https://t.co/WYOVSWWqX1\n",
      "\n",
      "(Thu Oct 31 06:36:20 +0000 2019) cadu:@dyonoir @itstheuz Sim sim, os fones da xiaomi são ótimos, a qualidade do som é ótima\n",
      "\n",
      "(Thu Oct 31 06:30:16 +0000 2019) Moda Lindos & Lindas:Celular, Iphone e Smartphone https://t.co/RB9wmlft0f Moda celular mais barato #tv #roupa esporte paypal tenis sapat… https://t.co/YL1IQ9uboV\n",
      "\n",
      "(Thu Oct 31 06:29:27 +0000 2019) Fã da Nilce estilosa:Cheguei no meu auge, comprei os airdots da xiaomi por 139.99 nunca mais compro nada!!!!\n",
      "\n",
      "(Thu Oct 31 06:25:20 +0000 2019) 💛:Morre um xiaomi mi 8 aos poucos https://t.co/eubnrctm34\n",
      "\n",
      "(Thu Oct 31 06:25:12 +0000 2019) NaoProcureMais:Preço mínimo Xiaomi Scooter M365 PRO de 450€ https://t.co/VSpGbL6Mnf https://t.co/FILXOEOsC8\n",
      "\n",
      "(Thu Oct 31 06:12:55 +0000 2019) Diego Araújo:Bicho, a câmera desse Xiaomi é insana de tão boa, puta merda\n",
      "\n",
      "(Thu Oct 31 06:08:50 +0000 2019) Yohan center:@itstheuz @shuhu_idle SIM. Ambos maravilhosos. Testei esse fone da Xiaomi há algum tempo e ele é MUITO bom. Já JBL… https://t.co/OsQHZ6oaMN\n",
      "\n",
      "(Thu Oct 31 06:01:35 +0000 2019) matheus • run away:@shuhu_idle @dyonoir os fones da JBL e do xiaomi tem sons potentes?\n",
      "\n",
      "(Thu Oct 31 06:00:03 +0000 2019) cadu:@itstheuz @dyonoir Se for os da apple, só pega em iPhone, mas os da JBL pegam em qualquer celular, eu acho, os fone… https://t.co/NkSokTUkVN\n",
      "\n",
      "(Thu Oct 31 05:59:02 +0000 2019) gab:Alguém que não gosta do iPhone e prefere o xiaomi se quiser me dar um iPhone eu aceito \n",
      "\n",
      "Alguém que não gosta do xi… https://t.co/iicaPEOX0v\n",
      "\n",
      "(Thu Oct 31 05:55:19 +0000 2019) gustavv:@nubank quero comprar logo meu Xiaomi tem como vocês entregar logo meu cartão?\n",
      "\n",
      "(Thu Oct 31 05:52:17 +0000 2019) GADO DO BREJO:Segura a nova usuária de xiaomi https://t.co/YLHfZKzM5w\n",
      "\n",
      "(Thu Oct 31 05:52:10 +0000 2019) geo:@millkzx tu comprou o xiaomi?\n",
      "\n",
      "(Thu Oct 31 05:48:10 +0000 2019) ¬¬:@Mirim_excitado vende e arruma dinheiro p comprar um XiAoMI\n",
      "\n",
      "(Thu Oct 31 05:43:20 +0000 2019) Tecnologia sVipCHAT:Xiaomi Mi Watch revelado, celular dobrável \"flip\" da Samsung, preço do HBO Max - Hoje no TecMundo - TecMundo https://t.co/92B2N6yVXs\n",
      "\n"
     ]
    }
   ],
   "source": [
    "# Printando elementos\n",
    "print_status(status_list)"
   ]
  },
  {
   "cell_type": "code",
   "execution_count": 12,
   "metadata": {},
   "outputs": [
    {
     "name": "stdout",
     "output_type": "stream",
     "text": [
      "100\n"
     ]
    }
   ],
   "source": [
    "print(len(status_list))"
   ]
  },
  {
   "cell_type": "code",
   "execution_count": 13,
   "metadata": {},
   "outputs": [],
   "source": [
    "tweet_list = cria_tweet_list(status_list)"
   ]
  },
  {
   "cell_type": "code",
   "execution_count": 14,
   "metadata": {},
   "outputs": [
    {
     "name": "stdout",
     "output_type": "stream",
     "text": [
      "['A #Xiaomi mostrou a interface de seu novo smartwatch e como ele irá funcionar\\n\\nhttps://t.co/fKQgfTcMTJ', 'Adivinhem quem está chegando! 👀 #XiaomiBrasil #mobilephotography #technology #Smartphones #Xiaomi https://t.co/WpZZOKxxzW', 'A 5m de distância, as imagens captadas pela lente permitem ver até 5.3 com nitidez. Confira o vídeo:\\n\\nhttps://t.co/ouosTx98Di', 'Pai amado eu vou trocar meu celular em um xiaomi', 'O meu Xiaomi morreu 😢 de volta ao iPhone', '@LaraSalvador8 @aderlan_macario Xiaomi maior e melhor', 'Tem algum fone de ouvido sem fio bom, sem ser o da xiaomi ou da Apple?', 'O amazem está o mesmo que todos os produtos Br \\nP-1000 👇👇\\nXiaomi Redmi Note 6 Pro Global Version 6.26 inch 4GB 64GB… https://t.co/SVreY4ftak', 'Painho é o usuário de xiaomi mais chato da face da terra.... olhe, sem condições.', '@sailor_nebula Um vício chamado \\nNão morrer de fome e comprar um xiaomi novo', '@lucasmzanella @felipeneto Xiaomi ainda é para amadores. Vai de OnePlus', 'Xiaomi divulga vídeos destacando usabilidade da MIUI no novo Mi Watch\\n\\nhttps://t.co/igcW5XRaZQ', 'Xiaomi divulga vídeos do Mi Watch em funcionamento\\n\\nhttps://t.co/exUzK60dno', '@AlicePA olha eu não sei nada de xiaomi e daqui a pouco as testemunhas vem explicar mas tem uns modelos aí que tem… https://t.co/PItvvwIpau', '@ilacekt Fone da xiaomi que é auricular, preto, foda, tem um puta boom foda é 120$ NA PRÓPRIA LOJA da mesma e essa… https://t.co/LJ9e2t8itJ', 'poxa testemunhas de xiaomi vcs me prometeram', '@finturbo Isso que dá comprar Xiaomi', 'absolutamente ninguém: \\n\\nxiaomi: https://t.co/NUDyTGynfZ', 'E digo mais: tô há meia hora usando o celular pra testar as coisas, há caiu 10% de bateria. EM MEIA HORA.  Q q adia… https://t.co/UF1mcs0sG7', '@lidianta bom dia, a senhora já ouviu a palavra de xiaomi?!', 'Xiaomi Mi Watch vai dar-te quatro opções de personalização https://t.co/ZLdzufHkKe https://t.co/xEKHLF9Ud8', 'Os apps recomendados da xiaomi são os melhores https://t.co/CCU0d2WS0Z', 'Aberto até de Madrugada: Xiaomi Mi CC9 Pro mostra a câmara de 108MP https://t.co/V0VlRpyOIC', 'RT @julia_mcarvalho: muito difícil fazer lomotif no xiaomi https://t.co/eZOn8WyF5h', '@reveluvle Sem problemas kkkkkk eu tambem. Comprei o xiaomi amiga', 'o brabo tem nome, e um xiaomi que é meu kkkkk https://t.co/6JB71bigT3', 'RT @httpsconrado: Realmente o xiaomi bota a Apple pra mamar \\n\\nApple vc que lute', 'tô amando meu xiaomi 🥰 demorou, mas chegou kk', 'Xiaomi Mi CC9 Pro mostra a câmara de 108MP https://t.co/f2wdd3pLYm', '@Mateus_Frey @kusterkkkkkk @maiconkusterkkk Sua franja do cabelo parece a camera frontal do xiaomi mi9 https://t.co/UmMTm863NX', 'O litígio de patentes entre a Xiaomi e Ericsson chegou ao fim https://t.co/TjpfP4Rj6O', 'Xiaomi Mi Note 10 Pro: leak revela todas as especificações! https://t.co/x7zWyWf7nM via @leakpt', 'do nada o celular apagou TUDO do meu cartão de memória ?por que? xiaomi voce prometeu???', 'RT @stufflistings: Mi CC9 Pro super macro mode.\\n#Xiaomi #redmi #cc9pro #mismartwatch #MiTV5 #MiNote10 https://t.co/WYOVSWWqX1', 'RT @brun4to: Alguém sabe me informar se meu xiaomi veio defeito? N me informaram que ele acabava a bateria https://t.co/00cLi8gqKt', 'RT @XiaomiBrasil: Adivinhem quem está chegando! 👀 #XiaomiBrasil #mobilephotography #technology #Smartphones #Xiaomi https://t.co/WpZZOKxxzW', 'Fui no Show do @WesleySafadao , perdi os sentidos e o celular 😂😂, por motivo de forças financeiras, comprei um Xiao… https://t.co/NvJBniwu42', 'Realme 6 poderá ser o rival do Xiaomi Mi Note 10, revela caixa de retalho! (vídeo) https://t.co/cIEKBoYOc7 https://t.co/5SQcPhtW8o', 'Devo me preocupar? Hoje é o último dia pro meu celular receber atualização e até agora nada #MIUI11 #Xiaomi https://t.co/yYQgUAaSxu', 'RT @XiaomiBrasil: Agora a Mi TV Box S está disponível em nosso site! Link: https://t.co/BRe8wUpAwR  \\n#Xiaomi #XiaomiBrasil https://t.co/Ko5…', 'MIUI 11 Chegou no Redmi Note 7! \\nNovidades? Aparentemente só o tema, fonte e animação, de resto só fizeram organiza… https://t.co/HbpZDv2AOo', 'Nunca fiquei tão aliviada, já tava pensando \"a tela do Xiaomi deve ser um absurdo de cara\"', 'Xiaomi seu prazo está acabando e estou preocupado', '@BaphometJunior E esse Xiaomi na tua mão?', '@lucaaslb @ItsScissorhands Testemunha do xiaomi kkkkkkkkkkkk', 'Ninguém:\\n\\nUsuário de xiaomi: COMPRE XIAOMI CARA, MUITO MELHOR QUE IPHONE E SUPER BARATO', '@passaro_de_fog0 @Plugue_de_Tomad Eu postei a foto do meu celular, não tenho interesse em saber de xiaomi, isso ai… https://t.co/BsTt7KftOc', '@miojonin @Plugue_de_Tomad Eu só vim defender o argumento de xiaomi ser mais bonito que iphone, os antigos podiam a… https://t.co/sMCCpf0XfT', 'RT @AndroidPITcomBR: @XiaomiBrasil Temos um palpite :) https://t.co/z1gaazSnUh', 'RT @XiaomiBrasil: Adivinhem quem está chegando! 👀 #XiaomiBrasil #mobilephotography #technology #Smartphones #Xiaomi https://t.co/WpZZOKxxzW', '@passaro_de_fog0 @Plugue_de_Tomad Em nenhum momento disse na nossa conversa que iPhone era bonito, eu peguei iPhone… https://t.co/abOrdbB2AH', 'Vamos ser verdadeiros e dizer que Samsung não presta mas o xiaomi tambem não fica muito atrás https://t.co/U5mjshdK5F', 'Xiaomi Mi Watch pode contar com um sistema operativo dedicado \\nhttps://t.co/Me6tll1QDQ https://t.co/nb1bczkqje', 'RT @11setembro: NÃO COMPRE XIAOMI MI 9T https://t.co/hPUtnzonmw via @YouTube', 'NÃO COMPRE XIAOMI MI 9T https://t.co/hPUtnzonmw via @YouTube', 'Agr até minha mãe tem um Xiaomi, o mundo segue avançando pra dominação', 'Redmi Note 8 Pro vem aí: Xiaomi marca lançamento no Brasil em 7 de novembro https://t.co/xkAAkLV18x https://t.co/ZpiyJl15Pl', '@vladcampos Xiaomi é outra vida! https://t.co/u9AG40Xuq1', 'Xiaomi prepara-se para lançamento do Mi Note 10 \\nhttps://t.co/4zrWbhyTpJ https://t.co/XVCiRDJlyP', 'Xiaomi Mi Note 10. Fotografias macro reveladas são impressionantes https://t.co/CSm4pyR5Ry https://t.co/lAmDG0XulL', 'Bateria do Xiaomi Mi CC9 será melhor que o esperado com 5260mAh e carregamento de\\xa030W https://t.co/dXj0DFszVx https://t.co/eprESqqksL', '▪️ Xiaomi Redmi Note 8\\n💶 Precio: 160.69€\\n📝 Cupon: BG11N84\\n🌐 Link: https://t.co/YTyDmPxyYw\\n\\n☑️ 4/64 GB\\n☑️ GLOBAL Ver… https://t.co/LLDSlwsmFS', 'Como especialistas em reparação Xiaomi, fazemos a substituição das câmaras e tampa da bateria do Mi 9T Pro.\\nOrçamen… https://t.co/Gmi3DyF9fj', 'sim eu adoro xiaomi, como adivinhou?', 'Xiaomi Mi MIX 4: imagens mostram característica com que todos sonhavam! https://t.co/der7HYX9aK https://t.co/pIpQj3lz9E', 'Primeiras fotografias macro do Xiaomi Mi CC9 Pro são\\xa0soberbas https://t.co/omgttJXthI https://t.co/gaXlzQFLT5', 'RT @stufflistings: Mi CC9 Pro super macro mode.\\n#Xiaomi #redmi #cc9pro #mismartwatch #MiTV5 #MiNote10 https://t.co/WYOVSWWqX1', 'Redmi 8A EU 2+32G\\n$89.99  \\nhttps://t.co/pmbLe3V3rk \\n#gearbest #banggood #aliexpress #tomtop #xiaomi https://t.co/Z0t7PPSn2k', 'Xiaomi eu te amo mas esse teu mi cloud me estressa', '@fxvnder Imagina acordares e estares a ouvir um barulho estranho e aperceberes-te que é um secador às fucking 6 da… https://t.co/lNfqFznSyP', 'RT @stufflistings: Mi CC9 Pro super macro mode.\\n#Xiaomi #redmi #cc9pro #mismartwatch #MiTV5 #MiNote10 https://t.co/WYOVSWWqX1', '@alexa_s_12 Mas isso é um secador da xiaomi para tu monitorizares as horas ou q?', 'Realmente o xiaomi bota a Apple pra mamar \\n\\nApple vc que lute', 'Xiaomi deve lançar Redmi Note 8 Pro no Brasil https://t.co/kTag8VVnBu', 'Preço Mínimo Drone Xiaomi Fimi X8 de\\xa0423€ https://t.co/bczbof5nrL https://t.co/byk5AQXq04', 'RT @stufflistings: Mi CC9 Pro super macro mode.\\n#Xiaomi #redmi #cc9pro #mismartwatch #MiTV5 #MiNote10 https://t.co/WYOVSWWqX1', 'Xiaomi Mi Note 10 tem data de lançamento oficial na Europa! https://t.co/p1rYg8ASW3 https://t.co/HDROLxFRwX', 'Ele era meu amigo...hoje é profeta da Xiaomi.', '@thiagochareti Quando seu xiaomi chegar @Ment0sbtw', 'Em quanto isso nessa noite maravilhosa!!! \\nBy Xiaomi Pocophone f1 https://t.co/GRO2o3G7Mj', 'puts nao acredito que vou virar cadelinha da xiaomi https://t.co/Tt4Y15qKuO', 'Tava vendo uns modelos de xiaomi e visualmente ele é mt bonito temos q admitir', 'Alô Xiaomi cadê minha MIUI 11 amada? Último dia hoje caralho', '184° - Xiaomi MI 9 64GB 6GB Versão Global Azul https://t.co/OsRQOkQa1i', 'Mi CC9 Pro super macro mode.\\n#Xiaomi #redmi #cc9pro #mismartwatch #MiTV5 #MiNote10 https://t.co/WYOVSWWqX1', '@dyonoir @itstheuz Sim sim, os fones da xiaomi são ótimos, a qualidade do som é ótima', 'Celular, Iphone e Smartphone https://t.co/RB9wmlft0f Moda celular mais barato #tv #roupa esporte paypal tenis sapat… https://t.co/YL1IQ9uboV', 'Cheguei no meu auge, comprei os airdots da xiaomi por 139.99 nunca mais compro nada!!!!', 'Morre um xiaomi mi 8 aos poucos https://t.co/eubnrctm34', 'Preço mínimo Xiaomi Scooter M365 PRO de\\xa0450€ https://t.co/VSpGbL6Mnf https://t.co/FILXOEOsC8', 'Bicho, a câmera desse Xiaomi é insana de tão boa, puta merda', '@itstheuz @shuhu_idle SIM. Ambos maravilhosos. Testei esse fone da Xiaomi há algum tempo e ele é MUITO bom. Já JBL… https://t.co/OsQHZ6oaMN', '@shuhu_idle @dyonoir os fones da JBL e do xiaomi tem sons potentes?', '@itstheuz @dyonoir Se for os da apple, só pega em iPhone, mas os da JBL pegam em qualquer celular, eu acho, os fone… https://t.co/NkSokTUkVN', 'Alguém que não gosta do iPhone e prefere o xiaomi se quiser me dar um iPhone eu aceito \\n\\nAlguém que não gosta do xi… https://t.co/iicaPEOX0v', '@nubank quero comprar logo meu Xiaomi tem como vocês entregar logo meu cartão?', 'Segura a nova usuária de xiaomi https://t.co/YLHfZKzM5w', '@millkzx tu comprou o xiaomi?', '@Mirim_excitado vende e arruma dinheiro p comprar um XiAoMI', 'Xiaomi Mi Watch revelado, celular dobrável \"flip\" da Samsung, preço do HBO Max - Hoje no TecMundo - TecMundo https://t.co/92B2N6yVXs']\n"
     ]
    }
   ],
   "source": [
    "print(tweet_list)"
   ]
  },
  {
   "cell_type": "code",
   "execution_count": 15,
   "metadata": {},
   "outputs": [
    {
     "name": "stdout",
     "output_type": "stream",
     "text": [
      "'A #Xiaomi mostrou a interface de seu novo smartwatch e como ele irá funcionar\n",
      "\n",
      "https://t.co/fKQgfTcMTJ'\n",
      "----------------------------------------------------------------------------------------------------------------\n",
      "'Adivinhem quem está chegando! 👀 #XiaomiBrasil #mobilephotography #technology #Smartphones #Xiaomi https://t.co/WpZZOKxxzW'\n",
      "----------------------------------------------------------------------------------------------------------------\n",
      "'A 5m de distância, as imagens captadas pela lente permitem ver até 5.3 com nitidez. Confira o vídeo:\n",
      "\n",
      "https://t.co/ouosTx98Di'\n",
      "----------------------------------------------------------------------------------------------------------------\n",
      "'Pai amado eu vou trocar meu celular em um xiaomi'\n",
      "----------------------------------------------------------------------------------------------------------------\n",
      "'O meu Xiaomi morreu 😢 de volta ao iPhone'\n",
      "----------------------------------------------------------------------------------------------------------------\n",
      "'@LaraSalvador8 @aderlan_macario Xiaomi maior e melhor'\n",
      "----------------------------------------------------------------------------------------------------------------\n",
      "'Tem algum fone de ouvido sem fio bom, sem ser o da xiaomi ou da Apple?'\n",
      "----------------------------------------------------------------------------------------------------------------\n",
      "'O amazem está o mesmo que todos os produtos Br \n",
      "P-1000 👇👇\n",
      "Xiaomi Redmi Note 6 Pro Global Version 6.26 inch 4GB 64GB… https://t.co/SVreY4ftak'\n",
      "----------------------------------------------------------------------------------------------------------------\n",
      "'Painho é o usuário de xiaomi mais chato da face da terra.... olhe, sem condições.'\n",
      "----------------------------------------------------------------------------------------------------------------\n",
      "'@sailor_nebula Um vício chamado \n",
      "Não morrer de fome e comprar um xiaomi novo'\n",
      "----------------------------------------------------------------------------------------------------------------\n",
      "'@lucasmzanella @felipeneto Xiaomi ainda é para amadores. Vai de OnePlus'\n",
      "----------------------------------------------------------------------------------------------------------------\n",
      "'Xiaomi divulga vídeos destacando usabilidade da MIUI no novo Mi Watch\n",
      "\n",
      "https://t.co/igcW5XRaZQ'\n",
      "----------------------------------------------------------------------------------------------------------------\n",
      "'Xiaomi divulga vídeos do Mi Watch em funcionamento\n",
      "\n",
      "https://t.co/exUzK60dno'\n",
      "----------------------------------------------------------------------------------------------------------------\n",
      "'@AlicePA olha eu não sei nada de xiaomi e daqui a pouco as testemunhas vem explicar mas tem uns modelos aí que tem… https://t.co/PItvvwIpau'\n",
      "----------------------------------------------------------------------------------------------------------------\n",
      "'@ilacekt Fone da xiaomi que é auricular, preto, foda, tem um puta boom foda é 120$ NA PRÓPRIA LOJA da mesma e essa… https://t.co/LJ9e2t8itJ'\n",
      "----------------------------------------------------------------------------------------------------------------\n",
      "'poxa testemunhas de xiaomi vcs me prometeram'\n",
      "----------------------------------------------------------------------------------------------------------------\n",
      "'@finturbo Isso que dá comprar Xiaomi'\n",
      "----------------------------------------------------------------------------------------------------------------\n",
      "'absolutamente ninguém: \n",
      "\n",
      "xiaomi: https://t.co/NUDyTGynfZ'\n",
      "----------------------------------------------------------------------------------------------------------------\n",
      "'E digo mais: tô há meia hora usando o celular pra testar as coisas, há caiu 10% de bateria. EM MEIA HORA.  Q q adia… https://t.co/UF1mcs0sG7'\n",
      "----------------------------------------------------------------------------------------------------------------\n",
      "'@lidianta bom dia, a senhora já ouviu a palavra de xiaomi?!'\n",
      "----------------------------------------------------------------------------------------------------------------\n",
      "'Xiaomi Mi Watch vai dar-te quatro opções de personalização https://t.co/ZLdzufHkKe https://t.co/xEKHLF9Ud8'\n",
      "----------------------------------------------------------------------------------------------------------------\n",
      "'Os apps recomendados da xiaomi são os melhores https://t.co/CCU0d2WS0Z'\n",
      "----------------------------------------------------------------------------------------------------------------\n",
      "'Aberto até de Madrugada: Xiaomi Mi CC9 Pro mostra a câmara de 108MP https://t.co/V0VlRpyOIC'\n",
      "----------------------------------------------------------------------------------------------------------------\n",
      "'RT @julia_mcarvalho: muito difícil fazer lomotif no xiaomi https://t.co/eZOn8WyF5h'\n",
      "----------------------------------------------------------------------------------------------------------------\n",
      "'@reveluvle Sem problemas kkkkkk eu tambem. Comprei o xiaomi amiga'\n",
      "----------------------------------------------------------------------------------------------------------------\n",
      "'o brabo tem nome, e um xiaomi que é meu kkkkk https://t.co/6JB71bigT3'\n",
      "----------------------------------------------------------------------------------------------------------------\n",
      "'RT @httpsconrado: Realmente o xiaomi bota a Apple pra mamar \n",
      "\n",
      "Apple vc que lute'\n",
      "----------------------------------------------------------------------------------------------------------------\n",
      "'tô amando meu xiaomi 🥰 demorou, mas chegou kk'\n",
      "----------------------------------------------------------------------------------------------------------------\n",
      "'Xiaomi Mi CC9 Pro mostra a câmara de 108MP https://t.co/f2wdd3pLYm'\n",
      "----------------------------------------------------------------------------------------------------------------\n",
      "'@Mateus_Frey @kusterkkkkkk @maiconkusterkkk Sua franja do cabelo parece a camera frontal do xiaomi mi9 https://t.co/UmMTm863NX'\n",
      "----------------------------------------------------------------------------------------------------------------\n",
      "'O litígio de patentes entre a Xiaomi e Ericsson chegou ao fim https://t.co/TjpfP4Rj6O'\n",
      "----------------------------------------------------------------------------------------------------------------\n",
      "'Xiaomi Mi Note 10 Pro: leak revela todas as especificações! https://t.co/x7zWyWf7nM via @leakpt'\n",
      "----------------------------------------------------------------------------------------------------------------\n",
      "'do nada o celular apagou TUDO do meu cartão de memória ?por que? xiaomi voce prometeu???'\n",
      "----------------------------------------------------------------------------------------------------------------\n",
      "'RT @stufflistings: Mi CC9 Pro super macro mode.\n",
      "#Xiaomi #redmi #cc9pro #mismartwatch #MiTV5 #MiNote10 https://t.co/WYOVSWWqX1'\n",
      "----------------------------------------------------------------------------------------------------------------\n",
      "'RT @brun4to: Alguém sabe me informar se meu xiaomi veio defeito? N me informaram que ele acabava a bateria https://t.co/00cLi8gqKt'\n",
      "----------------------------------------------------------------------------------------------------------------\n",
      "'RT @XiaomiBrasil: Adivinhem quem está chegando! 👀 #XiaomiBrasil #mobilephotography #technology #Smartphones #Xiaomi https://t.co/WpZZOKxxzW'\n",
      "----------------------------------------------------------------------------------------------------------------\n",
      "'Fui no Show do @WesleySafadao , perdi os sentidos e o celular 😂😂, por motivo de forças financeiras, comprei um Xiao… https://t.co/NvJBniwu42'\n",
      "----------------------------------------------------------------------------------------------------------------\n",
      "'Realme 6 poderá ser o rival do Xiaomi Mi Note 10, revela caixa de retalho! (vídeo) https://t.co/cIEKBoYOc7 https://t.co/5SQcPhtW8o'\n",
      "----------------------------------------------------------------------------------------------------------------\n",
      "'Devo me preocupar? Hoje é o último dia pro meu celular receber atualização e até agora nada #MIUI11 #Xiaomi https://t.co/yYQgUAaSxu'\n",
      "----------------------------------------------------------------------------------------------------------------\n",
      "'RT @XiaomiBrasil: Agora a Mi TV Box S está disponível em nosso site! Link: https://t.co/BRe8wUpAwR  \n",
      "#Xiaomi #XiaomiBrasil https://t.co/Ko5…'\n",
      "----------------------------------------------------------------------------------------------------------------\n",
      "'MIUI 11 Chegou no Redmi Note 7! \n",
      "Novidades? Aparentemente só o tema, fonte e animação, de resto só fizeram organiza… https://t.co/HbpZDv2AOo'\n",
      "----------------------------------------------------------------------------------------------------------------\n",
      "'Nunca fiquei tão aliviada, já tava pensando \"a tela do Xiaomi deve ser um absurdo de cara\"'\n",
      "----------------------------------------------------------------------------------------------------------------\n",
      "'Xiaomi seu prazo está acabando e estou preocupado'\n",
      "----------------------------------------------------------------------------------------------------------------\n",
      "'@BaphometJunior E esse Xiaomi na tua mão?'\n",
      "----------------------------------------------------------------------------------------------------------------\n",
      "'@lucaaslb @ItsScissorhands Testemunha do xiaomi kkkkkkkkkkkk'\n",
      "----------------------------------------------------------------------------------------------------------------\n",
      "'Ninguém:\n",
      "\n",
      "Usuário de xiaomi: COMPRE XIAOMI CARA, MUITO MELHOR QUE IPHONE E SUPER BARATO'\n",
      "----------------------------------------------------------------------------------------------------------------\n",
      "'@passaro_de_fog0 @Plugue_de_Tomad Eu postei a foto do meu celular, não tenho interesse em saber de xiaomi, isso ai… https://t.co/BsTt7KftOc'\n",
      "----------------------------------------------------------------------------------------------------------------\n",
      "'@miojonin @Plugue_de_Tomad Eu só vim defender o argumento de xiaomi ser mais bonito que iphone, os antigos podiam a… https://t.co/sMCCpf0XfT'\n",
      "----------------------------------------------------------------------------------------------------------------\n",
      "'RT @AndroidPITcomBR: @XiaomiBrasil Temos um palpite :) https://t.co/z1gaazSnUh'\n",
      "----------------------------------------------------------------------------------------------------------------\n",
      "'RT @XiaomiBrasil: Adivinhem quem está chegando! 👀 #XiaomiBrasil #mobilephotography #technology #Smartphones #Xiaomi https://t.co/WpZZOKxxzW'\n",
      "----------------------------------------------------------------------------------------------------------------\n",
      "'@passaro_de_fog0 @Plugue_de_Tomad Em nenhum momento disse na nossa conversa que iPhone era bonito, eu peguei iPhone… https://t.co/abOrdbB2AH'\n",
      "----------------------------------------------------------------------------------------------------------------\n",
      "'Vamos ser verdadeiros e dizer que Samsung não presta mas o xiaomi tambem não fica muito atrás https://t.co/U5mjshdK5F'\n",
      "----------------------------------------------------------------------------------------------------------------\n",
      "'Xiaomi Mi Watch pode contar com um sistema operativo dedicado \n",
      "https://t.co/Me6tll1QDQ https://t.co/nb1bczkqje'\n",
      "----------------------------------------------------------------------------------------------------------------\n",
      "'RT @11setembro: NÃO COMPRE XIAOMI MI 9T https://t.co/hPUtnzonmw via @YouTube'\n",
      "----------------------------------------------------------------------------------------------------------------\n",
      "'NÃO COMPRE XIAOMI MI 9T https://t.co/hPUtnzonmw via @YouTube'\n",
      "----------------------------------------------------------------------------------------------------------------\n",
      "'Agr até minha mãe tem um Xiaomi, o mundo segue avançando pra dominação'\n",
      "----------------------------------------------------------------------------------------------------------------\n",
      "'Redmi Note 8 Pro vem aí: Xiaomi marca lançamento no Brasil em 7 de novembro https://t.co/xkAAkLV18x https://t.co/ZpiyJl15Pl'\n",
      "----------------------------------------------------------------------------------------------------------------\n",
      "'@vladcampos Xiaomi é outra vida! https://t.co/u9AG40Xuq1'\n",
      "----------------------------------------------------------------------------------------------------------------\n",
      "'Xiaomi prepara-se para lançamento do Mi Note 10 \n",
      "https://t.co/4zrWbhyTpJ https://t.co/XVCiRDJlyP'\n",
      "----------------------------------------------------------------------------------------------------------------\n",
      "'Xiaomi Mi Note 10. Fotografias macro reveladas são impressionantes https://t.co/CSm4pyR5Ry https://t.co/lAmDG0XulL'\n",
      "----------------------------------------------------------------------------------------------------------------\n",
      "'Bateria do Xiaomi Mi CC9 será melhor que o esperado com 5260mAh e carregamento de 30W https://t.co/dXj0DFszVx https://t.co/eprESqqksL'\n",
      "----------------------------------------------------------------------------------------------------------------\n",
      "'▪️ Xiaomi Redmi Note 8\n",
      "💶 Precio: 160.69€\n",
      "📝 Cupon: BG11N84\n",
      "🌐 Link: https://t.co/YTyDmPxyYw\n",
      "\n",
      "☑️ 4/64 GB\n",
      "☑️ GLOBAL Ver… https://t.co/LLDSlwsmFS'\n",
      "----------------------------------------------------------------------------------------------------------------\n",
      "'Como especialistas em reparação Xiaomi, fazemos a substituição das câmaras e tampa da bateria do Mi 9T Pro.\n",
      "Orçamen… https://t.co/Gmi3DyF9fj'\n",
      "----------------------------------------------------------------------------------------------------------------\n",
      "'sim eu adoro xiaomi, como adivinhou?'\n",
      "----------------------------------------------------------------------------------------------------------------\n",
      "'Xiaomi Mi MIX 4: imagens mostram característica com que todos sonhavam! https://t.co/der7HYX9aK https://t.co/pIpQj3lz9E'\n",
      "----------------------------------------------------------------------------------------------------------------\n",
      "'Primeiras fotografias macro do Xiaomi Mi CC9 Pro são soberbas https://t.co/omgttJXthI https://t.co/gaXlzQFLT5'\n",
      "----------------------------------------------------------------------------------------------------------------\n",
      "'RT @stufflistings: Mi CC9 Pro super macro mode.\n",
      "#Xiaomi #redmi #cc9pro #mismartwatch #MiTV5 #MiNote10 https://t.co/WYOVSWWqX1'\n",
      "----------------------------------------------------------------------------------------------------------------\n",
      "'Redmi 8A EU 2+32G\n",
      "$89.99  \n",
      "https://t.co/pmbLe3V3rk \n",
      "#gearbest #banggood #aliexpress #tomtop #xiaomi https://t.co/Z0t7PPSn2k'\n",
      "----------------------------------------------------------------------------------------------------------------\n",
      "'Xiaomi eu te amo mas esse teu mi cloud me estressa'\n",
      "----------------------------------------------------------------------------------------------------------------\n",
      "'@fxvnder Imagina acordares e estares a ouvir um barulho estranho e aperceberes-te que é um secador às fucking 6 da… https://t.co/lNfqFznSyP'\n",
      "----------------------------------------------------------------------------------------------------------------\n",
      "'RT @stufflistings: Mi CC9 Pro super macro mode.\n",
      "#Xiaomi #redmi #cc9pro #mismartwatch #MiTV5 #MiNote10 https://t.co/WYOVSWWqX1'\n",
      "----------------------------------------------------------------------------------------------------------------\n",
      "'@alexa_s_12 Mas isso é um secador da xiaomi para tu monitorizares as horas ou q?'\n",
      "----------------------------------------------------------------------------------------------------------------\n",
      "'Realmente o xiaomi bota a Apple pra mamar \n",
      "\n",
      "Apple vc que lute'\n",
      "----------------------------------------------------------------------------------------------------------------\n",
      "'Xiaomi deve lançar Redmi Note 8 Pro no Brasil https://t.co/kTag8VVnBu'\n",
      "----------------------------------------------------------------------------------------------------------------\n",
      "'Preço Mínimo Drone Xiaomi Fimi X8 de 423€ https://t.co/bczbof5nrL https://t.co/byk5AQXq04'\n",
      "----------------------------------------------------------------------------------------------------------------\n",
      "'RT @stufflistings: Mi CC9 Pro super macro mode.\n",
      "#Xiaomi #redmi #cc9pro #mismartwatch #MiTV5 #MiNote10 https://t.co/WYOVSWWqX1'\n",
      "----------------------------------------------------------------------------------------------------------------\n",
      "'Xiaomi Mi Note 10 tem data de lançamento oficial na Europa! https://t.co/p1rYg8ASW3 https://t.co/HDROLxFRwX'\n",
      "----------------------------------------------------------------------------------------------------------------\n",
      "'Ele era meu amigo...hoje é profeta da Xiaomi.'\n",
      "----------------------------------------------------------------------------------------------------------------\n",
      "'@thiagochareti Quando seu xiaomi chegar @Ment0sbtw'\n",
      "----------------------------------------------------------------------------------------------------------------\n",
      "'Em quanto isso nessa noite maravilhosa!!! \n",
      "By Xiaomi Pocophone f1 https://t.co/GRO2o3G7Mj'\n",
      "----------------------------------------------------------------------------------------------------------------\n",
      "'puts nao acredito que vou virar cadelinha da xiaomi https://t.co/Tt4Y15qKuO'\n",
      "----------------------------------------------------------------------------------------------------------------\n",
      "'Tava vendo uns modelos de xiaomi e visualmente ele é mt bonito temos q admitir'\n",
      "----------------------------------------------------------------------------------------------------------------\n",
      "'Alô Xiaomi cadê minha MIUI 11 amada? Último dia hoje caralho'\n",
      "----------------------------------------------------------------------------------------------------------------\n",
      "'184° - Xiaomi MI 9 64GB 6GB Versão Global Azul https://t.co/OsRQOkQa1i'\n",
      "----------------------------------------------------------------------------------------------------------------\n",
      "'Mi CC9 Pro super macro mode.\n",
      "#Xiaomi #redmi #cc9pro #mismartwatch #MiTV5 #MiNote10 https://t.co/WYOVSWWqX1'\n",
      "----------------------------------------------------------------------------------------------------------------\n",
      "'@dyonoir @itstheuz Sim sim, os fones da xiaomi são ótimos, a qualidade do som é ótima'\n",
      "----------------------------------------------------------------------------------------------------------------\n",
      "'Celular, Iphone e Smartphone https://t.co/RB9wmlft0f Moda celular mais barato #tv #roupa esporte paypal tenis sapat… https://t.co/YL1IQ9uboV'\n",
      "----------------------------------------------------------------------------------------------------------------\n",
      "'Cheguei no meu auge, comprei os airdots da xiaomi por 139.99 nunca mais compro nada!!!!'\n",
      "----------------------------------------------------------------------------------------------------------------\n",
      "'Morre um xiaomi mi 8 aos poucos https://t.co/eubnrctm34'\n",
      "----------------------------------------------------------------------------------------------------------------\n",
      "'Preço mínimo Xiaomi Scooter M365 PRO de 450€ https://t.co/VSpGbL6Mnf https://t.co/FILXOEOsC8'\n",
      "----------------------------------------------------------------------------------------------------------------\n",
      "'Bicho, a câmera desse Xiaomi é insana de tão boa, puta merda'\n",
      "----------------------------------------------------------------------------------------------------------------\n",
      "'@itstheuz @shuhu_idle SIM. Ambos maravilhosos. Testei esse fone da Xiaomi há algum tempo e ele é MUITO bom. Já JBL… https://t.co/OsQHZ6oaMN'\n",
      "----------------------------------------------------------------------------------------------------------------\n",
      "'@shuhu_idle @dyonoir os fones da JBL e do xiaomi tem sons potentes?'\n",
      "----------------------------------------------------------------------------------------------------------------\n",
      "'@itstheuz @dyonoir Se for os da apple, só pega em iPhone, mas os da JBL pegam em qualquer celular, eu acho, os fone… https://t.co/NkSokTUkVN'\n",
      "----------------------------------------------------------------------------------------------------------------\n",
      "'Alguém que não gosta do iPhone e prefere o xiaomi se quiser me dar um iPhone eu aceito \n",
      "\n",
      "Alguém que não gosta do xi… https://t.co/iicaPEOX0v'\n",
      "----------------------------------------------------------------------------------------------------------------\n",
      "'@nubank quero comprar logo meu Xiaomi tem como vocês entregar logo meu cartão?'\n",
      "----------------------------------------------------------------------------------------------------------------\n",
      "'Segura a nova usuária de xiaomi https://t.co/YLHfZKzM5w'\n",
      "----------------------------------------------------------------------------------------------------------------\n",
      "'@millkzx tu comprou o xiaomi?'\n",
      "----------------------------------------------------------------------------------------------------------------\n",
      "'@Mirim_excitado vende e arruma dinheiro p comprar um XiAoMI'\n",
      "----------------------------------------------------------------------------------------------------------------\n",
      "'Xiaomi Mi Watch revelado, celular dobrável \"flip\" da Samsung, preço do HBO Max - Hoje no TecMundo - TecMundo https://t.co/92B2N6yVXs'\n",
      "----------------------------------------------------------------------------------------------------------------\n"
     ]
    }
   ],
   "source": [
    "for i in tweet_list:\n",
    "    print(\"'\" + str(i) + \"'\")\n",
    "    print('----------------------------------------------------------------------------------------------------------------')"
   ]
  },
  {
   "cell_type": "markdown",
   "metadata": {},
   "source": [
    "## Remove os tweets duplicados"
   ]
  },
  {
   "cell_type": "code",
   "execution_count": 16,
   "metadata": {},
   "outputs": [],
   "source": [
    "lista_sem_duplicados = list(set(tweet_list))"
   ]
  },
  {
   "cell_type": "code",
   "execution_count": 17,
   "metadata": {},
   "outputs": [
    {
     "name": "stdout",
     "output_type": "stream",
     "text": [
      "<class 'list'>\n"
     ]
    }
   ],
   "source": [
    "print(type(lista_sem_duplicados))"
   ]
  },
  {
   "cell_type": "code",
   "execution_count": 18,
   "metadata": {},
   "outputs": [
    {
     "name": "stdout",
     "output_type": "stream",
     "text": [
      "100\n"
     ]
    }
   ],
   "source": [
    "print(len(tweet_list))"
   ]
  },
  {
   "cell_type": "code",
   "execution_count": 19,
   "metadata": {},
   "outputs": [
    {
     "name": "stdout",
     "output_type": "stream",
     "text": [
      "96\n"
     ]
    }
   ],
   "source": [
    "print(len(lista_sem_duplicados))"
   ]
  },
  {
   "cell_type": "code",
   "execution_count": 20,
   "metadata": {},
   "outputs": [
    {
     "name": "stdout",
     "output_type": "stream",
     "text": [
      "['RT @stufflistings: Mi CC9 Pro super macro mode.\\n#Xiaomi #redmi #cc9pro #mismartwatch #MiTV5 #MiNote10 https://t.co/WYOVSWWqX1', '@thiagochareti Quando seu xiaomi chegar @Ment0sbtw', '@AlicePA olha eu não sei nada de xiaomi e daqui a pouco as testemunhas vem explicar mas tem uns modelos aí que tem… https://t.co/PItvvwIpau', 'Redmi Note 8 Pro vem aí: Xiaomi marca lançamento no Brasil em 7 de novembro https://t.co/xkAAkLV18x https://t.co/ZpiyJl15Pl', 'Aberto até de Madrugada: Xiaomi Mi CC9 Pro mostra a câmara de 108MP https://t.co/V0VlRpyOIC', 'poxa testemunhas de xiaomi vcs me prometeram', 'Ninguém:\\n\\nUsuário de xiaomi: COMPRE XIAOMI CARA, MUITO MELHOR QUE IPHONE E SUPER BARATO', 'Xiaomi Mi Note 10 tem data de lançamento oficial na Europa! https://t.co/p1rYg8ASW3 https://t.co/HDROLxFRwX', 'Agr até minha mãe tem um Xiaomi, o mundo segue avançando pra dominação', '@nubank quero comprar logo meu Xiaomi tem como vocês entregar logo meu cartão?', 'Preço Mínimo Drone Xiaomi Fimi X8 de\\xa0423€ https://t.co/bczbof5nrL https://t.co/byk5AQXq04', 'O litígio de patentes entre a Xiaomi e Ericsson chegou ao fim https://t.co/TjpfP4Rj6O', 'Cheguei no meu auge, comprei os airdots da xiaomi por 139.99 nunca mais compro nada!!!!', 'Xiaomi Mi MIX 4: imagens mostram característica com que todos sonhavam! https://t.co/der7HYX9aK https://t.co/pIpQj3lz9E', 'O amazem está o mesmo que todos os produtos Br \\nP-1000 👇👇\\nXiaomi Redmi Note 6 Pro Global Version 6.26 inch 4GB 64GB… https://t.co/SVreY4ftak', '@lidianta bom dia, a senhora já ouviu a palavra de xiaomi?!', 'Devo me preocupar? Hoje é o último dia pro meu celular receber atualização e até agora nada #MIUI11 #Xiaomi https://t.co/yYQgUAaSxu', 'MIUI 11 Chegou no Redmi Note 7! \\nNovidades? Aparentemente só o tema, fonte e animação, de resto só fizeram organiza… https://t.co/HbpZDv2AOo', 'Bateria do Xiaomi Mi CC9 será melhor que o esperado com 5260mAh e carregamento de\\xa030W https://t.co/dXj0DFszVx https://t.co/eprESqqksL', 'puts nao acredito que vou virar cadelinha da xiaomi https://t.co/Tt4Y15qKuO', 'Primeiras fotografias macro do Xiaomi Mi CC9 Pro são\\xa0soberbas https://t.co/omgttJXthI https://t.co/gaXlzQFLT5', 'RT @julia_mcarvalho: muito difícil fazer lomotif no xiaomi https://t.co/eZOn8WyF5h', '@miojonin @Plugue_de_Tomad Eu só vim defender o argumento de xiaomi ser mais bonito que iphone, os antigos podiam a… https://t.co/sMCCpf0XfT', '@reveluvle Sem problemas kkkkkk eu tambem. Comprei o xiaomi amiga', 'Xiaomi Mi Note 10. Fotografias macro reveladas são impressionantes https://t.co/CSm4pyR5Ry https://t.co/lAmDG0XulL', 'Xiaomi Mi Watch revelado, celular dobrável \"flip\" da Samsung, preço do HBO Max - Hoje no TecMundo - TecMundo https://t.co/92B2N6yVXs', '@ilacekt Fone da xiaomi que é auricular, preto, foda, tem um puta boom foda é 120$ NA PRÓPRIA LOJA da mesma e essa… https://t.co/LJ9e2t8itJ', 'Fui no Show do @WesleySafadao , perdi os sentidos e o celular 😂😂, por motivo de forças financeiras, comprei um Xiao… https://t.co/NvJBniwu42', 'O meu Xiaomi morreu 😢 de volta ao iPhone', '@vladcampos Xiaomi é outra vida! https://t.co/u9AG40Xuq1', 'RT @httpsconrado: Realmente o xiaomi bota a Apple pra mamar \\n\\nApple vc que lute', 'Realmente o xiaomi bota a Apple pra mamar \\n\\nApple vc que lute', '@sailor_nebula Um vício chamado \\nNão morrer de fome e comprar um xiaomi novo', 'Xiaomi Mi Watch pode contar com um sistema operativo dedicado \\nhttps://t.co/Me6tll1QDQ https://t.co/nb1bczkqje', 'Como especialistas em reparação Xiaomi, fazemos a substituição das câmaras e tampa da bateria do Mi 9T Pro.\\nOrçamen… https://t.co/Gmi3DyF9fj', '@itstheuz @dyonoir Se for os da apple, só pega em iPhone, mas os da JBL pegam em qualquer celular, eu acho, os fone… https://t.co/NkSokTUkVN', 'tô amando meu xiaomi 🥰 demorou, mas chegou kk', 'Xiaomi Mi CC9 Pro mostra a câmara de 108MP https://t.co/f2wdd3pLYm', '@alexa_s_12 Mas isso é um secador da xiaomi para tu monitorizares as horas ou q?', 'A 5m de distância, as imagens captadas pela lente permitem ver até 5.3 com nitidez. Confira o vídeo:\\n\\nhttps://t.co/ouosTx98Di', 'do nada o celular apagou TUDO do meu cartão de memória ?por que? xiaomi voce prometeu???', '@passaro_de_fog0 @Plugue_de_Tomad Eu postei a foto do meu celular, não tenho interesse em saber de xiaomi, isso ai… https://t.co/BsTt7KftOc', 'absolutamente ninguém: \\n\\nxiaomi: https://t.co/NUDyTGynfZ', 'sim eu adoro xiaomi, como adivinhou?', 'A #Xiaomi mostrou a interface de seu novo smartwatch e como ele irá funcionar\\n\\nhttps://t.co/fKQgfTcMTJ', 'Xiaomi divulga vídeos destacando usabilidade da MIUI no novo Mi Watch\\n\\nhttps://t.co/igcW5XRaZQ', 'Nunca fiquei tão aliviada, já tava pensando \"a tela do Xiaomi deve ser um absurdo de cara\"', 'Adivinhem quem está chegando! 👀 #XiaomiBrasil #mobilephotography #technology #Smartphones #Xiaomi https://t.co/WpZZOKxxzW', '@millkzx tu comprou o xiaomi?', '@fxvnder Imagina acordares e estares a ouvir um barulho estranho e aperceberes-te que é um secador às fucking 6 da… https://t.co/lNfqFznSyP', '@lucaaslb @ItsScissorhands Testemunha do xiaomi kkkkkkkkkkkk', 'Painho é o usuário de xiaomi mais chato da face da terra.... olhe, sem condições.', '@shuhu_idle @dyonoir os fones da JBL e do xiaomi tem sons potentes?', '@itstheuz @shuhu_idle SIM. Ambos maravilhosos. Testei esse fone da Xiaomi há algum tempo e ele é MUITO bom. Já JBL… https://t.co/OsQHZ6oaMN', 'Preço mínimo Xiaomi Scooter M365 PRO de\\xa0450€ https://t.co/VSpGbL6Mnf https://t.co/FILXOEOsC8', '@LaraSalvador8 @aderlan_macario Xiaomi maior e melhor', 'Xiaomi seu prazo está acabando e estou preocupado', '@BaphometJunior E esse Xiaomi na tua mão?', 'RT @XiaomiBrasil: Agora a Mi TV Box S está disponível em nosso site! Link: https://t.co/BRe8wUpAwR  \\n#Xiaomi #XiaomiBrasil https://t.co/Ko5…', 'Alguém que não gosta do iPhone e prefere o xiaomi se quiser me dar um iPhone eu aceito \\n\\nAlguém que não gosta do xi… https://t.co/iicaPEOX0v', 'RT @brun4to: Alguém sabe me informar se meu xiaomi veio defeito? N me informaram que ele acabava a bateria https://t.co/00cLi8gqKt', 'Xiaomi divulga vídeos do Mi Watch em funcionamento\\n\\nhttps://t.co/exUzK60dno', 'Tava vendo uns modelos de xiaomi e visualmente ele é mt bonito temos q admitir', 'Xiaomi prepara-se para lançamento do Mi Note 10 \\nhttps://t.co/4zrWbhyTpJ https://t.co/XVCiRDJlyP', 'Mi CC9 Pro super macro mode.\\n#Xiaomi #redmi #cc9pro #mismartwatch #MiTV5 #MiNote10 https://t.co/WYOVSWWqX1', 'Vamos ser verdadeiros e dizer que Samsung não presta mas o xiaomi tambem não fica muito atrás https://t.co/U5mjshdK5F', '@Mirim_excitado vende e arruma dinheiro p comprar um XiAoMI', '@dyonoir @itstheuz Sim sim, os fones da xiaomi são ótimos, a qualidade do som é ótima', 'Bicho, a câmera desse Xiaomi é insana de tão boa, puta merda', 'Xiaomi Mi Note 10 Pro: leak revela todas as especificações! https://t.co/x7zWyWf7nM via @leakpt', 'RT @11setembro: NÃO COMPRE XIAOMI MI 9T https://t.co/hPUtnzonmw via @YouTube', 'Celular, Iphone e Smartphone https://t.co/RB9wmlft0f Moda celular mais barato #tv #roupa esporte paypal tenis sapat… https://t.co/YL1IQ9uboV', 'Os apps recomendados da xiaomi são os melhores https://t.co/CCU0d2WS0Z', 'RT @XiaomiBrasil: Adivinhem quem está chegando! 👀 #XiaomiBrasil #mobilephotography #technology #Smartphones #Xiaomi https://t.co/WpZZOKxxzW', '@passaro_de_fog0 @Plugue_de_Tomad Em nenhum momento disse na nossa conversa que iPhone era bonito, eu peguei iPhone… https://t.co/abOrdbB2AH', 'Pai amado eu vou trocar meu celular em um xiaomi', 'RT @AndroidPITcomBR: @XiaomiBrasil Temos um palpite :) https://t.co/z1gaazSnUh', 'Segura a nova usuária de xiaomi https://t.co/YLHfZKzM5w', '@finturbo Isso que dá comprar Xiaomi', 'Em quanto isso nessa noite maravilhosa!!! \\nBy Xiaomi Pocophone f1 https://t.co/GRO2o3G7Mj', '184° - Xiaomi MI 9 64GB 6GB Versão Global Azul https://t.co/OsRQOkQa1i', '@lucasmzanella @felipeneto Xiaomi ainda é para amadores. Vai de OnePlus', 'NÃO COMPRE XIAOMI MI 9T https://t.co/hPUtnzonmw via @YouTube', 'Alô Xiaomi cadê minha MIUI 11 amada? Último dia hoje caralho', 'Xiaomi Mi Watch vai dar-te quatro opções de personalização https://t.co/ZLdzufHkKe https://t.co/xEKHLF9Ud8', '▪️ Xiaomi Redmi Note 8\\n💶 Precio: 160.69€\\n📝 Cupon: BG11N84\\n🌐 Link: https://t.co/YTyDmPxyYw\\n\\n☑️ 4/64 GB\\n☑️ GLOBAL Ver… https://t.co/LLDSlwsmFS', 'Xiaomi eu te amo mas esse teu mi cloud me estressa', 'Morre um xiaomi mi 8 aos poucos https://t.co/eubnrctm34', 'Xiaomi deve lançar Redmi Note 8 Pro no Brasil https://t.co/kTag8VVnBu', 'Redmi 8A EU 2+32G\\n$89.99  \\nhttps://t.co/pmbLe3V3rk \\n#gearbest #banggood #aliexpress #tomtop #xiaomi https://t.co/Z0t7PPSn2k', 'E digo mais: tô há meia hora usando o celular pra testar as coisas, há caiu 10% de bateria. EM MEIA HORA.  Q q adia… https://t.co/UF1mcs0sG7', '@Mateus_Frey @kusterkkkkkk @maiconkusterkkk Sua franja do cabelo parece a camera frontal do xiaomi mi9 https://t.co/UmMTm863NX', 'Ele era meu amigo...hoje é profeta da Xiaomi.', 'o brabo tem nome, e um xiaomi que é meu kkkkk https://t.co/6JB71bigT3', 'Tem algum fone de ouvido sem fio bom, sem ser o da xiaomi ou da Apple?', 'Realme 6 poderá ser o rival do Xiaomi Mi Note 10, revela caixa de retalho! (vídeo) https://t.co/cIEKBoYOc7 https://t.co/5SQcPhtW8o']\n"
     ]
    }
   ],
   "source": [
    "print(lista_sem_duplicados)"
   ]
  },
  {
   "cell_type": "code",
   "execution_count": 21,
   "metadata": {},
   "outputs": [
    {
     "name": "stdout",
     "output_type": "stream",
     "text": [
      "['A #Xiaomi mostrou a interface de seu novo smartwatch e como ele irá funcionar\\n\\nhttps://t.co/fKQgfTcMTJ', 'Adivinhem quem está chegando! 👀 #XiaomiBrasil #mobilephotography #technology #Smartphones #Xiaomi https://t.co/WpZZOKxxzW', 'A 5m de distância, as imagens captadas pela lente permitem ver até 5.3 com nitidez. Confira o vídeo:\\n\\nhttps://t.co/ouosTx98Di', 'Pai amado eu vou trocar meu celular em um xiaomi', 'O meu Xiaomi morreu 😢 de volta ao iPhone', '@LaraSalvador8 @aderlan_macario Xiaomi maior e melhor', 'Tem algum fone de ouvido sem fio bom, sem ser o da xiaomi ou da Apple?', 'O amazem está o mesmo que todos os produtos Br \\nP-1000 👇👇\\nXiaomi Redmi Note 6 Pro Global Version 6.26 inch 4GB 64GB… https://t.co/SVreY4ftak', 'Painho é o usuário de xiaomi mais chato da face da terra.... olhe, sem condições.', '@sailor_nebula Um vício chamado \\nNão morrer de fome e comprar um xiaomi novo', '@lucasmzanella @felipeneto Xiaomi ainda é para amadores. Vai de OnePlus', 'Xiaomi divulga vídeos destacando usabilidade da MIUI no novo Mi Watch\\n\\nhttps://t.co/igcW5XRaZQ', 'Xiaomi divulga vídeos do Mi Watch em funcionamento\\n\\nhttps://t.co/exUzK60dno', '@AlicePA olha eu não sei nada de xiaomi e daqui a pouco as testemunhas vem explicar mas tem uns modelos aí que tem… https://t.co/PItvvwIpau', '@ilacekt Fone da xiaomi que é auricular, preto, foda, tem um puta boom foda é 120$ NA PRÓPRIA LOJA da mesma e essa… https://t.co/LJ9e2t8itJ', 'poxa testemunhas de xiaomi vcs me prometeram', '@finturbo Isso que dá comprar Xiaomi', 'absolutamente ninguém: \\n\\nxiaomi: https://t.co/NUDyTGynfZ', 'E digo mais: tô há meia hora usando o celular pra testar as coisas, há caiu 10% de bateria. EM MEIA HORA.  Q q adia… https://t.co/UF1mcs0sG7', '@lidianta bom dia, a senhora já ouviu a palavra de xiaomi?!', 'Xiaomi Mi Watch vai dar-te quatro opções de personalização https://t.co/ZLdzufHkKe https://t.co/xEKHLF9Ud8', 'Os apps recomendados da xiaomi são os melhores https://t.co/CCU0d2WS0Z', 'Aberto até de Madrugada: Xiaomi Mi CC9 Pro mostra a câmara de 108MP https://t.co/V0VlRpyOIC', 'RT @julia_mcarvalho: muito difícil fazer lomotif no xiaomi https://t.co/eZOn8WyF5h', '@reveluvle Sem problemas kkkkkk eu tambem. Comprei o xiaomi amiga', 'o brabo tem nome, e um xiaomi que é meu kkkkk https://t.co/6JB71bigT3', 'RT @httpsconrado: Realmente o xiaomi bota a Apple pra mamar \\n\\nApple vc que lute', 'tô amando meu xiaomi 🥰 demorou, mas chegou kk', 'Xiaomi Mi CC9 Pro mostra a câmara de 108MP https://t.co/f2wdd3pLYm', '@Mateus_Frey @kusterkkkkkk @maiconkusterkkk Sua franja do cabelo parece a camera frontal do xiaomi mi9 https://t.co/UmMTm863NX', 'O litígio de patentes entre a Xiaomi e Ericsson chegou ao fim https://t.co/TjpfP4Rj6O', 'Xiaomi Mi Note 10 Pro: leak revela todas as especificações! https://t.co/x7zWyWf7nM via @leakpt', 'do nada o celular apagou TUDO do meu cartão de memória ?por que? xiaomi voce prometeu???', 'RT @stufflistings: Mi CC9 Pro super macro mode.\\n#Xiaomi #redmi #cc9pro #mismartwatch #MiTV5 #MiNote10 https://t.co/WYOVSWWqX1', 'RT @brun4to: Alguém sabe me informar se meu xiaomi veio defeito? N me informaram que ele acabava a bateria https://t.co/00cLi8gqKt', 'RT @XiaomiBrasil: Adivinhem quem está chegando! 👀 #XiaomiBrasil #mobilephotography #technology #Smartphones #Xiaomi https://t.co/WpZZOKxxzW', 'Fui no Show do @WesleySafadao , perdi os sentidos e o celular 😂😂, por motivo de forças financeiras, comprei um Xiao… https://t.co/NvJBniwu42', 'Realme 6 poderá ser o rival do Xiaomi Mi Note 10, revela caixa de retalho! (vídeo) https://t.co/cIEKBoYOc7 https://t.co/5SQcPhtW8o', 'Devo me preocupar? Hoje é o último dia pro meu celular receber atualização e até agora nada #MIUI11 #Xiaomi https://t.co/yYQgUAaSxu', 'RT @XiaomiBrasil: Agora a Mi TV Box S está disponível em nosso site! Link: https://t.co/BRe8wUpAwR  \\n#Xiaomi #XiaomiBrasil https://t.co/Ko5…', 'MIUI 11 Chegou no Redmi Note 7! \\nNovidades? Aparentemente só o tema, fonte e animação, de resto só fizeram organiza… https://t.co/HbpZDv2AOo', 'Nunca fiquei tão aliviada, já tava pensando \"a tela do Xiaomi deve ser um absurdo de cara\"', 'Xiaomi seu prazo está acabando e estou preocupado', '@BaphometJunior E esse Xiaomi na tua mão?', '@lucaaslb @ItsScissorhands Testemunha do xiaomi kkkkkkkkkkkk', 'Ninguém:\\n\\nUsuário de xiaomi: COMPRE XIAOMI CARA, MUITO MELHOR QUE IPHONE E SUPER BARATO', '@passaro_de_fog0 @Plugue_de_Tomad Eu postei a foto do meu celular, não tenho interesse em saber de xiaomi, isso ai… https://t.co/BsTt7KftOc', '@miojonin @Plugue_de_Tomad Eu só vim defender o argumento de xiaomi ser mais bonito que iphone, os antigos podiam a… https://t.co/sMCCpf0XfT', 'RT @AndroidPITcomBR: @XiaomiBrasil Temos um palpite :) https://t.co/z1gaazSnUh', 'RT @XiaomiBrasil: Adivinhem quem está chegando! 👀 #XiaomiBrasil #mobilephotography #technology #Smartphones #Xiaomi https://t.co/WpZZOKxxzW', '@passaro_de_fog0 @Plugue_de_Tomad Em nenhum momento disse na nossa conversa que iPhone era bonito, eu peguei iPhone… https://t.co/abOrdbB2AH', 'Vamos ser verdadeiros e dizer que Samsung não presta mas o xiaomi tambem não fica muito atrás https://t.co/U5mjshdK5F', 'Xiaomi Mi Watch pode contar com um sistema operativo dedicado \\nhttps://t.co/Me6tll1QDQ https://t.co/nb1bczkqje', 'RT @11setembro: NÃO COMPRE XIAOMI MI 9T https://t.co/hPUtnzonmw via @YouTube', 'NÃO COMPRE XIAOMI MI 9T https://t.co/hPUtnzonmw via @YouTube', 'Agr até minha mãe tem um Xiaomi, o mundo segue avançando pra dominação', 'Redmi Note 8 Pro vem aí: Xiaomi marca lançamento no Brasil em 7 de novembro https://t.co/xkAAkLV18x https://t.co/ZpiyJl15Pl', '@vladcampos Xiaomi é outra vida! https://t.co/u9AG40Xuq1', 'Xiaomi prepara-se para lançamento do Mi Note 10 \\nhttps://t.co/4zrWbhyTpJ https://t.co/XVCiRDJlyP', 'Xiaomi Mi Note 10. Fotografias macro reveladas são impressionantes https://t.co/CSm4pyR5Ry https://t.co/lAmDG0XulL', 'Bateria do Xiaomi Mi CC9 será melhor que o esperado com 5260mAh e carregamento de\\xa030W https://t.co/dXj0DFszVx https://t.co/eprESqqksL', '▪️ Xiaomi Redmi Note 8\\n💶 Precio: 160.69€\\n📝 Cupon: BG11N84\\n🌐 Link: https://t.co/YTyDmPxyYw\\n\\n☑️ 4/64 GB\\n☑️ GLOBAL Ver… https://t.co/LLDSlwsmFS', 'Como especialistas em reparação Xiaomi, fazemos a substituição das câmaras e tampa da bateria do Mi 9T Pro.\\nOrçamen… https://t.co/Gmi3DyF9fj', 'sim eu adoro xiaomi, como adivinhou?', 'Xiaomi Mi MIX 4: imagens mostram característica com que todos sonhavam! https://t.co/der7HYX9aK https://t.co/pIpQj3lz9E', 'Primeiras fotografias macro do Xiaomi Mi CC9 Pro são\\xa0soberbas https://t.co/omgttJXthI https://t.co/gaXlzQFLT5', 'RT @stufflistings: Mi CC9 Pro super macro mode.\\n#Xiaomi #redmi #cc9pro #mismartwatch #MiTV5 #MiNote10 https://t.co/WYOVSWWqX1', 'Redmi 8A EU 2+32G\\n$89.99  \\nhttps://t.co/pmbLe3V3rk \\n#gearbest #banggood #aliexpress #tomtop #xiaomi https://t.co/Z0t7PPSn2k', 'Xiaomi eu te amo mas esse teu mi cloud me estressa', '@fxvnder Imagina acordares e estares a ouvir um barulho estranho e aperceberes-te que é um secador às fucking 6 da… https://t.co/lNfqFznSyP', 'RT @stufflistings: Mi CC9 Pro super macro mode.\\n#Xiaomi #redmi #cc9pro #mismartwatch #MiTV5 #MiNote10 https://t.co/WYOVSWWqX1', '@alexa_s_12 Mas isso é um secador da xiaomi para tu monitorizares as horas ou q?', 'Realmente o xiaomi bota a Apple pra mamar \\n\\nApple vc que lute', 'Xiaomi deve lançar Redmi Note 8 Pro no Brasil https://t.co/kTag8VVnBu', 'Preço Mínimo Drone Xiaomi Fimi X8 de\\xa0423€ https://t.co/bczbof5nrL https://t.co/byk5AQXq04', 'RT @stufflistings: Mi CC9 Pro super macro mode.\\n#Xiaomi #redmi #cc9pro #mismartwatch #MiTV5 #MiNote10 https://t.co/WYOVSWWqX1', 'Xiaomi Mi Note 10 tem data de lançamento oficial na Europa! https://t.co/p1rYg8ASW3 https://t.co/HDROLxFRwX', 'Ele era meu amigo...hoje é profeta da Xiaomi.', '@thiagochareti Quando seu xiaomi chegar @Ment0sbtw', 'Em quanto isso nessa noite maravilhosa!!! \\nBy Xiaomi Pocophone f1 https://t.co/GRO2o3G7Mj', 'puts nao acredito que vou virar cadelinha da xiaomi https://t.co/Tt4Y15qKuO', 'Tava vendo uns modelos de xiaomi e visualmente ele é mt bonito temos q admitir', 'Alô Xiaomi cadê minha MIUI 11 amada? Último dia hoje caralho', '184° - Xiaomi MI 9 64GB 6GB Versão Global Azul https://t.co/OsRQOkQa1i', 'Mi CC9 Pro super macro mode.\\n#Xiaomi #redmi #cc9pro #mismartwatch #MiTV5 #MiNote10 https://t.co/WYOVSWWqX1', '@dyonoir @itstheuz Sim sim, os fones da xiaomi são ótimos, a qualidade do som é ótima', 'Celular, Iphone e Smartphone https://t.co/RB9wmlft0f Moda celular mais barato #tv #roupa esporte paypal tenis sapat… https://t.co/YL1IQ9uboV', 'Cheguei no meu auge, comprei os airdots da xiaomi por 139.99 nunca mais compro nada!!!!', 'Morre um xiaomi mi 8 aos poucos https://t.co/eubnrctm34', 'Preço mínimo Xiaomi Scooter M365 PRO de\\xa0450€ https://t.co/VSpGbL6Mnf https://t.co/FILXOEOsC8', 'Bicho, a câmera desse Xiaomi é insana de tão boa, puta merda', '@itstheuz @shuhu_idle SIM. Ambos maravilhosos. Testei esse fone da Xiaomi há algum tempo e ele é MUITO bom. Já JBL… https://t.co/OsQHZ6oaMN', '@shuhu_idle @dyonoir os fones da JBL e do xiaomi tem sons potentes?', '@itstheuz @dyonoir Se for os da apple, só pega em iPhone, mas os da JBL pegam em qualquer celular, eu acho, os fone… https://t.co/NkSokTUkVN', 'Alguém que não gosta do iPhone e prefere o xiaomi se quiser me dar um iPhone eu aceito \\n\\nAlguém que não gosta do xi… https://t.co/iicaPEOX0v', '@nubank quero comprar logo meu Xiaomi tem como vocês entregar logo meu cartão?', 'Segura a nova usuária de xiaomi https://t.co/YLHfZKzM5w', '@millkzx tu comprou o xiaomi?', '@Mirim_excitado vende e arruma dinheiro p comprar um XiAoMI', 'Xiaomi Mi Watch revelado, celular dobrável \"flip\" da Samsung, preço do HBO Max - Hoje no TecMundo - TecMundo https://t.co/92B2N6yVXs']\n"
     ]
    }
   ],
   "source": [
    "print(tweet_list)"
   ]
  },
  {
   "cell_type": "markdown",
   "metadata": {},
   "source": [
    "## Coloca os tweets da lista em um arquivo .csv"
   ]
  },
  {
   "cell_type": "code",
   "execution_count": 22,
   "metadata": {},
   "outputs": [],
   "source": [
    "def cria_arquivo_csv(lista):\n",
    "    arquivo = open('xiaomi.csv', 'w', encoding='utf-8')\n",
    "    \n",
    "    for pos_tweet in range(len(lista)):\n",
    "        arquivo.write('\"' + str(lista[pos_tweet]) + '\"')\n",
    "        arquivo.write('\\n')\n",
    "        \n",
    "    arquivo.close()"
   ]
  },
  {
   "cell_type": "code",
   "execution_count": 23,
   "metadata": {},
   "outputs": [],
   "source": [
    "cria_arquivo_csv(lista_sem_duplicados)"
   ]
  },
  {
   "cell_type": "code",
   "execution_count": 24,
   "metadata": {},
   "outputs": [],
   "source": [
    "cria_arquivo_csv(tweet_list)"
   ]
  },
  {
   "cell_type": "markdown",
   "metadata": {},
   "source": [
    "## Cria um data frame"
   ]
  },
  {
   "cell_type": "code",
   "execution_count": 25,
   "metadata": {},
   "outputs": [],
   "source": [
    "# Criando data frame\n",
    "#df2 = pd.read_csv('classificado_tweets_mi_band_4.csv', encoding='utf-8')\n",
    "df = pd.read_csv('classificado_xiaomi.csv', encoding='utf-8')"
   ]
  },
  {
   "cell_type": "code",
   "execution_count": 26,
   "metadata": {},
   "outputs": [],
   "source": [
    "#df = pd.read_csv('Tweets_Mg.csv', encoding='utf-8')"
   ]
  },
  {
   "cell_type": "code",
   "execution_count": 27,
   "metadata": {},
   "outputs": [
    {
     "data": {
      "text/html": [
       "<div>\n",
       "<style scoped>\n",
       "    .dataframe tbody tr th:only-of-type {\n",
       "        vertical-align: middle;\n",
       "    }\n",
       "\n",
       "    .dataframe tbody tr th {\n",
       "        vertical-align: top;\n",
       "    }\n",
       "\n",
       "    .dataframe thead th {\n",
       "        text-align: right;\n",
       "    }\n",
       "</style>\n",
       "<table border=\"1\" class=\"dataframe\">\n",
       "  <thead>\n",
       "    <tr style=\"text-align: right;\">\n",
       "      <th></th>\n",
       "      <th>tweets</th>\n",
       "      <th>classes</th>\n",
       "    </tr>\n",
       "  </thead>\n",
       "  <tbody>\n",
       "    <tr>\n",
       "      <td>0</td>\n",
       "      <td>Agr até eu quero um xiaomi</td>\n",
       "      <td>positivo</td>\n",
       "    </tr>\n",
       "    <tr>\n",
       "      <td>1</td>\n",
       "      <td>xiaomi= tudo pra mim. https://t.co/7lAvXTxa2J</td>\n",
       "      <td>positivo</td>\n",
       "    </tr>\n",
       "    <tr>\n",
       "      <td>2</td>\n",
       "      <td>RT @karnsteins: meu celular está 1 dia e 6 hor...</td>\n",
       "      <td>positivo</td>\n",
       "    </tr>\n",
       "    <tr>\n",
       "      <td>3</td>\n",
       "      <td>@Juliano_Fleck Se procura aplicativo usa o Sma...</td>\n",
       "      <td>positivo</td>\n",
       "    </tr>\n",
       "    <tr>\n",
       "      <td>4</td>\n",
       "      <td>@paginamemebro nn gosto da câmera do xiaomi</td>\n",
       "      <td>negativo</td>\n",
       "    </tr>\n",
       "  </tbody>\n",
       "</table>\n",
       "</div>"
      ],
      "text/plain": [
       "                                              tweets   classes\n",
       "0                         Agr até eu quero um xiaomi  positivo\n",
       "1      xiaomi= tudo pra mim. https://t.co/7lAvXTxa2J  positivo\n",
       "2  RT @karnsteins: meu celular está 1 dia e 6 hor...  positivo\n",
       "3  @Juliano_Fleck Se procura aplicativo usa o Sma...  positivo\n",
       "4        @paginamemebro nn gosto da câmera do xiaomi  negativo"
      ]
     },
     "execution_count": 27,
     "metadata": {},
     "output_type": "execute_result"
    }
   ],
   "source": [
    "df.head()"
   ]
  },
  {
   "cell_type": "code",
   "execution_count": 28,
   "metadata": {},
   "outputs": [],
   "source": [
    "tweets = df['tweets']\n",
    "classes = df['classes']"
   ]
  },
  {
   "cell_type": "code",
   "execution_count": 29,
   "metadata": {},
   "outputs": [
    {
     "data": {
      "text/plain": [
       "<matplotlib.axes._subplots.AxesSubplot at 0x141d95d0>"
      ]
     },
     "execution_count": 29,
     "metadata": {},
     "output_type": "execute_result"
    },
    {
     "data": {
      "image/png": "[encoded data removed]",
      "text/plain": [
       "<Figure size 432x288 with 1 Axes>"
      ]
     },
     "metadata": {
      "needs_background": "light"
     },
     "output_type": "display_data"
    }
   ],
   "source": [
    "%matplotlib inline\n",
    "df.classes.value_counts().plot(kind='bar')"
   ]
  },
  {
   "cell_type": "code",
   "execution_count": 30,
   "metadata": {},
   "outputs": [],
   "source": [
    "#%matplotlib inline\n",
    "#df2.classes.value_counts().plot(kind='bar')"
   ]
  },
  {
   "cell_type": "markdown",
   "metadata": {},
   "source": [
    "## Limpeza dos dados"
   ]
  },
  {
   "cell_type": "code",
   "execution_count": 31,
   "metadata": {},
   "outputs": [
    {
     "name": "stderr",
     "output_type": "stream",
     "text": [
      "[nltk_data] Downloading package stopwords to\n",
      "[nltk_data]     C:\\Users\\MaluF\\AppData\\Roaming\\nltk_data...\n",
      "[nltk_data]   Package stopwords is already up-to-date!\n",
      "[nltk_data] Downloading package rslp to\n",
      "[nltk_data]     C:\\Users\\MaluF\\AppData\\Roaming\\nltk_data...\n",
      "[nltk_data]   Package rslp is already up-to-date!\n",
      "[nltk_data] Downloading package punkt to\n",
      "[nltk_data]     C:\\Users\\MaluF\\AppData\\Roaming\\nltk_data...\n",
      "[nltk_data]   Package punkt is already up-to-date!\n",
      "[nltk_data] Downloading package wordnet to\n",
      "[nltk_data]     C:\\Users\\MaluF\\AppData\\Roaming\\nltk_data...\n",
      "[nltk_data]   Package wordnet is already up-to-date!\n"
     ]
    },
    {
     "data": {
      "text/plain": [
       "True"
      ]
     },
     "execution_count": 31,
     "metadata": {},
     "output_type": "execute_result"
    }
   ],
   "source": [
    "# Para limpeza dos dados\n",
    "import nltk\n",
    "nltk.download('stopwords')\n",
    "nltk.download('rslp')\n",
    "nltk.download('punkt')\n",
    "nltk.download('wordnet')"
   ]
  },
  {
   "cell_type": "code",
   "execution_count": 32,
   "metadata": {},
   "outputs": [],
   "source": [
    "def Preprocessing(instancia):\n",
    "    stemmer = nltk.stem.RSLPStemmer()\n",
    "    instancia = re.sub(r\"http\\S+\", \"\", instancia).lower().replace('.','').replace(',','').replace(';','').replace('-','').replace(':','').replace(')','')\n",
    "    stopwords = set(nltk.corpus.stopwords.words('portuguese'))\n",
    "    stopwords.remove('não')\n",
    "    palavras = [stemmer.stem(i) for i in instancia.split() if not i in stopwords]\n",
    "    return (\" \".join(palavras))\n",
    "\n",
    "# Aplica a função em todos os dados:\n",
    "tweets = [Preprocessing(i) for i in tweets]"
   ]
  },
  {
   "cell_type": "markdown",
   "metadata": {},
   "source": [
    "## Tokenização"
   ]
  },
  {
   "cell_type": "code",
   "execution_count": 33,
   "metadata": {},
   "outputs": [],
   "source": [
    "from nltk.tokenize import TweetTokenizer"
   ]
  },
  {
   "cell_type": "code",
   "execution_count": 34,
   "metadata": {},
   "outputs": [],
   "source": [
    "tweet_tokenizer = TweetTokenizer()"
   ]
  },
  {
   "cell_type": "markdown",
   "metadata": {},
   "source": [
    "## Vetorização - Bag of words"
   ]
  },
  {
   "cell_type": "code",
   "execution_count": 35,
   "metadata": {},
   "outputs": [],
   "source": [
    "# Instancia o objeto que faz a vectorização\n",
    "vectorizer = CountVectorizer(analyzer=\"word\", tokenizer=tweet_tokenizer.tokenize)"
   ]
  },
  {
   "cell_type": "code",
   "execution_count": 36,
   "metadata": {},
   "outputs": [
    {
     "data": {
      "text/plain": [
       "scipy.sparse.csr.csr_matrix"
      ]
     },
     "execution_count": 36,
     "metadata": {},
     "output_type": "execute_result"
    }
   ],
   "source": [
    "# Aplica o vetorizador nos dados\n",
    "# Ajuste o modelo SVM de acordo com os dados de treinamento fornecidos.\n",
    "freq_tweets = vectorizer.fit_transform(tweets[:11])\n",
    "type(freq_tweets)"
   ]
  },
  {
   "cell_type": "code",
   "execution_count": 37,
   "metadata": {},
   "outputs": [
    {
     "data": {
      "text/plain": [
       "(11, 80)"
      ]
     },
     "execution_count": 37,
     "metadata": {},
     "output_type": "execute_result"
    }
   ],
   "source": [
    "# Formato linha, coluna da matriz\n",
    "freq_tweets.shape"
   ]
  },
  {
   "cell_type": "code",
   "execution_count": 38,
   "metadata": {},
   "outputs": [],
   "source": [
    "modelo = svm.SVC(gamma='auto')"
   ]
  },
  {
   "cell_type": "code",
   "execution_count": 39,
   "metadata": {},
   "outputs": [
    {
     "data": {
      "text/plain": [
       "SVC(C=1.0, cache_size=200, class_weight=None, coef0=0.0,\n",
       "    decision_function_shape='ovr', degree=3, gamma='auto', kernel='rbf',\n",
       "    max_iter=-1, probability=False, random_state=None, shrinking=True,\n",
       "    tol=0.001, verbose=False)"
      ]
     },
     "execution_count": 39,
     "metadata": {},
     "output_type": "execute_result"
    }
   ],
   "source": [
    "modelo.fit(freq_tweets,classes[:11])"
   ]
  },
  {
   "cell_type": "code",
   "execution_count": 40,
   "metadata": {},
   "outputs": [
    {
     "data": {
      "text/plain": [
       "array([[0, 0, 0, 0, 0, 0, 0, 0, 0, 0, 0, 0, 0, 0, 0, 1, 0, 0, 0, 0, 0, 0,\n",
       "        0, 0, 0, 0, 0, 0, 0, 0, 0, 0, 0, 0, 0, 0, 0, 0, 0, 0, 0, 0, 0, 0,\n",
       "        0, 0, 0, 0, 0, 0, 0, 0, 0, 0, 0, 0, 0, 0, 0, 0, 1, 0, 0, 0, 0, 0,\n",
       "        0, 0, 0, 0, 0, 0, 0, 0, 1, 0, 0, 0, 0, 0],\n",
       "       [0, 0, 0, 0, 0, 0, 0, 0, 1, 0, 0, 0, 0, 0, 0, 0, 0, 0, 0, 0, 0, 0,\n",
       "        0, 0, 0, 0, 0, 0, 0, 0, 0, 0, 0, 0, 0, 0, 0, 0, 0, 0, 0, 0, 0, 0,\n",
       "        0, 0, 0, 0, 1, 0, 0, 0, 0, 0, 0, 0, 0, 0, 1, 0, 0, 0, 0, 0, 0, 0,\n",
       "        0, 1, 0, 0, 0, 0, 0, 0, 0, 1, 0, 0, 0, 0],\n",
       "       [1, 0, 1, 1, 0, 0, 1, 0, 0, 0, 0, 0, 1, 0, 0, 0, 0, 1, 0, 0, 1, 0,\n",
       "        0, 1, 0, 0, 1, 1, 0, 0, 0, 0, 0, 0, 0, 1, 0, 1, 1, 0, 0, 1, 0, 0,\n",
       "        0, 1, 0, 0, 0, 0, 0, 1, 0, 0, 1, 0, 1, 0, 0, 0, 0, 1, 0, 0, 0, 1,\n",
       "        0, 0, 0, 0, 0, 0, 0, 0, 1, 0, 0, 0, 1, 0],\n",
       "       [0, 0, 0, 0, 0, 0, 0, 0, 0, 0, 0, 1, 0, 0, 0, 0, 0, 0, 1, 0, 0, 0,\n",
       "        1, 0, 0, 0, 0, 0, 0, 0, 0, 0, 0, 0, 0, 0, 1, 0, 0, 0, 0, 0, 0, 0,\n",
       "        1, 0, 0, 0, 0, 0, 0, 0, 0, 0, 0, 0, 0, 0, 0, 1, 0, 0, 0, 1, 0, 0,\n",
       "        0, 0, 1, 0, 1, 0, 0, 0, 1, 0, 0, 0, 0, 0],\n",
       "       [0, 0, 0, 0, 0, 0, 0, 0, 0, 0, 0, 0, 0, 1, 0, 0, 0, 0, 0, 0, 0, 0,\n",
       "        0, 0, 0, 0, 0, 0, 0, 0, 0, 0, 0, 0, 1, 0, 0, 0, 0, 1, 0, 0, 0, 0,\n",
       "        0, 0, 0, 0, 0, 0, 0, 0, 1, 0, 0, 0, 0, 0, 0, 0, 0, 0, 0, 0, 0, 0,\n",
       "        0, 0, 0, 0, 0, 0, 0, 0, 1, 0, 0, 0, 0, 0],\n",
       "       [0, 0, 0, 0, 1, 1, 0, 1, 0, 0, 0, 0, 0, 0, 0, 0, 0, 0, 0, 0, 0, 0,\n",
       "        0, 0, 0, 0, 1, 0, 0, 0, 0, 1, 0, 1, 0, 1, 0, 0, 0, 0, 0, 1, 0, 0,\n",
       "        0, 0, 0, 0, 0, 1, 0, 0, 0, 0, 0, 0, 0, 0, 1, 0, 0, 0, 0, 0, 0, 0,\n",
       "        0, 1, 0, 0, 0, 0, 0, 0, 1, 0, 0, 0, 0, 0],\n",
       "       [0, 0, 0, 0, 0, 0, 0, 0, 0, 0, 0, 0, 0, 0, 0, 0, 0, 0, 0, 1, 0, 0,\n",
       "        0, 0, 0, 0, 0, 0, 0, 1, 1, 0, 1, 0, 0, 0, 0, 0, 0, 0, 1, 0, 0, 0,\n",
       "        0, 0, 0, 1, 0, 0, 0, 0, 0, 0, 0, 1, 0, 0, 0, 0, 0, 0, 0, 0, 0, 0,\n",
       "        0, 0, 0, 0, 0, 0, 0, 1, 1, 0, 0, 1, 0, 0],\n",
       "       [0, 1, 0, 0, 0, 0, 0, 0, 0, 0, 0, 0, 0, 0, 1, 1, 1, 0, 0, 0, 0, 0,\n",
       "        0, 0, 0, 0, 0, 0, 1, 0, 0, 0, 0, 0, 0, 0, 0, 0, 0, 0, 0, 0, 0, 1,\n",
       "        0, 0, 1, 1, 0, 0, 1, 0, 0, 0, 0, 0, 0, 0, 0, 0, 0, 0, 1, 0, 1, 0,\n",
       "        1, 0, 0, 1, 0, 1, 0, 0, 1, 0, 1, 0, 0, 1],\n",
       "       [0, 0, 0, 0, 0, 0, 0, 0, 0, 1, 0, 0, 0, 0, 0, 0, 0, 0, 0, 0, 0, 1,\n",
       "        0, 0, 1, 0, 0, 0, 0, 0, 0, 0, 0, 0, 0, 0, 0, 0, 0, 0, 0, 0, 0, 0,\n",
       "        0, 0, 0, 0, 0, 0, 0, 0, 0, 0, 0, 0, 0, 0, 0, 0, 0, 0, 0, 0, 0, 0,\n",
       "        0, 0, 0, 0, 0, 0, 0, 0, 1, 0, 0, 0, 0, 0],\n",
       "       [0, 0, 0, 0, 0, 0, 0, 0, 0, 0, 1, 0, 0, 0, 0, 0, 0, 0, 0, 0, 0, 0,\n",
       "        0, 0, 0, 1, 0, 0, 0, 0, 0, 0, 2, 0, 0, 0, 0, 0, 0, 0, 0, 0, 1, 0,\n",
       "        0, 0, 0, 0, 0, 0, 0, 0, 0, 1, 0, 0, 0, 0, 0, 0, 0, 0, 0, 0, 0, 0,\n",
       "        0, 0, 0, 0, 0, 0, 0, 0, 1, 0, 0, 0, 0, 0],\n",
       "       [0, 0, 0, 0, 0, 0, 0, 0, 0, 1, 0, 0, 0, 0, 0, 0, 0, 0, 0, 0, 0, 0,\n",
       "        0, 0, 0, 0, 0, 0, 0, 0, 0, 0, 1, 0, 0, 0, 0, 0, 0, 0, 0, 0, 0, 0,\n",
       "        0, 0, 0, 0, 0, 0, 0, 0, 0, 0, 0, 0, 0, 1, 0, 0, 0, 0, 0, 0, 0, 0,\n",
       "        0, 0, 0, 0, 0, 0, 1, 1, 1, 0, 0, 0, 0, 0]], dtype=int64)"
      ]
     },
     "execution_count": 40,
     "metadata": {},
     "output_type": "execute_result"
    }
   ],
   "source": [
    "freq_tweets.A"
   ]
  },
  {
   "cell_type": "markdown",
   "metadata": {},
   "source": [
    "## Testando o modelo"
   ]
  },
  {
   "cell_type": "code",
   "execution_count": 41,
   "metadata": {},
   "outputs": [
    {
     "name": "stdout",
     "output_type": "stream",
     "text": [
      "26\n",
      "95\n",
      "76\n",
      "45\n",
      "49\n",
      "98\n",
      "42\n",
      "4\n",
      "26\n",
      "66\n",
      "10\n",
      "35\n",
      "67\n",
      "56\n",
      "1\n",
      "26\n",
      "62\n",
      "85\n",
      "63\n",
      "68\n"
     ]
    }
   ],
   "source": [
    "import random\n",
    "lista_teste = []\n",
    "for i in range(20):\n",
    "    pos = random.randint(0,99)\n",
    "    print(pos)\n",
    "    lista_teste.append(tweets[pos])"
   ]
  },
  {
   "cell_type": "code",
   "execution_count": 42,
   "metadata": {},
   "outputs": [],
   "source": [
    "testes = [Preprocessing(i) for i in lista_teste]"
   ]
  },
  {
   "cell_type": "code",
   "execution_count": 43,
   "metadata": {},
   "outputs": [],
   "source": [
    "# Transforma os dados de teste em vetores de palavras.\n",
    "freq_testes = vectorizer.transform(testes)"
   ]
  },
  {
   "cell_type": "code",
   "execution_count": 44,
   "metadata": {},
   "outputs": [
    {
     "name": "stdout",
     "output_type": "stream",
     "text": [
      "rt @selenaffection obrig mim @xiaom, positivo\n",
      "silenc palavr xiaom vid, positivo\n",
      "xiaom dev lanç redm not 8 pro brasil, positivo\n",
      "fim ach cap pro xiaom 🥰📳, positivo\n",
      "@obrasilfabian @bitchoffs @renanwr fot viag tud xiaom jog pokemon bat dur afu, positivo\n",
      "não compr xiaom mi 9t via @youtub, positivo\n",
      "mãe compr iphon pra aq merd xiaom ai, positivo\n",
      "@paginamemebr nn gost câm xiaom, positivo\n",
      "rt @selenaffection obrig mim @xiaom, positivo\n",
      "@lopofern @jotaplay xiaom amigo?, positivo\n",
      "compr xiaom vou vir palestrante?, positivo\n",
      "preç mín dron xiaom fim x8 423€, positivo\n",
      "xiaomi?, positivo\n",
      "alguém sab fon jbl melhor xiaomi?, positivo\n",
      "xiaomi= tud pra mim, positivo\n",
      "rt @selenaffection obrig mim @xiaom, positivo\n",
      "@douglas65127353 xiaom horr, positivo\n",
      "obrig xiaom ser melhor celul vid, positivo\n",
      "#xiaom mostr interfac nov smartwatch irá funcion, positivo\n",
      "@teucontat ach xiaomi!, positivo\n"
     ]
    }
   ],
   "source": [
    "# Fazendo a classificação com o modelo treinado.\n",
    "for t, c in zip (testes,modelo.predict(freq_testes)):\n",
    "    print (t +\", \"+ c)"
   ]
  },
  {
   "cell_type": "code",
   "execution_count": 45,
   "metadata": {},
   "outputs": [],
   "source": [
    "tweets_execucao = [Preprocessing(i) for i in tweets]"
   ]
  },
  {
   "cell_type": "code",
   "execution_count": 46,
   "metadata": {},
   "outputs": [],
   "source": [
    "freq_testes = vectorizer.transform(tweets_execucao)"
   ]
  },
  {
   "cell_type": "code",
   "execution_count": 47,
   "metadata": {},
   "outputs": [
    {
     "name": "stdout",
     "output_type": "stream",
     "text": [
      "agr qu xiaom, positivo\n",
      "xiaomi= tud pra mim, positivo\n",
      "rt @karnsteim celul 1 dia 6 hor carreg aind to c 17% ouv músic fon bluetooth jog ff xiaom ob…, positivo\n",
      "@juliano_fleck proc aplic usa smart iptv tv box xiaom excel, positivo\n",
      "@paginamemebr nn gost câm xiaom, positivo\n",
      "3 dia 9 hor 30 min carreg xiaom cont comig pra tud, positivo\n",
      "começ époc chuv vou compr guardachuv xiaom melhor barat outr, positivo\n",
      "@tabatabatat agr vai ter aguent us io ch xiaominion kkk (tod mund sab xiaom melhor 🤫, positivo\n",
      "cam xiaom boa?, positivo\n",
      "@jackstarving car ia compr não compr xiaom, positivo\n",
      "compr xiaom vou vir palestrante?, positivo\n",
      "@tockerslol xiaom melhor, positivo\n",
      "@breandu nad xiaom melhor qualqu form, positivo\n",
      "gent xiaom fal melhor ?, positivo\n",
      "@bruso__ olá fiq sab xiaom nov ai rs rs, positivo\n",
      "gast rio dinh atualiz iphon 2020 sist gost peg xiaom mi…, positivo\n",
      "cert admit vic produt xaom vou compr mi band 4 xiaom mi 8 lit redm airdots…, positivo\n",
      "@xiaomibrasil sai mi band 4 brasil???, positivo\n",
      "compr smartwatch mi band 4 xiaom car negóc efic prim ach q ia ser coil i…, positivo\n",
      "algm ai xiaom mi band qu diz val pen compr 4, positivo\n",
      "mi band 4 não conect iphon @xiaomibrasil, positivo\n",
      "@xiaomibrasil mi band 4 par notific #whatsapp após atual io 13 alguém pas isso? #iphon #miband4 #ios13, positivo\n",
      "tô feliiiiiiiiiiiz pal vind sp traz p mim mi band 4 complet linh xiaom amo muitoo, positivo\n",
      "aind não vir testemunh xiaom to ad mi band 4, positivo\n",
      "mal compr mi band 2 ja tô doid pra ter 4 xiaom pq fiz comigo?!, positivo\n",
      "1 mê 3 dia final xiaom mi band 4 ganh aniv descarreg bat q dur #@$%^&amp, positivo\n",
      "rt @selenaffection obrig mim @xiaom, positivo\n",
      "carreg xiaom perfeit, positivo\n",
      "exist pov chat pov q celul xiaom ?? ach q perd alun direit, positivo\n",
      "tá comprov tô apaixon xiaom 😂😂, positivo\n",
      "ag faç part seit apaixon xiaom, positivo\n",
      "manooo xiaom bommmm, positivo\n",
      "hj faz 8 dia não carreg xiaom aprend and, positivo\n",
      "@roland xiaom redm mi not 78 câm melhor pixel ein, positivo\n",
      "@ex @joelpinheiro85 evid né! celul caris concorr xiaom melhor!, positivo\n",
      "preç mín dron xiaom fim x8 423€, positivo\n",
      "rt @rightjikook @jgkoph celul xiaomi?, positivo\n",
      "qu mex xiaom, positivo\n",
      "#xiaom mostr interfac nov smartwatch irá funcion, positivo\n",
      "rt @brenofe10552050 real xiaom nunc cheg perto! celul par fal appl não t…, positivo\n",
      "@yurghx1922 roub viag rj aí compr gost xiaom cust benefíc, positivo\n",
      "@filtrbr @majorlaz @thegreatkhalid coloqu smartwatch xiaom fon ouv xiaom redm nunc ped nad pleaseee!!!!, positivo\n",
      "mãe compr iphon pra aq merd xiaom ai, positivo\n",
      "@arkimenn put q merda!! olh all tel xiaom barat, positivo\n",
      "5 me us porr xiaom bgl tá parec mot g2 antig tant tr tom cu, positivo\n",
      "fim ach cap pro xiaom 🥰📳, positivo\n",
      "@irampereira3 kkkkkkkkk testemunh xiaom, positivo\n",
      "@raissacxt aaa fal pra irmã xiaom melhor não sei aaa, positivo\n",
      "rt @radenclaw @alice_gobbo9 @lojinhadoiphon compr xiaom bot appl pra mam, positivo\n",
      "@obrasilfabian @bitchoffs @renanwr fot viag tud xiaom jog pokemon bat dur afu, positivo\n",
      "infect víru xiaom pqp bag mt bom, positivo\n",
      "@kthgogh xiaom mt bom vai mim❤❤, positivo\n",
      "fal xiaom melhor iphon log jog “a cam iphon melhor”, positivo\n",
      "@raphaellal_ olá senh voc gost ouv benefic xiaom, positivo\n",
      "enquant rep detalh pra ver xiaom kkkk, positivo\n",
      "@fxckrim nao gost xiaom entt tip além bel tbm ?, positivo\n",
      "alguém sab fon jbl melhor xiaomi?, positivo\n",
      "@agnj compr xiaom cust x benefíc, positivo\n",
      "desd 10 manhã 16% bat gast xiaom cont comig pra tud, positivo\n",
      "ode @xiaom, positivo\n",
      "pox xiaom pq tão bom? 😔, positivo\n",
      "@baruckheld dá ser amig testemunh xiaom antig, positivo\n",
      "@douglas65127353 xiaom horr, positivo\n",
      "#xiaom mostr interfac nov smartwatch irá funcion, positivo\n",
      "tud indic brev #redminote8pr #xiaom vai est ofic mão consumidores…, positivo\n",
      "fic put xiaom pq nao pra nom fod sup grand contat pq celul simpl nao deix toxic, positivo\n",
      "@lopofern @jotaplay xiaom amigo?, positivo\n",
      "xiaomi?, positivo\n",
      "@teucontat ach xiaomi!, positivo\n",
      "volt ser testemunh xiaom não oq qu dá pra quebr galh jan, positivo\n",
      "@balu_is_hot durm bast testemunh xiaom, positivo\n",
      "xiaom tá igual brasil deix tud pra últ hor cad miu 11 pro not 7? vai sair aman…, positivo\n",
      "descobr q celul xiaom mod noturn gost, positivo\n",
      "qu xiaom vid, positivo\n",
      "socorr xiaom tá doid alguém ajud, positivo\n",
      "vc não corag pra fal xiaom ruim sim!, positivo\n",
      "xiaom dev lanç redm not 8 pro brasil, positivo\n",
      "amanhã vou precil carreg xiaom ufu umu ajud eeeuuu pov, positivo\n",
      "@luisrossetin man vc ja ouv fal produt xiaomi?, positivo\n",
      "qu compr xiaom redm not 8 ta preç 7 infeliz mãe aind ta pagando…, positivo\n",
      "fog parq grup xiaom, positivo\n",
      "ele bolson chat sim vc vir usu xiaomi?, positivo\n",
      "@gabriellenc precil conhec smartwatch amazing gtr 42mm swarovsk xiaom aí sim vc vai est co…, positivo\n",
      "xiaom mi not 10 cheg 5 novembr cinc câm, positivo\n",
      "xiaom torn gisel buchmann, positivo\n",
      "obrig xiaom ser melhor celul vid, positivo\n",
      "rt @jsantorox @douglas65127353 xiaom horr, positivo\n",
      "@gcfint @heytomin calm aí kkkkkkk mem pô use xiaom prim bom kkkkkkkk, positivo\n",
      "xiaom melhor appl, positivo\n",
      "tav vend model xiaom visual mt bonit q admit, positivo\n",
      "@hirissilva19 xiaom boa ser barat kkkkk, positivo\n",
      "fot xiaom outr nível, positivo\n",
      "fod xiaom, positivo\n",
      "bich câm des xiaom insan tão boa put merd, positivo\n",
      "xiaom amo mi cloud estres, positivo\n",
      "silenc palavr xiaom vid, positivo\n",
      "tav vend model xiaom visual mt bonit q admit, positivo\n",
      "xiaom prepar lanç mi not 10, positivo\n",
      "não compr xiaom mi 9t via @youtub, positivo\n",
      "tô am xiaom 🥰 dem cheg kk, positivo\n"
     ]
    }
   ],
   "source": [
    "# Fazendo a classificação com o modelo treinado.\n",
    "for t, c in zip (tweets_execucao,modelo.predict(freq_testes)):\n",
    "    print (t +\", \"+ c)"
   ]
  },
  {
   "cell_type": "markdown",
   "metadata": {},
   "source": [
    "## Criando modelos com Pipelines"
   ]
  },
  {
   "cell_type": "code",
   "execution_count": 48,
   "metadata": {},
   "outputs": [],
   "source": [
    "# Pipelines são interessantes para reduzir código e automatizar fluxos\n",
    "from sklearn.pipeline import Pipeline"
   ]
  },
  {
   "cell_type": "code",
   "execution_count": 49,
   "metadata": {},
   "outputs": [],
   "source": [
    "pipeline_svm_simples = Pipeline([\n",
    "  ('counts', CountVectorizer()),\n",
    "  ('classifier', svm.SVC(kernel='linear'))\n",
    "])"
   ]
  },
  {
   "cell_type": "code",
   "execution_count": 50,
   "metadata": {},
   "outputs": [],
   "source": [
    "pip_rbf = Pipeline([\n",
    "('counts',CountVectorizer()),\n",
    "('classifier', svm.SVC(kernel='rbf'))\n",
    "])\n",
    "\n",
    "pip_poly = Pipeline([\n",
    "('counts',CountVectorizer()),\n",
    "('classifier', svm.SVC(kernel='poly'))\n",
    "])"
   ]
  },
  {
   "cell_type": "markdown",
   "metadata": {},
   "source": [
    "## Validando os Modelos com Validação Cruzada"
   ]
  },
  {
   "cell_type": "code",
   "execution_count": 115,
   "metadata": {},
   "outputs": [
    {
     "name": "stderr",
     "output_type": "stream",
     "text": [
      "c:\\users\\maluf\\appdata\\local\\programs\\python\\python37-32\\lib\\site-packages\\sklearn\\model_selection\\_split.py:657: Warning: The least populated class in y has only 22 members, which is too few. The minimum number of members in any class cannot be less than n_splits=50.\n",
      "  % (min_groups, self.n_splits)), Warning)\n"
     ]
    }
   ],
   "source": [
    "# Fazendo o cross validation do modelo\n",
    "resultados = cross_val_predict(pipeline_svm_simples, tweets_execucao, classes, cv=50)"
   ]
  },
  {
   "cell_type": "code",
   "execution_count": 131,
   "metadata": {},
   "outputs": [
    {
     "data": {
      "text/plain": [
       "0.62"
      ]
     },
     "execution_count": 131,
     "metadata": {},
     "output_type": "execute_result"
    }
   ],
   "source": [
    "# Medindo a acurácia média do modelo\n",
    "metrics.accuracy_score(classes,resultados)"
   ]
  },
  {
   "cell_type": "code",
   "execution_count": 98,
   "metadata": {},
   "outputs": [
    {
     "name": "stdout",
     "output_type": "stream",
     "text": [
      "              precision    recall  f1-score   support\n",
      "\n",
      "    positivo       0.65      0.84      0.73        50\n",
      "    negativo       0.57      0.36      0.44        22\n",
      "      neutro       0.57      0.43      0.49        28\n",
      "\n",
      "    accuracy                           0.62       100\n",
      "   macro avg       0.60      0.54      0.55       100\n",
      "weighted avg       0.61      0.62      0.60       100\n",
      "\n"
     ]
    }
   ],
   "source": [
    "# Medidas de validação do modelo\n",
    "sentimento=['positivo','negativo','neutro']\n",
    "print (metrics.classification_report(classes,resultados,sentimento))"
   ]
  },
  {
   "cell_type": "code",
   "execution_count": 54,
   "metadata": {},
   "outputs": [
    {
     "name": "stdout",
     "output_type": "stream",
     "text": [
      "Predito   negativo  neutro  positivo  All\n",
      "Real                                     \n",
      "negativo         8       3        11   22\n",
      "neutro           3      11        14   28\n",
      "positivo         2       6        42   50\n",
      "All             13      20        67  100\n"
     ]
    }
   ],
   "source": [
    "# Matriz de confusão\n",
    "print (pd.crosstab(classes, resultados, rownames=['Real'], colnames=['Predito'], margins=True))"
   ]
  },
  {
   "cell_type": "code",
   "execution_count": 117,
   "metadata": {},
   "outputs": [],
   "source": [
    "def Metricas(modelo, tweets, classes):\n",
    "  resultados = cross_val_predict(modelo, tweets_execucao, classes, cv=50)\n",
    "  return 'Acurácia do modelo: {}'.format(metrics.accuracy_score(classes,resultados))"
   ]
  },
  {
   "cell_type": "code",
   "execution_count": 118,
   "metadata": {},
   "outputs": [
    {
     "name": "stderr",
     "output_type": "stream",
     "text": [
      "c:\\users\\maluf\\appdata\\local\\programs\\python\\python37-32\\lib\\site-packages\\sklearn\\model_selection\\_split.py:657: Warning: The least populated class in y has only 22 members, which is too few. The minimum number of members in any class cannot be less than n_splits=50.\n",
      "  % (min_groups, self.n_splits)), Warning)\n"
     ]
    },
    {
     "data": {
      "text/plain": [
       "'Acurácia do modelo: 0.62'"
      ]
     },
     "execution_count": 118,
     "metadata": {},
     "output_type": "execute_result"
    }
   ],
   "source": [
    "# svm linear simples\n",
    "Metricas(pipeline_svm_simples,tweets_execucao,classes)"
   ]
  },
  {
   "cell_type": "code",
   "execution_count": 57,
   "metadata": {},
   "outputs": [],
   "source": [
    "#Testes"
   ]
  },
  {
   "cell_type": "code",
   "execution_count": 127,
   "metadata": {},
   "outputs": [
    {
     "name": "stderr",
     "output_type": "stream",
     "text": [
      "c:\\users\\maluf\\appdata\\local\\programs\\python\\python37-32\\lib\\site-packages\\sklearn\\model_selection\\_split.py:657: Warning: The least populated class in y has only 22 members, which is too few. The minimum number of members in any class cannot be less than n_splits=50.\n",
      "  % (min_groups, self.n_splits)), Warning)\n"
     ]
    }
   ],
   "source": [
    "medias = cross_val_score(pipeline_svm_simples, tweets_execucao, classes, cv=50)\n",
    "media = sum(medias) / len(medias)"
   ]
  },
  {
   "cell_type": "code",
   "execution_count": 128,
   "metadata": {},
   "outputs": [
    {
     "data": {
      "text/plain": [
       "array([0.33333333, 0.33333333, 0.66666667, 0.33333333, 1.        ,\n",
       "       0.66666667, 0.66666667, 0.33333333, 0.33333333, 0.33333333,\n",
       "       0.66666667, 0.66666667, 0.        , 0.33333333, 0.66666667,\n",
       "       1.        , 0.33333333, 0.66666667, 0.66666667, 0.66666667,\n",
       "       0.66666667, 0.        , 1.        , 1.        , 0.5       ,\n",
       "       0.5       , 0.5       , 0.5       , 1.        , 1.        ,\n",
       "       1.        , 1.        , 1.        , 1.        , 1.        ,\n",
       "       1.        , 1.        , 1.        , 0.        , 1.        ,\n",
       "       1.        , 1.        , 1.        , 1.        , 1.        ,\n",
       "       1.        , 1.        , 0.        , 1.        , 1.        ])"
      ]
     },
     "execution_count": 128,
     "metadata": {},
     "output_type": "execute_result"
    }
   ],
   "source": [
    "medias"
   ]
  },
  {
   "cell_type": "code",
   "execution_count": 129,
   "metadata": {},
   "outputs": [
    {
     "data": {
      "text/plain": [
       "0.7066666666666666"
      ]
     },
     "execution_count": 129,
     "metadata": {},
     "output_type": "execute_result"
    }
   ],
   "source": [
    "media"
   ]
  }
 ],
 "metadata": {
  "kernelspec": {
   "display_name": "Python 3",
   "language": "python",
   "name": "python3"
  },
  "language_info": {
   "codemirror_mode": {
    "name": "ipython",
    "version": 3
   },
   "file_extension": ".py",
   "mimetype": "text/x-python",
   "name": "python",
   "nbconvert_exporter": "python",
   "pygments_lexer": "ipython3",
   "version": "3.7.3"
  }
 },
 "nbformat": 4,
 "nbformat_minor": 2
}
