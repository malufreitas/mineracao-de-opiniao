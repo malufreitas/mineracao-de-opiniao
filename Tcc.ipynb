{
 "cells": [
  {
   "cell_type": "markdown",
   "metadata": {},
   "source": [
    "## Conexão e extração dos dados do Twitter"
   ]
  },
  {
   "cell_type": "code",
   "execution_count": 1,
   "metadata": {},
   "outputs": [
    {
     "name": "stdout",
     "output_type": "stream",
     "text": [
      "Collecting textblob\n",
      "  Downloading https://files.pythonhosted.org/packages/60/f0/1d9bfcc8ee6b83472ec571406bd0dd51c0e6330ff1a51b2d29861d389e85/textblob-0.15.3-py2.py3-none-any.whl (636kB)\n",
      "Collecting nltk>=3.1 (from textblob)\n",
      "  Downloading https://files.pythonhosted.org/packages/f6/1d/d925cfb4f324ede997f6d47bea4d9babba51b49e87a767c170b77005889d/nltk-3.4.5.zip (1.5MB)\n",
      "Requirement already satisfied: six in c:\\users\\ianmb\\appdata\\local\\programs\\python\\python37\\lib\\site-packages (from nltk>=3.1->textblob) (1.12.0)\n",
      "Installing collected packages: nltk, textblob\n",
      "  Running setup.py install for nltk: started\n",
      "    Running setup.py install for nltk: finished with status 'done'\n",
      "Successfully installed nltk-3.4.5 textblob-0.15.3\n"
     ]
    },
    {
     "name": "stderr",
     "output_type": "stream",
     "text": [
      "You are using pip version 19.0.3, however version 19.2.3 is available.\n",
      "You should consider upgrading via the 'python -m pip install --upgrade pip' command.\n"
     ]
    }
   ],
   "source": [
    "!pip install textblob"
   ]
  },
  {
   "cell_type": "code",
   "execution_count": 2,
   "metadata": {},
   "outputs": [
    {
     "name": "stdout",
     "output_type": "stream",
     "text": [
      "Collecting tweepy\n",
      "  Downloading https://files.pythonhosted.org/packages/36/1b/2bd38043d22ade352fc3d3902cf30ce0e2f4bf285be3b304a2782a767aec/tweepy-3.8.0-py2.py3-none-any.whl\n",
      "Collecting PySocks>=1.5.7 (from tweepy)\n",
      "  Downloading https://files.pythonhosted.org/packages/8d/59/b4572118e098ac8e46e399a1dd0f2d85403ce8bbaad9ec79373ed6badaf9/PySocks-1.7.1-py3-none-any.whl\n",
      "Requirement already satisfied: requests-oauthlib>=0.7.0 in c:\\users\\ianmb\\appdata\\local\\programs\\python\\python37\\lib\\site-packages (from tweepy) (1.2.0)\n",
      "Requirement already satisfied: requests>=2.11.1 in c:\\users\\ianmb\\appdata\\local\\programs\\python\\python37\\lib\\site-packages (from tweepy) (2.22.0)\n",
      "Requirement already satisfied: six>=1.10.0 in c:\\users\\ianmb\\appdata\\local\\programs\\python\\python37\\lib\\site-packages (from tweepy) (1.12.0)\n",
      "Requirement already satisfied: oauthlib>=3.0.0 in c:\\users\\ianmb\\appdata\\local\\programs\\python\\python37\\lib\\site-packages (from requests-oauthlib>=0.7.0->tweepy) (3.1.0)\n",
      "Requirement already satisfied: certifi>=2017.4.17 in c:\\users\\ianmb\\appdata\\local\\programs\\python\\python37\\lib\\site-packages (from requests>=2.11.1->tweepy) (2019.9.11)\n",
      "Requirement already satisfied: urllib3!=1.25.0,!=1.25.1,<1.26,>=1.21.1 in c:\\users\\ianmb\\appdata\\local\\programs\\python\\python37\\lib\\site-packages (from requests>=2.11.1->tweepy) (1.25.6)\n",
      "Requirement already satisfied: chardet<3.1.0,>=3.0.2 in c:\\users\\ianmb\\appdata\\local\\programs\\python\\python37\\lib\\site-packages (from requests>=2.11.1->tweepy) (3.0.4)\n",
      "Requirement already satisfied: idna<2.9,>=2.5 in c:\\users\\ianmb\\appdata\\local\\programs\\python\\python37\\lib\\site-packages (from requests>=2.11.1->tweepy) (2.8)\n",
      "Installing collected packages: PySocks, tweepy\n",
      "Successfully installed PySocks-1.7.1 tweepy-3.8.0\n"
     ]
    },
    {
     "name": "stderr",
     "output_type": "stream",
     "text": [
      "You are using pip version 19.0.3, however version 19.2.3 is available.\n",
      "You should consider upgrading via the 'python -m pip install --upgrade pip' command.\n"
     ]
    }
   ],
   "source": [
    "!pip install tweepy"
   ]
  },
  {
   "cell_type": "code",
   "execution_count": 4,
   "metadata": {},
   "outputs": [
    {
     "name": "stdout",
     "output_type": "stream",
     "text": [
      "Collecting numpy\n",
      "  Downloading https://files.pythonhosted.org/packages/bd/51/7df1a3858ff0465f760b482514f1292836f8be08d84aba411b48dda72fa9/numpy-1.17.2-cp37-cp37m-win_amd64.whl (12.8MB)\n",
      "Installing collected packages: numpy\n",
      "Successfully installed numpy-1.17.2\n"
     ]
    },
    {
     "name": "stderr",
     "output_type": "stream",
     "text": [
      "You are using pip version 19.0.3, however version 19.2.3 is available.\n",
      "You should consider upgrading via the 'python -m pip install --upgrade pip' command.\n"
     ]
    }
   ],
   "source": [
    "!pip install numpy"
   ]
  },
  {
   "cell_type": "code",
   "execution_count": 6,
   "metadata": {},
   "outputs": [
    {
     "name": "stdout",
     "output_type": "stream",
     "text": [
      "Collecting pandas\n",
      "  Downloading https://files.pythonhosted.org/packages/b1/69/fcc29820befae2b96fd0b01225577af653e87cd0914634bb2d372a457bd7/pandas-0.25.1-cp37-cp37m-win_amd64.whl (9.2MB)\n",
      "Requirement already satisfied: python-dateutil>=2.6.1 in c:\\users\\ianmb\\appdata\\local\\programs\\python\\python37\\lib\\site-packages (from pandas) (2.8.0)\n",
      "Requirement already satisfied: numpy>=1.13.3 in c:\\users\\ianmb\\appdata\\local\\programs\\python\\python37\\lib\\site-packages (from pandas) (1.17.2)\n",
      "Collecting pytz>=2017.2 (from pandas)\n",
      "  Downloading https://files.pythonhosted.org/packages/87/76/46d697698a143e05f77bec5a526bf4e56a0be61d63425b68f4ba553b51f2/pytz-2019.2-py2.py3-none-any.whl (508kB)\n",
      "Requirement already satisfied: six>=1.5 in c:\\users\\ianmb\\appdata\\local\\programs\\python\\python37\\lib\\site-packages (from python-dateutil>=2.6.1->pandas) (1.12.0)\n",
      "Installing collected packages: pytz, pandas\n",
      "Successfully installed pandas-0.25.1 pytz-2019.2\n"
     ]
    },
    {
     "name": "stderr",
     "output_type": "stream",
     "text": [
      "You are using pip version 19.0.3, however version 19.2.3 is available.\n",
      "You should consider upgrading via the 'python -m pip install --upgrade pip' command.\n"
     ]
    }
   ],
   "source": [
    "!pip install pandas"
   ]
  },
  {
   "cell_type": "code",
   "execution_count": 8,
   "metadata": {},
   "outputs": [
    {
     "name": "stdout",
     "output_type": "stream",
     "text": [
      "Collecting sklearn\n",
      "  Downloading https://files.pythonhosted.org/packages/1e/7a/dbb3be0ce9bd5c8b7e3d87328e79063f8b263b2b1bfa4774cb1147bfcd3f/sklearn-0.0.tar.gz\n",
      "Collecting scikit-learn (from sklearn)\n",
      "  Downloading https://files.pythonhosted.org/packages/d6/9e/6a42486ffa64711fb868e5d4a9167153417e7414c3d8d3e0d627cf391e1e/scikit_learn-0.21.3-cp37-cp37m-win_amd64.whl (5.9MB)\n",
      "Requirement already satisfied: numpy>=1.11.0 in c:\\users\\ianmb\\appdata\\local\\programs\\python\\python37\\lib\\site-packages (from scikit-learn->sklearn) (1.17.2)\n",
      "Collecting scipy>=0.17.0 (from scikit-learn->sklearn)\n",
      "  Downloading https://files.pythonhosted.org/packages/50/eb/defa40367863304e1ef01c6572584c411446a5f29bdd9dc90f91509e9144/scipy-1.3.1-cp37-cp37m-win_amd64.whl (30.3MB)\n",
      "Collecting joblib>=0.11 (from scikit-learn->sklearn)\n",
      "  Downloading https://files.pythonhosted.org/packages/cd/c1/50a758e8247561e58cb87305b1e90b171b8c767b15b12a1734001f41d356/joblib-0.13.2-py2.py3-none-any.whl (278kB)\n",
      "Installing collected packages: scipy, joblib, scikit-learn, sklearn\n",
      "  Running setup.py install for sklearn: started\n",
      "    Running setup.py install for sklearn: finished with status 'done'\n",
      "Successfully installed joblib-0.13.2 scikit-learn-0.21.3 scipy-1.3.1 sklearn-0.0\n"
     ]
    },
    {
     "name": "stderr",
     "output_type": "stream",
     "text": [
      "You are using pip version 19.0.3, however version 19.2.3 is available.\n",
      "You should consider upgrading via the 'python -m pip install --upgrade pip' command.\n"
     ]
    }
   ],
   "source": [
    "!pip install sklearn"
   ]
  },
  {
   "cell_type": "code",
   "execution_count": 9,
   "metadata": {},
   "outputs": [],
   "source": [
    "import tweepy\n",
    "import numpy as np\n",
    "from textblob import TextBlob as tb\n",
    "\n",
    "from nltk import word_tokenize\n",
    "import nltk\n",
    "import re\n",
    "import pandas as pd\n",
    "from sklearn.feature_extraction.text import CountVectorizer\n",
    "from sklearn.naive_bayes import MultinomialNB\n",
    "from sklearn import metrics\n",
    "from sklearn.model_selection import cross_val_predict"
   ]
  },
  {
   "cell_type": "code",
   "execution_count": 10,
   "metadata": {},
   "outputs": [],
   "source": [
    "# Variaveis de acesso, keys cedidas pela api do twitter\n",
    "consumer_key = \"D7WbZKB1D8sI6SG5YSJaoUqFw\"\n",
    "consumer_secret = \"Ce2wShKqGIeMgHrmugmpNRK1AAGNXik1imJ47sLJnF4dhFKLqT\"\n",
    "access_token = \"758066017742512128-UaPf9IJfaJ957JO5nb4F8TNVa7PBH3p\"\n",
    "access_token_secret = \"amPLoPVU6hyOXUyNVRRVrzZPU6zP0lT8Mnt7eLxhbFzdF\""
   ]
  },
  {
   "cell_type": "code",
   "execution_count": 11,
   "metadata": {},
   "outputs": [],
   "source": [
    "# Realizando a autenticação\n",
    "auth = tweepy.OAuthHandler(consumer_key, consumer_secret)\n",
    "auth.set_access_token(access_token, access_token_secret)"
   ]
  },
  {
   "cell_type": "code",
   "execution_count": 12,
   "metadata": {},
   "outputs": [],
   "source": [
    "# Realizando a conexão com a API\n",
    "api = tweepy.API(auth)"
   ]
  },
  {
   "cell_type": "code",
   "execution_count": 24,
   "metadata": {},
   "outputs": [],
   "source": [
    "# Variável que irá armazenar todos os Tweets com a palavra escolhida na função search da API\n",
    "#public_tweets = api.search('Xiaomi')\n",
    "public_tweets = api.search('xiaomi mi9', \n",
    "                           lang='pt', \n",
    "                           count=100,\n",
    "                          result_type='mixed'\n",
    "                          )"
   ]
  },
  {
   "cell_type": "code",
   "execution_count": 25,
   "metadata": {},
   "outputs": [],
   "source": [
    "def print_status(status_list):\n",
    "    for status in status_list:\n",
    "        print(status.created_at, ':', status.text+'\\n')"
   ]
  },
  {
   "cell_type": "code",
   "execution_count": 26,
   "metadata": {},
   "outputs": [
    {
     "name": "stdout",
     "output_type": "stream",
     "text": [
      "2019-09-28 16:44:07 : @Miltonneves Tranquila, tranquila...kkkkk...o bicho querendo devorar a criança e a retardada... tranquila\n",
      "\n",
      "2019-09-28 16:39:02 : @ThiagoCiopek To gostando pra caramba da Xiaomi ^^ peguei um Mi9 e sinceramente ótimo!\n",
      "\n",
      "2019-09-28 05:48:10 : esse xiaomi mi9 lite tá MUITO foda\n",
      "\n",
      "2019-09-28 05:16:43 : Comprei o Xiaomi Mi9, negas. O esmurrou da China no USA é real.\n",
      "\n",
      "2019-09-28 00:19:08 : @Ze36Machado Telemóvel é trocar do Xiaomi Mi6 para o Mi9 porque não sou gajo de gastar 800 euros num telemóvel só p… https://t.co/ikunWvSyMA\n",
      "\n",
      "2019-09-27 20:28:59 : (2 em 1) Cabo Micro USB e Type-C 3A BlitzWolf BW-MT3 (3FT/91cm) #Banggood\n",
      "\n",
      "R$ 12.97 (USD $2.99)\n",
      "O Preço é Igual ao… https://t.co/0tCDG3ms0K\n",
      "\n",
      "2019-09-27 19:13:10 : @JonBeltrami Pô mano, tem o Xiaomi mi9 tbm, acho que vale a pena\n",
      "Se tiver um pouco mais de grana, talvez um iPhone… https://t.co/hvI7I62HkK\n",
      "\n",
      "2019-09-27 18:51:58 : @iamsheylla a do mi9 se é melhor sim\n",
      "se vc usar a gcam entao\n",
      "\n",
      "https://t.co/TPC8gXfDLM\n",
      "\n",
      "tem uns exemplos fodas ai ne… https://t.co/qvvEWX9V3F\n",
      "\n",
      "2019-09-27 16:21:38 : @OSenhorCliche Kkkkkkkkk é que eu tirei com a camera do XIAOMI MI9 PRODUZIDO NA REPÚBLICA POPULAR DA CHINA QUE TEM… https://t.co/7IfZeoGtr0\n",
      "\n",
      "2019-09-27 15:37:10 : quero trocar meu iphone 8 pelo xiaomi mi9\n",
      "\n",
      "2019-09-27 13:42:37 : @luacris Eu tô apaixonada até agora pelo meu A3 \n",
      "É só tu olhar os vídeos direitinho e olhar qual a versão do mi9 é… https://t.co/wx1FUJxmME\n",
      "\n",
      "2019-09-27 11:20:46 : caraca e o xiaomi mi9 que tá por 1400 reais no mercado livre\n",
      "\n",
      "2019-09-27 01:58:43 : To aqui de boa ai do nada vejo que a xiaomi lançou o mi 9 lite, sendo que já existe o mi 9 se e o mi 9T  sem contar… https://t.co/BN5i6YUsAa\n",
      "\n",
      "2019-09-27 01:21:55 : @atlasehun luiza defensora do Android skjskssksk sabe o que eu nao gostei no Xiaomi mi9 acho que ele é o mais recen… https://t.co/6qOKcAFHj4\n",
      "\n",
      "2019-09-26 20:18:04 : O @xablovsk está ouvindo música pelo seu xiaomi airdots, através do aplicativo Spotify em seu Xiaomi Mi9 e controla… https://t.co/WA8NrY744d\n",
      "\n",
      "2019-09-26 19:49:52 : @SraLothbrok @EdmarBonoro @gideao_baruch @Denise_RM_ @ResistP @drika_familia @ngelaMarcia1 @_beatrizmaria… https://t.co/TaZhZkk7IO\n",
      "\n",
      "2019-09-26 16:39:47 : Um top de linha com preço de intermediário, com câmeras surpreendente de 48MP+16MP+12MP, esse é o Mi9 😍 Venha busca… https://t.co/tSrlHqN25g\n",
      "\n",
      "2019-09-26 16:03:51 : @_talisss Nao conheço ninguém aqui e nem sei como vim parar aqui kkk porém mudei de iPhone pra Xiaomi (Mi9) e recom… https://t.co/BChOacAEKl\n",
      "\n",
      "2019-09-26 15:59:02 : @fredgarcia110 @kissxrose eu ja tive um celular da xiaomi e tenho amgs que tem e nunca reclamaram, ja vi varias rev… https://t.co/6Y5AG7i9C1\n",
      "\n",
      "2019-09-26 15:26:12 : @HannaKashiwagi @luizgpassos Tem 3 opções véi\n",
      "\n",
      "Huawei - p30 pro (melhor câmera e processador mt forte, só q pelo pr… https://t.co/IKeCRHWsU7\n",
      "\n",
      "2019-09-26 13:53:11 : Oq levou a Xiaomi a retirar o infravermelho do Mi9 T?\n",
      "\n",
      "Assim não dá\n",
      "\n",
      "2019-09-26 12:14:59 : @rafaelbboa Estou com o Xiaomi MI9, olha o zoom da foto que tirei, é rápido e a bateria dura bastante. https://t.co/gYmF88kEot\n",
      "\n",
      "2019-09-26 06:36:22 : @rmIeader @XiaomiBrasil @Xiaomi qual o seu? mi9 se tb?\n",
      "\n",
      "2019-09-26 06:18:25 : RT @1953x1986x2019: ai tu paga 2,6k num celular pra ele ficar assim em 4 meses de uso\n",
      "NÃO COMPRE XIAOMI MI9 SE @XiaomiBrasil @Xiaomi https:…\n",
      "\n",
      "2019-09-26 06:18:19 : ai tu paga 2,6k num celular pra ele ficar assim em 4 meses de uso\n",
      "NÃO COMPRE XIAOMI MI9 SE @XiaomiBrasil @Xiaomi https://t.co/1KXElLnOOy\n",
      "\n",
      "2019-09-26 01:31:50 : @Brasil_Fortnite \n",
      "Olá gostaria de fazer uma sugestão/opinião para uma nova skin no jogo com parceria a xiaomi para… https://t.co/kCsErbbxfV\n",
      "\n",
      "2019-09-26 00:50:27 : @jpgmars Mi9 sem dúvida, melhor câmera da xiaomi e gcam bolada, é isso\n",
      "\n",
      "2019-09-26 00:01:44 : Gente comprei o Xiaomi Mi9, a marca de celular que todo mundo anda falando...\n",
      "Peguei o top de linha deles por um pr… https://t.co/UckfSAXKK6\n",
      "\n",
      "2019-09-25 22:16:44 : @Xiaomi Muito bom. Tenho um mi9 e não me arrependo de ter saído da Apple. Ótimo custo-benefício, sem contar a auton… https://t.co/zzqaNOS9J8\n",
      "\n",
      "2019-09-25 20:27:02 : Papai Noel eu quero um xiaomi mi9 \n",
      "Xiaomi xiomi xaio sei lá\n",
      "\n",
      "2019-09-25 18:57:29 : @LoresMaciel Vai de Xiaomi Mi9\n",
      "Sério\n",
      "\n",
      "2019-09-25 17:32:22 : @bruno_cferreira Vale a pena pegar, inclusive, o Mi9 SE. Mais compacto e tal. As câmeras da Xiaomi são espetaculare… https://t.co/gLKRWYggQG\n",
      "\n",
      "2019-09-25 15:26:41 : Eu só quero um xiaomi mi9 e foda se\n",
      "\n",
      "2019-09-25 14:51:30 : Cupom de R$650 #Banggood\n",
      "Xiaomi Mi 9 (Global) - 6/64GB\n",
      "\n",
      "R$ 1344.53 (USD $309.99) + Frete\n",
      "Menor Preço Registrado! (U… https://t.co/t92UEBH6MM\n",
      "\n",
      "2019-09-25 13:34:29 : @thamenezs airpods \n",
      "1000 reais\n",
      "airdots \n",
      "50 pila\n",
      "\n",
      "iphone xs\n",
      "5999\n",
      "xiaomi mi9\n",
      "2000\n",
      "\n",
      "defender apple é tipo ser de direita sendo pobre\n",
      "sem nexo\n",
      "\n",
      "2019-09-25 12:44:35 : @lucasmzanella @fernandobentto A Xiaomi tem ÓTIMOS celulares sem dúvida alguma é é uma empresa que vai dominar o mu… https://t.co/ZHU2zSKDDn\n",
      "\n",
      "2019-09-25 11:55:26 : nao sei o que a xiaomi ta esperando pra lançar mais celular pra ver se o mi9 que eu quero abaixa o preço..\n",
      "\n",
      "2019-09-25 11:02:19 : @EddieGome Compra um Xiaomi Mimix Alpha ou mi9\n",
      "\n",
      "2019-09-25 02:37:02 : Xiaomi Mi9 é tão bom assim pro pessoal idolatrar desse jeito?\n",
      "\n",
      "2019-09-25 00:56:09 : Quero mt um xiaomi mi9 e fodase\n",
      "\n",
      "2019-09-25 00:14:37 : @BrunoOliveirar_ Eu tava de olho no mi9 SE e mi 9t, mas dizem que a qualidade do microfone da xiaomi no geral é horrível\n",
      "\n",
      "2019-09-24 22:35:47 : @flawlesxbutera Eu tenho ZenFone 4 selfie mas quero.mudar pro Xiaomi Mi9\n",
      "\n",
      "2019-09-24 22:04:45 : ainda não consegui nem comprar meu Mi9 e a xiaomi já me vem com Mi mix Alpha \n",
      "\n",
      "apenas apreciem 🤤 https://t.co/eZyVeWjpWy\n",
      "\n",
      "2019-09-24 22:00:08 : Xiaomi apresenta Mi 9 Pro 5G, MIUI 11 e nova smart TV em evento -&gt; https://t.co/hPYAkpAgjj #xiaomi #mi9 https://t.co/lTHYHX29Rb\n",
      "\n",
      "2019-09-24 17:32:29 : o mi9 5G igual o mi9 porem com mais recursos e ainda carrega com 48 minutos por deussss xiaomi vc eh perfeita\n",
      "\n",
      "2019-09-24 17:16:51 : @EduKof cuidado parça, agora os  fã boy obcecados por xiaomi vão vir dizer que o Mi9 é o melhor celular do mundo, q… https://t.co/sF0t0s22GX\n",
      "\n",
      "2019-09-24 17:01:35 : @EduKof Conhecendo a xiaomi agora hein Edu, próximo passo e largar o iPhone pelo mi9\n",
      "\n",
      "2019-09-24 15:56:24 : @SirBirth @ValdineiRosario Pensando em trocar o meu por um da Xiaomi, mas vai ser o mi9 😅\n",
      "\n",
      "2019-09-24 15:32:53 : @chris_ciuffo Eu to pensando em pegar o Mi9 t, todos que entram pra Xiaomi sempre falam bem, vou dar crédito a eles\n",
      "\n",
      "2019-09-24 15:26:49 : Dona Xiaomi já tinha meu coração com o Mi9, agora com esse Mi mix ganharam minha alma também\n",
      "\n",
      "2019-09-24 14:35:33 : @diogogaldom Eu comprei o SE que é um pouco inferior ao mi9, é um celular ótimo, mas o meu deu problema na tela, ta… https://t.co/6rkpdjRw8r\n",
      "\n",
      "2019-09-24 14:28:48 : #Xiaomi #Mi9 #Pro5G é anunciado durante evento em Pequim, na China. https://t.co/iGJMww6yp8\n",
      "\n",
      "2019-09-24 13:25:17 : só fazendo um teste aqui pra ver se a qualidade do vídeo permanece no twitter\n",
      "se permanecer saibam que foi gravado… https://t.co/tp6p0byXm6\n",
      "\n",
      "2019-09-24 11:51:42 : Cupom de R$606 #Banggood\n",
      "Xiaomi Mi 9 (Global) - 6/64GB\n",
      "\n",
      "R$ 1385.73 (USD $319.99) + Frete\n",
      "Menor Preço Registrado! (U… https://t.co/7UuCdstB9H\n",
      "\n",
      "2019-09-24 03:08:07 : Cupom de R$697 #Banggood\n",
      "Xiaomi Mi 9 (Global) - 6/128GB\n",
      "\n",
      "R$ 1479.38 (USD $339.89) + Frete\n",
      "Menor Preço Registrado! (… https://t.co/nWk1jLz4FX\n",
      "\n",
      "2019-09-24 01:13:19 : @alexlusquinos Sugiro a compra do MI9 da XIAOMI.... Não vai se arrepender.\n",
      "\n",
      "2019-09-23 23:24:23 : E eu q fui no médico hj e na HR que eu tava saindo ele viu meu celular e perguntou se era o mi9, começou a falar da… https://t.co/wCL0bG7X0E\n",
      "\n",
      "2019-09-23 19:01:34 : @ilycloures @sincerojesuis Eu tenho Xiaomi 6A, mas confesso que o MI9 é incrível!\n",
      "\n",
      "2019-09-23 18:21:54 : E eu que comprei capa pra um xiaomi mi9 e comprei um Samsung a70\n",
      "\n",
      "2019-09-23 16:40:59 : Sonhando  com o Xiaomi Mi9\n",
      "\n",
      "2019-09-23 16:34:06 : @Biahunger__ Xiaomi mi9 Se ou xiaomi mi9T\n",
      "\n",
      "Se tiver mais denero um Xiaomi mi9 é perfeito\n",
      "\n",
      "Eu gosto mt desses\n",
      "\n",
      "2019-09-23 14:49:17 : @mayminatto Quero um mi9 SE da xiaomi, pq o iPhone tá muito caro e não vai compensar comprar um iPhone 8 agora pq já tá meio “velho” kkk\n",
      "\n",
      "2019-09-23 14:39:57 : @Kaue_Azz kaue você é tão lindo que parece um xiaomi mi9 ok\n",
      "\n",
      "2019-09-22 22:55:59 : @__anapacheco @microgamesjogos @O_Pilu_ Os xiaomi com câmeras melhores são das linhas MI (Mi6, Mi8, Mi9), MI Mix e… https://t.co/FrtBqvRywx\n",
      "\n",
      "2019-09-22 22:45:55 : gente e agora pego o xiaomi mi9 azul ou preto ALGUEM ME AJUDA\n",
      "\n",
      "2019-09-22 22:44:44 : @iceIukov xiaomi mi9 se \n",
      "tudo nesse celular é perfeito, mas tem umas pequenas coisas que eu mudaria\n",
      "a samsung é mui… https://t.co/MqCx5VJEBw\n",
      "\n",
      "2019-09-22 18:32:09 : Era só um Xiaomi Mi9 na minha vida.\n",
      "\n",
      "2019-09-22 18:16:06 : foda q so tem o xiaomi mi9 em loja virtual \n",
      "nada de loja física por aqui pqp\n",
      "\n",
      "2019-09-22 15:13:12 : @willianroby Pega um xiaomi mano, não vai se arrepender. Saiu mi9 T agora, brabo\n",
      "\n",
      "2019-09-22 13:36:42 : @LJoga Na época que eu troquei meu moto E4 (aliás que celular horrível) pelo meu atual Xiaomi Redmi 6 que apesar de… https://t.co/vRS03jtmdj\n",
      "\n",
      "2019-09-22 12:39:30 : @juphahn o 9t e o 9se custam menos q isso.  mas se seu limite é 2000 eu faria um esforço pro mi9 q é um pouco mais… https://t.co/hq4OXtIn33\n",
      "\n",
      "2019-09-22 11:44:01 : @eduarduluz Uso xiaomi desde 2015 como \"segundo celular\", porém, esse ano abandonei de vez a Apple para deixar os c… https://t.co/su0JXiIkZU\n",
      "\n",
      "2019-09-22 09:39:27 : @EduKof Meu Xiaomi Mi9 quebra os antecessores do seu e eu to de boa sem zoar ngm 😂 eu queria ter Apple até conhecer os celulares Chinêses.\n",
      "\n",
      "2019-09-22 06:29:45 : @LJoga Quando se olha o Xiaomi Mi9, em suas especificações parece bom, nunca tive um, porém nunca ouvi falar de alg… https://t.co/oC1x1tqc6A\n",
      "\n",
      "2019-09-22 05:18:58 : @LJoga xiaomi mi9\n",
      "não sendo o xiaominon, mas é um baita preço de banana por tudo que tem naquela porra\n",
      "é tipo um S1… https://t.co/8KxjwklwBa\n",
      "\n",
      "2019-09-22 02:50:06 : Agora com um xiaomi mi9\n",
      "\n",
      "2019-09-21 17:47:16 : @rafaelbboa Mi9 xiaomi, troquei pelo iPhone 7 e só me arrependo de não ter feito antes\n",
      "\n",
      "2019-09-21 02:23:06 : Alguém  ai tem o Galaxy S10( normal) ou o  Xiaomi mi9 pra me dizer o que acham? A bateria dos dois dura pouco mesmo… https://t.co/OSikdkckHO\n",
      "\n",
      "2019-09-21 01:58:04 : @obliviaters isso é vdd. se for de xiaomi pega o mi9 que é o mais top e nem é tão caro assim, melhor custo benefíci… https://t.co/yiOMCvLXo2\n",
      "\n",
      "2019-09-20 22:58:23 : RT @areribeiro: Esse menino eh tao perfeito que ja posso chama-lo de selfie frontal do xiaomi mi9 https://t.co/3sjhuoqjfu\n",
      "\n",
      "2019-09-20 22:57:12 : Esse menino eh tao perfeito que ja posso chama-lo de selfie frontal do xiaomi mi9 https://t.co/3sjhuoqjfu\n",
      "\n",
      "2019-09-20 22:15:23 : Eu queria um a30, depois mudei pro moto one action, agora eu quero um xiaomi mi9\n",
      "\n",
      "2019-09-20 22:06:48 : Tô na duvida se compro xiaomi mi9 ou iPhone 🤔😩\n",
      "\n",
      "2019-09-20 21:35:35 : @Spira666 @khalilchoucre @Pishaysur Talvez ele não conheça, mas estamos falando do mi9 da xiaomi que apresenta 6GB… https://t.co/r5v0RQ3Pzl\n",
      "\n",
      "2019-09-20 17:56:07 : Xiaomi mi9 t pro que celular  foda do caralho mano do céu..\n",
      "Já quero um 🤩😍💔 https://t.co/wfBvyxJo2o\n",
      "\n",
      "2019-09-20 14:43:34 : @afrozenmemory_ Depende de qual Xiaomi. Sendo bem raso, o Mi9 tem basicamente a mesma qualidade de um iPhone XS/XR… https://t.co/vjf5GV8sok\n",
      "\n",
      "2019-09-20 13:14:45 : a constante indecisão entre escolher um xiaomi mi9 um huaweii p30, ou um nubia x\n",
      "\n",
      "2019-09-20 04:42:31 : @FeGuttierres @huaweimobilebr @Xiaomi P30 pro e o Mate 20X ganha do Mi9 FÁCIL!!\n",
      "\n",
      "2019-09-20 03:17:05 : adorei os nudes com o mi9 Xiaomi vc está mais uma vez botando a Apple pra mamar\n",
      "\n",
      "2019-09-20 02:06:19 : [19/09/2019 22:48:43]  Brugnolo ❤️: XIAOMI &gt;&gt;&gt;&gt;&gt;&gt;&gt;&gt;&gt;..\n",
      " [19/09/2019 22:49:02] Emi Brugnolo: Aaaaaaa vai mamar vai… https://t.co/qR0GuIMrsP\n",
      "\n",
      "2019-09-19 21:02:45 : Cupom de R$337 #Banggood\n",
      "Xiaomi Mi9 Lite (Global) - 6/128GB\n",
      "\n",
      "R$ 1278.67 (USD $299.99) + Frete\n",
      "→ Cupom: BGM9L\n",
      "→ Link… https://t.co/dMAFq9uCtj\n",
      "\n",
      "2019-09-19 20:59:15 : Cupom de R$252 #Banggood\n",
      "Xiaomi Mi9 Lite (Global) - 6/64GB\n",
      "\n",
      "R$ 1150.79 (USD $269.99) + Frete\n",
      "→ Cupom: BGM9L64\n",
      "→ Lin… https://t.co/WTWhD2eynS\n",
      "\n",
      "2019-09-19 19:53:19 : Meu namorado quer um iPhone 7 Plus e eu quero um Xiaomi Mi9, daí ele me disse que todo mundo fala que é celular de… https://t.co/ilwnjWXac3\n",
      "\n"
     ]
    }
   ],
   "source": [
    "print_status(public_tweets)"
   ]
  },
  {
   "cell_type": "code",
   "execution_count": 28,
   "metadata": {},
   "outputs": [
    {
     "name": "stdout",
     "output_type": "stream",
     "text": [
      "93\n"
     ]
    }
   ],
   "source": [
    "print(len(public_tweets))"
   ]
  },
  {
   "cell_type": "markdown",
   "metadata": {},
   "source": [
    "## Manipulação dos dados para gerar um data frame com pandas"
   ]
  },
  {
   "cell_type": "code",
   "execution_count": 8,
   "metadata": {
    "scrolled": true
   },
   "outputs": [],
   "source": [
    "# Imprimir todos os tweets\n",
    "# Cria a lista com algumas informações dos tweets extraidos\n",
    "\n",
    "def cria_lista_tweets(public_tweets):\n",
    "    tweets = [] # Lista vazia para armazenar scores\n",
    "    for tweet in public_tweets:\n",
    "        #print(tweet)\n",
    "        print(tweet.id)\n",
    "        print(tweet.created_at)\n",
    "        print(tweet.text)\n",
    "        print()\n",
    "\n",
    "        lista_aux = []\n",
    "        lista_aux.append(tweet.id)\n",
    "        lista_aux.append(tweet.created_at)\n",
    "        lista_aux.append(tweet.text)\n",
    "\n",
    "        tweets.append(lista_aux)\n",
    "\n",
    "    #print(tweets)\n",
    "    return tweets"
   ]
  },
  {
   "cell_type": "code",
   "execution_count": 9,
   "metadata": {},
   "outputs": [
    {
     "name": "stdout",
     "output_type": "stream",
     "text": [
      "1171920866181025792\n",
      "2019-09-11 22:58:02\n",
      "RT @cryptolobopt: Entre um Xiaomi Mi9 e um iPhone 8, o Xiaomi leva a melhor e ainda é mais barato cerca de 120€. Parece-me incrível que a A…\n",
      "\n",
      "1171909987976785922\n",
      "2019-09-11 22:14:48\n",
      "RT @compiws: serio que tem gente falando que xiaomi vai copiar as 3 cameras''fogão de 3 bocas'' do iphone 11,vei xiaomi fez isso antes que…\n",
      "\n",
      "1171894182606245889\n",
      "2019-09-11 21:12:00\n",
      "RT @cryptolobopt: Entre um Xiaomi Mi9 e um iPhone 8, o Xiaomi leva a melhor e ainda é mais barato cerca de 120€. Parece-me incrível que a A…\n",
      "\n",
      "1171886123435679745\n",
      "2019-09-11 20:39:59\n",
      "Meu amigo -Mano eu já conhecia o xaomi, mas sempre tive receio de comprar, dei 4k no IPhone X.\n",
      "Hoje chegou o Xiaomi… https://t.co/9uMtQyjiuX\n",
      "\n",
      "1171876391819927553\n",
      "2019-09-11 20:01:18\n",
      "RT @cryptolobopt: Entre um Xiaomi Mi9 e um iPhone 8, o Xiaomi leva a melhor e ainda é mais barato cerca de 120€. Parece-me incrível que a A…\n",
      "\n",
      "1171875785621299202\n",
      "2019-09-11 19:58:54\n",
      "RT @cryptolobopt: Entre um Xiaomi Mi9 e um iPhone 8, o Xiaomi leva a melhor e ainda é mais barato cerca de 120€. Parece-me incrível que a A…\n",
      "\n",
      "1171844923265564672\n",
      "2019-09-11 17:56:16\n",
      "@BeyondTheWings_ Não vai ter eu ganhando um Xiaomi MI9\n",
      "\n",
      "1171840867197431810\n",
      "2019-09-11 17:40:09\n",
      "@dsouza_55 Faz essa merda não mano. 6s totalmente ultrapassado. Se for pra Apple tem que ser um modelo mais atual o… https://t.co/AIgeTozji0\n",
      "\n",
      "1171838224718868480\n",
      "2019-09-11 17:29:39\n",
      "Quem quiser me da um xiaomi mi9 de presente to aceitando viu\n",
      "\n",
      "1171819246147506176\n",
      "2019-09-11 16:14:14\n",
      "@kruda1020 Queria um Mi9 tbm, q Xiaomi é boa\n",
      "o único problema do iPhone pra mim é que estou acostumado com o ecossi… https://t.co/vy2eBSgt5k\n",
      "\n",
      "1171814815070916609\n",
      "2019-09-11 15:56:37\n",
      "@razzo__ Atualmente vc tem qual modelo? Qual celular vc gostaria de ter? Eu tenho um iPhone 7 e queria muito um Xia… https://t.co/gx8jwvWlko\n",
      "\n",
      "1171809794631622656\n",
      "2019-09-11 15:36:40\n",
      "RT @compiws: serio que tem gente falando que xiaomi vai copiar as 3 cameras''fogão de 3 bocas'' do iphone 11,vei xiaomi fez isso antes que…\n",
      "\n",
      "1171805318252285952\n",
      "2019-09-11 15:18:53\n",
      "RT @samuell26811559: Crítico o iPhone 11, mas se tivesse dinheiro compraria 4 xiaomi mi9 é isso.\n",
      "#Xiaomi\n",
      "\n",
      "1171790274126893056\n",
      "2019-09-11 14:19:06\n",
      "Crítico o iPhone 11, mas se tivesse dinheiro compraria 4 xiaomi mi9 é isso.\n",
      "#Xiaomi\n",
      "\n",
      "1171780568155131905\n",
      "2019-09-11 13:40:32\n",
      "RT @cryptolobopt: Entre um Xiaomi Mi9 e um iPhone 8, o Xiaomi leva a melhor e ainda é mais barato cerca de 120€. Parece-me incrível que a A…\n",
      "\n"
     ]
    }
   ],
   "source": [
    "tweets = cria_lista_tweets(public_tweets)"
   ]
  },
  {
   "cell_type": "code",
   "execution_count": 23,
   "metadata": {},
   "outputs": [],
   "source": [
    "def cria_arquivo_csv(lista):\n",
    "    arquivo = open('tweets_xiaomi.csv', 'w', encoding='utf-8')\n",
    "  \n",
    "    arquivo.write('id,created_at,text' + '\\n')\n",
    "    \n",
    "    for tweet in lista:\n",
    "        #print(tweet)\n",
    "        for pos in range(len(tweet)):\n",
    "            if pos == len(tweet)-1:\n",
    "                arquivo.write('\"' + str(tweet[pos]) + '\"')\n",
    "            else:\n",
    "                arquivo.write(str(tweet[pos]))\n",
    "                arquivo.write(',')\n",
    "                \n",
    "        arquivo.write('\\n')\n",
    "                \n",
    "        \n",
    "    arquivo.close()"
   ]
  },
  {
   "cell_type": "code",
   "execution_count": 24,
   "metadata": {},
   "outputs": [],
   "source": [
    "cria_arquivo_csv(tweets)"
   ]
  },
  {
   "cell_type": "code",
   "execution_count": 25,
   "metadata": {},
   "outputs": [],
   "source": [
    "dataset = pd.read_csv('tweets_xiaomi.csv', encoding='utf-8')"
   ]
  },
  {
   "cell_type": "code",
   "execution_count": 26,
   "metadata": {},
   "outputs": [
    {
     "data": {
      "text/plain": [
       "pandas.core.frame.DataFrame"
      ]
     },
     "execution_count": 26,
     "metadata": {},
     "output_type": "execute_result"
    }
   ],
   "source": [
    "type(dataset)"
   ]
  },
  {
   "cell_type": "code",
   "execution_count": 27,
   "metadata": {},
   "outputs": [
    {
     "data": {
      "text/html": [
       "<div>\n",
       "<style scoped>\n",
       "    .dataframe tbody tr th:only-of-type {\n",
       "        vertical-align: middle;\n",
       "    }\n",
       "\n",
       "    .dataframe tbody tr th {\n",
       "        vertical-align: top;\n",
       "    }\n",
       "\n",
       "    .dataframe thead th {\n",
       "        text-align: right;\n",
       "    }\n",
       "</style>\n",
       "<table border=\"1\" class=\"dataframe\">\n",
       "  <thead>\n",
       "    <tr style=\"text-align: right;\">\n",
       "      <th></th>\n",
       "      <th>id</th>\n",
       "      <th>created_at</th>\n",
       "      <th>text</th>\n",
       "    </tr>\n",
       "  </thead>\n",
       "  <tbody>\n",
       "    <tr>\n",
       "      <td>0</td>\n",
       "      <td>1171920866181025792</td>\n",
       "      <td>2019-09-11 22:58:02</td>\n",
       "      <td>RT @cryptolobopt: Entre um Xiaomi Mi9 e um iPh...</td>\n",
       "    </tr>\n",
       "    <tr>\n",
       "      <td>1</td>\n",
       "      <td>1171909987976785922</td>\n",
       "      <td>2019-09-11 22:14:48</td>\n",
       "      <td>RT @compiws: serio que tem gente falando que x...</td>\n",
       "    </tr>\n",
       "    <tr>\n",
       "      <td>2</td>\n",
       "      <td>1171894182606245889</td>\n",
       "      <td>2019-09-11 21:12:00</td>\n",
       "      <td>RT @cryptolobopt: Entre um Xiaomi Mi9 e um iPh...</td>\n",
       "    </tr>\n",
       "    <tr>\n",
       "      <td>3</td>\n",
       "      <td>1171886123435679745</td>\n",
       "      <td>2019-09-11 20:39:59</td>\n",
       "      <td>Meu amigo -Mano eu já conhecia o xaomi, mas se...</td>\n",
       "    </tr>\n",
       "    <tr>\n",
       "      <td>4</td>\n",
       "      <td>1171876391819927553</td>\n",
       "      <td>2019-09-11 20:01:18</td>\n",
       "      <td>RT @cryptolobopt: Entre um Xiaomi Mi9 e um iPh...</td>\n",
       "    </tr>\n",
       "    <tr>\n",
       "      <td>5</td>\n",
       "      <td>1171875785621299202</td>\n",
       "      <td>2019-09-11 19:58:54</td>\n",
       "      <td>RT @cryptolobopt: Entre um Xiaomi Mi9 e um iPh...</td>\n",
       "    </tr>\n",
       "    <tr>\n",
       "      <td>6</td>\n",
       "      <td>1171844923265564672</td>\n",
       "      <td>2019-09-11 17:56:16</td>\n",
       "      <td>@BeyondTheWings_ Não vai ter eu ganhando um Xi...</td>\n",
       "    </tr>\n",
       "    <tr>\n",
       "      <td>7</td>\n",
       "      <td>1171840867197431810</td>\n",
       "      <td>2019-09-11 17:40:09</td>\n",
       "      <td>@dsouza_55 Faz essa merda não mano. 6s totalme...</td>\n",
       "    </tr>\n",
       "    <tr>\n",
       "      <td>8</td>\n",
       "      <td>1171838224718868480</td>\n",
       "      <td>2019-09-11 17:29:39</td>\n",
       "      <td>Quem quiser me da um xiaomi mi9 de presente to...</td>\n",
       "    </tr>\n",
       "    <tr>\n",
       "      <td>9</td>\n",
       "      <td>1171819246147506176</td>\n",
       "      <td>2019-09-11 16:14:14</td>\n",
       "      <td>@kruda1020 Queria um Mi9 tbm, q Xiaomi é boa\\r...</td>\n",
       "    </tr>\n",
       "  </tbody>\n",
       "</table>\n",
       "</div>"
      ],
      "text/plain": [
       "                    id           created_at  \\\n",
       "0  1171920866181025792  2019-09-11 22:58:02   \n",
       "1  1171909987976785922  2019-09-11 22:14:48   \n",
       "2  1171894182606245889  2019-09-11 21:12:00   \n",
       "3  1171886123435679745  2019-09-11 20:39:59   \n",
       "4  1171876391819927553  2019-09-11 20:01:18   \n",
       "5  1171875785621299202  2019-09-11 19:58:54   \n",
       "6  1171844923265564672  2019-09-11 17:56:16   \n",
       "7  1171840867197431810  2019-09-11 17:40:09   \n",
       "8  1171838224718868480  2019-09-11 17:29:39   \n",
       "9  1171819246147506176  2019-09-11 16:14:14   \n",
       "\n",
       "                                                text  \n",
       "0  RT @cryptolobopt: Entre um Xiaomi Mi9 e um iPh...  \n",
       "1  RT @compiws: serio que tem gente falando que x...  \n",
       "2  RT @cryptolobopt: Entre um Xiaomi Mi9 e um iPh...  \n",
       "3  Meu amigo -Mano eu já conhecia o xaomi, mas se...  \n",
       "4  RT @cryptolobopt: Entre um Xiaomi Mi9 e um iPh...  \n",
       "5  RT @cryptolobopt: Entre um Xiaomi Mi9 e um iPh...  \n",
       "6  @BeyondTheWings_ Não vai ter eu ganhando um Xi...  \n",
       "7  @dsouza_55 Faz essa merda não mano. 6s totalme...  \n",
       "8  Quem quiser me da um xiaomi mi9 de presente to...  \n",
       "9  @kruda1020 Queria um Mi9 tbm, q Xiaomi é boa\\r...  "
      ]
     },
     "execution_count": 27,
     "metadata": {},
     "output_type": "execute_result"
    }
   ],
   "source": [
    "dataset.head(10)"
   ]
  },
  {
   "cell_type": "code",
   "execution_count": 29,
   "metadata": {},
   "outputs": [
    {
     "data": {
      "text/plain": [
       "id            15\n",
       "created_at    15\n",
       "text          15\n",
       "dtype: int64"
      ]
     },
     "execution_count": 29,
     "metadata": {},
     "output_type": "execute_result"
    }
   ],
   "source": [
    "# Contabiliza a quantidade de elementos do data frame\n",
    "dataset.count()"
   ]
  },
  {
   "cell_type": "markdown",
   "metadata": {},
   "source": [
    "## Pre-processamento dos Dados"
   ]
  },
  {
   "cell_type": "code",
   "execution_count": 30,
   "metadata": {},
   "outputs": [
    {
     "data": {
      "text/plain": [
       "Index(['id', 'created_at', 'text'], dtype='object')"
      ]
     },
     "execution_count": 30,
     "metadata": {},
     "output_type": "execute_result"
    }
   ],
   "source": [
    "# Retorna o nome das colunas do data frame\n",
    "dataset.columns"
   ]
  },
  {
   "cell_type": "code",
   "execution_count": 31,
   "metadata": {},
   "outputs": [],
   "source": [
    "# Remove textos duplicados\n",
    "dataset.drop_duplicates(['text'], inplace=True)"
   ]
  },
  {
   "cell_type": "code",
   "execution_count": 32,
   "metadata": {},
   "outputs": [
    {
     "data": {
      "text/plain": [
       "10"
      ]
     },
     "execution_count": 32,
     "metadata": {},
     "output_type": "execute_result"
    }
   ],
   "source": [
    "# Contabiliza a quantidade de elementos do data frame, depois de remover os dados duplicados\n",
    "dataset.text.count()"
   ]
  },
  {
   "cell_type": "code",
   "execution_count": 33,
   "metadata": {},
   "outputs": [
    {
     "name": "stderr",
     "output_type": "stream",
     "text": [
      "[nltk_data] Downloading package stopwords to\n",
      "[nltk_data]     C:\\Users\\MaluF\\AppData\\Roaming\\nltk_data...\n",
      "[nltk_data]   Package stopwords is already up-to-date!\n",
      "[nltk_data] Downloading package rslp to\n",
      "[nltk_data]     C:\\Users\\MaluF\\AppData\\Roaming\\nltk_data...\n",
      "[nltk_data]   Package rslp is already up-to-date!\n"
     ]
    },
    {
     "data": {
      "text/plain": [
       "True"
      ]
     },
     "execution_count": 33,
     "metadata": {},
     "output_type": "execute_result"
    }
   ],
   "source": [
    "import nltk\n",
    "nltk.download('stopwords')\n",
    "nltk.download('rslp')"
   ]
  },
  {
   "cell_type": "code",
   "execution_count": 34,
   "metadata": {},
   "outputs": [],
   "source": [
    "def RemoveStopWords(instancia):\n",
    "    stopwords = set(nltk.corpus.stopwords.words('portuguese'))\n",
    "    palavras = [i for i in instancia.split() if not i in stopwords]\n",
    "    return (\" \".join(palavras))"
   ]
  },
  {
   "cell_type": "code",
   "execution_count": 35,
   "metadata": {},
   "outputs": [],
   "source": [
    "def Stemming(instancia):\n",
    "    stemmer = nltk.stem.RSLPStemmer()\n",
    "    palavras = []\n",
    "    for w in instancia.split():\n",
    "        palavras.append(stemmer.stem(w))\n",
    "    return (\" \".join(palavras))"
   ]
  },
  {
   "cell_type": "code",
   "execution_count": 36,
   "metadata": {},
   "outputs": [],
   "source": [
    "def Limpeza_dados(instancia):\n",
    "    # remove links, pontos, virgulas,ponto e virgulas dos tweets\n",
    "    instancia = re.sub(r\"http\\S+\", \"\", instancia).lower().replace('.','').replace(';','').replace('-','').replace(':','').replace(')','')\n",
    "    return (instancia)"
   ]
  },
  {
   "cell_type": "code",
   "execution_count": null,
   "metadata": {},
   "outputs": [],
   "source": []
  }
 ],
 "metadata": {
  "kernelspec": {
   "display_name": "Python 3",
   "language": "python",
   "name": "python3"
  },
  "language_info": {
   "codemirror_mode": {
    "name": "ipython",
    "version": 3
   },
   "file_extension": ".py",
   "mimetype": "text/x-python",
   "name": "python",
   "nbconvert_exporter": "python",
   "pygments_lexer": "ipython3",
   "version": "3.7.4"
  }
 },
 "nbformat": 4,
 "nbformat_minor": 2
}
